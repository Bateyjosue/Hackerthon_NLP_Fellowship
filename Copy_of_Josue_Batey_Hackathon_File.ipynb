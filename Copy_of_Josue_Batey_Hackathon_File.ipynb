{
  "cells": [
    {
      "cell_type": "markdown",
      "metadata": {
        "id": "view-in-github",
        "colab_type": "text"
      },
      "source": [
        "<a href=\"https://colab.research.google.com/github/Bateyjosue/Hackerthon_NLP_Fellowship/blob/main/Copy_of_Josue_Batey_Hackathon_File.ipynb\" target=\"_parent\"><img src=\"https://colab.research.google.com/assets/colab-badge.svg\" alt=\"Open In Colab\"/></a>"
      ]
    },
    {
      "cell_type": "markdown",
      "metadata": {
        "id": "hkosleLFX-bB"
      },
      "source": [
        "1. Write a program which takes array of urls for job-posting websites in Rwanda\n",
        "   * https://www.jobinrwanda.com/  (Job Adverts)\n",
        "   * https://www.umucyo.gov.rw  ( Tenders)\n",
        "2. Web-scrap the content and put them in a pandas data-frame(i.e: the best structured dataframe wins ofcourse!)\n",
        "3. Use regular expression and key-words to retrieve IT/Software related job/consultancy opportunities(Tenders).\n",
        "4. Use EasyNMT to display the results in 50+ languages using wrapped state of art models\n",
        "   * Practical Example for EasyNMT use:\n",
        "     https://colab.research.google.com/drive/1X47vgSiOphpxS5w_LPtjQgJmiSTNfRNC?usp=sharing\n",
        "5. Hosting of our work example in colab\n",
        "   * https://colab.research.google.com/drive/1kAh_Vt1ipA5-BuoaPX39rCIHFrhpcRpW?usp=sharing"
      ]
    },
    {
      "cell_type": "markdown",
      "metadata": {
        "id": "4ZlgOfl7WjCF"
      },
      "source": [
        "## Import Packages"
      ]
    },
    {
      "cell_type": "code",
      "execution_count": null,
      "metadata": {
        "id": "kUZyDEkfVd1f"
      },
      "outputs": [],
      "source": [
        "import requests\n",
        "from bs4 import BeautifulSoup"
      ]
    },
    {
      "cell_type": "markdown",
      "metadata": {
        "id": "keBPCVlMWc4T"
      },
      "source": [
        "## Class For Scrapping"
      ]
    },
    {
      "cell_type": "code",
      "execution_count": null,
      "metadata": {
        "id": "TKVodOxFWbfr"
      },
      "outputs": [],
      "source": [
        "class Web_Scrap:\n",
        "  def __init__(self, link):\n",
        "    self.url = link\n",
        "  \n",
        "  def get_content(self):\n",
        "    content = requests.get(url = self.url).content\n",
        "    content = BeautifulSoup(content, 'lxml')\n",
        "    return content\n",
        "  \n",
        "  def get_content_class(self, class_, tag = None):\n",
        "    content = self.get_content()\n",
        "    content = content.find_all(class_= class_) if tag == None else content.find_all(tag, class_= class_)\n",
        "    return content"
      ]
    },
    {
      "cell_type": "markdown",
      "metadata": {
        "id": "ETovZOQAWo7-"
      },
      "source": [
        "# Scrap `job in rwanda` and `umucyo`"
      ]
    },
    {
      "cell_type": "markdown",
      "metadata": {
        "id": "wVeG6ty1s3Xk"
      },
      "source": [
        "# Challenges #1"
      ]
    },
    {
      "cell_type": "markdown",
      "metadata": {
        "id": "cNkA1QKAXEXQ"
      },
      "source": [
        "\n",
        "\n",
        "1.   Get `Jobs and Consultacies links` for `job in rwanda`\n",
        "\n",
        "\n"
      ]
    },
    {
      "cell_type": "markdown",
      "metadata": {
        "id": "22eEA6KKdsCT"
      },
      "source": [
        "##Links of Jobs"
      ]
    },
    {
      "cell_type": "code",
      "execution_count": null,
      "metadata": {
        "id": "0uBY0KBxd7-y"
      },
      "outputs": [],
      "source": [
        "scrap_jobs =  Web_Scrap('https://www.jobinrwanda.com/')"
      ]
    },
    {
      "cell_type": "code",
      "execution_count": null,
      "metadata": {
        "id": "kPeYXIYaXcN7"
      },
      "outputs": [],
      "source": [
        "jobs_content = scrap_jobs.get_content()\n",
        "jobs_links = []\n",
        "links = scrap_jobs.get_content_class('card-title', 'h5')\n",
        "for li in links:\n",
        "  jobs_links.append('https://www.jobinrwanda.com' + li.parent['href'])\n"
      ]
    },
    {
      "cell_type": "code",
      "execution_count": null,
      "metadata": {
        "colab": {
          "base_uri": "https://localhost:8080/"
        },
        "id": "sPD2sen3UkUP",
        "outputId": "81f43b28-fa84-4180-87eb-37eec306d071"
      },
      "outputs": [
        {
          "data": {
            "text/plain": [
              "168"
            ]
          },
          "execution_count": 6,
          "metadata": {},
          "output_type": "execute_result"
        }
      ],
      "source": [
        "len(jobs_links)"
      ]
    },
    {
      "cell_type": "markdown",
      "metadata": {
        "id": "LedzjgUmgM1J"
      },
      "source": [
        "ℹ `jobs_links` Holds the list of all jobs links. you can check the lenght by typing `len(jobs_links)`\n"
      ]
    },
    {
      "cell_type": "markdown",
      "metadata": {
        "id": "uZEDJwAGXZro"
      },
      "source": [
        "## 2.   Get `tenders` links for `umucyo`\n",
        "\n"
      ]
    },
    {
      "cell_type": "code",
      "execution_count": null,
      "metadata": {
        "id": "yEkVVCi12EZ5"
      },
      "outputs": [],
      "source": [
        "# scrap_tender = Web_Scrap('https://www.umucyo.gov.rw/eb/bav/selectListAdvertisingListForGU.do')\n",
        "# tender_table = scrap_tender.get_content_class('article_table mb10')\n",
        "\n",
        "# tr = tender_table.find_all('tr')\n",
        "# len(tr)"
      ]
    },
    {
      "cell_type": "code",
      "execution_count": null,
      "metadata": {
        "id": "GmrVh1WOXxId"
      },
      "outputs": [],
      "source": [
        "tenders_links = []"
      ]
    },
    {
      "cell_type": "markdown",
      "metadata": {
        "id": "BRLfBAtssRda"
      },
      "source": [
        "3. combined links for both `job in rwand` and `umucyo`\n"
      ]
    },
    {
      "cell_type": "code",
      "execution_count": null,
      "metadata": {
        "id": "wSjzpg3Asheq"
      },
      "outputs": [],
      "source": [
        "combined_links = []"
      ]
    },
    {
      "cell_type": "markdown",
      "metadata": {
        "id": "Pk1-s8h6tZSI"
      },
      "source": [
        "#Challenge #2"
      ]
    },
    {
      "cell_type": "markdown",
      "metadata": {
        "id": "4rzsqPCxuSu6"
      },
      "source": [
        "## 1. Get Content per Link by Web scrapping"
      ]
    },
    {
      "cell_type": "code",
      "execution_count": null,
      "metadata": {
        "id": "vyd10bdMtFmL"
      },
      "outputs": [],
      "source": [
        "# Help Funtions\n",
        "def remove_space_list(arr):\n",
        "  joined = []\n",
        "  for el in arr:\n",
        "    if el.strip:\n",
        "      joined.append(el.strip())\n",
        "  return joined\n",
        "\n",
        "def clean_data(strs):\n",
        "  import re\n",
        "  text = re.sub('\\W', ' ', strs)\n",
        "\n",
        "  return text.strip()"
      ]
    },
    {
      "cell_type": "markdown",
      "metadata": {
        "id": "84gX7XOHuiHK"
      },
      "source": [
        "## 2. Save Content in a DataFrame"
      ]
    },
    {
      "cell_type": "code",
      "execution_count": null,
      "metadata": {
        "id": "77ZiF0yruhVa"
      },
      "outputs": [],
      "source": [
        "import random\n",
        "import pandas as pd\n",
        "frames = pd.DataFrame()\n",
        "def data(link):\n",
        "  dict_summary = {}\n",
        "  scrap = Web_Scrap(link)\n",
        "  main = scrap.get_content().body.main\n",
        "  sent  = [sent for sent in main.get_text().split('\\n') if sent.strip()]\n",
        "  aside = scrap.get_content().body\n",
        "  aside = aside.select_one('div#block-jobsummaryblock')\n",
        "  for a in aside.select('ul.list-group.list-group-flush > li > b'):\n",
        "    val = a.next_sibling.strip().split(',')\n",
        "    dict_summary[clean_data(a.get_text().strip())] = ' '.join(remove_space_list(val)) if len(val) <= 2 else ', '.join(remove_space_list(val))\n",
        "  return dict_summary\n",
        "\n",
        "dicts = []\n",
        "for job in jobs_links:\n",
        "  dicts.append(data(job))"
      ]
    },
    {
      "cell_type": "code",
      "execution_count": null,
      "metadata": {
        "colab": {
          "base_uri": "https://localhost:8080/",
          "height": 659
        },
        "id": "_8cgfdWZz3NA",
        "outputId": "8008582b-34bc-447b-aab3-035e8ed99126"
      },
      "outputs": [
        {
          "data": {
            "text/html": [
              "\n",
              "  <div id=\"df-6804770f-4e11-45cb-b80d-03538724a6b9\">\n",
              "    <div class=\"colab-df-container\">\n",
              "      <div>\n",
              "<style scoped>\n",
              "    .dataframe tbody tr th:only-of-type {\n",
              "        vertical-align: middle;\n",
              "    }\n",
              "\n",
              "    .dataframe tbody tr th {\n",
              "        vertical-align: top;\n",
              "    }\n",
              "\n",
              "    .dataframe thead th {\n",
              "        text-align: right;\n",
              "    }\n",
              "</style>\n",
              "<table border=\"1\" class=\"dataframe\">\n",
              "  <thead>\n",
              "    <tr style=\"text-align: right;\">\n",
              "      <th></th>\n",
              "      <th>Location</th>\n",
              "      <th>Sector</th>\n",
              "      <th>Education level</th>\n",
              "      <th>Desired experience</th>\n",
              "      <th>Contract type</th>\n",
              "      <th>Deadline</th>\n",
              "      <th>Number of positions</th>\n",
              "    </tr>\n",
              "  </thead>\n",
              "  <tbody>\n",
              "    <tr>\n",
              "      <th>0</th>\n",
              "      <td>RW</td>\n",
              "      <td>Accounting, Finance and investment, Other</td>\n",
              "      <td>Bachelor</td>\n",
              "      <td>Mid career (3 to 5 years of experience)</td>\n",
              "      <td>Full-time</td>\n",
              "      <td>Sunday 20/11/2022 23:59</td>\n",
              "      <td>1</td>\n",
              "    </tr>\n",
              "    <tr>\n",
              "      <th>1</th>\n",
              "      <td>RW</td>\n",
              "      <td>Other</td>\n",
              "      <td>Bachelor</td>\n",
              "      <td>Senior (5+ years of experience)</td>\n",
              "      <td>Contract</td>\n",
              "      <td>Monday 21/11/2022 09:00</td>\n",
              "      <td>1</td>\n",
              "    </tr>\n",
              "    <tr>\n",
              "      <th>2</th>\n",
              "      <td>RW</td>\n",
              "      <td>Other</td>\n",
              "      <td>Not specified</td>\n",
              "      <td>Not specified</td>\n",
              "      <td>Contract</td>\n",
              "      <td>Friday 25/11/2022 10:00</td>\n",
              "      <td>1</td>\n",
              "    </tr>\n",
              "    <tr>\n",
              "      <th>3</th>\n",
              "      <td>RW</td>\n",
              "      <td>Other</td>\n",
              "      <td>Not specified</td>\n",
              "      <td>Not specified</td>\n",
              "      <td>Tender</td>\n",
              "      <td>Monday 21/11/2022 23:59</td>\n",
              "      <td>1</td>\n",
              "    </tr>\n",
              "    <tr>\n",
              "      <th>4</th>\n",
              "      <td>RW</td>\n",
              "      <td>Other</td>\n",
              "      <td>Not specified</td>\n",
              "      <td>Contract</td>\n",
              "      <td>Thursday 08/12/2022 12:00</td>\n",
              "      <td>1</td>\n",
              "      <td>None</td>\n",
              "    </tr>\n",
              "    <tr>\n",
              "      <th>...</th>\n",
              "      <td>...</td>\n",
              "      <td>...</td>\n",
              "      <td>...</td>\n",
              "      <td>...</td>\n",
              "      <td>...</td>\n",
              "      <td>...</td>\n",
              "      <td>...</td>\n",
              "    </tr>\n",
              "    <tr>\n",
              "      <th>163</th>\n",
              "      <td>Kigali RW</td>\n",
              "      <td>Agriculture, Agronomy, Business, Management</td>\n",
              "      <td></td>\n",
              "      <td>Full-time</td>\n",
              "      <td>Sunday 20/11/2022 23:59</td>\n",
              "      <td>1</td>\n",
              "      <td>None</td>\n",
              "    </tr>\n",
              "    <tr>\n",
              "      <th>164</th>\n",
              "      <td>Kigali RW</td>\n",
              "      <td>Agriculture, Agronomy, Business, Environmental...</td>\n",
              "      <td>Master</td>\n",
              "      <td>Senior (5+ years of experience)</td>\n",
              "      <td>Full-time</td>\n",
              "      <td>Monday 28/11/2022 23:59</td>\n",
              "      <td>1</td>\n",
              "    </tr>\n",
              "    <tr>\n",
              "      <th>165</th>\n",
              "      <td>Kigali RW</td>\n",
              "      <td>Agriculture, Business, Computer and IT, Manage...</td>\n",
              "      <td>Not specified</td>\n",
              "      <td>Not specified</td>\n",
              "      <td>Full-time</td>\n",
              "      <td>Tuesday 06/12/2022 23:59</td>\n",
              "      <td>1</td>\n",
              "    </tr>\n",
              "    <tr>\n",
              "      <th>166</th>\n",
              "      <td>Kigali RW</td>\n",
              "      <td>Agriculture, Agronomy, Business, Environmental...</td>\n",
              "      <td></td>\n",
              "      <td>Full-time</td>\n",
              "      <td>Tuesday 29/11/2022 23:59</td>\n",
              "      <td>1</td>\n",
              "      <td>None</td>\n",
              "    </tr>\n",
              "    <tr>\n",
              "      <th>167</th>\n",
              "      <td>Kigali RW</td>\n",
              "      <td>Agriculture, Business, Demography and data ana...</td>\n",
              "      <td></td>\n",
              "      <td>Full-time</td>\n",
              "      <td>Thursday 17/11/2022 23:59</td>\n",
              "      <td>1</td>\n",
              "      <td>None</td>\n",
              "    </tr>\n",
              "  </tbody>\n",
              "</table>\n",
              "<p>168 rows × 7 columns</p>\n",
              "</div>\n",
              "      <button class=\"colab-df-convert\" onclick=\"convertToInteractive('df-6804770f-4e11-45cb-b80d-03538724a6b9')\"\n",
              "              title=\"Convert this dataframe to an interactive table.\"\n",
              "              style=\"display:none;\">\n",
              "        \n",
              "  <svg xmlns=\"http://www.w3.org/2000/svg\" height=\"24px\"viewBox=\"0 0 24 24\"\n",
              "       width=\"24px\">\n",
              "    <path d=\"M0 0h24v24H0V0z\" fill=\"none\"/>\n",
              "    <path d=\"M18.56 5.44l.94 2.06.94-2.06 2.06-.94-2.06-.94-.94-2.06-.94 2.06-2.06.94zm-11 1L8.5 8.5l.94-2.06 2.06-.94-2.06-.94L8.5 2.5l-.94 2.06-2.06.94zm10 10l.94 2.06.94-2.06 2.06-.94-2.06-.94-.94-2.06-.94 2.06-2.06.94z\"/><path d=\"M17.41 7.96l-1.37-1.37c-.4-.4-.92-.59-1.43-.59-.52 0-1.04.2-1.43.59L10.3 9.45l-7.72 7.72c-.78.78-.78 2.05 0 2.83L4 21.41c.39.39.9.59 1.41.59.51 0 1.02-.2 1.41-.59l7.78-7.78 2.81-2.81c.8-.78.8-2.07 0-2.86zM5.41 20L4 18.59l7.72-7.72 1.47 1.35L5.41 20z\"/>\n",
              "  </svg>\n",
              "      </button>\n",
              "      \n",
              "  <style>\n",
              "    .colab-df-container {\n",
              "      display:flex;\n",
              "      flex-wrap:wrap;\n",
              "      gap: 12px;\n",
              "    }\n",
              "\n",
              "    .colab-df-convert {\n",
              "      background-color: #E8F0FE;\n",
              "      border: none;\n",
              "      border-radius: 50%;\n",
              "      cursor: pointer;\n",
              "      display: none;\n",
              "      fill: #1967D2;\n",
              "      height: 32px;\n",
              "      padding: 0 0 0 0;\n",
              "      width: 32px;\n",
              "    }\n",
              "\n",
              "    .colab-df-convert:hover {\n",
              "      background-color: #E2EBFA;\n",
              "      box-shadow: 0px 1px 2px rgba(60, 64, 67, 0.3), 0px 1px 3px 1px rgba(60, 64, 67, 0.15);\n",
              "      fill: #174EA6;\n",
              "    }\n",
              "\n",
              "    [theme=dark] .colab-df-convert {\n",
              "      background-color: #3B4455;\n",
              "      fill: #D2E3FC;\n",
              "    }\n",
              "\n",
              "    [theme=dark] .colab-df-convert:hover {\n",
              "      background-color: #434B5C;\n",
              "      box-shadow: 0px 1px 3px 1px rgba(0, 0, 0, 0.15);\n",
              "      filter: drop-shadow(0px 1px 2px rgba(0, 0, 0, 0.3));\n",
              "      fill: #FFFFFF;\n",
              "    }\n",
              "  </style>\n",
              "\n",
              "      <script>\n",
              "        const buttonEl =\n",
              "          document.querySelector('#df-6804770f-4e11-45cb-b80d-03538724a6b9 button.colab-df-convert');\n",
              "        buttonEl.style.display =\n",
              "          google.colab.kernel.accessAllowed ? 'block' : 'none';\n",
              "\n",
              "        async function convertToInteractive(key) {\n",
              "          const element = document.querySelector('#df-6804770f-4e11-45cb-b80d-03538724a6b9');\n",
              "          const dataTable =\n",
              "            await google.colab.kernel.invokeFunction('convertToInteractive',\n",
              "                                                     [key], {});\n",
              "          if (!dataTable) return;\n",
              "\n",
              "          const docLinkHtml = 'Like what you see? Visit the ' +\n",
              "            '<a target=\"_blank\" href=https://colab.research.google.com/notebooks/data_table.ipynb>data table notebook</a>'\n",
              "            + ' to learn more about interactive tables.';\n",
              "          element.innerHTML = '';\n",
              "          dataTable['output_type'] = 'display_data';\n",
              "          await google.colab.output.renderOutput(dataTable, element);\n",
              "          const docLink = document.createElement('div');\n",
              "          docLink.innerHTML = docLinkHtml;\n",
              "          element.appendChild(docLink);\n",
              "        }\n",
              "      </script>\n",
              "    </div>\n",
              "  </div>\n",
              "  "
            ],
            "text/plain": [
              "      Location                                             Sector  \\\n",
              "0           RW          Accounting, Finance and investment, Other   \n",
              "1           RW                                              Other   \n",
              "2           RW                                              Other   \n",
              "3           RW                                              Other   \n",
              "4           RW                                              Other   \n",
              "..         ...                                                ...   \n",
              "163  Kigali RW        Agriculture, Agronomy, Business, Management   \n",
              "164  Kigali RW  Agriculture, Agronomy, Business, Environmental...   \n",
              "165  Kigali RW  Agriculture, Business, Computer and IT, Manage...   \n",
              "166  Kigali RW  Agriculture, Agronomy, Business, Environmental...   \n",
              "167  Kigali RW  Agriculture, Business, Demography and data ana...   \n",
              "\n",
              "    Education level                       Desired experience  \\\n",
              "0          Bachelor  Mid career (3 to 5 years of experience)   \n",
              "1          Bachelor          Senior (5+ years of experience)   \n",
              "2     Not specified                            Not specified   \n",
              "3     Not specified                            Not specified   \n",
              "4     Not specified                                 Contract   \n",
              "..              ...                                      ...   \n",
              "163                                                Full-time   \n",
              "164          Master          Senior (5+ years of experience)   \n",
              "165   Not specified                            Not specified   \n",
              "166                                                Full-time   \n",
              "167                                                Full-time   \n",
              "\n",
              "                 Contract type                  Deadline Number of positions  \n",
              "0                    Full-time   Sunday 20/11/2022 23:59                   1  \n",
              "1                     Contract   Monday 21/11/2022 09:00                   1  \n",
              "2                     Contract   Friday 25/11/2022 10:00                   1  \n",
              "3                       Tender   Monday 21/11/2022 23:59                   1  \n",
              "4    Thursday 08/12/2022 12:00                         1                None  \n",
              "..                         ...                       ...                 ...  \n",
              "163    Sunday 20/11/2022 23:59                         1                None  \n",
              "164                  Full-time   Monday 28/11/2022 23:59                   1  \n",
              "165                  Full-time  Tuesday 06/12/2022 23:59                   1  \n",
              "166   Tuesday 29/11/2022 23:59                         1                None  \n",
              "167  Thursday 17/11/2022 23:59                         1                None  \n",
              "\n",
              "[168 rows x 7 columns]"
            ]
          },
          "execution_count": 12,
          "metadata": {},
          "output_type": "execute_result"
        }
      ],
      "source": [
        "col = dicts[0].keys()\n",
        "values = []\n",
        "for d in dicts:\n",
        "  values.append(d.values())\n",
        "index = [i for i, v in enumerate(values)]\n",
        "\n",
        "f = pd.DataFrame([value if value else 'Not Specified' for value in values ], columns=col)\n",
        "f"
      ]
    },
    {
      "cell_type": "markdown",
      "metadata": {
        "id": "R8o1jacFjl3n"
      },
      "source": [
        "## Remove Unclear Rows to make the df readable ✅"
      ]
    },
    {
      "cell_type": "code",
      "execution_count": null,
      "metadata": {
        "id": "jaMiwLZuDqcp"
      },
      "outputs": [],
      "source": [
        "def get_job_info(link):\n",
        "  scrap = Web_Scrap(link)\n",
        "  cont= scrap.get_content().select(\"div.card-body.p-2\")\n",
        "  return [[clean_data(i) for i in con.get_text().strip().split('\\n') if i.strip()] for con in cont]\n",
        "\n",
        "data = get_job_info('https://www.jobinrwanda.com/')\n",
        "\n",
        "new_col = ['Job Title', 'Company','Published Date','Deadline','Desired experience','Job Category']\n",
        "index = [i for i, v in enumerate(data)]\n",
        "df = pd.DataFrame(data, index=index, columns=new_col)\n",
        "df.pop('Deadline')\n",
        "df.pop('Desired experience')\n",
        "f.dropna(\n",
        "    axis=0,\n",
        "    how='any',\n",
        "    thresh=None,\n",
        "    subset=None,\n",
        "    inplace=True\n",
        ")"
      ]
    },
    {
      "cell_type": "markdown",
      "metadata": {
        "id": "CpEkGoIqkRnm"
      },
      "source": [
        "## Concat the dataframe to get the one with all needed data"
      ]
    },
    {
      "cell_type": "code",
      "execution_count": null,
      "metadata": {
        "colab": {
          "base_uri": "https://localhost:8080/",
          "height": 1000
        },
        "id": "N-reLQs3kQVS",
        "outputId": "01b6d821-4d44-45d3-ee3d-00171225ab71"
      },
      "outputs": [
        {
          "data": {
            "text/html": [
              "\n",
              "  <div id=\"df-28b77237-af68-411d-b2c8-9a0f4a65fdc4\">\n",
              "    <div class=\"colab-df-container\">\n",
              "      <div>\n",
              "<style scoped>\n",
              "    .dataframe tbody tr th:only-of-type {\n",
              "        vertical-align: middle;\n",
              "    }\n",
              "\n",
              "    .dataframe tbody tr th {\n",
              "        vertical-align: top;\n",
              "    }\n",
              "\n",
              "    .dataframe thead th {\n",
              "        text-align: right;\n",
              "    }\n",
              "</style>\n",
              "<table border=\"1\" class=\"dataframe\">\n",
              "  <thead>\n",
              "    <tr style=\"text-align: right;\">\n",
              "      <th></th>\n",
              "      <th>Job Title</th>\n",
              "      <th>Company</th>\n",
              "      <th>Published Date</th>\n",
              "      <th>Job Category</th>\n",
              "      <th>Location</th>\n",
              "      <th>Sector</th>\n",
              "      <th>Education level</th>\n",
              "      <th>Desired experience</th>\n",
              "      <th>Contract type</th>\n",
              "      <th>Deadline</th>\n",
              "      <th>Number of positions</th>\n",
              "    </tr>\n",
              "  </thead>\n",
              "  <tbody>\n",
              "    <tr>\n",
              "      <th>0</th>\n",
              "      <td>Internal Audit Manager</td>\n",
              "      <td>Job in Rwanda</td>\n",
              "      <td>Published on 14 11 2022</td>\n",
              "      <td>Job</td>\n",
              "      <td>RW</td>\n",
              "      <td>Accounting, Finance and investment, Other</td>\n",
              "      <td>Bachelor</td>\n",
              "      <td>Mid career (3 to 5 years of experience)</td>\n",
              "      <td>Full-time</td>\n",
              "      <td>Sunday 20/11/2022 23:59</td>\n",
              "      <td>1</td>\n",
              "    </tr>\n",
              "    <tr>\n",
              "      <th>1</th>\n",
              "      <td>Production of Radio Drama Series for Behavior ...</td>\n",
              "      <td>UN Women Rwanda</td>\n",
              "      <td>Published on 14 11 2022</td>\n",
              "      <td>Consultancy</td>\n",
              "      <td>RW</td>\n",
              "      <td>Other</td>\n",
              "      <td>Bachelor</td>\n",
              "      <td>Senior (5+ years of experience)</td>\n",
              "      <td>Contract</td>\n",
              "      <td>Monday 21/11/2022 09:00</td>\n",
              "      <td>1</td>\n",
              "    </tr>\n",
              "    <tr>\n",
              "      <th>2</th>\n",
              "      <td>Hiring a Firm for BRD Maintenance Assessment</td>\n",
              "      <td>Development Bank of Rwanda  BRD</td>\n",
              "      <td>Published on 10 11 2022</td>\n",
              "      <td>Consultancy</td>\n",
              "      <td>RW</td>\n",
              "      <td>Other</td>\n",
              "      <td>Not specified</td>\n",
              "      <td>Not specified</td>\n",
              "      <td>Contract</td>\n",
              "      <td>Friday 25/11/2022 10:00</td>\n",
              "      <td>1</td>\n",
              "    </tr>\n",
              "    <tr>\n",
              "      <th>3</th>\n",
              "      <td>Construction du Guichet de Byumba</td>\n",
              "      <td>Reseau Interdiocesain de Microfinance  RIM Ltd</td>\n",
              "      <td>Published on 10 11 2022</td>\n",
              "      <td>Tender</td>\n",
              "      <td>RW</td>\n",
              "      <td>Other</td>\n",
              "      <td>Not specified</td>\n",
              "      <td>Not specified</td>\n",
              "      <td>Tender</td>\n",
              "      <td>Monday 21/11/2022 23:59</td>\n",
              "      <td>1</td>\n",
              "    </tr>\n",
              "    <tr>\n",
              "      <th>4</th>\n",
              "      <td>Terms of Reference for Production Of the Secon...</td>\n",
              "      <td>UN Women Rwanda</td>\n",
              "      <td>Published on 02 11 2022</td>\n",
              "      <td>Consultancy</td>\n",
              "      <td>RW</td>\n",
              "      <td>Economics, Other, Social sciences</td>\n",
              "      <td>Master</td>\n",
              "      <td>Senior (5+ years of experience)</td>\n",
              "      <td>Contract</td>\n",
              "      <td>Tuesday 15/11/2022 17:00</td>\n",
              "      <td>1</td>\n",
              "    </tr>\n",
              "    <tr>\n",
              "      <th>...</th>\n",
              "      <td>...</td>\n",
              "      <td>...</td>\n",
              "      <td>...</td>\n",
              "      <td>...</td>\n",
              "      <td>...</td>\n",
              "      <td>...</td>\n",
              "      <td>...</td>\n",
              "      <td>...</td>\n",
              "      <td>...</td>\n",
              "      <td>...</td>\n",
              "      <td>...</td>\n",
              "    </tr>\n",
              "    <tr>\n",
              "      <th>152</th>\n",
              "      <td>Supply of Laboratory Reagents  Equipments and ...</td>\n",
              "      <td>Rwanda Medical Supply Ltd     Kigali</td>\n",
              "      <td>Published on 19 10 2022</td>\n",
              "      <td>Tender</td>\n",
              "      <td>Kigali RW</td>\n",
              "      <td>Other</td>\n",
              "      <td>Not specified</td>\n",
              "      <td>Not specified</td>\n",
              "      <td>Tender</td>\n",
              "      <td>Tuesday 15/11/2022 10:00</td>\n",
              "      <td>1</td>\n",
              "    </tr>\n",
              "    <tr>\n",
              "      <th>153</th>\n",
              "      <td>Rwanda Market Access and SRF MEL Associate</td>\n",
              "      <td>One Acre Fund     Kigali</td>\n",
              "      <td>Published on 13 10 2022</td>\n",
              "      <td>Job</td>\n",
              "      <td>Kigali RW</td>\n",
              "      <td>Agriculture, Business, Demography and data ana...</td>\n",
              "      <td>Bachelor</td>\n",
              "      <td>Entry level (1 to 3 years of experience)</td>\n",
              "      <td>Full-time</td>\n",
              "      <td>Tuesday 10/01/2023 23:59</td>\n",
              "      <td>1</td>\n",
              "    </tr>\n",
              "    <tr>\n",
              "      <th>154</th>\n",
              "      <td>Consultant to Conduct a Baseline Survey for Ev...</td>\n",
              "      <td>Tubibe Amahoro  TA</td>\n",
              "      <td>Published on 03 10 2022</td>\n",
              "      <td>Consultancy</td>\n",
              "      <td>RW</td>\n",
              "      <td>Other</td>\n",
              "      <td>Not specified</td>\n",
              "      <td>Not specified</td>\n",
              "      <td>Contract</td>\n",
              "      <td>Tuesday 15/11/2022 10:00</td>\n",
              "      <td>1</td>\n",
              "    </tr>\n",
              "    <tr>\n",
              "      <th>155</th>\n",
              "      <td>Rwanda Potato Seed Venture   Lead</td>\n",
              "      <td>One Acre Fund     Kigali</td>\n",
              "      <td>Published on 14 09 2022</td>\n",
              "      <td>Job</td>\n",
              "      <td>Kigali RW</td>\n",
              "      <td>Agriculture, Agronomy, Business, Environmental...</td>\n",
              "      <td>Master</td>\n",
              "      <td>Senior (5+ years of experience)</td>\n",
              "      <td>Full-time</td>\n",
              "      <td>Monday 28/11/2022 23:59</td>\n",
              "      <td>1</td>\n",
              "    </tr>\n",
              "    <tr>\n",
              "      <th>156</th>\n",
              "      <td>IT Operations Senior Manager</td>\n",
              "      <td>One Acre Fund     Kigali</td>\n",
              "      <td>Published on 07 09 2022</td>\n",
              "      <td>Job</td>\n",
              "      <td>Kigali RW</td>\n",
              "      <td>Agriculture, Business, Computer and IT, Manage...</td>\n",
              "      <td>Not specified</td>\n",
              "      <td>Not specified</td>\n",
              "      <td>Full-time</td>\n",
              "      <td>Tuesday 06/12/2022 23:59</td>\n",
              "      <td>1</td>\n",
              "    </tr>\n",
              "  </tbody>\n",
              "</table>\n",
              "<p>157 rows × 11 columns</p>\n",
              "</div>\n",
              "      <button class=\"colab-df-convert\" onclick=\"convertToInteractive('df-28b77237-af68-411d-b2c8-9a0f4a65fdc4')\"\n",
              "              title=\"Convert this dataframe to an interactive table.\"\n",
              "              style=\"display:none;\">\n",
              "        \n",
              "  <svg xmlns=\"http://www.w3.org/2000/svg\" height=\"24px\"viewBox=\"0 0 24 24\"\n",
              "       width=\"24px\">\n",
              "    <path d=\"M0 0h24v24H0V0z\" fill=\"none\"/>\n",
              "    <path d=\"M18.56 5.44l.94 2.06.94-2.06 2.06-.94-2.06-.94-.94-2.06-.94 2.06-2.06.94zm-11 1L8.5 8.5l.94-2.06 2.06-.94-2.06-.94L8.5 2.5l-.94 2.06-2.06.94zm10 10l.94 2.06.94-2.06 2.06-.94-2.06-.94-.94-2.06-.94 2.06-2.06.94z\"/><path d=\"M17.41 7.96l-1.37-1.37c-.4-.4-.92-.59-1.43-.59-.52 0-1.04.2-1.43.59L10.3 9.45l-7.72 7.72c-.78.78-.78 2.05 0 2.83L4 21.41c.39.39.9.59 1.41.59.51 0 1.02-.2 1.41-.59l7.78-7.78 2.81-2.81c.8-.78.8-2.07 0-2.86zM5.41 20L4 18.59l7.72-7.72 1.47 1.35L5.41 20z\"/>\n",
              "  </svg>\n",
              "      </button>\n",
              "      \n",
              "  <style>\n",
              "    .colab-df-container {\n",
              "      display:flex;\n",
              "      flex-wrap:wrap;\n",
              "      gap: 12px;\n",
              "    }\n",
              "\n",
              "    .colab-df-convert {\n",
              "      background-color: #E8F0FE;\n",
              "      border: none;\n",
              "      border-radius: 50%;\n",
              "      cursor: pointer;\n",
              "      display: none;\n",
              "      fill: #1967D2;\n",
              "      height: 32px;\n",
              "      padding: 0 0 0 0;\n",
              "      width: 32px;\n",
              "    }\n",
              "\n",
              "    .colab-df-convert:hover {\n",
              "      background-color: #E2EBFA;\n",
              "      box-shadow: 0px 1px 2px rgba(60, 64, 67, 0.3), 0px 1px 3px 1px rgba(60, 64, 67, 0.15);\n",
              "      fill: #174EA6;\n",
              "    }\n",
              "\n",
              "    [theme=dark] .colab-df-convert {\n",
              "      background-color: #3B4455;\n",
              "      fill: #D2E3FC;\n",
              "    }\n",
              "\n",
              "    [theme=dark] .colab-df-convert:hover {\n",
              "      background-color: #434B5C;\n",
              "      box-shadow: 0px 1px 3px 1px rgba(0, 0, 0, 0.15);\n",
              "      filter: drop-shadow(0px 1px 2px rgba(0, 0, 0, 0.3));\n",
              "      fill: #FFFFFF;\n",
              "    }\n",
              "  </style>\n",
              "\n",
              "      <script>\n",
              "        const buttonEl =\n",
              "          document.querySelector('#df-28b77237-af68-411d-b2c8-9a0f4a65fdc4 button.colab-df-convert');\n",
              "        buttonEl.style.display =\n",
              "          google.colab.kernel.accessAllowed ? 'block' : 'none';\n",
              "\n",
              "        async function convertToInteractive(key) {\n",
              "          const element = document.querySelector('#df-28b77237-af68-411d-b2c8-9a0f4a65fdc4');\n",
              "          const dataTable =\n",
              "            await google.colab.kernel.invokeFunction('convertToInteractive',\n",
              "                                                     [key], {});\n",
              "          if (!dataTable) return;\n",
              "\n",
              "          const docLinkHtml = 'Like what you see? Visit the ' +\n",
              "            '<a target=\"_blank\" href=https://colab.research.google.com/notebooks/data_table.ipynb>data table notebook</a>'\n",
              "            + ' to learn more about interactive tables.';\n",
              "          element.innerHTML = '';\n",
              "          dataTable['output_type'] = 'display_data';\n",
              "          await google.colab.output.renderOutput(dataTable, element);\n",
              "          const docLink = document.createElement('div');\n",
              "          docLink.innerHTML = docLinkHtml;\n",
              "          element.appendChild(docLink);\n",
              "        }\n",
              "      </script>\n",
              "    </div>\n",
              "  </div>\n",
              "  "
            ],
            "text/plain": [
              "                                             Job Title  \\\n",
              "0                               Internal Audit Manager   \n",
              "1    Production of Radio Drama Series for Behavior ...   \n",
              "2         Hiring a Firm for BRD Maintenance Assessment   \n",
              "3                    Construction du Guichet de Byumba   \n",
              "4    Terms of Reference for Production Of the Secon...   \n",
              "..                                                 ...   \n",
              "152  Supply of Laboratory Reagents  Equipments and ...   \n",
              "153         Rwanda Market Access and SRF MEL Associate   \n",
              "154  Consultant to Conduct a Baseline Survey for Ev...   \n",
              "155                  Rwanda Potato Seed Venture   Lead   \n",
              "156                       IT Operations Senior Manager   \n",
              "\n",
              "                                            Company           Published Date  \\\n",
              "0                                     Job in Rwanda  Published on 14 11 2022   \n",
              "1                                   UN Women Rwanda  Published on 14 11 2022   \n",
              "2                   Development Bank of Rwanda  BRD  Published on 10 11 2022   \n",
              "3    Reseau Interdiocesain de Microfinance  RIM Ltd  Published on 10 11 2022   \n",
              "4                                   UN Women Rwanda  Published on 02 11 2022   \n",
              "..                                              ...                      ...   \n",
              "152            Rwanda Medical Supply Ltd     Kigali  Published on 19 10 2022   \n",
              "153                        One Acre Fund     Kigali  Published on 13 10 2022   \n",
              "154                              Tubibe Amahoro  TA  Published on 03 10 2022   \n",
              "155                        One Acre Fund     Kigali  Published on 14 09 2022   \n",
              "156                        One Acre Fund     Kigali  Published on 07 09 2022   \n",
              "\n",
              "    Job Category   Location  \\\n",
              "0            Job         RW   \n",
              "1    Consultancy         RW   \n",
              "2    Consultancy         RW   \n",
              "3         Tender         RW   \n",
              "4    Consultancy         RW   \n",
              "..           ...        ...   \n",
              "152       Tender  Kigali RW   \n",
              "153          Job  Kigali RW   \n",
              "154  Consultancy         RW   \n",
              "155          Job  Kigali RW   \n",
              "156          Job  Kigali RW   \n",
              "\n",
              "                                                Sector Education level  \\\n",
              "0            Accounting, Finance and investment, Other        Bachelor   \n",
              "1                                                Other        Bachelor   \n",
              "2                                                Other   Not specified   \n",
              "3                                                Other   Not specified   \n",
              "4                    Economics, Other, Social sciences          Master   \n",
              "..                                                 ...             ...   \n",
              "152                                              Other   Not specified   \n",
              "153  Agriculture, Business, Demography and data ana...        Bachelor   \n",
              "154                                              Other   Not specified   \n",
              "155  Agriculture, Agronomy, Business, Environmental...          Master   \n",
              "156  Agriculture, Business, Computer and IT, Manage...   Not specified   \n",
              "\n",
              "                           Desired experience Contract type  \\\n",
              "0     Mid career (3 to 5 years of experience)     Full-time   \n",
              "1             Senior (5+ years of experience)      Contract   \n",
              "2                               Not specified      Contract   \n",
              "3                               Not specified        Tender   \n",
              "4             Senior (5+ years of experience)      Contract   \n",
              "..                                        ...           ...   \n",
              "152                             Not specified        Tender   \n",
              "153  Entry level (1 to 3 years of experience)     Full-time   \n",
              "154                             Not specified      Contract   \n",
              "155           Senior (5+ years of experience)     Full-time   \n",
              "156                             Not specified     Full-time   \n",
              "\n",
              "                     Deadline Number of positions  \n",
              "0     Sunday 20/11/2022 23:59                   1  \n",
              "1     Monday 21/11/2022 09:00                   1  \n",
              "2     Friday 25/11/2022 10:00                   1  \n",
              "3     Monday 21/11/2022 23:59                   1  \n",
              "4    Tuesday 15/11/2022 17:00                   1  \n",
              "..                        ...                 ...  \n",
              "152  Tuesday 15/11/2022 10:00                   1  \n",
              "153  Tuesday 10/01/2023 23:59                   1  \n",
              "154  Tuesday 15/11/2022 10:00                   1  \n",
              "155   Monday 28/11/2022 23:59                   1  \n",
              "156  Tuesday 06/12/2022 23:59                   1  \n",
              "\n",
              "[157 rows x 11 columns]"
            ]
          },
          "execution_count": 14,
          "metadata": {},
          "output_type": "execute_result"
        }
      ],
      "source": [
        "frame = pd.concat([df, f], axis='columns')\n",
        "frame.dropna(\n",
        "    axis=0,\n",
        "    how='any',\n",
        "    thresh=None,\n",
        "    subset=None,\n",
        "    inplace=True\n",
        ")\n",
        "frame = frame.reset_index(drop=True)\n",
        "\n",
        "frame"
      ]
    },
    {
      "cell_type": "markdown",
      "metadata": {
        "id": "gOQoZzybusQk"
      },
      "source": [
        "## Save Data to CSV File"
      ]
    },
    {
      "cell_type": "code",
      "execution_count": null,
      "metadata": {
        "id": "ovq6iz70urCX"
      },
      "outputs": [],
      "source": [
        "with open('jobs.csv', 'w+') as jobs_data:\n",
        "  frame.to_csv(jobs_data)"
      ]
    },
    {
      "cell_type": "markdown",
      "metadata": {
        "id": "NQDzPNm6utEH"
      },
      "source": [
        "# Challenge #3"
      ]
    },
    {
      "cell_type": "markdown",
      "metadata": {
        "id": "5Kkk_ZUnuw0N"
      },
      "source": [
        "## Get ***IT/Software*** Opportunities using `Regex`\n",
        "\n",
        "\n"
      ]
    },
    {
      "cell_type": "code",
      "execution_count": null,
      "metadata": {
        "colab": {
          "base_uri": "https://localhost:8080/",
          "height": 326
        },
        "id": "cWI1lJldnuAj",
        "outputId": "a3a7794f-3ec2-4cfa-a474-5c578866abb2"
      },
      "outputs": [
        {
          "data": {
            "text/html": [
              "\n",
              "  <div id=\"df-00a38c66-acde-43c3-a1e0-87d7b9b9b771\">\n",
              "    <div class=\"colab-df-container\">\n",
              "      <div>\n",
              "<style scoped>\n",
              "    .dataframe tbody tr th:only-of-type {\n",
              "        vertical-align: middle;\n",
              "    }\n",
              "\n",
              "    .dataframe tbody tr th {\n",
              "        vertical-align: top;\n",
              "    }\n",
              "\n",
              "    .dataframe thead th {\n",
              "        text-align: right;\n",
              "    }\n",
              "</style>\n",
              "<table border=\"1\" class=\"dataframe\">\n",
              "  <thead>\n",
              "    <tr style=\"text-align: right;\">\n",
              "      <th></th>\n",
              "      <th>Job Title</th>\n",
              "      <th>Company</th>\n",
              "      <th>Published Date</th>\n",
              "      <th>Job Category</th>\n",
              "      <th>Location</th>\n",
              "      <th>Sector</th>\n",
              "      <th>Education level</th>\n",
              "      <th>Desired experience</th>\n",
              "      <th>Contract type</th>\n",
              "      <th>Deadline</th>\n",
              "      <th>Number of positions</th>\n",
              "    </tr>\n",
              "  </thead>\n",
              "  <tbody>\n",
              "    <tr>\n",
              "      <th>41</th>\n",
              "      <td>Product Manager</td>\n",
              "      <td>Ampersand Rwanda Ltd     Kigali</td>\n",
              "      <td>Published on 10 11 2022</td>\n",
              "      <td>Job</td>\n",
              "      <td>Kigali RW</td>\n",
              "      <td>Computer and IT, Management, Project management</td>\n",
              "      <td>Bachelor</td>\n",
              "      <td>Senior (5+ years of experience)</td>\n",
              "      <td>Full-time</td>\n",
              "      <td>Tuesday 10/01/2023 23:59</td>\n",
              "      <td>1</td>\n",
              "    </tr>\n",
              "    <tr>\n",
              "      <th>120</th>\n",
              "      <td>IT and MIS Director</td>\n",
              "      <td>CHANCEN International Rwanda     Kigali</td>\n",
              "      <td>Published on 31 10 2022</td>\n",
              "      <td>Job</td>\n",
              "      <td>Kigali RW</td>\n",
              "      <td>Computer and IT, Other, Project management</td>\n",
              "      <td>Bachelor</td>\n",
              "      <td>Senior (5+ years of experience)</td>\n",
              "      <td>Full-time</td>\n",
              "      <td>Friday 18/11/2022 23:59</td>\n",
              "      <td>1</td>\n",
              "    </tr>\n",
              "    <tr>\n",
              "      <th>131</th>\n",
              "      <td>Instructional Technology Assistant</td>\n",
              "      <td>University of Global Health Equity  UGHE</td>\n",
              "      <td>Published on 28 10 2022</td>\n",
              "      <td>Job</td>\n",
              "      <td>RW</td>\n",
              "      <td>Computer and IT, Education, Other</td>\n",
              "      <td>Bachelor</td>\n",
              "      <td>Not specified</td>\n",
              "      <td>Full-time</td>\n",
              "      <td>Monday 28/11/2022 23:59</td>\n",
              "      <td>1</td>\n",
              "    </tr>\n",
              "  </tbody>\n",
              "</table>\n",
              "</div>\n",
              "      <button class=\"colab-df-convert\" onclick=\"convertToInteractive('df-00a38c66-acde-43c3-a1e0-87d7b9b9b771')\"\n",
              "              title=\"Convert this dataframe to an interactive table.\"\n",
              "              style=\"display:none;\">\n",
              "        \n",
              "  <svg xmlns=\"http://www.w3.org/2000/svg\" height=\"24px\"viewBox=\"0 0 24 24\"\n",
              "       width=\"24px\">\n",
              "    <path d=\"M0 0h24v24H0V0z\" fill=\"none\"/>\n",
              "    <path d=\"M18.56 5.44l.94 2.06.94-2.06 2.06-.94-2.06-.94-.94-2.06-.94 2.06-2.06.94zm-11 1L8.5 8.5l.94-2.06 2.06-.94-2.06-.94L8.5 2.5l-.94 2.06-2.06.94zm10 10l.94 2.06.94-2.06 2.06-.94-2.06-.94-.94-2.06-.94 2.06-2.06.94z\"/><path d=\"M17.41 7.96l-1.37-1.37c-.4-.4-.92-.59-1.43-.59-.52 0-1.04.2-1.43.59L10.3 9.45l-7.72 7.72c-.78.78-.78 2.05 0 2.83L4 21.41c.39.39.9.59 1.41.59.51 0 1.02-.2 1.41-.59l7.78-7.78 2.81-2.81c.8-.78.8-2.07 0-2.86zM5.41 20L4 18.59l7.72-7.72 1.47 1.35L5.41 20z\"/>\n",
              "  </svg>\n",
              "      </button>\n",
              "      \n",
              "  <style>\n",
              "    .colab-df-container {\n",
              "      display:flex;\n",
              "      flex-wrap:wrap;\n",
              "      gap: 12px;\n",
              "    }\n",
              "\n",
              "    .colab-df-convert {\n",
              "      background-color: #E8F0FE;\n",
              "      border: none;\n",
              "      border-radius: 50%;\n",
              "      cursor: pointer;\n",
              "      display: none;\n",
              "      fill: #1967D2;\n",
              "      height: 32px;\n",
              "      padding: 0 0 0 0;\n",
              "      width: 32px;\n",
              "    }\n",
              "\n",
              "    .colab-df-convert:hover {\n",
              "      background-color: #E2EBFA;\n",
              "      box-shadow: 0px 1px 2px rgba(60, 64, 67, 0.3), 0px 1px 3px 1px rgba(60, 64, 67, 0.15);\n",
              "      fill: #174EA6;\n",
              "    }\n",
              "\n",
              "    [theme=dark] .colab-df-convert {\n",
              "      background-color: #3B4455;\n",
              "      fill: #D2E3FC;\n",
              "    }\n",
              "\n",
              "    [theme=dark] .colab-df-convert:hover {\n",
              "      background-color: #434B5C;\n",
              "      box-shadow: 0px 1px 3px 1px rgba(0, 0, 0, 0.15);\n",
              "      filter: drop-shadow(0px 1px 2px rgba(0, 0, 0, 0.3));\n",
              "      fill: #FFFFFF;\n",
              "    }\n",
              "  </style>\n",
              "\n",
              "      <script>\n",
              "        const buttonEl =\n",
              "          document.querySelector('#df-00a38c66-acde-43c3-a1e0-87d7b9b9b771 button.colab-df-convert');\n",
              "        buttonEl.style.display =\n",
              "          google.colab.kernel.accessAllowed ? 'block' : 'none';\n",
              "\n",
              "        async function convertToInteractive(key) {\n",
              "          const element = document.querySelector('#df-00a38c66-acde-43c3-a1e0-87d7b9b9b771');\n",
              "          const dataTable =\n",
              "            await google.colab.kernel.invokeFunction('convertToInteractive',\n",
              "                                                     [key], {});\n",
              "          if (!dataTable) return;\n",
              "\n",
              "          const docLinkHtml = 'Like what you see? Visit the ' +\n",
              "            '<a target=\"_blank\" href=https://colab.research.google.com/notebooks/data_table.ipynb>data table notebook</a>'\n",
              "            + ' to learn more about interactive tables.';\n",
              "          element.innerHTML = '';\n",
              "          dataTable['output_type'] = 'display_data';\n",
              "          await google.colab.output.renderOutput(dataTable, element);\n",
              "          const docLink = document.createElement('div');\n",
              "          docLink.innerHTML = docLinkHtml;\n",
              "          element.appendChild(docLink);\n",
              "        }\n",
              "      </script>\n",
              "    </div>\n",
              "  </div>\n",
              "  "
            ],
            "text/plain": [
              "                              Job Title  \\\n",
              "41                      Product Manager   \n",
              "120                 IT and MIS Director   \n",
              "131  Instructional Technology Assistant   \n",
              "\n",
              "                                      Company           Published Date  \\\n",
              "41            Ampersand Rwanda Ltd     Kigali  Published on 10 11 2022   \n",
              "120   CHANCEN International Rwanda     Kigali  Published on 31 10 2022   \n",
              "131  University of Global Health Equity  UGHE  Published on 28 10 2022   \n",
              "\n",
              "    Job Category   Location                                           Sector  \\\n",
              "41           Job  Kigali RW  Computer and IT, Management, Project management   \n",
              "120          Job  Kigali RW       Computer and IT, Other, Project management   \n",
              "131          Job         RW                Computer and IT, Education, Other   \n",
              "\n",
              "    Education level               Desired experience Contract type  \\\n",
              "41         Bachelor  Senior (5+ years of experience)     Full-time   \n",
              "120        Bachelor  Senior (5+ years of experience)     Full-time   \n",
              "131        Bachelor                    Not specified     Full-time   \n",
              "\n",
              "                     Deadline Number of positions  \n",
              "41   Tuesday 10/01/2023 23:59                   1  \n",
              "120   Friday 18/11/2022 23:59                   1  \n",
              "131   Monday 28/11/2022 23:59                   1  "
            ]
          },
          "execution_count": 16,
          "metadata": {},
          "output_type": "execute_result"
        }
      ],
      "source": [
        "fr = df.filter(regex=\".*Sector.*\")\n",
        "regex = r'Computer and IT'\n",
        "it_df = frame[frame.Sector.str.match(regex)]\n",
        "\n",
        "it_df"
      ]
    },
    {
      "cell_type": "code",
      "execution_count": null,
      "metadata": {
        "id": "9rOoKiQMm-CM"
      },
      "outputs": [],
      "source": [
        "it_jobs = [dic for dic in dicts if 'Computer and IT' in dic['Sector'].split(',') ]\n",
        "\n",
        "for i,v in enumerate(it_jobs[0].items()):\n",
        "  print(f'{i} ===>{\": \".join(v)}')\n"
      ]
    },
    {
      "cell_type": "code",
      "execution_count": null,
      "metadata": {
        "id": "pxdTrqyc5xnP"
      },
      "outputs": [],
      "source": [
        "dicts"
      ]
    },
    {
      "cell_type": "code",
      "execution_count": null,
      "metadata": {
        "colab": {
          "base_uri": "https://localhost:8080/"
        },
        "id": "Wl6AVbm4pxKt",
        "outputId": "f3e753fd-de62-48e5-f247-85be1cc74c1c"
      },
      "outputs": [
        {
          "name": "stdout",
          "output_type": "stream",
          "text": [
            "[['Product Manager', 'Ampersand Rwanda Ltd     Kigali', 'Published on 10 11 2022', 'Job', 'Kigali RW', 'Computer and IT, Management, Project management', 'Bachelor', 'Senior (5+ years of experience)', 'Full-time', 'Tuesday 10/01/2023 23:59', '1'], ['IT and MIS Director', 'CHANCEN International Rwanda     Kigali', 'Published on 31 10 2022', 'Job', 'Kigali RW', 'Computer and IT, Other, Project management', 'Bachelor', 'Senior (5+ years of experience)', 'Full-time', 'Friday 18/11/2022 23:59', '1'], ['Instructional Technology Assistant', 'University of Global Health Equity  UGHE', 'Published on 28 10 2022', 'Job', ' RW', 'Computer and IT, Education, Other', 'Bachelor', 'Not specified', 'Full-time', 'Monday 28/11/2022 23:59', '1']]\n"
          ]
        }
      ],
      "source": [
        "import json\n",
        "\n",
        "result = it_df.to_json(orient='split')\n",
        "result = json.loads(result)\n",
        "# result = json.dumps(result, indent=4)\n",
        "\n",
        "print(result[\"data\"])"
      ]
    },
    {
      "cell_type": "markdown",
      "metadata": {
        "id": "Xh54vZiirQEQ"
      },
      "source": [
        "## Translate IT Jobs"
      ]
    },
    {
      "cell_type": "code",
      "execution_count": null,
      "metadata": {
        "id": "IgZr3C_-tGSF"
      },
      "outputs": [],
      "source": [
        "!pip install -U easynmt"
      ]
    },
    {
      "cell_type": "code",
      "execution_count": null,
      "metadata": {
        "id": "ACRvsKmjulL7"
      },
      "outputs": [],
      "source": [
        "from easynmt import EasyNMT\n",
        "\n",
        "model = EasyNMT('m2m_100_418M')\n",
        "\n",
        "def translate(txt, lang):\n",
        "  tran = model.translate(txt,source_lang='en', target_lang=lang)\n",
        "  return tran\n"
      ]
    },
    {
      "cell_type": "code",
      "execution_count": null,
      "metadata": {
        "id": "Gt-i-DaZq05Y"
      },
      "outputs": [],
      "source": [
        "[translate([': '.join(jo) for jo in job.items()], 'fr') for job in it_jobs]"
      ]
    },
    {
      "cell_type": "markdown",
      "metadata": {
        "id": "GTJxdk_wvPg_"
      },
      "source": [
        "# Challenge #4"
      ]
    },
    {
      "cell_type": "markdown",
      "metadata": {
        "id": "PhfzgnNPvqKY"
      },
      "source": [
        "# Challenge #5"
      ]
    },
    {
      "cell_type": "markdown",
      "metadata": {
        "id": "_cElg0CmvsNp"
      },
      "source": [
        "## Host the API for the data in colab"
      ]
    },
    {
      "cell_type": "code",
      "execution_count": null,
      "metadata": {
        "colab": {
          "base_uri": "https://localhost:8080/"
        },
        "id": "wrvsiV3b5ucg",
        "outputId": "d23be2b6-30bd-4310-dd4c-908535e40baf"
      },
      "outputs": [
        {
          "name": "stdout",
          "output_type": "stream",
          "text": [
            "jobs.csv  sample_data\n"
          ]
        }
      ],
      "source": [
        "!ls"
      ]
    },
    {
      "cell_type": "code",
      "execution_count": null,
      "metadata": {
        "id": "sXuWnsn1vz--"
      },
      "outputs": [],
      "source": [
        "!pip install fastapi pyngrok uvicorn nest-asyncio\n",
        "\n",
        "!pip install -U easynmt"
      ]
    },
    {
      "cell_type": "code",
      "execution_count": null,
      "metadata": {
        "id": "POUDRKB3JkyU"
      },
      "outputs": [],
      "source": [
        "import os\n",
        "!mkdir fastapi_app/\n",
        "os.chdir('fastapi_app')\n",
        "!mkdir templates/\n",
        "!mkdir static/"
      ]
    },
    {
      "cell_type": "code",
      "execution_count": null,
      "metadata": {
        "colab": {
          "base_uri": "https://localhost:8080/"
        },
        "id": "LgvffLMoIPDV",
        "outputId": "4e2bb532-4a69-4960-85c7-394a6b737ca3"
      },
      "outputs": [
        {
          "name": "stdout",
          "output_type": "stream",
          "text": [
            "Writing static/index.css\n"
          ]
        }
      ],
      "source": [
        "%%writefile static/index.css\n",
        "@import url(//fonts.googleapis.com/css?family=Lato:300:400);\n",
        "\n",
        "body {\n",
        "  margin:0;\n",
        "}\n",
        "\n",
        "h1 {\n",
        "  font-family: 'Lato', sans-serif;\n",
        "  font-weight:300;\n",
        "  letter-spacing: 2px;\n",
        "  font-size:48px;\n",
        "}\n",
        "p {\n",
        "  font-family: 'Lato', sans-serif;\n",
        "  letter-spacing: 1px;\n",
        "  font-size:14px;\n",
        "  color: #333333;\n",
        "}\n",
        "\n",
        ".header {\n",
        "  position:relative;\n",
        "  text-align:center;\n",
        "  background: linear-gradient(60deg, rgba(84,58,183,1) 0%, rgba(0,172,193,1) 100%);\n",
        "  color:white;\n",
        "}\n",
        ".logo {\n",
        "  width:50px;\n",
        "  fill:white;\n",
        "  padding-right:15px;\n",
        "  display:inline-block;\n",
        "  vertical-align: middle;\n",
        "}\n",
        "\n",
        ".inner-header {\n",
        "  height:65vh;\n",
        "  width:100%;\n",
        "  margin: 0;\n",
        "  padding: 0;\n",
        "}\n",
        "\n",
        ".flex { /*Flexbox for containers*/\n",
        "  display: flex;\n",
        "  justify-content: center;\n",
        "  align-items: center;\n",
        "  text-align: center;\n",
        "}\n",
        "\n",
        ".waves {\n",
        "  position:relative;\n",
        "  width: 100%;\n",
        "  height:15vh;\n",
        "  margin-bottom:-7px; /*Fix for safari gap*/\n",
        "  min-height:100px;\n",
        "  max-height:150px;\n",
        "}\n",
        "\n",
        ".content {\n",
        "  position:relative;\n",
        "  height:20vh;\n",
        "  text-align:center;\n",
        "  background-color: white;\n",
        "}\n",
        "\n",
        "/* Animation */\n",
        "\n",
        ".parallax > use {\n",
        "  animation: move-forever 25s cubic-bezier(.55,.5,.45,.5)     infinite;\n",
        "}\n",
        ".parallax > use:nth-child(1) {\n",
        "  animation-delay: -2s;\n",
        "  animation-duration: 7s;\n",
        "}\n",
        ".parallax > use:nth-child(2) {\n",
        "  animation-delay: -3s;\n",
        "  animation-duration: 10s;\n",
        "}\n",
        ".parallax > use:nth-child(3) {\n",
        "  animation-delay: -4s;\n",
        "  animation-duration: 13s;\n",
        "}\n",
        ".parallax > use:nth-child(4) {\n",
        "  animation-delay: -5s;\n",
        "  animation-duration: 20s;\n",
        "}\n",
        "@keyframes move-forever {\n",
        "  0% {\n",
        "   transform: translate3d(-90px,0,0);\n",
        "  }\n",
        "  100% { \n",
        "    transform: translate3d(85px,0,0);\n",
        "  }\n",
        "}\n",
        "/*Shrinking for mobile*/\n",
        "@media (max-width: 768px) {\n",
        "  .waves {\n",
        "    height:40px;\n",
        "    min-height:40px;\n",
        "  }\n",
        "  .content {\n",
        "    height:30vh;\n",
        "  }\n",
        "  h1 {\n",
        "    font-size:24px;\n",
        "  }\n",
        "}"
      ]
    },
    {
      "cell_type": "code",
      "execution_count": null,
      "metadata": {
        "colab": {
          "base_uri": "https://localhost:8080/"
        },
        "id": "B7aRLRd6iG7P",
        "outputId": "483f49d6-260a-4520-aa6e-c97d14068c57"
      },
      "outputs": [
        {
          "name": "stdout",
          "output_type": "stream",
          "text": [
            "static\ttemplates\n",
            "/content/fastapi_app\n"
          ]
        }
      ],
      "source": [
        "!ls && pwd"
      ]
    },
    {
      "cell_type": "code",
      "execution_count": null,
      "metadata": {
        "colab": {
          "base_uri": "https://localhost:8080/"
        },
        "id": "z4mRO8_3Jnen",
        "outputId": "b56bd7cb-33a0-49ba-fbb8-257454bbf357"
      },
      "outputs": [
        {
          "name": "stdout",
          "output_type": "stream",
          "text": [
            "Overwriting templates/index.html\n"
          ]
        }
      ],
      "source": [
        "%%writefile templates/index.html\n",
        "<html>\n",
        "  <head>\n",
        "    <title>Hackerthon</title>\n",
        "    <link href=\"{{ url_for('static', path='/index.css') }}\" rel=\"stylesheet\">\n",
        "  </head>\n",
        "  <body>\n",
        "  <!--Hey! This is the original versionof Simple CSS Waves-->\n",
        "\n",
        "<div class=\"header\">\n",
        "\n",
        "<!--Content before waves-->\n",
        "<div class=\"inner-header flex\">\n",
        "<!--Just the logo.. Don't mind this-->\n",
        "<svg version=\"1.1\" class=\"logo\" baseProfile=\"tiny\" id=\"Layer_1\" xmlns=\"http://www.w3.org/2000/svg\"\n",
        "xmlns:xlink=\"http://www.w3.org/1999/xlink\" x=\"0px\" y=\"0px\" viewBox=\"0 0 500 500\" xml:space=\"preserve\">\n",
        "<path fill=\"#FFFFFF\" stroke=\"#000000\" stroke-width=\"10\" stroke-miterlimit=\"10\" d=\"M57,283\" />\n",
        "<g><path fill=\"#fff\"\n",
        "d=\"M250.4,0.8C112.7,0.8,1,112.4,1,250.2c0,137.7,111.7,249.4,249.4,249.4c137.7,0,249.4-111.7,249.4-249.4\n",
        "C499.8,112.4,388.1,0.8,250.4,0.8z M383.8,326.3c-62,0-101.4-14.1-117.6-46.3c-17.1-34.1-2.3-75.4,13.2-104.1\n",
        "c-22.4,3-38.4,9.2-47.8,18.3c-11.2,10.9-13.6,26.7-16.3,45c-3.1,20.8-6.6,44.4-25.3,62.4c-19.8,19.1-51.6,26.9-100.2,24.6l1.8-39.7\t\tc35.9,1.6,59.7-2.9,70.8-13.6c8.9-8.6,11.1-22.9,13.5-39.6c6.3-42,14.8-99.4,141.4-99.4h41L333,166c-12.6,16-45.4,68.2-31.2,96.2\tc9.2,18.3,41.5,25.6,91.2,24.2l1.1,39.8C390.5,326.2,387.1,326.3,383.8,326.3z\" />\n",
        "</g>\n",
        "</svg>\n",
        "<h1>Hackathon NLP Fellowship</h1>\n",
        "</div>\n",
        "<div>\n",
        "<a href=\"{{url}}/docs\">API Docs</a>\n",
        "</div>\n",
        "<!--Waves Container-->\n",
        "<div>\n",
        "<svg class=\"waves\" xmlns=\"http://www.w3.org/2000/svg\" xmlns:xlink=\"http://www.w3.org/1999/xlink\"\n",
        "viewBox=\"0 24 150 28\" preserveAspectRatio=\"none\" shape-rendering=\"auto\">\n",
        "<defs>\n",
        "<path id=\"gentle-wave\" d=\"M-160 44c30 0 58-18 88-18s 58 18 88 18 58-18 88-18 58 18 88 18 v44h-352z\" />\n",
        "</defs>\n",
        "<g class=\"parallax\">\n",
        "<use xlink:href=\"#gentle-wave\" x=\"48\" y=\"0\" fill=\"rgba(255,255,255,0.7\" />\n",
        "<use xlink:href=\"#gentle-wave\" x=\"48\" y=\"3\" fill=\"rgba(255,255,255,0.5)\" />\n",
        "<use xlink:href=\"#gentle-wave\" x=\"48\" y=\"5\" fill=\"rgba(255,255,255,0.3)\" />\n",
        "<use xlink:href=\"#gentle-wave\" x=\"48\" y=\"7\" fill=\"#fff\" />\n",
        "</g>\n",
        "</svg>\n",
        "</div>\n",
        "<!--Waves end-->\n",
        "\n",
        "</div>\n",
        "<!--Header ends-->\n",
        "\n",
        "<!--Content starts-->\n",
        "<div class=\"content flex\">\n",
        "  <p>&copy;By.Josue BATEY | All right reserved </p>\n",
        "</div>\n",
        "<!--Content ends-->\n",
        " </body>\n",
        "</html"
      ]
    },
    {
      "cell_type": "markdown",
      "metadata": {
        "id": "uVb-vr5XdnRA"
      },
      "source": [
        "## Site Variable"
      ]
    },
    {
      "cell_type": "code",
      "execution_count": null,
      "metadata": {
        "id": "XoUlg5kIdmQ4"
      },
      "outputs": [],
      "source": [
        "\n",
        "langages = {\n",
        "  'aa': 'Afar',\n",
        "  'ab': 'Abkhazian',\n",
        "  'af': 'Afrikaans',\n",
        "  'ak': 'Akan',\n",
        "  'sq': 'Albanian',\n",
        "  'am': 'Amharic',\n",
        "  'ar': 'Arabic',\n",
        "  'an': 'Aragonese',\n",
        "  'hy': 'Armenian',\n",
        "  'as': 'Assamese',\n",
        "  'av': 'Avaric',\n",
        "  'ae': 'Avestan',\n",
        "  'ay': 'Aymara',\n",
        "  'az': 'Azerbaijani',\n",
        "  'ba': 'Bashkir',\n",
        "  'bm': 'Bambara',\n",
        "  'eu': 'Basque',\n",
        "  'be': 'Belarusian',\n",
        "  'bn': 'Bengali',\n",
        "  'bh': 'Bihari languages',\n",
        "  'bi': 'Bislama',\n",
        "  'bo': 'Tibetan',\n",
        "  'bs': 'Bosnian',\n",
        "  'br': 'Breton',\n",
        "  'bg': 'Bulgarian',\n",
        "  'my': 'Burmese',\n",
        "  'ca': 'Catalan; Valencian',\n",
        "  'cs': 'Czech',\n",
        "  'ch': 'Chamorro',\n",
        "  'ce': 'Chechen',\n",
        "  'zh': 'Chinese',\n",
        "  'cu': 'Church Slavic; Old Slavonic; Church Slavonic; Old Bulgarian; Old Church Slavonic',\n",
        "  'cv': 'Chuvash',\n",
        "  'kw': 'Cornish',\n",
        "  'co': 'Corsican',\n",
        "  'cr': 'Cree',\n",
        "  'cy': 'Welsh',\n",
        "  'cs': 'Czech',\n",
        "  'da': 'Danish',\n",
        "  'de': 'German',\n",
        "  'dv': 'Divehi; Dhivehi; Maldivian',\n",
        "  'nl': 'Dutch; Flemish',\n",
        "  'dz': 'Dzongkha',\n",
        "  'el': 'Greek, Modern (1453-)',\n",
        "  'en': 'English',\n",
        "  'eo': 'Esperanto',\n",
        "  'et': 'Estonian',\n",
        "  'eu': 'Basque',\n",
        "  'ee': 'Ewe',\n",
        "  'fo': 'Faroese',\n",
        "  'fa': 'Persian',\n",
        "  'fj': 'Fijian',\n",
        "  'fi': 'Finnish',\n",
        "  'fr': 'French',\n",
        "  'fy': 'Western Frisian',\n",
        "  'ff': 'Fulah',\n",
        "  'Ga': 'Georgian',\n",
        "  'de': 'German',\n",
        "  'gd': 'Gaelic; Scottish Gaelic',\n",
        "  'ga': 'Irish',\n",
        "  'gl': 'Galician',\n",
        "  'gv': 'Manx',\n",
        "  'el': 'Greek, Modern (1453-)',\n",
        "  'gn': 'Guarani',\n",
        "  'gu': 'Gujarati',\n",
        "  'ht': 'Haitian; Haitian Creole',\n",
        "  'ha': 'Hausa',\n",
        "  'he': 'Hebrew',\n",
        "  'hz': 'Herero',\n",
        "  'hi': 'Hindi',\n",
        "  'ho': 'Hiri Motu',\n",
        "  'hr': 'Croatian',\n",
        "  'hu': 'Hungarian',\n",
        "  'hy': 'Armenian',\n",
        "  'ig': 'Igbo',\n",
        "  'is': 'Icelandic',\n",
        "  'io': 'Ido',\n",
        "  'ii': 'Sichuan Yi; Nuosu',\n",
        "  'iu': 'Inuktitut',\n",
        "  'ie': 'Interlingue; Occidental',\n",
        "  'ia': 'Interlingua (International Auxiliary Language Association)',\n",
        "  'id': 'Indonesian',\n",
        "  'ik': 'Inupiaq',\n",
        "  'is': 'Icelandic',\n",
        "  'it': 'Italian',\n",
        "  'jv': 'Javanese',\n",
        "  'ja': 'Japanese',\n",
        "  'kl': 'Kalaallisut; Greenlandic',\n",
        "  'kn': 'Kannada',\n",
        "  'ks': 'Kashmiri',\n",
        "  'ka': 'Georgian',\n",
        "  'kr': 'Kanuri',\n",
        "  'kk': 'Kazakh',\n",
        "  'km': 'Central Khmer',\n",
        "  'ki': 'Kikuyu; Gikuyu',\n",
        "  'rw': 'Kinyarwanda',\n",
        "  'ky': 'Kirghiz; Kyrgyz',\n",
        "  'kv': 'Komi',\n",
        "  'kg': 'Kongo',\n",
        "  'ko': 'Korean',\n",
        "  'kj': 'Kuanyama; Kwanyama',\n",
        "  'ku': 'Kurdish',\n",
        "  'lo': 'Lao',\n",
        "  'la': 'Latin',\n",
        "  'lv': 'Latvian',\n",
        "  'li': 'Limburgan; Limburger; Limburgish',\n",
        "  'ln': 'Lingala',\n",
        "  'lt': 'Lithuanian',\n",
        "  'lb': 'Luxembourgish; Letzeburgesch',\n",
        "  'lu': 'Luba-Katanga',\n",
        "  'lg': 'Ganda',\n",
        "  'mk': 'Macedonian',\n",
        "  'mh': 'Marshallese',\n",
        "  'ml': 'Malayalam',\n",
        "  'mi': 'Maori',\n",
        "  'mr': 'Marathi',\n",
        "  'ms': 'Malay',\n",
        "  'Mi': 'Micmac',\n",
        "  'mk': 'Macedonian',\n",
        "  'mg': 'Malagasy',\n",
        "  'mt': 'Maltese',\n",
        "  'mn': 'Mongolian',\n",
        "  'mi': 'Maori',\n",
        "  'ms': 'Malay',\n",
        "  'my': 'Burmese',\n",
        "  'na': 'Nauru',\n",
        "  'nv': 'Navajo; Navaho',\n",
        "  'nr': 'Ndebele, South; South Ndebele',\n",
        "  'nd': 'Ndebele, North; North Ndebele',\n",
        "  'ng': 'Ndonga',\n",
        "  'ne': 'Nepali',\n",
        "  'nl': 'Dutch; Flemish',\n",
        "  'nn': 'Norwegian Nynorsk; Nynorsk, Norwegian',\n",
        "  'nb': 'Bokmål, Norwegian; Norwegian Bokmål',\n",
        "  'no': 'Norwegian',\n",
        "  'oc': 'Occitan (post 1500)',\n",
        "  'oj': 'Ojibwa',\n",
        "  'or': 'Oriya',\n",
        "  'om': 'Oromo',\n",
        "  'os': 'Ossetian; Ossetic',\n",
        "  'pa': 'Panjabi; Punjabi',\n",
        "  'fa': 'Persian',\n",
        "  'pi': 'Pali',\n",
        "  'pl': 'Polish',\n",
        "  'pt': 'Portuguese',\n",
        "  'ps': 'Pushto; Pashto',\n",
        "  'qu': 'Quechua',\n",
        "  'rm': 'Romansh',\n",
        "  'ro': 'Romanian; Moldavian; Moldovan',\n",
        "  'ro': 'Romanian; Moldavian; Moldovan',\n",
        "  'rn': 'Rundi',\n",
        "  'ru': 'Russian',\n",
        "  'sg': 'Sango',\n",
        "  'sa': 'Sanskrit',\n",
        "  'si': 'Sinhala; Sinhalese',\n",
        "  'sk': 'Slovak',\n",
        "  'sk': 'Slovak',\n",
        "  'sl': 'Slovenian',\n",
        "  'se': 'Northern Sami',\n",
        "  'sm': 'Samoan',\n",
        "  'sn': 'Shona',\n",
        "  'sd': 'Sindhi',\n",
        "  'so': 'Somali',\n",
        "  'st': 'Sotho, Southern',\n",
        "  'es': 'Spanish; Castilian',\n",
        "  'sq': 'Albanian',\n",
        "  'sc': 'Sardinian',\n",
        "  'sr': 'Serbian',\n",
        "  'ss': 'Swati',\n",
        "  'su': 'Sundanese',\n",
        "  'sw': 'Swahili',\n",
        "  'sv': 'Swedish',\n",
        "  'ty': 'Tahitian',\n",
        "  'ta': 'Tamil',\n",
        "  'tt': 'Tatar',\n",
        "  'te': 'Telugu',\n",
        "  'tg': 'Tajik',\n",
        "  'tl': 'Tagalog',\n",
        "  'th': 'Thai',\n",
        "  'bo': 'Tibetan',\n",
        "  'ti': 'Tigrinya',\n",
        "  'to': 'Tonga (Tonga Islands)',\n",
        "  'tn': 'Tswana',\n",
        "  'ts': 'Tsonga',\n",
        "  'tk': 'Turkmen',\n",
        "  'tr': 'Turkish',\n",
        "  'tw': 'Twi',\n",
        "  'ug': 'Uighur; Uyghur',\n",
        "  'uk': 'Ukrainian',\n",
        "  'ur': 'Urdu',\n",
        "  'uz': 'Uzbek',\n",
        "  've': 'Venda',\n",
        "  'vi': 'Vietnamese',\n",
        "  'vo': 'Volapük',\n",
        "  'cy': 'Welsh',\n",
        "  'wa': 'Walloon',\n",
        "  'wo': 'Wolof',\n",
        "  'xh': 'Xhosa',\n",
        "  'yi': 'Yiddish',\n",
        "  'yo': 'Yoruba',\n",
        "  'za': 'Zhuang; Chuang',\n",
        "  'zh': 'Chinese',\n",
        "  'zu': 'Zulu',\n",
        "}"
      ]
    },
    {
      "cell_type": "markdown",
      "metadata": {
        "id": "hp9CDfKMdtOi"
      },
      "source": [
        "## FASTAPI APP"
      ]
    },
    {
      "cell_type": "code",
      "execution_count": null,
      "metadata": {
        "id": "m_MXUFLPtZe9"
      },
      "outputs": [],
      "source": [
        "from fastapi import FastAPI, Request\n",
        "from fastapi.encoders import jsonable_encoder\n",
        "from fastapi.responses import HTMLResponse\n",
        "from easynmt import EasyNMT\n",
        "\n",
        "from fastapi.templating import Jinja2Templates\n",
        "from fastapi.staticfiles import StaticFiles\n",
        "\n",
        "import random\n",
        "\n",
        "app = FastAPI(title='Hackerthon Jobs API') \n",
        "\n",
        "\n",
        "app.mount(\"/static\", StaticFiles(directory=\"static\"), name=\"static\")\n",
        "templates = Jinja2Templates(directory=\"templates\")\n",
        "\n",
        "\n",
        "model = EasyNMT('m2m_100_418M')\n",
        "\n",
        "def translate_text(txt, lang):\n",
        "  tran = model.translate(txt, target_lang = lang)\n",
        "  return tran\n",
        "\n",
        "@app.get('/')#ROUTE\n",
        "def index(request: Request,lang:str = ''):\n",
        "  return templates.TemplateResponse(\"index.html\", context = {\"request\": request,\"url\": url} )\n",
        "\n",
        "@app.get('/jobs')\n",
        "def jobs():\n",
        "  return dicts\n",
        "\n",
        "@app.get('/jobs/it')\n",
        "def jobs():\n",
        "  return it_jobs\n",
        "\n",
        "@app.get('/jobs/it/{lang}')\n",
        "def jobs(lang:str = 'fr'):\n",
        "  return [translate_text([': '.join(jo) for jo in job.items()], lang) for job in it_jobs]\n"
      ]
    },
    {
      "cell_type": "code",
      "execution_count": null,
      "metadata": {
        "id": "m0yrY0KEEW5Y"
      },
      "outputs": [],
      "source": [
        "!pip install jinja2 python-multipart"
      ]
    },
    {
      "cell_type": "code",
      "execution_count": null,
      "metadata": {
        "colab": {
          "base_uri": "https://localhost:8080/"
        },
        "id": "yjB77dbejmdB",
        "outputId": "f6877a93-2b9e-4c4e-b8e1-e5e9f18a4d62"
      },
      "outputs": [
        {
          "name": "stdout",
          "output_type": "stream",
          "text": [
            "Authtoken saved to configuration file: /root/.ngrok2/ngrok.yml\n"
          ]
        }
      ],
      "source": [
        "!ngrok authtoken 2HV7V6qaQVZB0haTh3ZDDj1d2Yf_6ybMdAJJFbDn1ziWnomBV"
      ]
    },
    {
      "cell_type": "code",
      "execution_count": null,
      "metadata": {
        "id": "coJNVwFR670D"
      },
      "outputs": [],
      "source": []
    },
    {
      "cell_type": "code",
      "execution_count": 1,
      "metadata": {
        "colab": {
          "base_uri": "https://localhost:8080/",
          "height": 373
        },
        "id": "i8DZiec9tZYr",
        "outputId": "548b1d8a-d29f-40b8-9573-66e72d5e1350"
      },
      "outputs": [
        {
          "output_type": "error",
          "ename": "ModuleNotFoundError",
          "evalue": "ignored",
          "traceback": [
            "\u001b[0;31m---------------------------------------------------------------------------\u001b[0m",
            "\u001b[0;31mModuleNotFoundError\u001b[0m                       Traceback (most recent call last)",
            "\u001b[0;32m<ipython-input-1-efbcf7231963>\u001b[0m in \u001b[0;36m<module>\u001b[0;34m\u001b[0m\n\u001b[0;32m----> 1\u001b[0;31m \u001b[0;32mimport\u001b[0m \u001b[0mnest_asyncio\u001b[0m\u001b[0;34m\u001b[0m\u001b[0;34m\u001b[0m\u001b[0m\n\u001b[0m\u001b[1;32m      2\u001b[0m \u001b[0;32mfrom\u001b[0m \u001b[0mpyngrok\u001b[0m \u001b[0;32mimport\u001b[0m \u001b[0mngrok\u001b[0m\u001b[0;34m\u001b[0m\u001b[0;34m\u001b[0m\u001b[0m\n\u001b[1;32m      3\u001b[0m \u001b[0;32mimport\u001b[0m \u001b[0muvicorn\u001b[0m\u001b[0;34m\u001b[0m\u001b[0;34m\u001b[0m\u001b[0m\n\u001b[1;32m      4\u001b[0m \u001b[0;34m\u001b[0m\u001b[0m\n\u001b[1;32m      5\u001b[0m \u001b[0mngrok_tunnel\u001b[0m \u001b[0;34m=\u001b[0m \u001b[0mngrok\u001b[0m\u001b[0;34m.\u001b[0m\u001b[0mconnect\u001b[0m\u001b[0;34m(\u001b[0m\u001b[0;36m4994\u001b[0m\u001b[0;34m)\u001b[0m\u001b[0;34m\u001b[0m\u001b[0;34m\u001b[0m\u001b[0m\n",
            "\u001b[0;31mModuleNotFoundError\u001b[0m: No module named 'nest_asyncio'",
            "",
            "\u001b[0;31m---------------------------------------------------------------------------\u001b[0;32m\nNOTE: If your import is failing due to a missing package, you can\nmanually install dependencies using either !pip or !apt.\n\nTo view examples of installing some common dependencies, click the\n\"Open Examples\" button below.\n\u001b[0;31m---------------------------------------------------------------------------\u001b[0m\n"
          ],
          "errorDetails": {
            "actions": [
              {
                "action": "open_url",
                "actionText": "Open Examples",
                "url": "/notebooks/snippets/importing_libraries.ipynb"
              }
            ]
          }
        }
      ],
      "source": [
        "import nest_asyncio\n",
        "from pyngrok import ngrok\n",
        "import uvicorn\n",
        "\n",
        "ngrok_tunnel = ngrok.connect(4994)\n",
        "print(\"started...\")\n",
        "print(\"url ===>:\", ngrok_tunnel.public_url)\n",
        "url = ngrok_tunnel.public_url\n",
        "\n",
        "nest_asyncio.apply()\n",
        "uvicorn.run(app, port=4994)"
      ]
    },
    {
      "cell_type": "code",
      "execution_count": null,
      "metadata": {
        "id": "FmdBqGdbvNzJ"
      },
      "outputs": [],
      "source": [
        "# !pkill ngrok"
      ]
    }
  ],
  "metadata": {
    "accelerator": "GPU",
    "colab": {
      "provenance": [],
      "include_colab_link": true
    },
    "gpuClass": "standard",
    "kernelspec": {
      "display_name": "Python 3",
      "name": "python3"
    },
    "language_info": {
      "name": "python"
    }
  },
  "nbformat": 4,
  "nbformat_minor": 0
}