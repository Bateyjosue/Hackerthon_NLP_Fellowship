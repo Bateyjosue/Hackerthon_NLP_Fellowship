{
  "cells": [
    {
      "cell_type": "markdown",
      "metadata": {
        "id": "view-in-github",
        "colab_type": "text"
      },
      "source": [
        "<a href=\"https://colab.research.google.com/github/Bateyjosue/Hackerthon_NLP_Fellowship/blob/main/Copy_of_Josue_Batey_Hackathon_File.ipynb\" target=\"_parent\"><img src=\"https://colab.research.google.com/assets/colab-badge.svg\" alt=\"Open In Colab\"/></a>"
      ]
    },
    {
      "cell_type": "markdown",
      "metadata": {
        "id": "hkosleLFX-bB"
      },
      "source": [
        "1. Write a program which takes array of urls for job-posting websites in Rwanda\n",
        "   * https://www.jobinrwanda.com/  (Job Adverts)\n",
        "   * https://www.umucyo.gov.rw  ( Tenders)\n",
        "2. Web-scrap the content and put them in a pandas data-frame(i.e: the best structured dataframe wins ofcourse!)\n",
        "3. Use regular expression and key-words to retrieve IT/Software related job/consultancy opportunities(Tenders).\n",
        "4. Use EasyNMT to display the results in 50+ languages using wrapped state of art models\n",
        "   * Practical Example for EasyNMT use:\n",
        "     https://colab.research.google.com/drive/1X47vgSiOphpxS5w_LPtjQgJmiSTNfRNC?usp=sharing\n",
        "5. Hosting of our work example in colab\n",
        "   * https://colab.research.google.com/drive/1kAh_Vt1ipA5-BuoaPX39rCIHFrhpcRpW?usp=sharing"
      ]
    },
    {
      "cell_type": "markdown",
      "metadata": {
        "id": "4ZlgOfl7WjCF"
      },
      "source": [
        "## Import Packages"
      ]
    },
    {
      "cell_type": "code",
      "execution_count": 2,
      "metadata": {
        "id": "kUZyDEkfVd1f"
      },
      "outputs": [],
      "source": [
        "import requests\n",
        "from bs4 import BeautifulSoup"
      ]
    },
    {
      "cell_type": "markdown",
      "metadata": {
        "id": "keBPCVlMWc4T"
      },
      "source": [
        "## Class For Scrapping"
      ]
    },
    {
      "cell_type": "code",
      "execution_count": 3,
      "metadata": {
        "id": "TKVodOxFWbfr"
      },
      "outputs": [],
      "source": [
        "class Web_Scrap:\n",
        "  def __init__(self, link):\n",
        "    self.url = link\n",
        "  \n",
        "  def get_content(self):\n",
        "    content = requests.get(url = self.url).content\n",
        "    content = BeautifulSoup(content, 'lxml')\n",
        "    return content\n",
        "  \n",
        "  def get_content_class(self, class_, tag = None):\n",
        "    content = self.get_content()\n",
        "    content = content.find_all(class_= class_) if tag == None else content.find_all(tag, class_= class_)\n",
        "    return content"
      ]
    },
    {
      "cell_type": "markdown",
      "metadata": {
        "id": "ETovZOQAWo7-"
      },
      "source": [
        "# Scrap `job in rwanda` and `umucyo`"
      ]
    },
    {
      "cell_type": "markdown",
      "metadata": {
        "id": "wVeG6ty1s3Xk"
      },
      "source": [
        "# Challenges #1"
      ]
    },
    {
      "cell_type": "markdown",
      "metadata": {
        "id": "cNkA1QKAXEXQ"
      },
      "source": [
        "\n",
        "\n",
        "1.   Get `Jobs and Consultacies links` for `job in rwanda`\n",
        "\n",
        "\n"
      ]
    },
    {
      "cell_type": "markdown",
      "metadata": {
        "id": "22eEA6KKdsCT"
      },
      "source": [
        "##Links of Jobs"
      ]
    },
    {
      "cell_type": "code",
      "execution_count": 4,
      "metadata": {
        "id": "0uBY0KBxd7-y"
      },
      "outputs": [],
      "source": [
        "scrap_jobs =  Web_Scrap('https://www.jobinrwanda.com/')"
      ]
    },
    {
      "cell_type": "code",
      "execution_count": 5,
      "metadata": {
        "id": "kPeYXIYaXcN7"
      },
      "outputs": [],
      "source": [
        "jobs_content = scrap_jobs.get_content()\n",
        "jobs_links = []\n",
        "links = scrap_jobs.get_content_class('card-title', 'h5')\n",
        "for li in links:\n",
        "  jobs_links.append('https://www.jobinrwanda.com' + li.parent['href'])\n"
      ]
    },
    {
      "cell_type": "code",
      "source": [
        "!ls */**\n"
      ],
      "metadata": {
        "id": "Wdh6cpatI0lT",
        "outputId": "4fbdf0e5-8035-4eab-a81b-9bff778af3b6",
        "colab": {
          "base_uri": "https://localhost:8080/"
        }
      },
      "execution_count": 14,
      "outputs": [
        {
          "output_type": "stream",
          "name": "stdout",
          "text": [
            "sample_data/anscombe.json\t\t  sample_data/mnist_test.csv\n",
            "sample_data/california_housing_test.csv   sample_data/mnist_train_small.csv\n",
            "sample_data/california_housing_train.csv  sample_data/README.md\n"
          ]
        }
      ]
    },
    {
      "cell_type": "code",
      "execution_count": 10,
      "metadata": {
        "colab": {
          "base_uri": "https://localhost:8080/"
        },
        "id": "sPD2sen3UkUP",
        "outputId": "ef849c60-5ee8-4cc9-cabc-619e708c1c89"
      },
      "outputs": [
        {
          "output_type": "stream",
          "name": "stdout",
          "text": [
            "['https://www.jobinrwanda.com/job/graphic-designer-1', 'https://www.jobinrwanda.com/job/call-applications-business-trainings-business-owners-aspire-entrepreneurs', 'https://www.jobinrwanda.com/job/internal-audit-manager-profile', 'https://www.jobinrwanda.com/job/production-radio-drama-series-behavior-change-favor-gender-equality-rwanda', 'https://www.jobinrwanda.com/job/hiring-firm-brd-maintenance-assessment', 'https://www.jobinrwanda.com/job/construction-du-guichet-de-byumba', 'https://www.jobinrwanda.com/job/consultant-monitoring-evaluation-0', 'https://www.jobinrwanda.com/job/account-manager-credit', 'https://www.jobinrwanda.com/job/itangazo-rya-cyamunara-ry-ikibanza-kirimo-inzu-eshatu', 'https://www.jobinrwanda.com/job/provision-air-conditioning-servicing-and-maintenance-british-high-commission-kigali', 'https://www.jobinrwanda.com/job/short-term-consultancy-develop-tailored-loan-products-health-sector-rwanda-0', 'https://www.jobinrwanda.com/job/business-development-partnership-manager', 'https://www.jobinrwanda.com/job/execution-works-construction-partitioning-full-bank-branch-interiors-facilities-batsinda-branch', 'https://www.jobinrwanda.com/job/recruitment-individual-consultant-conduct-needs-assessment-child-situation-all-four-4-sos', 'https://www.jobinrwanda.com/job/ims-senior-core-engineer', 'https://www.jobinrwanda.com/job/un-professeur-danglais-aesi-ou-aess', 'https://www.jobinrwanda.com/job/administrative-assistant-18', 'https://www.jobinrwanda.com/job/technology-consulting-trainee', 'https://www.jobinrwanda.com/job/request-quotation-food-non-food-items', 'https://www.jobinrwanda.com/job/request-quotation-supply-porridge-fortified-flour-and-porridge-non-fortified-flour', 'https://www.jobinrwanda.com/job/short-term-consultancy-revise-rwanda-dual-clinical-practice-policy-and-its-implementing', 'https://www.jobinrwanda.com/job/consultancy-services-provide-technical-assistance-ta-strengthening-data-analytics-capacity', 'https://www.jobinrwanda.com/job/consultancy-services-provide-technical-assistance-ta-strengthening-data-analytics-capacity-bank', 'https://www.jobinrwanda.com/job/regional-grants-officer-central-africa', 'https://www.jobinrwanda.com/job/call-application-training-data-analysis-using-stata-0', 'https://www.jobinrwanda.com/job/request-proposal-rfp-hire-consultancy-firm-conceptualize-investment-matchmaking-dealroom', 'https://www.jobinrwanda.com/job/consultancy-services-development-strategy-enhancing-local-capacities-tourism-business-greater', 'https://www.jobinrwanda.com/job/project-manager-15', 'https://www.jobinrwanda.com/job/monitoring-evaluation-accountability-and-learning-meal-manager', 'https://www.jobinrwanda.com/job/request-expression-interest-reoieconomic-analysis-advanced-citizen-engagement-ace-project-0', 'https://www.jobinrwanda.com/job/procurement-manager-8', 'https://www.jobinrwanda.com/job/expression-interest-eoi-various-constructionbuildingsupply-install-works-rwanda-institute', 'https://www.jobinrwanda.com/job/marketing-manager-3', 'https://www.jobinrwanda.com/job/terms-reference-consultancy-services-evaluation-gender-mainstreaming-conservation-greater', 'https://www.jobinrwanda.com/index.php/job/senior-project-assistant-lhd', 'https://www.jobinrwanda.com/job/water-supply-system-rehabilitation-reinforcement-and-extension-nyakagera-kaninga-gahama-334km', 'https://www.jobinrwanda.com/job/legal-manager', 'https://www.jobinrwanda.com/job/development-debit-card-bridge-api', 'https://www.jobinrwanda.com/job/itangazo-rya-cyamunara-yimodoka', 'https://www.jobinrwanda.com/job/expression-interest-eoi-new-constructionbuilding-works-rwanda-institute-conservation', 'https://www.jobinrwanda.com/job/expression-interest-eoi-event-management-pharma-conference-kigali-rwanda', 'https://www.jobinrwanda.com/job/supply-ict-equipment', 'https://www.jobinrwanda.com/job/supply-laptop-computers', 'https://www.jobinrwanda.com/job/district-coordinatorjunior-district-manager', 'https://www.jobinrwanda.com/job/recruitment-consultancy-firm-provide-certified-aws-restart-program-instructors', 'https://www.jobinrwanda.com/job/consultancy-services-service-provider-digitizing-saving-groups-world-vision-rwanda', 'https://www.jobinrwanda.com/job/provision-transport-services-bsc-1-year-framework-contract-0', 'https://www.jobinrwanda.com/job/supply-batteries-0', 'https://www.jobinrwanda.com/job/supply-and-installation-lan-equipment-bsc-plc-under-framework-contract-0', 'https://www.jobinrwanda.com/job/driver-16', 'https://www.jobinrwanda.com/job/procurement-and-logistics-officer', 'https://www.jobinrwanda.com/job/request-quotation-rfq-provision-general-insurance-services-handicap-international-federation', 'https://www.jobinrwanda.com/job/short-term-national-expert-deliver-training-session-security-health-and-environment-tvet', 'https://www.jobinrwanda.com/job/un-dispensary-physician-health-manager-head-service-noc-level', 'https://www.jobinrwanda.com/job/implementation-electronic-health-records-management-system', 'https://www.jobinrwanda.com/job/product-manager-1', 'https://www.jobinrwanda.com/job/aftercare-vehicle-maintenance-manager', 'https://www.jobinrwanda.com/job/finance-officer-9', 'https://www.jobinrwanda.com/job/communications-officer-8', 'https://www.jobinrwanda.com/job/request-quotation-jhpiego-staff-medical-insurance', 'https://www.jobinrwanda.com/job/consultant-services-conduct-impact-assessment-project-expanding-safe-spaces-rwandan-girls-and', 'https://www.jobinrwanda.com/job/supply-and-installation-ophthalmology-equipment', 'https://www.jobinrwanda.com/job/labor-mobility-and-human-development-intern', 'https://www.jobinrwanda.com/job/lecturer-communication-and-writing', 'https://www.jobinrwanda.com/job/research-associate-ra-0', 'https://www.jobinrwanda.com/job/office-assistant-0', 'https://www.jobinrwanda.com/job/tor-recruitment-biostatistician-consultant', 'https://www.jobinrwanda.com/job/communications-internship-0', 'https://www.jobinrwanda.com/job/description-tender-ref-number-submission-fees-supply-and-installation-smoke-detectors-copedu', 'https://www.jobinrwanda.com/job/tender-supply-office-stationeries', 'https://www.jobinrwanda.com/job/tender-supply-office-consumables', 'https://www.jobinrwanda.com/job/head-field-officehuye', 'https://www.jobinrwanda.com/job/change-name-send-cow-ripple-effect', 'https://www.jobinrwanda.com/job/human-resources-assistant-0', 'https://www.jobinrwanda.com/job/rwanda-impact-specialist', 'https://www.jobinrwanda.com/job/operations-support-manager-africa', 'https://www.jobinrwanda.com/job/accounting-supervisor', 'https://www.jobinrwanda.com/job/accounting-manager-1', 'https://www.jobinrwanda.com/job/global-client-data-analytics-consultant', 'https://www.jobinrwanda.com/job/business-development-officer', 'https://www.jobinrwanda.com/job/purchase-and-supply-home-based-ecd-equipment-and-materials-bwira-area-program-bwira-sector', 'https://www.jobinrwanda.com/job/purchase-supply-and-distribute-3000-chicken-sasso-18kg-2kg-aged-4-months-fh-participants-mwendo', 'https://www.jobinrwanda.com/job/creation-progressive-terraces-bwira-area-program-communities-bwira-sector-ngororero-district', 'https://www.jobinrwanda.com/job/construction-two-playgrounds-one-gs-mukama-and-one-ps-nyarurema-community-gatunda-area-program', 'https://www.jobinrwanda.com/job/construction-modern-ecd-3-rooms-kitchen-and-office-nyarurema-community-gatunda-area-program', 'https://www.jobinrwanda.com/job/construction-bloc-four-classrooms-and-1-bloc-6-door-latrines-kavumu-community-kavumu-primary', 'https://www.jobinrwanda.com/job/construction-1-combined-playground-basketball-and-volleyball-gs-butare-butare-community', 'https://www.jobinrwanda.com/job/construction-2-ecd-classrooms-kabuye-primary-school-kabacuzi-area-program-kabacuzi-sector', 'https://www.jobinrwanda.com/job/construction-minimarket-gafunzo-community-mwendo-area-program-mwendo-sector-ruhango-district', 'https://www.jobinrwanda.com/job/construction-maternity-ward-gishweru-health-center-mwendo-area-program-mwendo-sector-ruhango', 'https://www.jobinrwanda.com/job/construction-maternity-ward-nyagihamba-health-center-nyarubaka-area-program-nyarubaka-sector', 'https://www.jobinrwanda.com/job/rehabilitation-extension-water-pipeline-kigusa-and-nyagishubi-communities-nyarubaka-area', 'https://www.jobinrwanda.com/job/request-quotation-rfq-hiring-vehicles-handicap-international-federation-rwanda', 'https://www.jobinrwanda.com/job/quotation-request-supermicro-superserver-4029gp-trt3-rwanda', 'https://www.jobinrwanda.com/job/expression-interest-eoi-consultancy-services-providing-management-skills-advisory-least-15-0', 'https://www.jobinrwanda.com/job/establishment-framework-contract-supply-and-delivery-conical-long-lasting-insecticidal-treated', 'https://www.jobinrwanda.com/index.php/job/supply-and-installation-medical-equipments-and-instruments-chus', 'https://www.jobinrwanda.com/job/request-consultancy-service-organize-ayute-rwanda-challenge', 'https://www.jobinrwanda.com/job/terms-reference-tor-recruitment-national-short-term-consultant-deliver-trainings-compost-making', 'https://www.jobinrwanda.com/job/global-head-corporate-communications', 'https://www.jobinrwanda.com/job/public-relations-officer', 'https://www.jobinrwanda.com/job/request-quotation-consultationmeasurementssupplyfabricationprovision-orthopedic-devices', 'https://www.jobinrwanda.com/job/request-quotation-provision-accommodation-and-event-services', 'https://www.jobinrwanda.com/job/request-quotation-supply-office-stationaries-0', 'https://www.jobinrwanda.com/job/grants-manager-2', 'https://www.jobinrwanda.com/job/hvac-lead-technician', 'https://www.jobinrwanda.com/job/maintenance-mechanic-appliance-repair-0', 'https://www.jobinrwanda.com/job/call-expression-interest-eoi-source-consultant-s-or-firm-develop-training-manualaid-post', 'https://www.jobinrwanda.com/job/call-expression-interest-eoi-source-consultant-s-or-firm-develop-training-manualaid-leadership', 'https://www.jobinrwanda.com/job/call-expression-interest-eoi-source-consultant-s-or-firm-develop-training-manualaid-good', 'https://www.jobinrwanda.com/job/call-expression-interest-eoi-source-consultant-s-or-firm-develop-training-manualaid-financial', 'https://www.jobinrwanda.com/job/purchase-and-supply-supplementary-books-community-libraries-nyagihanga-area-program-nyagihanga', 'https://www.jobinrwanda.com/job/purchase-supply-and-distribute-agricultural-tools-and-inputs', 'https://www.jobinrwanda.com/job/supply-and-distribute-6193-sasso-layer-chicken-having-least-4-5-month-18kg-2kgs-each', 'https://www.jobinrwanda.com/job/purchase-and-supply-333-female-goats-local-race-ready-produce-least-25kg-28kgs-each-fh-rwanda', 'https://www.jobinrwanda.com/job/purchase-and-supply-children-christmas-celebration-items', 'https://www.jobinrwanda.com/job/providing-christmas-gifts-groceries-nyarubaka-mwendo-and-kabacuzi-fh-staff', 'https://www.jobinrwanda.com/job/providing-christmas-gifts-groceries-gatunda-fh-staff', 'https://www.jobinrwanda.com/job/providing-christmas-gifts-groceries-nyagihanga-fh-staff-located-nyagihanga-sector-gatsibo', 'https://www.jobinrwanda.com/job/providing-christmas-gifts-groceries-kigali-fh-staff', 'https://www.jobinrwanda.com/job/camp-administrator', 'https://www.jobinrwanda.com/job/expression-interest-eoi-one-1-unit-sedan', 'https://www.jobinrwanda.com/job/rwanda-program-officer', 'https://www.jobinrwanda.com/job/sales-representative-0', 'https://www.jobinrwanda.com/job/sales-manager-5', 'https://www.jobinrwanda.com/job/aquaculture-technician', 'https://www.jobinrwanda.com/job/health-systems-strengthening-hss-manager', 'https://www.jobinrwanda.com/job/development-manager', 'https://www.jobinrwanda.com/job/terms-reference-conducting-market-landscape-and-business-case-modeling-focused-agriculture', 'https://www.jobinrwanda.com/job/retail-partnerships-lead', 'https://www.jobinrwanda.com/job/administration-finance-intern', 'https://www.jobinrwanda.com/job/loan-officers-3', 'https://www.jobinrwanda.com/job/project-manager-14', 'https://www.jobinrwanda.com/job/training-manager-0', 'https://www.jobinrwanda.com/job/it-and-mis-director', 'https://www.jobinrwanda.com/job/learning-design-specialist-rwanda', 'https://www.jobinrwanda.com/job/technical-advisor-2', 'https://www.jobinrwanda.com/job/global-remote-sensing-manager', 'https://www.jobinrwanda.com/job/global-hr-support-specialist', 'https://www.jobinrwanda.com/job/rwanda-procurement-specialist-0', 'https://www.jobinrwanda.com/job/security-officer', 'https://www.jobinrwanda.com/job/security-supervisor', 'https://www.jobinrwanda.com/job/instructional-technology-assistant', 'https://www.jobinrwanda.com/job/associate-professor-and-head-human-anatomy', 'https://www.jobinrwanda.com/job/rwanda-potato-seed-store-manager', 'https://www.jobinrwanda.com/job/agronomist-technician-g-2c', 'https://www.jobinrwanda.com/job/dental-doctors-dental-surgeon', 'https://www.jobinrwanda.com/index.php/job/garage-vehicles-maintenance-services', 'https://www.jobinrwanda.com/job/supply-plaisir-packaging-materials', 'https://www.jobinrwanda.com/job/assistant-press-department-administration-and-consular-section', 'https://www.jobinrwanda.com/job/development-mobile-banking-application-improvement-existing-web-portal-and-provision-clearing', 'https://www.jobinrwanda.com/job/rwanda-warehouse-manager', 'https://www.jobinrwanda.com/job/request-expression-interesteoi-prequalification-security-services-2023', 'https://www.jobinrwanda.com/job/request-expression-interesteoi-prequalification-car-hirining-services-2023', 'https://www.jobinrwanda.com/job/csat-officer-rwanda', 'https://www.jobinrwanda.com/job/rwanda-communications-associate', 'https://www.jobinrwanda.com/job/construction-sos-childrens-villages-rwanda-elementary-primary-nursery-school-gisozigasabo', 'https://www.jobinrwanda.com/job/framework-contract-hiring-company-provide-customs-clearance-freight-forwarding-flight-booking', 'https://www.jobinrwanda.com/job/strategic-advisor-targeted-skills-development', 'https://www.jobinrwanda.com/job/strategic-advisor-e-commerce', 'https://www.jobinrwanda.com/job/supply-and-installation-medical-equipment', 'https://www.jobinrwanda.com/job/50-sales-representatives-needed-all-city-rwanda-ltd-1', 'https://www.jobinrwanda.com/job/supply-and-delivery-laboratory-commodities-ncds-products-rms', 'https://www.jobinrwanda.com/index.php/job/rwanda-market-access-and-srf-mel-associate', 'https://www.jobinrwanda.com/job/rwanda-field-integration-coordinator', 'https://www.jobinrwanda.com/job/rwanda-electrical-hub-operator', 'https://www.jobinrwanda.com/job/rwanda-tree-lead', 'https://www.jobinrwanda.com/index.php/job/rwanda-potato-seed-venture-lead', 'https://www.jobinrwanda.com/job/it-operations-senior-manager', 'https://www.jobinrwanda.com/job/rwanda-seed-innovation-centre-lead', 'https://www.jobinrwanda.com/job/senior-business-analyst']\n"
          ]
        }
      ],
      "source": [
        "print(jobs_links)"
      ]
    },
    {
      "cell_type": "markdown",
      "metadata": {
        "id": "LedzjgUmgM1J"
      },
      "source": [
        "ℹ `jobs_links` Holds the list of all jobs links. you can check the lenght by typing `len(jobs_links)`\n"
      ]
    },
    {
      "cell_type": "markdown",
      "metadata": {
        "id": "uZEDJwAGXZro"
      },
      "source": [
        "## 2.   Get `tenders` links for `umucyo`\n",
        "\n"
      ]
    },
    {
      "cell_type": "code",
      "execution_count": 9,
      "metadata": {
        "id": "yEkVVCi12EZ5",
        "outputId": "a596aaf4-c85c-4cdc-f84d-3abfd8471fed",
        "colab": {
          "base_uri": "https://localhost:8080/",
          "height": 339
        }
      },
      "outputs": [
        {
          "output_type": "error",
          "ename": "AttributeError",
          "evalue": "ignored",
          "traceback": [
            "\u001b[0;31m---------------------------------------------------------------------------\u001b[0m",
            "\u001b[0;31mAttributeError\u001b[0m                            Traceback (most recent call last)",
            "\u001b[0;32m<ipython-input-9-b4b99de4e0cf>\u001b[0m in \u001b[0;36m<module>\u001b[0;34m\u001b[0m\n\u001b[1;32m      2\u001b[0m \u001b[0mtender_table\u001b[0m \u001b[0;34m=\u001b[0m \u001b[0mscrap_tender\u001b[0m\u001b[0;34m.\u001b[0m\u001b[0mget_content_class\u001b[0m\u001b[0;34m(\u001b[0m\u001b[0;34m'article_table mb10'\u001b[0m\u001b[0;34m)\u001b[0m\u001b[0;34m\u001b[0m\u001b[0;34m\u001b[0m\u001b[0m\n\u001b[1;32m      3\u001b[0m \u001b[0;34m\u001b[0m\u001b[0m\n\u001b[0;32m----> 4\u001b[0;31m \u001b[0mtr\u001b[0m \u001b[0;34m=\u001b[0m \u001b[0mtender_table\u001b[0m\u001b[0;34m.\u001b[0m\u001b[0mfind_all\u001b[0m\u001b[0;34m(\u001b[0m\u001b[0;34m'tr'\u001b[0m\u001b[0;34m)\u001b[0m\u001b[0;34m\u001b[0m\u001b[0;34m\u001b[0m\u001b[0m\n\u001b[0m\u001b[1;32m      5\u001b[0m \u001b[0mlen\u001b[0m\u001b[0;34m(\u001b[0m\u001b[0mtr\u001b[0m\u001b[0;34m)\u001b[0m\u001b[0;34m\u001b[0m\u001b[0;34m\u001b[0m\u001b[0m\n\u001b[1;32m      6\u001b[0m \u001b[0;34m\u001b[0m\u001b[0m\n",
            "\u001b[0;32m/usr/local/lib/python3.7/dist-packages/bs4/element.py\u001b[0m in \u001b[0;36m__getattr__\u001b[0;34m(self, key)\u001b[0m\n\u001b[1;32m   1882\u001b[0m     \u001b[0;32mdef\u001b[0m \u001b[0m__getattr__\u001b[0m\u001b[0;34m(\u001b[0m\u001b[0mself\u001b[0m\u001b[0;34m,\u001b[0m \u001b[0mkey\u001b[0m\u001b[0;34m)\u001b[0m\u001b[0;34m:\u001b[0m\u001b[0;34m\u001b[0m\u001b[0;34m\u001b[0m\u001b[0m\n\u001b[1;32m   1883\u001b[0m         raise AttributeError(\n\u001b[0;32m-> 1884\u001b[0;31m             \u001b[0;34m\"ResultSet object has no attribute '%s'. You're probably treating a list of items like a single item. Did you call find_all() when you meant to call find()?\"\u001b[0m \u001b[0;34m%\u001b[0m \u001b[0mkey\u001b[0m\u001b[0;34m\u001b[0m\u001b[0;34m\u001b[0m\u001b[0m\n\u001b[0m\u001b[1;32m   1885\u001b[0m         )\n",
            "\u001b[0;31mAttributeError\u001b[0m: ResultSet object has no attribute 'find_all'. You're probably treating a list of items like a single item. Did you call find_all() when you meant to call find()?"
          ]
        }
      ],
      "source": [
        "scrap_tender = Web_Scrap('https://www.umucyo.gov.rw/eb/bav/selectListAdvertisingListForGU.do')\n",
        "tender_table = scrap_tender.get_content_class('article_table mb10')\n",
        "\n",
        "tr = tender_table.find_all('tr')\n",
        "len(tr)\n",
        "\n",
        "print(tr) \n",
        "\n",
        "print(len(tr))"
      ]
    },
    {
      "cell_type": "code",
      "execution_count": null,
      "metadata": {
        "id": "GmrVh1WOXxId"
      },
      "outputs": [],
      "source": [
        "tenders_links = []"
      ]
    },
    {
      "cell_type": "markdown",
      "metadata": {
        "id": "BRLfBAtssRda"
      },
      "source": [
        "3. combined links for both `job in rwand` and `umucyo`\n"
      ]
    },
    {
      "cell_type": "code",
      "execution_count": null,
      "metadata": {
        "id": "wSjzpg3Asheq"
      },
      "outputs": [],
      "source": [
        "combined_links = []"
      ]
    },
    {
      "cell_type": "markdown",
      "metadata": {
        "id": "Pk1-s8h6tZSI"
      },
      "source": [
        "#Challenge #2"
      ]
    },
    {
      "cell_type": "markdown",
      "metadata": {
        "id": "4rzsqPCxuSu6"
      },
      "source": [
        "## 1. Get Content per Link by Web scrapping"
      ]
    },
    {
      "cell_type": "code",
      "execution_count": null,
      "metadata": {
        "id": "vyd10bdMtFmL"
      },
      "outputs": [],
      "source": [
        "# Help Funtions\n",
        "def remove_space_list(arr):\n",
        "  joined = []\n",
        "  for el in arr:\n",
        "    if el.strip:\n",
        "      joined.append(el.strip())\n",
        "  return joined\n",
        "\n",
        "def clean_data(strs):\n",
        "  import re\n",
        "  text = re.sub('\\W', ' ', strs)\n",
        "\n",
        "  return text.strip()"
      ]
    },
    {
      "cell_type": "markdown",
      "metadata": {
        "id": "84gX7XOHuiHK"
      },
      "source": [
        "## 2. Save Content in a DataFrame"
      ]
    },
    {
      "cell_type": "code",
      "execution_count": null,
      "metadata": {
        "id": "77ZiF0yruhVa"
      },
      "outputs": [],
      "source": [
        "import random\n",
        "import pandas as pd\n",
        "frames = pd.DataFrame()\n",
        "def data(link):\n",
        "  dict_summary = {}\n",
        "  scrap = Web_Scrap(link)\n",
        "  main = scrap.get_content().body.main\n",
        "  sent  = [sent for sent in main.get_text().split('\\n') if sent.strip()]\n",
        "  aside = scrap.get_content().body\n",
        "  aside = aside.select_one('div#block-jobsummaryblock')\n",
        "  for a in aside.select('ul.list-group.list-group-flush > li > b'):\n",
        "    val = a.next_sibling.strip().split(',')\n",
        "    dict_summary[clean_data(a.get_text().strip())] = ' '.join(remove_space_list(val)) if len(val) <= 2 else ', '.join(remove_space_list(val))\n",
        "  return dict_summary\n",
        "\n",
        "dicts = []\n",
        "for job in jobs_links:\n",
        "  dicts.append(data(job))"
      ]
    },
    {
      "cell_type": "code",
      "execution_count": null,
      "metadata": {
        "id": "_8cgfdWZz3NA"
      },
      "outputs": [],
      "source": [
        "col = dicts[0].keys()\n",
        "values = []\n",
        "for d in dicts:\n",
        "  values.append(d.values())\n",
        "index = [i for i, v in enumerate(values)]\n",
        "\n",
        "f = pd.DataFrame([value if value else 'Not Specified' for value in values ], columns=col)\n",
        "f"
      ]
    },
    {
      "cell_type": "markdown",
      "metadata": {
        "id": "R8o1jacFjl3n"
      },
      "source": [
        "## Remove Unclear Rows to make the df readable ✅"
      ]
    },
    {
      "cell_type": "code",
      "execution_count": null,
      "metadata": {
        "id": "jaMiwLZuDqcp"
      },
      "outputs": [],
      "source": [
        "def get_job_info(link):\n",
        "  scrap = Web_Scrap(link)\n",
        "  cont= scrap.get_content().select(\"div.card-body.p-2\")\n",
        "  return [[clean_data(i) for i in con.get_text().strip().split('\\n') if i.strip()] for con in cont]\n",
        "\n",
        "data = get_job_info('https://www.jobinrwanda.com/')\n",
        "\n",
        "new_col = ['Job Title', 'Company','Published Date','Deadline','Desired experience','Job Category']\n",
        "index = [i for i, v in enumerate(data)]\n",
        "df = pd.DataFrame(data, index=index, columns=new_col)\n",
        "df.pop('Deadline')\n",
        "df.pop('Desired experience')\n",
        "f.dropna(\n",
        "    axis=0,\n",
        "    how='any',\n",
        "    thresh=None,\n",
        "    subset=None,\n",
        "    inplace=True\n",
        ")"
      ]
    },
    {
      "cell_type": "markdown",
      "metadata": {
        "id": "CpEkGoIqkRnm"
      },
      "source": [
        "## Concat the dataframe to get the one with all needed data"
      ]
    },
    {
      "cell_type": "code",
      "execution_count": null,
      "metadata": {
        "id": "N-reLQs3kQVS"
      },
      "outputs": [],
      "source": [
        "frame = pd.concat([df, f], axis='columns')\n",
        "frame.dropna(\n",
        "    axis=0,\n",
        "    how='any',\n",
        "    thresh=None,\n",
        "    subset=None,\n",
        "    inplace=True\n",
        ")\n",
        "frame = frame.reset_index(drop=True)\n",
        "\n",
        "frame"
      ]
    },
    {
      "cell_type": "markdown",
      "metadata": {
        "id": "gOQoZzybusQk"
      },
      "source": [
        "## Save Data to CSV File"
      ]
    },
    {
      "cell_type": "code",
      "execution_count": null,
      "metadata": {
        "id": "ovq6iz70urCX"
      },
      "outputs": [],
      "source": [
        "with open('jobs.csv', 'w+') as jobs_data:\n",
        "  frame.to_csv(jobs_data)"
      ]
    },
    {
      "cell_type": "markdown",
      "metadata": {
        "id": "NQDzPNm6utEH"
      },
      "source": [
        "# Challenge #3"
      ]
    },
    {
      "cell_type": "markdown",
      "metadata": {
        "id": "5Kkk_ZUnuw0N"
      },
      "source": [
        "## Get ***IT/Software*** Opportunities using `Regex`\n",
        "\n",
        "\n"
      ]
    },
    {
      "cell_type": "code",
      "execution_count": null,
      "metadata": {
        "id": "cWI1lJldnuAj"
      },
      "outputs": [],
      "source": [
        "fr = df.filter(regex=\".*Sector.*\")\n",
        "regex = r'Computer and IT'\n",
        "it_df = frame[frame.Sector.str.match(regex)]\n",
        "\n",
        "it_df"
      ]
    },
    {
      "cell_type": "code",
      "execution_count": null,
      "metadata": {
        "id": "9rOoKiQMm-CM"
      },
      "outputs": [],
      "source": [
        "it_jobs = [dic for dic in dicts if 'Computer and IT' in dic['Sector'].split(',') ]\n",
        "\n",
        "for i,v in enumerate(it_jobs[0].items()):\n",
        "  print(f'{i} ===>{\": \".join(v)}')\n"
      ]
    },
    {
      "cell_type": "code",
      "execution_count": null,
      "metadata": {
        "id": "pxdTrqyc5xnP"
      },
      "outputs": [],
      "source": [
        "dicts"
      ]
    },
    {
      "cell_type": "code",
      "execution_count": null,
      "metadata": {
        "id": "Wl6AVbm4pxKt"
      },
      "outputs": [],
      "source": [
        "import json\n",
        "\n",
        "result = it_df.to_json(orient='split')\n",
        "result = json.loads(result)\n",
        "# result = json.dumps(result, indent=4)\n",
        "\n",
        "print(result[\"data\"])"
      ]
    },
    {
      "cell_type": "code",
      "source": [
        "[translate_text([': '.join(jo) for jo in job.items()], lang) for job in it_jobs]"
      ],
      "metadata": {
        "id": "zeXHxxgGk155"
      },
      "execution_count": null,
      "outputs": []
    },
    {
      "cell_type": "markdown",
      "metadata": {
        "id": "Xh54vZiirQEQ"
      },
      "source": [
        "## Translate IT Jobs"
      ]
    },
    {
      "cell_type": "code",
      "execution_count": null,
      "metadata": {
        "id": "IgZr3C_-tGSF"
      },
      "outputs": [],
      "source": [
        "!pip install -U easynmt"
      ]
    },
    {
      "cell_type": "code",
      "execution_count": null,
      "metadata": {
        "id": "ACRvsKmjulL7"
      },
      "outputs": [],
      "source": [
        "from easynmt import EasyNMT\n",
        "\n",
        "# model = EasyNMT('m2m_100_418M')\n",
        "model = EasyNMT('opus-mt')\n",
        "\n",
        "def translate(txt, lang):\n",
        "  tran = model.translate(txt,source_lang='en', target_lang=lang)\n",
        "  return tran\n"
      ]
    },
    {
      "cell_type": "code",
      "source": [
        "# [translate([': '.join(jo) for jo in job.items()], 'rw') for job in it_jobs]"
      ],
      "metadata": {
        "id": "wiK-eVr_k4_D"
      },
      "execution_count": null,
      "outputs": []
    },
    {
      "cell_type": "code",
      "execution_count": null,
      "metadata": {
        "id": "Gt-i-DaZq05Y"
      },
      "outputs": [],
      "source": [
        "[translate([': '.join(jo) for jo in job.items()], 'rw') for job in it_jobs]"
      ]
    },
    {
      "cell_type": "markdown",
      "metadata": {
        "id": "GTJxdk_wvPg_"
      },
      "source": [
        "# Challenge #4"
      ]
    },
    {
      "cell_type": "markdown",
      "metadata": {
        "id": "PhfzgnNPvqKY"
      },
      "source": [
        "# Challenge #5"
      ]
    },
    {
      "cell_type": "markdown",
      "metadata": {
        "id": "_cElg0CmvsNp"
      },
      "source": [
        "## Host the API for the data in colab"
      ]
    },
    {
      "cell_type": "code",
      "execution_count": null,
      "metadata": {
        "id": "wrvsiV3b5ucg"
      },
      "outputs": [],
      "source": [
        "!ls"
      ]
    },
    {
      "cell_type": "code",
      "execution_count": null,
      "metadata": {
        "id": "sXuWnsn1vz--"
      },
      "outputs": [],
      "source": [
        "!pip install fastapi pyngrok uvicorn nest-asyncio\n",
        "\n",
        "!pip install -U easynmt"
      ]
    },
    {
      "cell_type": "code",
      "execution_count": null,
      "metadata": {
        "id": "POUDRKB3JkyU"
      },
      "outputs": [],
      "source": [
        "import os\n",
        "!mkdir fastapi_app/\n",
        "os.chdir('fastapi_app')\n",
        "!mkdir templates/\n",
        "!mkdir static/"
      ]
    },
    {
      "cell_type": "code",
      "execution_count": null,
      "metadata": {
        "id": "LgvffLMoIPDV"
      },
      "outputs": [],
      "source": [
        "%%writefile static/index.css\n",
        "@import url(//fonts.googleapis.com/css?family=Lato:300:400);\n",
        "\n",
        "body {\n",
        "  margin:0;\n",
        "}\n",
        "\n",
        "h1 {\n",
        "  font-family: 'Lato', sans-serif;\n",
        "  font-weight:300;\n",
        "  letter-spacing: 2px;\n",
        "  font-size:48px;\n",
        "}\n",
        "p {\n",
        "  font-family: 'Lato', sans-serif;\n",
        "  letter-spacing: 1px;\n",
        "  font-size:14px;\n",
        "  color: #333333;\n",
        "}\n",
        "\n",
        ".header {\n",
        "  position:relative;\n",
        "  text-align:center;\n",
        "  background: linear-gradient(60deg, rgba(84,58,183,1) 0%, rgba(0,172,193,1) 100%);\n",
        "  color:white;\n",
        "}\n",
        ".logo {\n",
        "  width:50px;\n",
        "  fill:white;\n",
        "  padding-right:15px;\n",
        "  display:inline-block;\n",
        "  vertical-align: middle;\n",
        "}\n",
        "\n",
        ".inner-header {\n",
        "  height:65vh;\n",
        "  width:100%;\n",
        "  margin: 0;\n",
        "  padding: 0;\n",
        "}\n",
        "\n",
        ".flex { /*Flexbox for containers*/\n",
        "  display: flex;\n",
        "  justify-content: center;\n",
        "  align-items: center;\n",
        "  text-align: center;\n",
        "}\n",
        "\n",
        ".waves {\n",
        "  position:relative;\n",
        "  width: 100%;\n",
        "  height:15vh;\n",
        "  margin-bottom:-7px; /*Fix for safari gap*/\n",
        "  min-height:100px;\n",
        "  max-height:150px;\n",
        "}\n",
        "\n",
        ".content {\n",
        "  position:relative;\n",
        "  height:20vh;\n",
        "  text-align:center;\n",
        "  background-color: white;\n",
        "}\n",
        "\n",
        "/* Animation */\n",
        "\n",
        ".parallax > use {\n",
        "  animation: move-forever 25s cubic-bezier(.55,.5,.45,.5)     infinite;\n",
        "}\n",
        ".parallax > use:nth-child(1) {\n",
        "  animation-delay: -2s;\n",
        "  animation-duration: 7s;\n",
        "}\n",
        ".parallax > use:nth-child(2) {\n",
        "  animation-delay: -3s;\n",
        "  animation-duration: 10s;\n",
        "}\n",
        ".parallax > use:nth-child(3) {\n",
        "  animation-delay: -4s;\n",
        "  animation-duration: 13s;\n",
        "}\n",
        ".parallax > use:nth-child(4) {\n",
        "  animation-delay: -5s;\n",
        "  animation-duration: 20s;\n",
        "}\n",
        "@keyframes move-forever {\n",
        "  0% {\n",
        "   transform: translate3d(-90px,0,0);\n",
        "  }\n",
        "  100% { \n",
        "    transform: translate3d(85px,0,0);\n",
        "  }\n",
        "}\n",
        "/*Shrinking for mobile*/\n",
        "@media (max-width: 768px) {\n",
        "  .waves {\n",
        "    height:40px;\n",
        "    min-height:40px;\n",
        "  }\n",
        "  .content {\n",
        "    height:30vh;\n",
        "  }\n",
        "  h1 {\n",
        "    font-size:24px;\n",
        "  }\n",
        "}"
      ]
    },
    {
      "cell_type": "code",
      "execution_count": null,
      "metadata": {
        "id": "B7aRLRd6iG7P"
      },
      "outputs": [],
      "source": [
        "!ls && pwd"
      ]
    },
    {
      "cell_type": "code",
      "execution_count": null,
      "metadata": {
        "id": "z4mRO8_3Jnen"
      },
      "outputs": [],
      "source": [
        "%%writefile templates/index.html\n",
        "<html>\n",
        "  <head>\n",
        "    <title>Hackerthon</title>\n",
        "    <link href=\"{{ url_for('static', path='/index.css') }}\" rel=\"stylesheet\">\n",
        "  </head>\n",
        "  <body>\n",
        "  <!--Hey! This is the original versionof Simple CSS Waves-->\n",
        "\n",
        "<div class=\"header\">\n",
        "\n",
        "<!--Content before waves-->\n",
        "<div class=\"inner-header flex\">\n",
        "<!--Just the logo.. Don't mind this-->\n",
        "<svg version=\"1.1\" class=\"logo\" baseProfile=\"tiny\" id=\"Layer_1\" xmlns=\"http://www.w3.org/2000/svg\"\n",
        "xmlns:xlink=\"http://www.w3.org/1999/xlink\" x=\"0px\" y=\"0px\" viewBox=\"0 0 500 500\" xml:space=\"preserve\">\n",
        "<path fill=\"#FFFFFF\" stroke=\"#000000\" stroke-width=\"10\" stroke-miterlimit=\"10\" d=\"M57,283\" />\n",
        "<g><path fill=\"#fff\"\n",
        "d=\"M250.4,0.8C112.7,0.8,1,112.4,1,250.2c0,137.7,111.7,249.4,249.4,249.4c137.7,0,249.4-111.7,249.4-249.4\n",
        "C499.8,112.4,388.1,0.8,250.4,0.8z M383.8,326.3c-62,0-101.4-14.1-117.6-46.3c-17.1-34.1-2.3-75.4,13.2-104.1\n",
        "c-22.4,3-38.4,9.2-47.8,18.3c-11.2,10.9-13.6,26.7-16.3,45c-3.1,20.8-6.6,44.4-25.3,62.4c-19.8,19.1-51.6,26.9-100.2,24.6l1.8-39.7\t\tc35.9,1.6,59.7-2.9,70.8-13.6c8.9-8.6,11.1-22.9,13.5-39.6c6.3-42,14.8-99.4,141.4-99.4h41L333,166c-12.6,16-45.4,68.2-31.2,96.2\tc9.2,18.3,41.5,25.6,91.2,24.2l1.1,39.8C390.5,326.2,387.1,326.3,383.8,326.3z\" />\n",
        "</g>\n",
        "</svg>\n",
        "<h1>Hackathon NLP Fellowship</h1>\n",
        "</div>\n",
        "<div>\n",
        "<a href=\"{{url}}/docs\">API Docs</a>\n",
        "</div>\n",
        "<!--Waves Container-->\n",
        "<div>\n",
        "<svg class=\"waves\" xmlns=\"http://www.w3.org/2000/svg\" xmlns:xlink=\"http://www.w3.org/1999/xlink\"\n",
        "viewBox=\"0 24 150 28\" preserveAspectRatio=\"none\" shape-rendering=\"auto\">\n",
        "<defs>\n",
        "<path id=\"gentle-wave\" d=\"M-160 44c30 0 58-18 88-18s 58 18 88 18 58-18 88-18 58 18 88 18 v44h-352z\" />\n",
        "</defs>\n",
        "<g class=\"parallax\">\n",
        "<use xlink:href=\"#gentle-wave\" x=\"48\" y=\"0\" fill=\"rgba(255,255,255,0.7\" />\n",
        "<use xlink:href=\"#gentle-wave\" x=\"48\" y=\"3\" fill=\"rgba(255,255,255,0.5)\" />\n",
        "<use xlink:href=\"#gentle-wave\" x=\"48\" y=\"5\" fill=\"rgba(255,255,255,0.3)\" />\n",
        "<use xlink:href=\"#gentle-wave\" x=\"48\" y=\"7\" fill=\"#fff\" />\n",
        "</g>\n",
        "</svg>\n",
        "</div>\n",
        "<!--Waves end-->\n",
        "\n",
        "</div>\n",
        "<!--Header ends-->\n",
        "\n",
        "<!--Content starts-->\n",
        "<div class=\"content flex\">\n",
        "  <p>&copy;By.Josue BATEY | All right reserved </p>\n",
        "</div>\n",
        "<!--Content ends-->\n",
        " </body>\n",
        "</html"
      ]
    },
    {
      "cell_type": "markdown",
      "metadata": {
        "id": "uVb-vr5XdnRA"
      },
      "source": [
        "## Site Variable"
      ]
    },
    {
      "cell_type": "code",
      "execution_count": null,
      "metadata": {
        "id": "XoUlg5kIdmQ4"
      },
      "outputs": [],
      "source": [
        "\n",
        "langages = {\n",
        "  'aa': 'Afar',\n",
        "  'ab': 'Abkhazian',\n",
        "  'af': 'Afrikaans',\n",
        "  'ak': 'Akan',\n",
        "  'sq': 'Albanian',\n",
        "  'am': 'Amharic',\n",
        "  'ar': 'Arabic',\n",
        "  'an': 'Aragonese',\n",
        "  'hy': 'Armenian',\n",
        "  'as': 'Assamese',\n",
        "  'av': 'Avaric',\n",
        "  'ae': 'Avestan',\n",
        "  'ay': 'Aymara',\n",
        "  'az': 'Azerbaijani',\n",
        "  'ba': 'Bashkir',\n",
        "  'bm': 'Bambara',\n",
        "  'eu': 'Basque',\n",
        "  'be': 'Belarusian',\n",
        "  'bn': 'Bengali',\n",
        "  'bh': 'Bihari languages',\n",
        "  'bi': 'Bislama',\n",
        "  'bo': 'Tibetan',\n",
        "  'bs': 'Bosnian',\n",
        "  'br': 'Breton',\n",
        "  'bg': 'Bulgarian',\n",
        "  'my': 'Burmese',\n",
        "  'ca': 'Catalan; Valencian',\n",
        "  'cs': 'Czech',\n",
        "  'ch': 'Chamorro',\n",
        "  'ce': 'Chechen',\n",
        "  'zh': 'Chinese',\n",
        "  'cu': 'Church Slavic; Old Slavonic; Church Slavonic; Old Bulgarian; Old Church Slavonic',\n",
        "  'cv': 'Chuvash',\n",
        "  'kw': 'Cornish',\n",
        "  'co': 'Corsican',\n",
        "  'cr': 'Cree',\n",
        "  'cy': 'Welsh',\n",
        "  'cs': 'Czech',\n",
        "  'da': 'Danish',\n",
        "  'de': 'German',\n",
        "  'dv': 'Divehi; Dhivehi; Maldivian',\n",
        "  'nl': 'Dutch; Flemish',\n",
        "  'dz': 'Dzongkha',\n",
        "  'el': 'Greek, Modern (1453-)',\n",
        "  'en': 'English',\n",
        "  'eo': 'Esperanto',\n",
        "  'et': 'Estonian',\n",
        "  'eu': 'Basque',\n",
        "  'ee': 'Ewe',\n",
        "  'fo': 'Faroese',\n",
        "  'fa': 'Persian',\n",
        "  'fj': 'Fijian',\n",
        "  'fi': 'Finnish',\n",
        "  'fr': 'French',\n",
        "  'fy': 'Western Frisian',\n",
        "  'ff': 'Fulah',\n",
        "  'Ga': 'Georgian',\n",
        "  'de': 'German',\n",
        "  'gd': 'Gaelic; Scottish Gaelic',\n",
        "  'ga': 'Irish',\n",
        "  'gl': 'Galician',\n",
        "  'gv': 'Manx',\n",
        "  'el': 'Greek, Modern (1453-)',\n",
        "  'gn': 'Guarani',\n",
        "  'gu': 'Gujarati',\n",
        "  'ht': 'Haitian; Haitian Creole',\n",
        "  'ha': 'Hausa',\n",
        "  'he': 'Hebrew',\n",
        "  'hz': 'Herero',\n",
        "  'hi': 'Hindi',\n",
        "  'ho': 'Hiri Motu',\n",
        "  'hr': 'Croatian',\n",
        "  'hu': 'Hungarian',\n",
        "  'hy': 'Armenian',\n",
        "  'ig': 'Igbo',\n",
        "  'is': 'Icelandic',\n",
        "  'io': 'Ido',\n",
        "  'ii': 'Sichuan Yi; Nuosu',\n",
        "  'iu': 'Inuktitut',\n",
        "  'ie': 'Interlingue; Occidental',\n",
        "  'ia': 'Interlingua (International Auxiliary Language Association)',\n",
        "  'id': 'Indonesian',\n",
        "  'ik': 'Inupiaq',\n",
        "  'is': 'Icelandic',\n",
        "  'it': 'Italian',\n",
        "  'jv': 'Javanese',\n",
        "  'ja': 'Japanese',\n",
        "  'kl': 'Kalaallisut; Greenlandic',\n",
        "  'kn': 'Kannada',\n",
        "  'ks': 'Kashmiri',\n",
        "  'ka': 'Georgian',\n",
        "  'kr': 'Kanuri',\n",
        "  'kk': 'Kazakh',\n",
        "  'km': 'Central Khmer',\n",
        "  'ki': 'Kikuyu; Gikuyu',\n",
        "  'rw': 'Kinyarwanda',\n",
        "  'ky': 'Kirghiz; Kyrgyz',\n",
        "  'kv': 'Komi',\n",
        "  'kg': 'Kongo',\n",
        "  'ko': 'Korean',\n",
        "  'kj': 'Kuanyama; Kwanyama',\n",
        "  'ku': 'Kurdish',\n",
        "  'lo': 'Lao',\n",
        "  'la': 'Latin',\n",
        "  'lv': 'Latvian',\n",
        "  'li': 'Limburgan; Limburger; Limburgish',\n",
        "  'ln': 'Lingala',\n",
        "  'lt': 'Lithuanian',\n",
        "  'lb': 'Luxembourgish; Letzeburgesch',\n",
        "  'lu': 'Luba-Katanga',\n",
        "  'lg': 'Ganda',\n",
        "  'mk': 'Macedonian',\n",
        "  'mh': 'Marshallese',\n",
        "  'ml': 'Malayalam',\n",
        "  'mi': 'Maori',\n",
        "  'mr': 'Marathi',\n",
        "  'ms': 'Malay',\n",
        "  'Mi': 'Micmac',\n",
        "  'mk': 'Macedonian',\n",
        "  'mg': 'Malagasy',\n",
        "  'mt': 'Maltese',\n",
        "  'mn': 'Mongolian',\n",
        "  'mi': 'Maori',\n",
        "  'ms': 'Malay',\n",
        "  'my': 'Burmese',\n",
        "  'na': 'Nauru',\n",
        "  'nv': 'Navajo; Navaho',\n",
        "  'nr': 'Ndebele, South; South Ndebele',\n",
        "  'nd': 'Ndebele, North; North Ndebele',\n",
        "  'ng': 'Ndonga',\n",
        "  'ne': 'Nepali',\n",
        "  'nl': 'Dutch; Flemish',\n",
        "  'nn': 'Norwegian Nynorsk; Nynorsk, Norwegian',\n",
        "  'nb': 'Bokmål, Norwegian; Norwegian Bokmål',\n",
        "  'no': 'Norwegian',\n",
        "  'oc': 'Occitan (post 1500)',\n",
        "  'oj': 'Ojibwa',\n",
        "  'or': 'Oriya',\n",
        "  'om': 'Oromo',\n",
        "  'os': 'Ossetian; Ossetic',\n",
        "  'pa': 'Panjabi; Punjabi',\n",
        "  'fa': 'Persian',\n",
        "  'pi': 'Pali',\n",
        "  'pl': 'Polish',\n",
        "  'pt': 'Portuguese',\n",
        "  'ps': 'Pushto; Pashto',\n",
        "  'qu': 'Quechua',\n",
        "  'rm': 'Romansh',\n",
        "  'ro': 'Romanian; Moldavian; Moldovan',\n",
        "  'ro': 'Romanian; Moldavian; Moldovan',\n",
        "  'rn': 'Rundi',\n",
        "  'ru': 'Russian',\n",
        "  'sg': 'Sango',\n",
        "  'sa': 'Sanskrit',\n",
        "  'si': 'Sinhala; Sinhalese',\n",
        "  'sk': 'Slovak',\n",
        "  'sk': 'Slovak',\n",
        "  'sl': 'Slovenian',\n",
        "  'se': 'Northern Sami',\n",
        "  'sm': 'Samoan',\n",
        "  'sn': 'Shona',\n",
        "  'sd': 'Sindhi',\n",
        "  'so': 'Somali',\n",
        "  'st': 'Sotho, Southern',\n",
        "  'es': 'Spanish; Castilian',\n",
        "  'sq': 'Albanian',\n",
        "  'sc': 'Sardinian',\n",
        "  'sr': 'Serbian',\n",
        "  'ss': 'Swati',\n",
        "  'su': 'Sundanese',\n",
        "  'sw': 'Swahili',\n",
        "  'sv': 'Swedish',\n",
        "  'ty': 'Tahitian',\n",
        "  'ta': 'Tamil',\n",
        "  'tt': 'Tatar',\n",
        "  'te': 'Telugu',\n",
        "  'tg': 'Tajik',\n",
        "  'tl': 'Tagalog',\n",
        "  'th': 'Thai',\n",
        "  'bo': 'Tibetan',\n",
        "  'ti': 'Tigrinya',\n",
        "  'to': 'Tonga (Tonga Islands)',\n",
        "  'tn': 'Tswana',\n",
        "  'ts': 'Tsonga',\n",
        "  'tk': 'Turkmen',\n",
        "  'tr': 'Turkish',\n",
        "  'tw': 'Twi',\n",
        "  'ug': 'Uighur; Uyghur',\n",
        "  'uk': 'Ukrainian',\n",
        "  'ur': 'Urdu',\n",
        "  'uz': 'Uzbek',\n",
        "  've': 'Venda',\n",
        "  'vi': 'Vietnamese',\n",
        "  'vo': 'Volapük',\n",
        "  'cy': 'Welsh',\n",
        "  'wa': 'Walloon',\n",
        "  'wo': 'Wolof',\n",
        "  'xh': 'Xhosa',\n",
        "  'yi': 'Yiddish',\n",
        "  'yo': 'Yoruba',\n",
        "  'za': 'Zhuang; Chuang',\n",
        "  'zh': 'Chinese',\n",
        "  'zu': 'Zulu',\n",
        "}"
      ]
    },
    {
      "cell_type": "markdown",
      "metadata": {
        "id": "hp9CDfKMdtOi"
      },
      "source": [
        "## FASTAPI APP"
      ]
    },
    {
      "cell_type": "code",
      "execution_count": null,
      "metadata": {
        "id": "m_MXUFLPtZe9"
      },
      "outputs": [],
      "source": [
        "from fastapi import FastAPI, Request\n",
        "from fastapi.encoders import jsonable_encoder\n",
        "from fastapi.responses import HTMLResponse\n",
        "from easynmt import EasyNMT\n",
        "\n",
        "from fastapi.templating import Jinja2Templates\n",
        "from fastapi.staticfiles import StaticFiles\n",
        "\n",
        "import random\n",
        "\n",
        "app = FastAPI(title='Hackerthon Jobs API') \n",
        "\n",
        "\n",
        "app.mount(\"/static\", StaticFiles(directory=\"static\"), name=\"static\")\n",
        "templates = Jinja2Templates(directory=\"templates\")\n",
        "\n",
        "\n",
        "model = EasyNMT('m2m_100_418M')\n",
        "\n",
        "def translate_text(txt, lang):\n",
        "  tran = model.translate(txt, target_lang = lang)\n",
        "  return tran\n",
        "\n",
        "@app.get('/')#ROUTE\n",
        "def index(request: Request,lang:str = ''):\n",
        "  return templates.TemplateResponse(\"index.html\", context = {\"request\": request,\"url\": url} )\n",
        "\n",
        "@app.get('/jobs')\n",
        "def jobs():\n",
        "  return dicts\n",
        "\n",
        "@app.get('/jobs/it')\n",
        "def jobs():\n",
        "  return it_jobs\n",
        "\n",
        "@app.get('/jobs/it/{lang}')\n",
        "def jobs(lang:str = 'fr'):\n",
        "  return [translate_text([': '.join(jo) for jo in job.items()], lang) for job in it_jobs]\n"
      ]
    },
    {
      "cell_type": "code",
      "execution_count": null,
      "metadata": {
        "id": "m0yrY0KEEW5Y"
      },
      "outputs": [],
      "source": [
        "!pip install jinja2 python-multipart"
      ]
    },
    {
      "cell_type": "code",
      "execution_count": null,
      "metadata": {
        "id": "yjB77dbejmdB"
      },
      "outputs": [],
      "source": [
        "!ngrok authtoken 2HV7V6qaQVZB0haTh3ZDDj1d2Yf_6ybMdAJJFbDn1ziWnomBV"
      ]
    },
    {
      "cell_type": "code",
      "execution_count": null,
      "metadata": {
        "id": "coJNVwFR670D"
      },
      "outputs": [],
      "source": []
    },
    {
      "cell_type": "code",
      "execution_count": null,
      "metadata": {
        "id": "i8DZiec9tZYr"
      },
      "outputs": [],
      "source": [
        "import nest_asyncio\n",
        "from pyngrok import ngrok\n",
        "import uvicorn\n",
        "\n",
        "ngrok_tunnel = ngrok.connect(4994)\n",
        "print(\"started...\")\n",
        "print(\"url ===>:\", ngrok_tunnel.public_url)\n",
        "url = ngrok_tunnel.public_url\n",
        "\n",
        "nest_asyncio.apply()\n",
        "uvicorn.run(app, port=4994)"
      ]
    },
    {
      "cell_type": "code",
      "execution_count": null,
      "metadata": {
        "id": "FmdBqGdbvNzJ"
      },
      "outputs": [],
      "source": [
        "# !pkill ngrok"
      ]
    }
  ],
  "metadata": {
    "accelerator": "GPU",
    "colab": {
      "provenance": [],
      "include_colab_link": true
    },
    "gpuClass": "standard",
    "kernelspec": {
      "display_name": "Python 3",
      "name": "python3"
    },
    "language_info": {
      "name": "python"
    }
  },
  "nbformat": 4,
  "nbformat_minor": 0
}