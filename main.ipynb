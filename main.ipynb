{
  "cells": [
    {
      "cell_type": "markdown",
      "metadata": {
        "id": "view-in-github",
        "colab_type": "text"
      },
      "source": [
        "<a href=\"https://colab.research.google.com/github/Bateyjosue/Hackerthon_NLP_Fellowship/blob/development/main.ipynb\" target=\"_parent\"><img src=\"https://colab.research.google.com/assets/colab-badge.svg\" alt=\"Open In Colab\"/></a>"
      ]
    },
    {
      "cell_type": "markdown",
      "source": [
        "1. Write a program which takes array of urls for job-posting websites in Rwanda\n",
        "   * https://www.jobinrwanda.com/  (Job Adverts)\n",
        "   * https://www.umucyo.gov.rw  ( Tenders)\n",
        "2. Web-scrap the content and put them in a pandas data-frame(i.e: the best structured dataframe wins ofcourse!)\n",
        "3. Use regular expression and key-words to retrieve IT/Software related job/consultancy opportunities(Tenders).\n",
        "4. Use EasyNMT to display the results in 50+ languages using wrapped state of art models\n",
        "   * Practical Example for EasyNMT use:\n",
        "     https://colab.research.google.com/drive/1X47vgSiOphpxS5w_LPtjQgJmiSTNfRNC?usp=sharing\n",
        "5. Hosting of our work example in colab\n",
        "   * https://colab.research.google.com/drive/1kAh_Vt1ipA5-BuoaPX39rCIHFrhpcRpW?usp=sharing"
      ],
      "metadata": {
        "id": "hkosleLFX-bB"
      }
    },
    {
      "cell_type": "markdown",
      "source": [
        "## Import Packages"
      ],
      "metadata": {
        "id": "4ZlgOfl7WjCF"
      }
    },
    {
      "cell_type": "code",
      "execution_count": null,
      "metadata": {
        "id": "kUZyDEkfVd1f"
      },
      "outputs": [],
      "source": [
        "import requests\n",
        "from bs4 import BeautifulSoup"
      ]
    },
    {
      "cell_type": "markdown",
      "source": [
        "## Class For Scrapping"
      ],
      "metadata": {
        "id": "keBPCVlMWc4T"
      }
    },
    {
      "cell_type": "code",
      "source": [
        "class Web_Scrap:\n",
        "  def __init__(self, link):\n",
        "    self.url = link\n",
        "  \n",
        "  def get_content(self):\n",
        "    content = requests.get(url = self.url).content\n",
        "    content = BeautifulSoup(content, 'lxml')\n",
        "    return content\n",
        "  \n",
        "  def get_content_class(self, class_, tag = None):\n",
        "    content = self.get_content()\n",
        "    content = content.find_all(class_= class_) if tag == None else content.find_all(tag, class_= class_)\n",
        "    return content\n",
        "  \n",
        "  def get_data(self, year, month, day):\n",
        "    response = requests.get('{}{}{:02d}{:02d}'.format(self.url, year, month, day))\n",
        "    return response.json()\n",
        "\n",
        "  def check_snaps(self, data):\n",
        "    if data['archived_snapshots']:\n",
        "      time_stamp = data['timestamp'] \n",
        "      time_stamp_closest = data['archived_snapshots']['closest']['timestamp'][:8]\n",
        "      result = time_stamp == time_stamp_closest\n",
        "    else: \n",
        "      result = False\n",
        "    return result\n",
        "\n",
        "  def get_main_links(self):\n",
        "    links = []\n",
        "    years = [2021, 2022]\n",
        "    for year in years:\n",
        "      for month in range(1, 11):\n",
        "        for day in range(1, 32):\n",
        "          data = self.get_data(year, month, day)\n",
        "          if self.check_snaps(data):\n",
        "            print(data['archived_snapshots']['closest']['url'])\n",
        "            links.append(data['archived_snapshots']['closest']['url'])\n",
        "    return links\n"
      ],
      "metadata": {
        "id": "TKVodOxFWbfr"
      },
      "execution_count": null,
      "outputs": []
    },
    {
      "cell_type": "code",
      "source": [
        "\n",
        "# scrap = Web_Scrap(f'https://archive.org/wayback/available?url=https://www.jobinrwanda.com/jobs/all/&timestamp=')\n",
        "# links = scrap.get_main_links()\n",
        "\n",
        "# links"
      ],
      "metadata": {
        "id": "NQrU3vnY-IIq"
      },
      "execution_count": null,
      "outputs": []
    },
    {
      "cell_type": "markdown",
      "source": [
        "### List Of Languages"
      ],
      "metadata": {
        "id": "Wr5xPJsFwIGi"
      }
    },
    {
      "cell_type": "code",
      "source": [
        "langages = {\n",
        "    'aa': 'Afar',\n",
        "    'ab': 'Abkhazian',\n",
        "    'af': 'Afrikaans',\n",
        "    'ak': 'Akan',\n",
        "    'sq': 'Albanian',\n",
        "    'am': 'Amharic',\n",
        "    'ar': 'Arabic',\n",
        "    'an': 'Aragonese',\n",
        "    'hy': 'Armenian',\n",
        "    'as': 'Assamese',\n",
        "    'av': 'Avaric',\n",
        "    'ae': 'Avestan',\n",
        "    'ay': 'Aymara',\n",
        "    'az': 'Azerbaijani',\n",
        "    'ba': 'Bashkir',\n",
        "    'bm': 'Bambara',\n",
        "    'eu': 'Basque',\n",
        "    'be': 'Belarusian',\n",
        "    'bn': 'Bengali',\n",
        "    'bh': 'Bihari languages',\n",
        "    'bi': 'Bislama',\n",
        "    'bo': 'Tibetan',\n",
        "    'bs': 'Bosnian',\n",
        "    'br': 'Breton',\n",
        "    'bg': 'Bulgarian',\n",
        "    'my': 'Burmese',\n",
        "    'ca': 'Catalan; Valencian',\n",
        "    'cs': 'Czech',\n",
        "    'ch': 'Chamorro',\n",
        "    'ce': 'Chechen',\n",
        "    'zh': 'Chinese',\n",
        "    'cu': 'Church Slavic; Old Slavonic; Church Slavonic; Old Bulgarian; Old Church Slavonic',\n",
        "    'cv': 'Chuvash',\n",
        "    'kw': 'Cornish',\n",
        "    'co': 'Corsican',\n",
        "    'cr': 'Cree',\n",
        "    'cy': 'Welsh',\n",
        "    'cs': 'Czech',\n",
        "    'da': 'Danish',\n",
        "    'de': 'German',\n",
        "    'dv': 'Divehi; Dhivehi; Maldivian',\n",
        "    'nl': 'Dutch; Flemish',\n",
        "    'dz': 'Dzongkha',\n",
        "    'el': 'Greek, Modern (1453-)',\n",
        "    'en': 'English',\n",
        "    'eo': 'Esperanto',\n",
        "    'et': 'Estonian',\n",
        "    'eu': 'Basque',\n",
        "    'ee': 'Ewe',\n",
        "    'fo': 'Faroese',\n",
        "    'fa': 'Persian',\n",
        "    'fj': 'Fijian',\n",
        "    'fi': 'Finnish',\n",
        "    'fr': 'French',\n",
        "    'fy': 'Western Frisian',\n",
        "    'ff': 'Fulah',\n",
        "    'Ga': 'Georgian',\n",
        "    'de': 'German',\n",
        "    'gd': 'Gaelic; Scottish Gaelic',\n",
        "    'ga': 'Irish',\n",
        "    'gl': 'Galician',\n",
        "    'gv': 'Manx',\n",
        "    'el': 'Greek, Modern (1453-)',\n",
        "    'gn': 'Guarani',\n",
        "    'gu': 'Gujarati',\n",
        "    'ht': 'Haitian; Haitian Creole',\n",
        "    'ha': 'Hausa',\n",
        "    'he': 'Hebrew',\n",
        "    'hz': 'Herero',\n",
        "    'hi': 'Hindi',\n",
        "    'ho': 'Hiri Motu',\n",
        "    'hr': 'Croatian',\n",
        "    'hu': 'Hungarian',\n",
        "    'hy': 'Armenian',\n",
        "    'ig': 'Igbo',\n",
        "    'is': 'Icelandic',\n",
        "    'io': 'Ido',\n",
        "    'ii': 'Sichuan Yi; Nuosu',\n",
        "    'iu': 'Inuktitut',\n",
        "    'ie': 'Interlingue; Occidental',\n",
        "    'ia': 'Interlingua (International Auxiliary Language Association)',\n",
        "    'id': 'Indonesian',\n",
        "    'ik': 'Inupiaq',\n",
        "    'is': 'Icelandic',\n",
        "    'it': 'Italian',\n",
        "    'jv': 'Javanese',\n",
        "    'ja': 'Japanese',\n",
        "    'kl': 'Kalaallisut; Greenlandic',\n",
        "    'kn': 'Kannada',\n",
        "    'ks': 'Kashmiri',\n",
        "    'ka': 'Georgian',\n",
        "    'kr': 'Kanuri',\n",
        "    'kk': 'Kazakh',\n",
        "    'km': 'Central Khmer',\n",
        "    'ki': 'Kikuyu; Gikuyu',\n",
        "    'rw': 'Kinyarwanda',\n",
        "    'ky': 'Kirghiz; Kyrgyz',\n",
        "    'kv': 'Komi',\n",
        "    'kg': 'Kongo',\n",
        "    'ko': 'Korean',\n",
        "    'kj': 'Kuanyama; Kwanyama',\n",
        "    'ku': 'Kurdish',\n",
        "    'lo': 'Lao',\n",
        "    'la': 'Latin',\n",
        "    'lv': 'Latvian',\n",
        "    'li': 'Limburgan; Limburger; Limburgish',\n",
        "    'ln': 'Lingala',\n",
        "    'lt': 'Lithuanian',\n",
        "    'lb': 'Luxembourgish; Letzeburgesch',\n",
        "    'lu': 'Luba-Katanga',\n",
        "    'lg': 'Ganda',\n",
        "    'mk': 'Macedonian',\n",
        "    'mh': 'Marshallese',\n",
        "    'ml': 'Malayalam',\n",
        "    'mi': 'Maori',\n",
        "    'mr': 'Marathi',\n",
        "    'ms': 'Malay',\n",
        "    'Mi': 'Micmac',\n",
        "    'mk': 'Macedonian',\n",
        "    'mg': 'Malagasy',\n",
        "    'mt': 'Maltese',\n",
        "    'mn': 'Mongolian',\n",
        "    'mi': 'Maori',\n",
        "    'ms': 'Malay',\n",
        "    'my': 'Burmese',\n",
        "    'na': 'Nauru',\n",
        "    'nv': 'Navajo; Navaho',\n",
        "    'nr': 'Ndebele, South; South Ndebele',\n",
        "    'nd': 'Ndebele, North; North Ndebele',\n",
        "    'ng': 'Ndonga',\n",
        "    'ne': 'Nepali',\n",
        "    'nl': 'Dutch; Flemish',\n",
        "    'nn': 'Norwegian Nynorsk; Nynorsk, Norwegian',\n",
        "    'nb': 'Bokmål, Norwegian; Norwegian Bokmål',\n",
        "    'no': 'Norwegian',\n",
        "    'oc': 'Occitan (post 1500)',\n",
        "    'oj': 'Ojibwa',\n",
        "    'or': 'Oriya',\n",
        "    'om': 'Oromo',\n",
        "    'os': 'Ossetian; Ossetic',\n",
        "    'pa': 'Panjabi; Punjabi',\n",
        "    'fa': 'Persian',\n",
        "    'pi': 'Pali',\n",
        "    'pl': 'Polish',\n",
        "    'pt': 'Portuguese',\n",
        "    'ps': 'Pushto; Pashto',\n",
        "    'qu': 'Quechua',\n",
        "    'rm': 'Romansh',\n",
        "    'ro': 'Romanian; Moldavian; Moldovan',\n",
        "    'ro': 'Romanian; Moldavian; Moldovan',\n",
        "    'rn': 'Rundi',\n",
        "    'ru': 'Russian',\n",
        "    'sg': 'Sango',\n",
        "    'sa': 'Sanskrit',\n",
        "    'si': 'Sinhala; Sinhalese',\n",
        "    'sk': 'Slovak',\n",
        "    'sk': 'Slovak',\n",
        "    'sl': 'Slovenian',\n",
        "    'se': 'Northern Sami',\n",
        "    'sm': 'Samoan',\n",
        "    'sn': 'Shona',\n",
        "    'sd': 'Sindhi',\n",
        "    'so': 'Somali',\n",
        "    'st': 'Sotho, Southern',\n",
        "    'es': 'Spanish; Castilian',\n",
        "    'sq': 'Albanian',\n",
        "    'sc': 'Sardinian',\n",
        "    'sr': 'Serbian',\n",
        "    'ss': 'Swati',\n",
        "    'su': 'Sundanese',\n",
        "    'sw': 'Swahili',\n",
        "    'sv': 'Swedish',\n",
        "    'ty': 'Tahitian',\n",
        "    'ta': 'Tamil',\n",
        "    'tt': 'Tatar',\n",
        "    'te': 'Telugu',\n",
        "    'tg': 'Tajik',\n",
        "    'tl': 'Tagalog',\n",
        "    'th': 'Thai',\n",
        "    'bo': 'Tibetan',\n",
        "    'ti': 'Tigrinya',\n",
        "    'to': 'Tonga (Tonga Islands)',\n",
        "    'tn': 'Tswana',\n",
        "    'ts': 'Tsonga',\n",
        "    'tk': 'Turkmen',\n",
        "    'tr': 'Turkish',\n",
        "    'tw': 'Twi',\n",
        "    'ug': 'Uighur; Uyghur',\n",
        "    'uk': 'Ukrainian',\n",
        "    'ur': 'Urdu',\n",
        "    'uz': 'Uzbek',\n",
        "    've': 'Venda',\n",
        "    'vi': 'Vietnamese',\n",
        "    'vo': 'Volapük',\n",
        "    'cy': 'Welsh',\n",
        "    'wa': 'Walloon',\n",
        "    'wo': 'Wolof',\n",
        "    'xh': 'Xhosa',\n",
        "    'yi': 'Yiddish',\n",
        "    'yo': 'Yoruba',\n",
        "    'za': 'Zhuang; Chuang',\n",
        "    'zh': 'Chinese',\n",
        "    'zu': 'Zulu',\n",
        "}\n"
      ],
      "metadata": {
        "id": "4iT_3ov_wLdN"
      },
      "execution_count": null,
      "outputs": []
    },
    {
      "cell_type": "markdown",
      "source": [
        "# Scrap `job in rwanda` and `umucyo`"
      ],
      "metadata": {
        "id": "ETovZOQAWo7-"
      }
    },
    {
      "cell_type": "markdown",
      "source": [
        "# Challenges #1"
      ],
      "metadata": {
        "id": "wVeG6ty1s3Xk"
      }
    },
    {
      "cell_type": "markdown",
      "source": [
        "\n",
        "\n",
        "1.   Get `Jobs and Consultacies links` for `job in rwanda`\n",
        "\n",
        "\n"
      ],
      "metadata": {
        "id": "cNkA1QKAXEXQ"
      }
    },
    {
      "cell_type": "markdown",
      "source": [
        "##Links of Jobs"
      ],
      "metadata": {
        "id": "22eEA6KKdsCT"
      }
    },
    {
      "cell_type": "code",
      "source": [
        "scrap_jobs =  Web_Scrap('https://www.jobinrwanda.com/')"
      ],
      "metadata": {
        "id": "0uBY0KBxd7-y"
      },
      "execution_count": null,
      "outputs": []
    },
    {
      "cell_type": "code",
      "source": [
        "jobs_content = scrap_jobs.get_content()\n",
        "jobs_links = []\n",
        "links = jobs_content.find_all('h5', class_='card-title' )\n",
        "for li in links:\n",
        "  jobs_links.append('https://www.jobinrwanda.com' + li.parent['href'])\n"
      ],
      "metadata": {
        "id": "kPeYXIYaXcN7"
      },
      "execution_count": null,
      "outputs": []
    },
    {
      "cell_type": "markdown",
      "source": [
        "ℹ `jobs_links` Holds the list of all jobs links. you can check the lenght by typing `len(jobs_links)`\n"
      ],
      "metadata": {
        "id": "LedzjgUmgM1J"
      }
    },
    {
      "cell_type": "markdown",
      "source": [
        "## Links of Consultancies"
      ],
      "metadata": {
        "id": "ujQPHPI-dz65"
      }
    },
    {
      "cell_type": "code",
      "source": [
        "scrap_cons =  Web_Scrap('https://www.jobinrwanda.com/jobs/consultancy')\n",
        "jobs_content = scrap_cons.get_content()\n",
        "cons_links = []\n",
        "links = jobs_content.find_all('h5', class_='card-title' )\n",
        "for li in links:\n",
        "  cons_links.append('https://www.jobinrwanda.com' + li.parent['href'])\n"
      ],
      "metadata": {
        "id": "SrRYER8md5ZF"
      },
      "execution_count": null,
      "outputs": []
    },
    {
      "cell_type": "markdown",
      "source": [
        "ℹ `cons_links` Holds the list of all Consultacy links. you can check the lenght by typing `len(cons_links)`\n",
        "\n"
      ],
      "metadata": {
        "id": "uSbGDHWQdC8y"
      }
    },
    {
      "cell_type": "markdown",
      "source": [
        "# List of all jobs for Job in rwanda"
      ],
      "metadata": {
        "id": "uz4HzOYllGBv"
      }
    },
    {
      "cell_type": "code",
      "source": [
        "jobs = jobs_links + cons_links\n"
      ],
      "metadata": {
        "id": "b9b0WYczifu-"
      },
      "execution_count": null,
      "outputs": []
    },
    {
      "cell_type": "code",
      "source": [
        "len(jobs_links)"
      ],
      "metadata": {
        "colab": {
          "base_uri": "https://localhost:8080/"
        },
        "id": "61yUEVhdtYbr",
        "outputId": "1921e50f-1aa0-43cf-f1cd-ba6d136e0b85"
      },
      "execution_count": null,
      "outputs": [
        {
          "output_type": "execute_result",
          "data": {
            "text/plain": [
              "177"
            ]
          },
          "metadata": {},
          "execution_count": 12
        }
      ]
    },
    {
      "cell_type": "markdown",
      "source": [
        "\n",
        "\n",
        "2.   Get `tenders` links for `umucyo`\n",
        "\n"
      ],
      "metadata": {
        "id": "uZEDJwAGXZro"
      }
    },
    {
      "cell_type": "code",
      "source": [
        "scrap_tender = Web_Scrap('https://www.umucyo.gov.rw/eb/bav/selectListAdvertisingListForGU.do')\n",
        "tender_table = scrap_tender.get_content().find(class_='article_table mb10')\n",
        "\n",
        "tr = tender_table.find_all('tr')\n",
        "len(tr)"
      ],
      "metadata": {
        "colab": {
          "base_uri": "https://localhost:8080/"
        },
        "id": "yEkVVCi12EZ5",
        "outputId": "a4cfb141-830a-4045-e4e9-f17ab4b23a61"
      },
      "execution_count": null,
      "outputs": [
        {
          "output_type": "execute_result",
          "data": {
            "text/plain": [
              "11"
            ]
          },
          "metadata": {},
          "execution_count": 13
        }
      ]
    },
    {
      "cell_type": "code",
      "source": [
        "tenders_links = []"
      ],
      "metadata": {
        "id": "GmrVh1WOXxId"
      },
      "execution_count": null,
      "outputs": []
    },
    {
      "cell_type": "markdown",
      "source": [
        "3. combined links for both `job in rwand` and `umucyo`\n"
      ],
      "metadata": {
        "id": "BRLfBAtssRda"
      }
    },
    {
      "cell_type": "code",
      "source": [
        "combined_links = []"
      ],
      "metadata": {
        "id": "wSjzpg3Asheq"
      },
      "execution_count": null,
      "outputs": []
    },
    {
      "cell_type": "markdown",
      "source": [
        "#Challenge #2"
      ],
      "metadata": {
        "id": "Pk1-s8h6tZSI"
      }
    },
    {
      "cell_type": "markdown",
      "source": [
        "1. Get Content per Link by Web scrapping"
      ],
      "metadata": {
        "id": "4rzsqPCxuSu6"
      }
    },
    {
      "cell_type": "code",
      "source": [
        "# Help Funtions\n",
        "def remove_space_list(arr):\n",
        "  joined = []\n",
        "  for el in arr:\n",
        "    if el.strip:\n",
        "      joined.append(el.strip())\n",
        "  return joined\n",
        "\n",
        "def clean_data(strs):\n",
        "  import re\n",
        "  text = re.sub('\\W', ' ', strs)\n",
        "\n",
        "  return text.strip()"
      ],
      "metadata": {
        "id": "vyd10bdMtFmL"
      },
      "execution_count": null,
      "outputs": []
    },
    {
      "cell_type": "code",
      "source": [
        "# Trash\n",
        "# sumary = [sam for sam in aside.get_text().split('\\n') if sam.strip()]\n",
        "\n",
        "# main.find('div#block-jobsummaryblock')\n",
        "\n",
        "#  print(d)\n",
        "#   frame = pd.DataFrame(d, index = [i for i in range(len(d))])\n",
        "#   # print(dict_summary)\n",
        "\n",
        "# def remove_space_list(arr):\n",
        "#   joined = []\n",
        "#   for el in arr:\n",
        "#     if el.strip:\n",
        "#       joined.append(el.lstrip())\n",
        "#   return joined\n",
        "\n",
        "# def data_frame_job(jobs):\n",
        "#   import random\n",
        "\n",
        "#   dicts ={}\n",
        "#   asides = []\n",
        "#   dict_summary = {}\n",
        "\n",
        "#   for job in jobs:\n",
        "#     scrap = Web_Scrap(job)\n",
        "#     main = scrap.get_content().body.main\n",
        "#     sent = [sent for sent in main.get_text().split('\\n') if sent.strip()]\n",
        "#     aside = scrap.get_content().body\n",
        "#     asides.append(aside.select_one('div#block-jobsummaryblock'))\n",
        "    \n",
        "\n",
        "#     for aside in asides:\n",
        "#       for a in aside.select('ul.list-group.list-group-flush > li > b'):\n",
        "#         val = a.next_sibling.strip().split(',')\n",
        "#         dict_summary[clean_data(a.get_text().strip())] = ' '.join(remove_space_list(val)) if len(val) <= 2 else ', '.join(remove_space_list(val))\n",
        "#         print(dict_summary)\n",
        "    \n",
        "  # return dict_summary\n",
        "\n",
        "    # frame = pd.DataFrame(dict_summary, index= [i for i in range(len(dict_summary))])\n",
        "  # return main\n",
        "\n",
        "\n"
      ],
      "metadata": {
        "id": "R18z60vHGBbX"
      },
      "execution_count": null,
      "outputs": []
    },
    {
      "cell_type": "markdown",
      "source": [
        "2. Save Content in a DataFrame"
      ],
      "metadata": {
        "id": "84gX7XOHuiHK"
      }
    },
    {
      "cell_type": "code",
      "source": [
        "import random\n",
        "import pandas as pd\n",
        "frames = pd.DataFrame()\n",
        "def data(link):\n",
        "  dict_summary = {}\n",
        "  scrap = Web_Scrap(link)\n",
        "  main = scrap.get_content().body.main\n",
        "  sent  = [sent for sent in main.get_text().split('\\n') if sent.strip()]\n",
        "  aside = scrap.get_content().body\n",
        "  aside = aside.select_one('div#block-jobsummaryblock')\n",
        "  for a in aside.select('ul.list-group.list-group-flush > li > b'):\n",
        "    val = a.next_sibling.strip().split(',')\n",
        "    dict_summary[clean_data(a.get_text().strip())] = ' '.join(remove_space_list(val)) if len(val) <= 2 else ', '.join(remove_space_list(val))\n",
        "  return dict_summary\n",
        "\n",
        "dicts = []\n",
        "for job in jobs_links:\n",
        "  dicts.append(data(job))\n",
        "\n",
        "\n"
      ],
      "metadata": {
        "id": "77ZiF0yruhVa"
      },
      "execution_count": null,
      "outputs": []
    },
    {
      "cell_type": "code",
      "source": [
        "col = dicts[0].keys()\n",
        "values = []\n",
        "for d in dicts:\n",
        "\n",
        "  values.append(d.values())\n",
        "index = [i for i, v in enumerate(values)]\n",
        "\n",
        "f = pd.DataFrame([value if value != None else 'Not Specified' for value in values ], index = index, columns=col)\n"
      ],
      "metadata": {
        "id": "_8cgfdWZz3NA"
      },
      "execution_count": null,
      "outputs": []
    },
    {
      "cell_type": "code",
      "source": [
        "def get_job_info(link):\n",
        "  scrap = Web_Scrap(link)\n",
        "  cont= scrap.get_content().select(\"div.card-body.p-2\")\n",
        "  \n",
        "  return [[clean_data(i) for i in con.get_text().strip().split('\\n') if i.strip()] for con in cont]\n",
        "\n",
        "data = get_job_info('https://www.jobinrwanda.com/')\n",
        "data[0][0]\n",
        "new_col = ['Job Title', 'Company','Published Date','Deadline','Desired experience','Job Category']\n",
        "index = [i for i, v in enumerate(data)]\n",
        "df = pd.DataFrame(data, index=index, columns=new_col)\n",
        "df.pop('Deadline')\n",
        "df.pop('Desired experience')\n",
        "f.dropna(\n",
        "    axis=0,\n",
        "    how='any',\n",
        "    thresh=None,\n",
        "    subset=None,\n",
        "    inplace=True\n",
        ")\n",
        "frame = pd.concat([df, f], axis='columns')\n",
        "frame.dropna(\n",
        "    axis=0,\n",
        "    how='any',\n",
        "    thresh=None,\n",
        "    subset=None,\n",
        "    inplace=True\n",
        ")\n",
        "frame"
      ],
      "metadata": {
        "colab": {
          "base_uri": "https://localhost:8080/",
          "height": 658
        },
        "id": "jaMiwLZuDqcp",
        "outputId": "b7687921-425f-4c4d-824a-965671398d9e"
      },
      "execution_count": null,
      "outputs": [
        {
          "output_type": "execute_result",
          "data": {
            "text/plain": [
              "                                             Job Title  \\\n",
              "0         Hiring a Firm for BRD Maintenance Assessment   \n",
              "1                    Construction du Guichet de Byumba   \n",
              "3                                   Operations Manager   \n",
              "4    Terms of Reference for Production Of the Secon...   \n",
              "5    Call for Application for Professional Training...   \n",
              "..                                                 ...   \n",
              "133                       Global HR Support Specialist   \n",
              "134                      Rwanda Procurement Specialist   \n",
              "135  Professional Videographer and Photographer Con...   \n",
              "136                                   Security Officer   \n",
              "137                                Security Supervisor   \n",
              "\n",
              "                                               Company  \\\n",
              "0                      Development Bank of Rwanda  BRD   \n",
              "1       Reseau Interdiocesain de Microfinance  RIM Ltd   \n",
              "3                                           GardaWorld   \n",
              "4                                      UN Women Rwanda   \n",
              "5    The leadership of Innovative Isiine Training C...   \n",
              "..                                                 ...   \n",
              "133                           One Acre Fund     Kigali   \n",
              "134                           One Acre Fund     Kigali   \n",
              "135                                        IntraHealth   \n",
              "136                                    Kivu Choice Ltd   \n",
              "137                                    Kivu Choice Ltd   \n",
              "\n",
              "              Published Date Job Category   Location  \\\n",
              "0    Published on 10 11 2022  Consultancy         RW   \n",
              "1    Published on 10 11 2022       Tender         RW   \n",
              "3    Published on 03 11 2022          Job         RW   \n",
              "4    Published on 02 11 2022  Consultancy         RW   \n",
              "5    Published on 01 11 2022        Other         RW   \n",
              "..                       ...          ...        ...   \n",
              "133  Published on 28 10 2022          Job  Kigali RW   \n",
              "134  Published on 28 10 2022          Job  Kigali RW   \n",
              "135  Published on 28 10 2022  Consultancy         RW   \n",
              "136  Published on 28 10 2022          Job         RW   \n",
              "137  Published on 28 10 2022          Job         RW   \n",
              "\n",
              "                                                Sector Education level  \\\n",
              "0                                                Other   Not specified   \n",
              "1                                                Other   Not specified   \n",
              "3          Administration, Business, Management, Other        Bachelor   \n",
              "4                    Economics, Other, Social sciences          Master   \n",
              "5                                                Other   Not specified   \n",
              "..                                                 ...             ...   \n",
              "133  Agriculture, Agronomy, Business, Human resourc...        Bachelor   \n",
              "134  Agriculture, Business, Management, Procurement...        Bachelor   \n",
              "135                                              Other        Bachelor   \n",
              "136                                        Agriculture     High school   \n",
              "137                                  Agriculture Other            None   \n",
              "\n",
              "                           Desired experience Contract type  \\\n",
              "0                               Not specified      Contract   \n",
              "1                               Not specified        Tender   \n",
              "3             Senior (5+ years of experience)     Full-time   \n",
              "4             Senior (5+ years of experience)      Contract   \n",
              "5                               Not specified         Other   \n",
              "..                                        ...           ...   \n",
              "133  Entry level (1 to 3 years of experience)     Full-time   \n",
              "134   Mid career (3 to 5 years of experience)     Full-time   \n",
              "135           Senior (5+ years of experience)      Contract   \n",
              "136  Entry level (1 to 3 years of experience)     Full-time   \n",
              "137   Mid career (3 to 5 years of experience)     Full-time   \n",
              "\n",
              "                       Deadline Number of positions  \n",
              "0       Friday 25/11/2022 10:00                   1  \n",
              "1       Monday 21/11/2022 23:59                   1  \n",
              "3       Monday 14/11/2022 23:59                   1  \n",
              "4      Tuesday 15/11/2022 17:00                   1  \n",
              "5       Monday 14/11/2022 23:59                   1  \n",
              "..                          ...                 ...  \n",
              "133  Wednesday 28/12/2022 23:59                   1  \n",
              "134  Wednesday 30/11/2022 23:59                   1  \n",
              "135     Friday 11/11/2022 23:59                   1  \n",
              "136     Monday 28/11/2022 12:54                   2  \n",
              "137     Monday 28/11/2022 00:52                   1  \n",
              "\n",
              "[132 rows x 11 columns]"
            ],
            "text/html": [
              "\n",
              "  <div id=\"df-b941263c-07c8-466f-8613-560d47d04211\">\n",
              "    <div class=\"colab-df-container\">\n",
              "      <div>\n",
              "<style scoped>\n",
              "    .dataframe tbody tr th:only-of-type {\n",
              "        vertical-align: middle;\n",
              "    }\n",
              "\n",
              "    .dataframe tbody tr th {\n",
              "        vertical-align: top;\n",
              "    }\n",
              "\n",
              "    .dataframe thead th {\n",
              "        text-align: right;\n",
              "    }\n",
              "</style>\n",
              "<table border=\"1\" class=\"dataframe\">\n",
              "  <thead>\n",
              "    <tr style=\"text-align: right;\">\n",
              "      <th></th>\n",
              "      <th>Job Title</th>\n",
              "      <th>Company</th>\n",
              "      <th>Published Date</th>\n",
              "      <th>Job Category</th>\n",
              "      <th>Location</th>\n",
              "      <th>Sector</th>\n",
              "      <th>Education level</th>\n",
              "      <th>Desired experience</th>\n",
              "      <th>Contract type</th>\n",
              "      <th>Deadline</th>\n",
              "      <th>Number of positions</th>\n",
              "    </tr>\n",
              "  </thead>\n",
              "  <tbody>\n",
              "    <tr>\n",
              "      <th>0</th>\n",
              "      <td>Hiring a Firm for BRD Maintenance Assessment</td>\n",
              "      <td>Development Bank of Rwanda  BRD</td>\n",
              "      <td>Published on 10 11 2022</td>\n",
              "      <td>Consultancy</td>\n",
              "      <td>RW</td>\n",
              "      <td>Other</td>\n",
              "      <td>Not specified</td>\n",
              "      <td>Not specified</td>\n",
              "      <td>Contract</td>\n",
              "      <td>Friday 25/11/2022 10:00</td>\n",
              "      <td>1</td>\n",
              "    </tr>\n",
              "    <tr>\n",
              "      <th>1</th>\n",
              "      <td>Construction du Guichet de Byumba</td>\n",
              "      <td>Reseau Interdiocesain de Microfinance  RIM Ltd</td>\n",
              "      <td>Published on 10 11 2022</td>\n",
              "      <td>Tender</td>\n",
              "      <td>RW</td>\n",
              "      <td>Other</td>\n",
              "      <td>Not specified</td>\n",
              "      <td>Not specified</td>\n",
              "      <td>Tender</td>\n",
              "      <td>Monday 21/11/2022 23:59</td>\n",
              "      <td>1</td>\n",
              "    </tr>\n",
              "    <tr>\n",
              "      <th>3</th>\n",
              "      <td>Operations Manager</td>\n",
              "      <td>GardaWorld</td>\n",
              "      <td>Published on 03 11 2022</td>\n",
              "      <td>Job</td>\n",
              "      <td>RW</td>\n",
              "      <td>Administration, Business, Management, Other</td>\n",
              "      <td>Bachelor</td>\n",
              "      <td>Senior (5+ years of experience)</td>\n",
              "      <td>Full-time</td>\n",
              "      <td>Monday 14/11/2022 23:59</td>\n",
              "      <td>1</td>\n",
              "    </tr>\n",
              "    <tr>\n",
              "      <th>4</th>\n",
              "      <td>Terms of Reference for Production Of the Secon...</td>\n",
              "      <td>UN Women Rwanda</td>\n",
              "      <td>Published on 02 11 2022</td>\n",
              "      <td>Consultancy</td>\n",
              "      <td>RW</td>\n",
              "      <td>Economics, Other, Social sciences</td>\n",
              "      <td>Master</td>\n",
              "      <td>Senior (5+ years of experience)</td>\n",
              "      <td>Contract</td>\n",
              "      <td>Tuesday 15/11/2022 17:00</td>\n",
              "      <td>1</td>\n",
              "    </tr>\n",
              "    <tr>\n",
              "      <th>5</th>\n",
              "      <td>Call for Application for Professional Training...</td>\n",
              "      <td>The leadership of Innovative Isiine Training C...</td>\n",
              "      <td>Published on 01 11 2022</td>\n",
              "      <td>Other</td>\n",
              "      <td>RW</td>\n",
              "      <td>Other</td>\n",
              "      <td>Not specified</td>\n",
              "      <td>Not specified</td>\n",
              "      <td>Other</td>\n",
              "      <td>Monday 14/11/2022 23:59</td>\n",
              "      <td>1</td>\n",
              "    </tr>\n",
              "    <tr>\n",
              "      <th>...</th>\n",
              "      <td>...</td>\n",
              "      <td>...</td>\n",
              "      <td>...</td>\n",
              "      <td>...</td>\n",
              "      <td>...</td>\n",
              "      <td>...</td>\n",
              "      <td>...</td>\n",
              "      <td>...</td>\n",
              "      <td>...</td>\n",
              "      <td>...</td>\n",
              "      <td>...</td>\n",
              "    </tr>\n",
              "    <tr>\n",
              "      <th>133</th>\n",
              "      <td>Global HR Support Specialist</td>\n",
              "      <td>One Acre Fund     Kigali</td>\n",
              "      <td>Published on 28 10 2022</td>\n",
              "      <td>Job</td>\n",
              "      <td>Kigali RW</td>\n",
              "      <td>Agriculture, Agronomy, Business, Human resourc...</td>\n",
              "      <td>Bachelor</td>\n",
              "      <td>Entry level (1 to 3 years of experience)</td>\n",
              "      <td>Full-time</td>\n",
              "      <td>Wednesday 28/12/2022 23:59</td>\n",
              "      <td>1</td>\n",
              "    </tr>\n",
              "    <tr>\n",
              "      <th>134</th>\n",
              "      <td>Rwanda Procurement Specialist</td>\n",
              "      <td>One Acre Fund     Kigali</td>\n",
              "      <td>Published on 28 10 2022</td>\n",
              "      <td>Job</td>\n",
              "      <td>Kigali RW</td>\n",
              "      <td>Agriculture, Business, Management, Procurement...</td>\n",
              "      <td>Bachelor</td>\n",
              "      <td>Mid career (3 to 5 years of experience)</td>\n",
              "      <td>Full-time</td>\n",
              "      <td>Wednesday 30/11/2022 23:59</td>\n",
              "      <td>1</td>\n",
              "    </tr>\n",
              "    <tr>\n",
              "      <th>135</th>\n",
              "      <td>Professional Videographer and Photographer Con...</td>\n",
              "      <td>IntraHealth</td>\n",
              "      <td>Published on 28 10 2022</td>\n",
              "      <td>Consultancy</td>\n",
              "      <td>RW</td>\n",
              "      <td>Other</td>\n",
              "      <td>Bachelor</td>\n",
              "      <td>Senior (5+ years of experience)</td>\n",
              "      <td>Contract</td>\n",
              "      <td>Friday 11/11/2022 23:59</td>\n",
              "      <td>1</td>\n",
              "    </tr>\n",
              "    <tr>\n",
              "      <th>136</th>\n",
              "      <td>Security Officer</td>\n",
              "      <td>Kivu Choice Ltd</td>\n",
              "      <td>Published on 28 10 2022</td>\n",
              "      <td>Job</td>\n",
              "      <td>RW</td>\n",
              "      <td>Agriculture</td>\n",
              "      <td>High school</td>\n",
              "      <td>Entry level (1 to 3 years of experience)</td>\n",
              "      <td>Full-time</td>\n",
              "      <td>Monday 28/11/2022 12:54</td>\n",
              "      <td>2</td>\n",
              "    </tr>\n",
              "    <tr>\n",
              "      <th>137</th>\n",
              "      <td>Security Supervisor</td>\n",
              "      <td>Kivu Choice Ltd</td>\n",
              "      <td>Published on 28 10 2022</td>\n",
              "      <td>Job</td>\n",
              "      <td>RW</td>\n",
              "      <td>Agriculture Other</td>\n",
              "      <td>None</td>\n",
              "      <td>Mid career (3 to 5 years of experience)</td>\n",
              "      <td>Full-time</td>\n",
              "      <td>Monday 28/11/2022 00:52</td>\n",
              "      <td>1</td>\n",
              "    </tr>\n",
              "  </tbody>\n",
              "</table>\n",
              "<p>132 rows × 11 columns</p>\n",
              "</div>\n",
              "      <button class=\"colab-df-convert\" onclick=\"convertToInteractive('df-b941263c-07c8-466f-8613-560d47d04211')\"\n",
              "              title=\"Convert this dataframe to an interactive table.\"\n",
              "              style=\"display:none;\">\n",
              "        \n",
              "  <svg xmlns=\"http://www.w3.org/2000/svg\" height=\"24px\"viewBox=\"0 0 24 24\"\n",
              "       width=\"24px\">\n",
              "    <path d=\"M0 0h24v24H0V0z\" fill=\"none\"/>\n",
              "    <path d=\"M18.56 5.44l.94 2.06.94-2.06 2.06-.94-2.06-.94-.94-2.06-.94 2.06-2.06.94zm-11 1L8.5 8.5l.94-2.06 2.06-.94-2.06-.94L8.5 2.5l-.94 2.06-2.06.94zm10 10l.94 2.06.94-2.06 2.06-.94-2.06-.94-.94-2.06-.94 2.06-2.06.94z\"/><path d=\"M17.41 7.96l-1.37-1.37c-.4-.4-.92-.59-1.43-.59-.52 0-1.04.2-1.43.59L10.3 9.45l-7.72 7.72c-.78.78-.78 2.05 0 2.83L4 21.41c.39.39.9.59 1.41.59.51 0 1.02-.2 1.41-.59l7.78-7.78 2.81-2.81c.8-.78.8-2.07 0-2.86zM5.41 20L4 18.59l7.72-7.72 1.47 1.35L5.41 20z\"/>\n",
              "  </svg>\n",
              "      </button>\n",
              "      \n",
              "  <style>\n",
              "    .colab-df-container {\n",
              "      display:flex;\n",
              "      flex-wrap:wrap;\n",
              "      gap: 12px;\n",
              "    }\n",
              "\n",
              "    .colab-df-convert {\n",
              "      background-color: #E8F0FE;\n",
              "      border: none;\n",
              "      border-radius: 50%;\n",
              "      cursor: pointer;\n",
              "      display: none;\n",
              "      fill: #1967D2;\n",
              "      height: 32px;\n",
              "      padding: 0 0 0 0;\n",
              "      width: 32px;\n",
              "    }\n",
              "\n",
              "    .colab-df-convert:hover {\n",
              "      background-color: #E2EBFA;\n",
              "      box-shadow: 0px 1px 2px rgba(60, 64, 67, 0.3), 0px 1px 3px 1px rgba(60, 64, 67, 0.15);\n",
              "      fill: #174EA6;\n",
              "    }\n",
              "\n",
              "    [theme=dark] .colab-df-convert {\n",
              "      background-color: #3B4455;\n",
              "      fill: #D2E3FC;\n",
              "    }\n",
              "\n",
              "    [theme=dark] .colab-df-convert:hover {\n",
              "      background-color: #434B5C;\n",
              "      box-shadow: 0px 1px 3px 1px rgba(0, 0, 0, 0.15);\n",
              "      filter: drop-shadow(0px 1px 2px rgba(0, 0, 0, 0.3));\n",
              "      fill: #FFFFFF;\n",
              "    }\n",
              "  </style>\n",
              "\n",
              "      <script>\n",
              "        const buttonEl =\n",
              "          document.querySelector('#df-b941263c-07c8-466f-8613-560d47d04211 button.colab-df-convert');\n",
              "        buttonEl.style.display =\n",
              "          google.colab.kernel.accessAllowed ? 'block' : 'none';\n",
              "\n",
              "        async function convertToInteractive(key) {\n",
              "          const element = document.querySelector('#df-b941263c-07c8-466f-8613-560d47d04211');\n",
              "          const dataTable =\n",
              "            await google.colab.kernel.invokeFunction('convertToInteractive',\n",
              "                                                     [key], {});\n",
              "          if (!dataTable) return;\n",
              "\n",
              "          const docLinkHtml = 'Like what you see? Visit the ' +\n",
              "            '<a target=\"_blank\" href=https://colab.research.google.com/notebooks/data_table.ipynb>data table notebook</a>'\n",
              "            + ' to learn more about interactive tables.';\n",
              "          element.innerHTML = '';\n",
              "          dataTable['output_type'] = 'display_data';\n",
              "          await google.colab.output.renderOutput(dataTable, element);\n",
              "          const docLink = document.createElement('div');\n",
              "          docLink.innerHTML = docLinkHtml;\n",
              "          element.appendChild(docLink);\n",
              "        }\n",
              "      </script>\n",
              "    </div>\n",
              "  </div>\n",
              "  "
            ]
          },
          "metadata": {},
          "execution_count": 21
        }
      ]
    },
    {
      "cell_type": "markdown",
      "source": [
        "# Challenge #3"
      ],
      "metadata": {
        "id": "NQDzPNm6utEH"
      }
    },
    {
      "cell_type": "markdown",
      "source": [
        "## Get ***IT/Software*** Opportunities using `Regex`\n",
        "\n",
        "\n"
      ],
      "metadata": {
        "id": "5Kkk_ZUnuw0N"
      }
    },
    {
      "cell_type": "code",
      "source": [
        "fr = f.filter(regex=\".*Sector.*\")\n",
        "regex = r'Computer and IT'\n",
        "it_df = frame[frame.Sector.str.match(regex)]\n",
        "\n",
        "it_df"
      ],
      "metadata": {
        "colab": {
          "base_uri": "https://localhost:8080/",
          "height": 208
        },
        "id": "cWI1lJldnuAj",
        "outputId": "500c80c8-31bb-4672-d622-db5d9ebe99a5"
      },
      "execution_count": null,
      "outputs": [
        {
          "output_type": "execute_result",
          "data": {
            "text/plain": [
              "               Job Title                                  Company  \\\n",
              "29       Product Manager          Ampersand Rwanda Ltd     Kigali   \n",
              "122  IT and MIS Director  CHANCEN International Rwanda     Kigali   \n",
              "\n",
              "              Published Date Job Category   Location  \\\n",
              "29   Published on 10 11 2022          Job  Kigali RW   \n",
              "122  Published on 31 10 2022          Job  Kigali RW   \n",
              "\n",
              "                                              Sector Education level  \\\n",
              "29   Computer and IT, Management, Project management        Bachelor   \n",
              "122       Computer and IT, Other, Project management        Bachelor   \n",
              "\n",
              "                  Desired experience Contract type                  Deadline  \\\n",
              "29   Senior (5+ years of experience)     Full-time  Tuesday 10/01/2023 23:59   \n",
              "122  Senior (5+ years of experience)     Full-time   Friday 18/11/2022 23:59   \n",
              "\n",
              "    Number of positions  \n",
              "29                    1  \n",
              "122                   1  "
            ],
            "text/html": [
              "\n",
              "  <div id=\"df-df48f77a-db68-4716-87be-7b01786e0782\">\n",
              "    <div class=\"colab-df-container\">\n",
              "      <div>\n",
              "<style scoped>\n",
              "    .dataframe tbody tr th:only-of-type {\n",
              "        vertical-align: middle;\n",
              "    }\n",
              "\n",
              "    .dataframe tbody tr th {\n",
              "        vertical-align: top;\n",
              "    }\n",
              "\n",
              "    .dataframe thead th {\n",
              "        text-align: right;\n",
              "    }\n",
              "</style>\n",
              "<table border=\"1\" class=\"dataframe\">\n",
              "  <thead>\n",
              "    <tr style=\"text-align: right;\">\n",
              "      <th></th>\n",
              "      <th>Job Title</th>\n",
              "      <th>Company</th>\n",
              "      <th>Published Date</th>\n",
              "      <th>Job Category</th>\n",
              "      <th>Location</th>\n",
              "      <th>Sector</th>\n",
              "      <th>Education level</th>\n",
              "      <th>Desired experience</th>\n",
              "      <th>Contract type</th>\n",
              "      <th>Deadline</th>\n",
              "      <th>Number of positions</th>\n",
              "    </tr>\n",
              "  </thead>\n",
              "  <tbody>\n",
              "    <tr>\n",
              "      <th>29</th>\n",
              "      <td>Product Manager</td>\n",
              "      <td>Ampersand Rwanda Ltd     Kigali</td>\n",
              "      <td>Published on 10 11 2022</td>\n",
              "      <td>Job</td>\n",
              "      <td>Kigali RW</td>\n",
              "      <td>Computer and IT, Management, Project management</td>\n",
              "      <td>Bachelor</td>\n",
              "      <td>Senior (5+ years of experience)</td>\n",
              "      <td>Full-time</td>\n",
              "      <td>Tuesday 10/01/2023 23:59</td>\n",
              "      <td>1</td>\n",
              "    </tr>\n",
              "    <tr>\n",
              "      <th>122</th>\n",
              "      <td>IT and MIS Director</td>\n",
              "      <td>CHANCEN International Rwanda     Kigali</td>\n",
              "      <td>Published on 31 10 2022</td>\n",
              "      <td>Job</td>\n",
              "      <td>Kigali RW</td>\n",
              "      <td>Computer and IT, Other, Project management</td>\n",
              "      <td>Bachelor</td>\n",
              "      <td>Senior (5+ years of experience)</td>\n",
              "      <td>Full-time</td>\n",
              "      <td>Friday 18/11/2022 23:59</td>\n",
              "      <td>1</td>\n",
              "    </tr>\n",
              "  </tbody>\n",
              "</table>\n",
              "</div>\n",
              "      <button class=\"colab-df-convert\" onclick=\"convertToInteractive('df-df48f77a-db68-4716-87be-7b01786e0782')\"\n",
              "              title=\"Convert this dataframe to an interactive table.\"\n",
              "              style=\"display:none;\">\n",
              "        \n",
              "  <svg xmlns=\"http://www.w3.org/2000/svg\" height=\"24px\"viewBox=\"0 0 24 24\"\n",
              "       width=\"24px\">\n",
              "    <path d=\"M0 0h24v24H0V0z\" fill=\"none\"/>\n",
              "    <path d=\"M18.56 5.44l.94 2.06.94-2.06 2.06-.94-2.06-.94-.94-2.06-.94 2.06-2.06.94zm-11 1L8.5 8.5l.94-2.06 2.06-.94-2.06-.94L8.5 2.5l-.94 2.06-2.06.94zm10 10l.94 2.06.94-2.06 2.06-.94-2.06-.94-.94-2.06-.94 2.06-2.06.94z\"/><path d=\"M17.41 7.96l-1.37-1.37c-.4-.4-.92-.59-1.43-.59-.52 0-1.04.2-1.43.59L10.3 9.45l-7.72 7.72c-.78.78-.78 2.05 0 2.83L4 21.41c.39.39.9.59 1.41.59.51 0 1.02-.2 1.41-.59l7.78-7.78 2.81-2.81c.8-.78.8-2.07 0-2.86zM5.41 20L4 18.59l7.72-7.72 1.47 1.35L5.41 20z\"/>\n",
              "  </svg>\n",
              "      </button>\n",
              "      \n",
              "  <style>\n",
              "    .colab-df-container {\n",
              "      display:flex;\n",
              "      flex-wrap:wrap;\n",
              "      gap: 12px;\n",
              "    }\n",
              "\n",
              "    .colab-df-convert {\n",
              "      background-color: #E8F0FE;\n",
              "      border: none;\n",
              "      border-radius: 50%;\n",
              "      cursor: pointer;\n",
              "      display: none;\n",
              "      fill: #1967D2;\n",
              "      height: 32px;\n",
              "      padding: 0 0 0 0;\n",
              "      width: 32px;\n",
              "    }\n",
              "\n",
              "    .colab-df-convert:hover {\n",
              "      background-color: #E2EBFA;\n",
              "      box-shadow: 0px 1px 2px rgba(60, 64, 67, 0.3), 0px 1px 3px 1px rgba(60, 64, 67, 0.15);\n",
              "      fill: #174EA6;\n",
              "    }\n",
              "\n",
              "    [theme=dark] .colab-df-convert {\n",
              "      background-color: #3B4455;\n",
              "      fill: #D2E3FC;\n",
              "    }\n",
              "\n",
              "    [theme=dark] .colab-df-convert:hover {\n",
              "      background-color: #434B5C;\n",
              "      box-shadow: 0px 1px 3px 1px rgba(0, 0, 0, 0.15);\n",
              "      filter: drop-shadow(0px 1px 2px rgba(0, 0, 0, 0.3));\n",
              "      fill: #FFFFFF;\n",
              "    }\n",
              "  </style>\n",
              "\n",
              "      <script>\n",
              "        const buttonEl =\n",
              "          document.querySelector('#df-df48f77a-db68-4716-87be-7b01786e0782 button.colab-df-convert');\n",
              "        buttonEl.style.display =\n",
              "          google.colab.kernel.accessAllowed ? 'block' : 'none';\n",
              "\n",
              "        async function convertToInteractive(key) {\n",
              "          const element = document.querySelector('#df-df48f77a-db68-4716-87be-7b01786e0782');\n",
              "          const dataTable =\n",
              "            await google.colab.kernel.invokeFunction('convertToInteractive',\n",
              "                                                     [key], {});\n",
              "          if (!dataTable) return;\n",
              "\n",
              "          const docLinkHtml = 'Like what you see? Visit the ' +\n",
              "            '<a target=\"_blank\" href=https://colab.research.google.com/notebooks/data_table.ipynb>data table notebook</a>'\n",
              "            + ' to learn more about interactive tables.';\n",
              "          element.innerHTML = '';\n",
              "          dataTable['output_type'] = 'display_data';\n",
              "          await google.colab.output.renderOutput(dataTable, element);\n",
              "          const docLink = document.createElement('div');\n",
              "          docLink.innerHTML = docLinkHtml;\n",
              "          element.appendChild(docLink);\n",
              "        }\n",
              "      </script>\n",
              "    </div>\n",
              "  </div>\n",
              "  "
            ]
          },
          "metadata": {},
          "execution_count": 22
        }
      ]
    },
    {
      "cell_type": "code",
      "source": [
        "import json\n",
        "\n",
        "result = it_df.to_json(orient='split')\n",
        "result = json.loads(result)\n",
        "# result = json.dumps(result, indent=4)\n",
        "for data in result['data']:\n",
        "  print(data)"
      ],
      "metadata": {
        "colab": {
          "base_uri": "https://localhost:8080/"
        },
        "id": "Wl6AVbm4pxKt",
        "outputId": "1b5b440c-3dd4-4b62-e908-568fb9cf6d5a"
      },
      "execution_count": null,
      "outputs": [
        {
          "output_type": "stream",
          "name": "stdout",
          "text": [
            "['Product Manager', 'Ampersand Rwanda Ltd     Kigali', 'Published on 10 11 2022', 'Job', 'Kigali RW', 'Computer and IT, Management, Project management', 'Bachelor', 'Senior (5+ years of experience)', 'Full-time', 'Tuesday 10/01/2023 23:59', '1']\n",
            "['IT and MIS Director', 'CHANCEN International Rwanda     Kigali', 'Published on 31 10 2022', 'Job', 'Kigali RW', 'Computer and IT, Other, Project management', 'Bachelor', 'Senior (5+ years of experience)', 'Full-time', 'Friday 18/11/2022 23:59', '1']\n"
          ]
        }
      ]
    },
    {
      "cell_type": "code",
      "source": [
        "!pip install -U easynmt"
      ],
      "metadata": {
        "id": "IgZr3C_-tGSF"
      },
      "execution_count": null,
      "outputs": []
    },
    {
      "cell_type": "code",
      "source": [
        "from easynmt import EasyNMT\n",
        "\n",
        "model = EasyNMT('m2m_100_418M')\n",
        "\n",
        "def translate(txt, lang):\n",
        "  tran = model.translate(txt, target_lang=lang)\n",
        "  return tran\n"
      ],
      "metadata": {
        "colab": {
          "base_uri": "https://localhost:8080/",
          "height": 228,
          "referenced_widgets": [
            "4ab6d4da2b614f9798805a9c057b7c5e",
            "b133931639d04341984e2bcaceaf1080",
            "1751c218b39d44eab0217801311c3c6c",
            "ba3082b9721442b6a5de5ae5378cc29e",
            "aa6b2a03c54445ab980220e53b944d35",
            "4252726c636f465b8795ab61f99d8646",
            "654d5a3b914d46508f0ba64c74182ec2",
            "505a4b8376214f9fa9f482b07847812a",
            "528ac28697c046bcb6747372a6388a2c",
            "bba5456b93b249f6849f436ead9a431b",
            "55f4a3bf28474019b22ec41d7943abcc",
            "e667f88a9dd540e794b2e52af8b573b0",
            "c41a00b2b470404dad14a39d1197ca1f",
            "a7c258824ea04af28bdbf05b35fc2f95",
            "b8b886f865674a62a791fd14a2d3b825",
            "7e273fcc39784279b68a10d25568819b",
            "51ce331494174a7396b4875f4cc470c0",
            "f57496735df34dd48c996f595bdac427",
            "450242e4745d46e1b4cb3f612c42162a",
            "f7e5d0b0ce744fafad896768ca91ee82",
            "106c8cc304564198850e273212f15a28",
            "620720e157da40d8acd1ecf5e97bbbbb",
            "5da965bf2c4a423ab1cc6ecc85fa6cc6",
            "94385cfb26464a319f2d6f1e86c88d6f",
            "6a122c1ec38a4e90b53e2cee2977dbcd",
            "25d9ae5d835047a8a79aee14a5f6d75f",
            "b8a63d315e924332a857d88241ed71fd",
            "c3746436d88640d3801f50a1006a4942",
            "284f03bd75ed4f2e8d6f1a2cb536c31e",
            "6f1ce04dd396488087cbf28e6ef50aa6",
            "b735d5c993cd4cc1b5ab99153deb177f",
            "4700f5fc06a14311991fe3a06caeef2c",
            "b8fbb879ec944dd4a9c046a3924400f2",
            "9ec3f27217cf4e5b8fbe18332526f44c",
            "920b2e91d638428da70a2e89f147ff52",
            "52b44b29dbb849c88e8c135684a8d8d9",
            "8a17710ba7db4be09b89d5bff2ab0dde",
            "7b6d5b51afbb4ae3bb5e6ed82d1588af",
            "65ab1a2fe78a48b59ada431abf227dca",
            "3df20a6f2b004bf1ba76dcc8af98e3ca",
            "0408be9b02374d61889cb4686db9f5ca",
            "e94946d4835d44cbac9e418786934cd8",
            "3f1c3b17146a4bb19cdb6b85b67aec16",
            "b41dcb3475784047a0879a4dd3e226ea",
            "bb2f5b6a73264eb9a575b42a20c8c394",
            "14524709a8f445b5bc212c35b33c947b",
            "062951c9b9074969875f1c3e19396f6e",
            "308f7900705d41139de2fabf1761acf4",
            "8c37c1442c024e48a5795046ad049f52",
            "100ef0e4da974c998b848a86d6527388",
            "2fd7c3659a254f17a0b28a289831ca6a",
            "54a592b1cbfc4dd4bfdcca65b3796831",
            "a6adff535f5e4f91a32377f30b073329",
            "82eb42c8f0c94b85a62369e9020ceb0f",
            "d9ac91fdab2f4f6d91f23b5f343f48e4",
            "20978747226a41e78e5438ed97bf6a9e",
            "9221895e77234d8ea94ee30df5a866b4",
            "7500561df0784078a9df7eb0488feee8",
            "44fc54ecd90c4f42ad5d6cd5129981e0",
            "207b6e2f2ea24ed38eaff0a891a2fd77",
            "3063f084304143559a508331bf2a66df",
            "30ce11e766134a38b7c281731485aab9",
            "b95c96c3f8534022b1733155542df6bb",
            "a4ddb2c6875949fa8d771650f25744c2",
            "59110882e8414a49802991b3ad8adc71",
            "eab75964809a4d38b4508e4341b90564"
          ]
        },
        "id": "ACRvsKmjulL7",
        "outputId": "adbd7d27-e99b-426a-ea84-0568bbff3f4c"
      },
      "execution_count": null,
      "outputs": [
        {
          "output_type": "stream",
          "name": "stderr",
          "text": [
            "89.9kB [00:00, 13.5MB/s]                   \n"
          ]
        },
        {
          "output_type": "display_data",
          "data": {
            "text/plain": [
              "Downloading:   0%|          | 0.00/908 [00:00<?, ?B/s]"
            ],
            "application/vnd.jupyter.widget-view+json": {
              "version_major": 2,
              "version_minor": 0,
              "model_id": "4ab6d4da2b614f9798805a9c057b7c5e"
            }
          },
          "metadata": {}
        },
        {
          "output_type": "display_data",
          "data": {
            "text/plain": [
              "Downloading:   0%|          | 0.00/1.94G [00:00<?, ?B/s]"
            ],
            "application/vnd.jupyter.widget-view+json": {
              "version_major": 2,
              "version_minor": 0,
              "model_id": "e667f88a9dd540e794b2e52af8b573b0"
            }
          },
          "metadata": {}
        },
        {
          "output_type": "display_data",
          "data": {
            "text/plain": [
              "Downloading:   0%|          | 0.00/272 [00:00<?, ?B/s]"
            ],
            "application/vnd.jupyter.widget-view+json": {
              "version_major": 2,
              "version_minor": 0,
              "model_id": "5da965bf2c4a423ab1cc6ecc85fa6cc6"
            }
          },
          "metadata": {}
        },
        {
          "output_type": "display_data",
          "data": {
            "text/plain": [
              "Downloading:   0%|          | 0.00/3.71M [00:00<?, ?B/s]"
            ],
            "application/vnd.jupyter.widget-view+json": {
              "version_major": 2,
              "version_minor": 0,
              "model_id": "9ec3f27217cf4e5b8fbe18332526f44c"
            }
          },
          "metadata": {}
        },
        {
          "output_type": "display_data",
          "data": {
            "text/plain": [
              "Downloading:   0%|          | 0.00/2.42M [00:00<?, ?B/s]"
            ],
            "application/vnd.jupyter.widget-view+json": {
              "version_major": 2,
              "version_minor": 0,
              "model_id": "bb2f5b6a73264eb9a575b42a20c8c394"
            }
          },
          "metadata": {}
        },
        {
          "output_type": "display_data",
          "data": {
            "text/plain": [
              "Downloading:   0%|          | 0.00/1.14k [00:00<?, ?B/s]"
            ],
            "application/vnd.jupyter.widget-view+json": {
              "version_major": 2,
              "version_minor": 0,
              "model_id": "20978747226a41e78e5438ed97bf6a9e"
            }
          },
          "metadata": {}
        }
      ]
    },
    {
      "cell_type": "code",
      "source": [
        "tran = []\n",
        "le = len(data)\n",
        "for data in result['data']:\n",
        "  try:\n",
        "    tran.append(translate(data, 'fr'))\n",
        "  except:\n",
        "    pass\n",
        "\n",
        "\n",
        "tran"
      ],
      "metadata": {
        "colab": {
          "base_uri": "https://localhost:8080/"
        },
        "id": "ymph3-q5ylJz",
        "outputId": "169cc66b-cee6-4755-8eed-3b9d966417b1"
      },
      "execution_count": null,
      "outputs": [
        {
          "output_type": "execute_result",
          "data": {
            "text/plain": [
              "[['Produit Manager',\n",
              "  'Ampersand Ruanda, Ltd. à Kigali',\n",
              "  'Publié le 10 11 2022',\n",
              "  'Travail',\n",
              "  'Général RW',\n",
              "  'Informatique et IT, Gestion, Gestion de projet',\n",
              "  'Baccalauréat',\n",
              "  'Senior (5 ans et plus d’expérience)',\n",
              "  'Temps plein',\n",
              "  'Mardi 10/01/2023 23:59',\n",
              "  '1'],\n",
              " ['C’est moi et mon directeur',\n",
              "  'Chancé international Rwanda Kigali',\n",
              "  'Publié le 31 10 2022',\n",
              "  'Travail',\n",
              "  'Général RW',\n",
              "  'Informatique et IT, Autres, Gestion du projet',\n",
              "  'Baccalauréat',\n",
              "  'Senior (5 ans et plus d’expérience)',\n",
              "  'Temps plein',\n",
              "  'vendredi 18/11/2022 23:59',\n",
              "  '1']]"
            ]
          },
          "metadata": {},
          "execution_count": 40
        }
      ]
    },
    {
      "cell_type": "markdown",
      "source": [
        "# Challenge #4"
      ],
      "metadata": {
        "id": "GTJxdk_wvPg_"
      }
    },
    {
      "cell_type": "markdown",
      "source": [
        "### Display Result In Different Languages"
      ],
      "metadata": {
        "id": "tACZ37r3vS1t"
      }
    },
    {
      "cell_type": "code",
      "source": [],
      "metadata": {
        "id": "ACqWIGADviuM"
      },
      "execution_count": null,
      "outputs": []
    },
    {
      "cell_type": "markdown",
      "source": [
        "# Challenge #5"
      ],
      "metadata": {
        "id": "PhfzgnNPvqKY"
      }
    },
    {
      "cell_type": "markdown",
      "source": [
        "## Host the API for the data in colab"
      ],
      "metadata": {
        "id": "_cElg0CmvsNp"
      }
    },
    {
      "cell_type": "code",
      "source": [
        "!pip install pyngrok flask gunicorn nest-asyncio"
      ],
      "metadata": {
        "id": "sXuWnsn1vz--"
      },
      "execution_count": null,
      "outputs": []
    },
    {
      "cell_type": "code",
      "source": [
        "!pip install flask-ngrok"
      ],
      "metadata": {
        "id": "p5WsGoXnq2YP",
        "outputId": "edfd2666-96d6-4db8-fef6-2f295492da5e",
        "colab": {
          "base_uri": "https://localhost:8080/"
        }
      },
      "execution_count": 34,
      "outputs": [
        {
          "output_type": "stream",
          "name": "stdout",
          "text": [
            "Looking in indexes: https://pypi.org/simple, https://us-python.pkg.dev/colab-wheels/public/simple/\n",
            "Collecting flask-ngrok\n",
            "  Downloading flask_ngrok-0.0.25-py3-none-any.whl (3.1 kB)\n",
            "Requirement already satisfied: requests in /usr/local/lib/python3.7/dist-packages (from flask-ngrok) (2.23.0)\n",
            "Requirement already satisfied: Flask>=0.8 in /usr/local/lib/python3.7/dist-packages (from flask-ngrok) (1.1.4)\n",
            "Requirement already satisfied: Werkzeug<2.0,>=0.15 in /usr/local/lib/python3.7/dist-packages (from Flask>=0.8->flask-ngrok) (1.0.1)\n",
            "Requirement already satisfied: click<8.0,>=5.1 in /usr/local/lib/python3.7/dist-packages (from Flask>=0.8->flask-ngrok) (7.1.2)\n",
            "Requirement already satisfied: Jinja2<3.0,>=2.10.1 in /usr/local/lib/python3.7/dist-packages (from Flask>=0.8->flask-ngrok) (2.11.3)\n",
            "Requirement already satisfied: itsdangerous<2.0,>=0.24 in /usr/local/lib/python3.7/dist-packages (from Flask>=0.8->flask-ngrok) (1.1.0)\n",
            "Requirement already satisfied: MarkupSafe>=0.23 in /usr/local/lib/python3.7/dist-packages (from Jinja2<3.0,>=2.10.1->Flask>=0.8->flask-ngrok) (2.0.1)\n",
            "Requirement already satisfied: chardet<4,>=3.0.2 in /usr/local/lib/python3.7/dist-packages (from requests->flask-ngrok) (3.0.4)\n",
            "Requirement already satisfied: certifi>=2017.4.17 in /usr/local/lib/python3.7/dist-packages (from requests->flask-ngrok) (2022.9.24)\n",
            "Requirement already satisfied: idna<3,>=2.5 in /usr/local/lib/python3.7/dist-packages (from requests->flask-ngrok) (2.10)\n",
            "Requirement already satisfied: urllib3!=1.25.0,!=1.25.1,<1.26,>=1.21.1 in /usr/local/lib/python3.7/dist-packages (from requests->flask-ngrok) (1.24.3)\n",
            "Installing collected packages: flask-ngrok\n",
            "Successfully installed flask-ngrok-0.0.25\n"
          ]
        }
      ]
    },
    {
      "cell_type": "code",
      "source": [
        "import os\n",
        "# !mkdir flask_app/\n",
        "# os.chdir('flask_app')\n",
        "!mkdir templates/\n",
        "os.chdir('templates')"
      ],
      "metadata": {
        "id": "POUDRKB3JkyU"
      },
      "execution_count": null,
      "outputs": []
    },
    {
      "cell_type": "code",
      "source": [
        "!ls && pwd"
      ],
      "metadata": {
        "id": "B7aRLRd6iG7P",
        "outputId": "82a28e8d-29e4-4f20-cad9-b7769a4c7a21",
        "colab": {
          "base_uri": "https://localhost:8080/"
        }
      },
      "execution_count": 27,
      "outputs": [
        {
          "output_type": "stream",
          "name": "stdout",
          "text": [
            "templates\n",
            "/content/flask_app\n"
          ]
        }
      ]
    },
    {
      "cell_type": "code",
      "source": [
        "%%writefile ./index.html\n",
        "<html>\n",
        "  <head>\n",
        "    <title>Hackerthon</title>\n",
        "  </head>\n",
        "  <body>\n",
        "    <h1> NLP Fellowship</h1>\n",
        "  </body>\n",
        "</html"
      ],
      "metadata": {
        "id": "z4mRO8_3Jnen"
      },
      "execution_count": null,
      "outputs": []
    },
    {
      "cell_type": "code",
      "source": [
        "os.chdir('../')"
      ],
      "metadata": {
        "id": "TuNl8uQEowJo"
      },
      "execution_count": 26,
      "outputs": []
    },
    {
      "cell_type": "code",
      "source": [
        "!ngrok authtoken 2HQWojclpuVOSumARNOyU4Y7evV_5e3x6nt1PJneVeaMZrZhR"
      ],
      "metadata": {
        "id": "yjB77dbejmdB",
        "outputId": "69150e15-9a15-43b9-d074-32278769c940",
        "colab": {
          "base_uri": "https://localhost:8080/"
        }
      },
      "execution_count": 28,
      "outputs": [
        {
          "output_type": "stream",
          "name": "stdout",
          "text": [
            "Authtoken saved to configuration file: /root/.ngrok2/ngrok.yml\n"
          ]
        }
      ]
    },
    {
      "cell_type": "code",
      "source": [
        "# %%writefile main.py\n",
        "from flask import Flask, render_template, request\n",
        "from pyngrok import ngrok\n",
        "import threading\n",
        "from flask_ngrok import run_with_ngrok\n",
        "\n",
        "app = Flask(__name__)\n",
        "run_with_ngrock(app)\n",
        "\n",
        "# ngrok.set_auth_token('2HQSVXHhomb6jtpmJoBbbXOip1k_7tT9vHrouBmGFuP1pqGbC')\n",
        "\n",
        "# port = 4994\n",
        "# url = ngrok.connect(port).url\n",
        "\n",
        "@app.route('/')\n",
        "def home():\n",
        "  return render_template('index.html')\n",
        "\n",
        "@app.route('/jobs', methods=[\"GET\", \"POST\"])\n",
        "def jobs():\n",
        "  if request.method == 'POST':\n",
        "    pass\n",
        "  elif request.method == 'GET':\n",
        "    pass\n",
        "\n",
        "if __name__ == \"__main__\":\n",
        "  app.run()\n"
      ],
      "metadata": {
        "id": "A1BSvY3aVolO",
        "outputId": "05f356aa-6848-4b2f-d0bc-ef6653d8a4cc",
        "colab": {
          "base_uri": "https://localhost:8080/"
        }
      },
      "execution_count": 35,
      "outputs": [
        {
          "output_type": "error",
          "ename": "NameError",
          "evalue": "ignored",
          "traceback": [
            "\u001b[0;31m---------------------------------------------------------------------------\u001b[0m",
            "\u001b[0;31mNameError\u001b[0m                                 Traceback (most recent call last)",
            "\u001b[0;32m<ipython-input-35-c19b568c1310>\u001b[0m in \u001b[0;36m<module>\u001b[0;34m\u001b[0m\n\u001b[1;32m      6\u001b[0m \u001b[0;34m\u001b[0m\u001b[0m\n\u001b[1;32m      7\u001b[0m \u001b[0mapp\u001b[0m \u001b[0;34m=\u001b[0m \u001b[0mFlask\u001b[0m\u001b[0;34m(\u001b[0m\u001b[0m__name__\u001b[0m\u001b[0;34m)\u001b[0m\u001b[0;34m\u001b[0m\u001b[0;34m\u001b[0m\u001b[0m\n\u001b[0;32m----> 8\u001b[0;31m \u001b[0mrun_with_ngrock\u001b[0m\u001b[0;34m(\u001b[0m\u001b[0mapp\u001b[0m\u001b[0;34m)\u001b[0m\u001b[0;34m\u001b[0m\u001b[0;34m\u001b[0m\u001b[0m\n\u001b[0m\u001b[1;32m      9\u001b[0m \u001b[0;34m\u001b[0m\u001b[0m\n\u001b[1;32m     10\u001b[0m \u001b[0;31m# ngrok.set_auth_token('2HQSVXHhomb6jtpmJoBbbXOip1k_7tT9vHrouBmGFuP1pqGbC')\u001b[0m\u001b[0;34m\u001b[0m\u001b[0;34m\u001b[0m\u001b[0;34m\u001b[0m\u001b[0m\n",
            "\u001b[0;31mNameError\u001b[0m: name 'run_with_ngrock' is not defined"
          ]
        }
      ]
    },
    {
      "cell_type": "code",
      "source": [
        "!ls"
      ],
      "metadata": {
        "id": "KD5xAWXeZRoc",
        "outputId": "80528318-6b0a-483c-94fb-f7849c20c8da",
        "colab": {
          "base_uri": "https://localhost:8080/"
        }
      },
      "execution_count": null,
      "outputs": [
        {
          "output_type": "stream",
          "name": "stdout",
          "text": [
            "index.html\n"
          ]
        }
      ]
    },
    {
      "cell_type": "code",
      "source": [
        "%%writefile main.py\n",
        "import nest_asyncio\n",
        "from pyngrok import ngrok\n",
        "import gunicorn\n",
        "\n",
        "port = 4994\n",
        "ngrok_tunnel = ngrok.connect(port)\n",
        "print('RESTAPI STARTED...')\n",
        "print(f\"Public url ===> {ngrok_tunnel.public_url}\")\n",
        "\n",
        "nest_asyncio.apply()\n",
        "gunicorn.run(app, port = port)"
      ],
      "metadata": {
        "id": "-FAXsgxEZUQb",
        "outputId": "284a75ed-27e3-4ab4-f7b4-6ffc3e5af712",
        "colab": {
          "base_uri": "https://localhost:8080/"
        }
      },
      "execution_count": 32,
      "outputs": [
        {
          "output_type": "stream",
          "name": "stdout",
          "text": [
            "Overwriting main.py\n"
          ]
        }
      ]
    },
    {
      "cell_type": "code",
      "source": [
        "!python main.py"
      ],
      "metadata": {
        "id": "6rsOjteGpIuC",
        "outputId": "e0334386-570c-4956-f07c-19245da851ce",
        "colab": {
          "base_uri": "https://localhost:8080/"
        }
      },
      "execution_count": 33,
      "outputs": [
        {
          "output_type": "stream",
          "name": "stdout",
          "text": [
            "RESTAPI STARTED...\n",
            "Public url ===> http://ef46-34-172-113-154.ngrok.io\n",
            "Traceback (most recent call last):\n",
            "  File \"main.py\", line 11, in <module>\n",
            "    gunicorn.run(app, port = port)\n",
            "AttributeError: module 'gunicorn' has no attribute 'run'\n"
          ]
        }
      ]
    },
    {
      "cell_type": "code",
      "source": [],
      "metadata": {
        "id": "wMLGaGa1m_9J"
      },
      "execution_count": null,
      "outputs": []
    }
  ],
  "metadata": {
    "language_info": {
      "name": "python"
    },
    "orig_nbformat": 4,
    "colab": {
      "provenance": [],
      "include_colab_link": true
    },
    "kernelspec": {
      "name": "python3",
      "display_name": "Python 3"
    },
    "gpuClass": "standard",
    "accelerator": "GPU",
    "widgets": {
      "application/vnd.jupyter.widget-state+json": {
        "4ab6d4da2b614f9798805a9c057b7c5e": {
          "model_module": "@jupyter-widgets/controls",
          "model_name": "HBoxModel",
          "model_module_version": "1.5.0",
          "state": {
            "_dom_classes": [],
            "_model_module": "@jupyter-widgets/controls",
            "_model_module_version": "1.5.0",
            "_model_name": "HBoxModel",
            "_view_count": null,
            "_view_module": "@jupyter-widgets/controls",
            "_view_module_version": "1.5.0",
            "_view_name": "HBoxView",
            "box_style": "",
            "children": [
              "IPY_MODEL_b133931639d04341984e2bcaceaf1080",
              "IPY_MODEL_1751c218b39d44eab0217801311c3c6c",
              "IPY_MODEL_ba3082b9721442b6a5de5ae5378cc29e"
            ],
            "layout": "IPY_MODEL_aa6b2a03c54445ab980220e53b944d35"
          }
        },
        "b133931639d04341984e2bcaceaf1080": {
          "model_module": "@jupyter-widgets/controls",
          "model_name": "HTMLModel",
          "model_module_version": "1.5.0",
          "state": {
            "_dom_classes": [],
            "_model_module": "@jupyter-widgets/controls",
            "_model_module_version": "1.5.0",
            "_model_name": "HTMLModel",
            "_view_count": null,
            "_view_module": "@jupyter-widgets/controls",
            "_view_module_version": "1.5.0",
            "_view_name": "HTMLView",
            "description": "",
            "description_tooltip": null,
            "layout": "IPY_MODEL_4252726c636f465b8795ab61f99d8646",
            "placeholder": "​",
            "style": "IPY_MODEL_654d5a3b914d46508f0ba64c74182ec2",
            "value": "Downloading: 100%"
          }
        },
        "1751c218b39d44eab0217801311c3c6c": {
          "model_module": "@jupyter-widgets/controls",
          "model_name": "FloatProgressModel",
          "model_module_version": "1.5.0",
          "state": {
            "_dom_classes": [],
            "_model_module": "@jupyter-widgets/controls",
            "_model_module_version": "1.5.0",
            "_model_name": "FloatProgressModel",
            "_view_count": null,
            "_view_module": "@jupyter-widgets/controls",
            "_view_module_version": "1.5.0",
            "_view_name": "ProgressView",
            "bar_style": "success",
            "description": "",
            "description_tooltip": null,
            "layout": "IPY_MODEL_505a4b8376214f9fa9f482b07847812a",
            "max": 908,
            "min": 0,
            "orientation": "horizontal",
            "style": "IPY_MODEL_528ac28697c046bcb6747372a6388a2c",
            "value": 908
          }
        },
        "ba3082b9721442b6a5de5ae5378cc29e": {
          "model_module": "@jupyter-widgets/controls",
          "model_name": "HTMLModel",
          "model_module_version": "1.5.0",
          "state": {
            "_dom_classes": [],
            "_model_module": "@jupyter-widgets/controls",
            "_model_module_version": "1.5.0",
            "_model_name": "HTMLModel",
            "_view_count": null,
            "_view_module": "@jupyter-widgets/controls",
            "_view_module_version": "1.5.0",
            "_view_name": "HTMLView",
            "description": "",
            "description_tooltip": null,
            "layout": "IPY_MODEL_bba5456b93b249f6849f436ead9a431b",
            "placeholder": "​",
            "style": "IPY_MODEL_55f4a3bf28474019b22ec41d7943abcc",
            "value": " 908/908 [00:00&lt;00:00, 14.0kB/s]"
          }
        },
        "aa6b2a03c54445ab980220e53b944d35": {
          "model_module": "@jupyter-widgets/base",
          "model_name": "LayoutModel",
          "model_module_version": "1.2.0",
          "state": {
            "_model_module": "@jupyter-widgets/base",
            "_model_module_version": "1.2.0",
            "_model_name": "LayoutModel",
            "_view_count": null,
            "_view_module": "@jupyter-widgets/base",
            "_view_module_version": "1.2.0",
            "_view_name": "LayoutView",
            "align_content": null,
            "align_items": null,
            "align_self": null,
            "border": null,
            "bottom": null,
            "display": null,
            "flex": null,
            "flex_flow": null,
            "grid_area": null,
            "grid_auto_columns": null,
            "grid_auto_flow": null,
            "grid_auto_rows": null,
            "grid_column": null,
            "grid_gap": null,
            "grid_row": null,
            "grid_template_areas": null,
            "grid_template_columns": null,
            "grid_template_rows": null,
            "height": null,
            "justify_content": null,
            "justify_items": null,
            "left": null,
            "margin": null,
            "max_height": null,
            "max_width": null,
            "min_height": null,
            "min_width": null,
            "object_fit": null,
            "object_position": null,
            "order": null,
            "overflow": null,
            "overflow_x": null,
            "overflow_y": null,
            "padding": null,
            "right": null,
            "top": null,
            "visibility": null,
            "width": null
          }
        },
        "4252726c636f465b8795ab61f99d8646": {
          "model_module": "@jupyter-widgets/base",
          "model_name": "LayoutModel",
          "model_module_version": "1.2.0",
          "state": {
            "_model_module": "@jupyter-widgets/base",
            "_model_module_version": "1.2.0",
            "_model_name": "LayoutModel",
            "_view_count": null,
            "_view_module": "@jupyter-widgets/base",
            "_view_module_version": "1.2.0",
            "_view_name": "LayoutView",
            "align_content": null,
            "align_items": null,
            "align_self": null,
            "border": null,
            "bottom": null,
            "display": null,
            "flex": null,
            "flex_flow": null,
            "grid_area": null,
            "grid_auto_columns": null,
            "grid_auto_flow": null,
            "grid_auto_rows": null,
            "grid_column": null,
            "grid_gap": null,
            "grid_row": null,
            "grid_template_areas": null,
            "grid_template_columns": null,
            "grid_template_rows": null,
            "height": null,
            "justify_content": null,
            "justify_items": null,
            "left": null,
            "margin": null,
            "max_height": null,
            "max_width": null,
            "min_height": null,
            "min_width": null,
            "object_fit": null,
            "object_position": null,
            "order": null,
            "overflow": null,
            "overflow_x": null,
            "overflow_y": null,
            "padding": null,
            "right": null,
            "top": null,
            "visibility": null,
            "width": null
          }
        },
        "654d5a3b914d46508f0ba64c74182ec2": {
          "model_module": "@jupyter-widgets/controls",
          "model_name": "DescriptionStyleModel",
          "model_module_version": "1.5.0",
          "state": {
            "_model_module": "@jupyter-widgets/controls",
            "_model_module_version": "1.5.0",
            "_model_name": "DescriptionStyleModel",
            "_view_count": null,
            "_view_module": "@jupyter-widgets/base",
            "_view_module_version": "1.2.0",
            "_view_name": "StyleView",
            "description_width": ""
          }
        },
        "505a4b8376214f9fa9f482b07847812a": {
          "model_module": "@jupyter-widgets/base",
          "model_name": "LayoutModel",
          "model_module_version": "1.2.0",
          "state": {
            "_model_module": "@jupyter-widgets/base",
            "_model_module_version": "1.2.0",
            "_model_name": "LayoutModel",
            "_view_count": null,
            "_view_module": "@jupyter-widgets/base",
            "_view_module_version": "1.2.0",
            "_view_name": "LayoutView",
            "align_content": null,
            "align_items": null,
            "align_self": null,
            "border": null,
            "bottom": null,
            "display": null,
            "flex": null,
            "flex_flow": null,
            "grid_area": null,
            "grid_auto_columns": null,
            "grid_auto_flow": null,
            "grid_auto_rows": null,
            "grid_column": null,
            "grid_gap": null,
            "grid_row": null,
            "grid_template_areas": null,
            "grid_template_columns": null,
            "grid_template_rows": null,
            "height": null,
            "justify_content": null,
            "justify_items": null,
            "left": null,
            "margin": null,
            "max_height": null,
            "max_width": null,
            "min_height": null,
            "min_width": null,
            "object_fit": null,
            "object_position": null,
            "order": null,
            "overflow": null,
            "overflow_x": null,
            "overflow_y": null,
            "padding": null,
            "right": null,
            "top": null,
            "visibility": null,
            "width": null
          }
        },
        "528ac28697c046bcb6747372a6388a2c": {
          "model_module": "@jupyter-widgets/controls",
          "model_name": "ProgressStyleModel",
          "model_module_version": "1.5.0",
          "state": {
            "_model_module": "@jupyter-widgets/controls",
            "_model_module_version": "1.5.0",
            "_model_name": "ProgressStyleModel",
            "_view_count": null,
            "_view_module": "@jupyter-widgets/base",
            "_view_module_version": "1.2.0",
            "_view_name": "StyleView",
            "bar_color": null,
            "description_width": ""
          }
        },
        "bba5456b93b249f6849f436ead9a431b": {
          "model_module": "@jupyter-widgets/base",
          "model_name": "LayoutModel",
          "model_module_version": "1.2.0",
          "state": {
            "_model_module": "@jupyter-widgets/base",
            "_model_module_version": "1.2.0",
            "_model_name": "LayoutModel",
            "_view_count": null,
            "_view_module": "@jupyter-widgets/base",
            "_view_module_version": "1.2.0",
            "_view_name": "LayoutView",
            "align_content": null,
            "align_items": null,
            "align_self": null,
            "border": null,
            "bottom": null,
            "display": null,
            "flex": null,
            "flex_flow": null,
            "grid_area": null,
            "grid_auto_columns": null,
            "grid_auto_flow": null,
            "grid_auto_rows": null,
            "grid_column": null,
            "grid_gap": null,
            "grid_row": null,
            "grid_template_areas": null,
            "grid_template_columns": null,
            "grid_template_rows": null,
            "height": null,
            "justify_content": null,
            "justify_items": null,
            "left": null,
            "margin": null,
            "max_height": null,
            "max_width": null,
            "min_height": null,
            "min_width": null,
            "object_fit": null,
            "object_position": null,
            "order": null,
            "overflow": null,
            "overflow_x": null,
            "overflow_y": null,
            "padding": null,
            "right": null,
            "top": null,
            "visibility": null,
            "width": null
          }
        },
        "55f4a3bf28474019b22ec41d7943abcc": {
          "model_module": "@jupyter-widgets/controls",
          "model_name": "DescriptionStyleModel",
          "model_module_version": "1.5.0",
          "state": {
            "_model_module": "@jupyter-widgets/controls",
            "_model_module_version": "1.5.0",
            "_model_name": "DescriptionStyleModel",
            "_view_count": null,
            "_view_module": "@jupyter-widgets/base",
            "_view_module_version": "1.2.0",
            "_view_name": "StyleView",
            "description_width": ""
          }
        },
        "e667f88a9dd540e794b2e52af8b573b0": {
          "model_module": "@jupyter-widgets/controls",
          "model_name": "HBoxModel",
          "model_module_version": "1.5.0",
          "state": {
            "_dom_classes": [],
            "_model_module": "@jupyter-widgets/controls",
            "_model_module_version": "1.5.0",
            "_model_name": "HBoxModel",
            "_view_count": null,
            "_view_module": "@jupyter-widgets/controls",
            "_view_module_version": "1.5.0",
            "_view_name": "HBoxView",
            "box_style": "",
            "children": [
              "IPY_MODEL_c41a00b2b470404dad14a39d1197ca1f",
              "IPY_MODEL_a7c258824ea04af28bdbf05b35fc2f95",
              "IPY_MODEL_b8b886f865674a62a791fd14a2d3b825"
            ],
            "layout": "IPY_MODEL_7e273fcc39784279b68a10d25568819b"
          }
        },
        "c41a00b2b470404dad14a39d1197ca1f": {
          "model_module": "@jupyter-widgets/controls",
          "model_name": "HTMLModel",
          "model_module_version": "1.5.0",
          "state": {
            "_dom_classes": [],
            "_model_module": "@jupyter-widgets/controls",
            "_model_module_version": "1.5.0",
            "_model_name": "HTMLModel",
            "_view_count": null,
            "_view_module": "@jupyter-widgets/controls",
            "_view_module_version": "1.5.0",
            "_view_name": "HTMLView",
            "description": "",
            "description_tooltip": null,
            "layout": "IPY_MODEL_51ce331494174a7396b4875f4cc470c0",
            "placeholder": "​",
            "style": "IPY_MODEL_f57496735df34dd48c996f595bdac427",
            "value": "Downloading: 100%"
          }
        },
        "a7c258824ea04af28bdbf05b35fc2f95": {
          "model_module": "@jupyter-widgets/controls",
          "model_name": "FloatProgressModel",
          "model_module_version": "1.5.0",
          "state": {
            "_dom_classes": [],
            "_model_module": "@jupyter-widgets/controls",
            "_model_module_version": "1.5.0",
            "_model_name": "FloatProgressModel",
            "_view_count": null,
            "_view_module": "@jupyter-widgets/controls",
            "_view_module_version": "1.5.0",
            "_view_name": "ProgressView",
            "bar_style": "success",
            "description": "",
            "description_tooltip": null,
            "layout": "IPY_MODEL_450242e4745d46e1b4cb3f612c42162a",
            "max": 1935796948,
            "min": 0,
            "orientation": "horizontal",
            "style": "IPY_MODEL_f7e5d0b0ce744fafad896768ca91ee82",
            "value": 1935796948
          }
        },
        "b8b886f865674a62a791fd14a2d3b825": {
          "model_module": "@jupyter-widgets/controls",
          "model_name": "HTMLModel",
          "model_module_version": "1.5.0",
          "state": {
            "_dom_classes": [],
            "_model_module": "@jupyter-widgets/controls",
            "_model_module_version": "1.5.0",
            "_model_name": "HTMLModel",
            "_view_count": null,
            "_view_module": "@jupyter-widgets/controls",
            "_view_module_version": "1.5.0",
            "_view_name": "HTMLView",
            "description": "",
            "description_tooltip": null,
            "layout": "IPY_MODEL_106c8cc304564198850e273212f15a28",
            "placeholder": "​",
            "style": "IPY_MODEL_620720e157da40d8acd1ecf5e97bbbbb",
            "value": " 1.94G/1.94G [00:37&lt;00:00, 61.8MB/s]"
          }
        },
        "7e273fcc39784279b68a10d25568819b": {
          "model_module": "@jupyter-widgets/base",
          "model_name": "LayoutModel",
          "model_module_version": "1.2.0",
          "state": {
            "_model_module": "@jupyter-widgets/base",
            "_model_module_version": "1.2.0",
            "_model_name": "LayoutModel",
            "_view_count": null,
            "_view_module": "@jupyter-widgets/base",
            "_view_module_version": "1.2.0",
            "_view_name": "LayoutView",
            "align_content": null,
            "align_items": null,
            "align_self": null,
            "border": null,
            "bottom": null,
            "display": null,
            "flex": null,
            "flex_flow": null,
            "grid_area": null,
            "grid_auto_columns": null,
            "grid_auto_flow": null,
            "grid_auto_rows": null,
            "grid_column": null,
            "grid_gap": null,
            "grid_row": null,
            "grid_template_areas": null,
            "grid_template_columns": null,
            "grid_template_rows": null,
            "height": null,
            "justify_content": null,
            "justify_items": null,
            "left": null,
            "margin": null,
            "max_height": null,
            "max_width": null,
            "min_height": null,
            "min_width": null,
            "object_fit": null,
            "object_position": null,
            "order": null,
            "overflow": null,
            "overflow_x": null,
            "overflow_y": null,
            "padding": null,
            "right": null,
            "top": null,
            "visibility": null,
            "width": null
          }
        },
        "51ce331494174a7396b4875f4cc470c0": {
          "model_module": "@jupyter-widgets/base",
          "model_name": "LayoutModel",
          "model_module_version": "1.2.0",
          "state": {
            "_model_module": "@jupyter-widgets/base",
            "_model_module_version": "1.2.0",
            "_model_name": "LayoutModel",
            "_view_count": null,
            "_view_module": "@jupyter-widgets/base",
            "_view_module_version": "1.2.0",
            "_view_name": "LayoutView",
            "align_content": null,
            "align_items": null,
            "align_self": null,
            "border": null,
            "bottom": null,
            "display": null,
            "flex": null,
            "flex_flow": null,
            "grid_area": null,
            "grid_auto_columns": null,
            "grid_auto_flow": null,
            "grid_auto_rows": null,
            "grid_column": null,
            "grid_gap": null,
            "grid_row": null,
            "grid_template_areas": null,
            "grid_template_columns": null,
            "grid_template_rows": null,
            "height": null,
            "justify_content": null,
            "justify_items": null,
            "left": null,
            "margin": null,
            "max_height": null,
            "max_width": null,
            "min_height": null,
            "min_width": null,
            "object_fit": null,
            "object_position": null,
            "order": null,
            "overflow": null,
            "overflow_x": null,
            "overflow_y": null,
            "padding": null,
            "right": null,
            "top": null,
            "visibility": null,
            "width": null
          }
        },
        "f57496735df34dd48c996f595bdac427": {
          "model_module": "@jupyter-widgets/controls",
          "model_name": "DescriptionStyleModel",
          "model_module_version": "1.5.0",
          "state": {
            "_model_module": "@jupyter-widgets/controls",
            "_model_module_version": "1.5.0",
            "_model_name": "DescriptionStyleModel",
            "_view_count": null,
            "_view_module": "@jupyter-widgets/base",
            "_view_module_version": "1.2.0",
            "_view_name": "StyleView",
            "description_width": ""
          }
        },
        "450242e4745d46e1b4cb3f612c42162a": {
          "model_module": "@jupyter-widgets/base",
          "model_name": "LayoutModel",
          "model_module_version": "1.2.0",
          "state": {
            "_model_module": "@jupyter-widgets/base",
            "_model_module_version": "1.2.0",
            "_model_name": "LayoutModel",
            "_view_count": null,
            "_view_module": "@jupyter-widgets/base",
            "_view_module_version": "1.2.0",
            "_view_name": "LayoutView",
            "align_content": null,
            "align_items": null,
            "align_self": null,
            "border": null,
            "bottom": null,
            "display": null,
            "flex": null,
            "flex_flow": null,
            "grid_area": null,
            "grid_auto_columns": null,
            "grid_auto_flow": null,
            "grid_auto_rows": null,
            "grid_column": null,
            "grid_gap": null,
            "grid_row": null,
            "grid_template_areas": null,
            "grid_template_columns": null,
            "grid_template_rows": null,
            "height": null,
            "justify_content": null,
            "justify_items": null,
            "left": null,
            "margin": null,
            "max_height": null,
            "max_width": null,
            "min_height": null,
            "min_width": null,
            "object_fit": null,
            "object_position": null,
            "order": null,
            "overflow": null,
            "overflow_x": null,
            "overflow_y": null,
            "padding": null,
            "right": null,
            "top": null,
            "visibility": null,
            "width": null
          }
        },
        "f7e5d0b0ce744fafad896768ca91ee82": {
          "model_module": "@jupyter-widgets/controls",
          "model_name": "ProgressStyleModel",
          "model_module_version": "1.5.0",
          "state": {
            "_model_module": "@jupyter-widgets/controls",
            "_model_module_version": "1.5.0",
            "_model_name": "ProgressStyleModel",
            "_view_count": null,
            "_view_module": "@jupyter-widgets/base",
            "_view_module_version": "1.2.0",
            "_view_name": "StyleView",
            "bar_color": null,
            "description_width": ""
          }
        },
        "106c8cc304564198850e273212f15a28": {
          "model_module": "@jupyter-widgets/base",
          "model_name": "LayoutModel",
          "model_module_version": "1.2.0",
          "state": {
            "_model_module": "@jupyter-widgets/base",
            "_model_module_version": "1.2.0",
            "_model_name": "LayoutModel",
            "_view_count": null,
            "_view_module": "@jupyter-widgets/base",
            "_view_module_version": "1.2.0",
            "_view_name": "LayoutView",
            "align_content": null,
            "align_items": null,
            "align_self": null,
            "border": null,
            "bottom": null,
            "display": null,
            "flex": null,
            "flex_flow": null,
            "grid_area": null,
            "grid_auto_columns": null,
            "grid_auto_flow": null,
            "grid_auto_rows": null,
            "grid_column": null,
            "grid_gap": null,
            "grid_row": null,
            "grid_template_areas": null,
            "grid_template_columns": null,
            "grid_template_rows": null,
            "height": null,
            "justify_content": null,
            "justify_items": null,
            "left": null,
            "margin": null,
            "max_height": null,
            "max_width": null,
            "min_height": null,
            "min_width": null,
            "object_fit": null,
            "object_position": null,
            "order": null,
            "overflow": null,
            "overflow_x": null,
            "overflow_y": null,
            "padding": null,
            "right": null,
            "top": null,
            "visibility": null,
            "width": null
          }
        },
        "620720e157da40d8acd1ecf5e97bbbbb": {
          "model_module": "@jupyter-widgets/controls",
          "model_name": "DescriptionStyleModel",
          "model_module_version": "1.5.0",
          "state": {
            "_model_module": "@jupyter-widgets/controls",
            "_model_module_version": "1.5.0",
            "_model_name": "DescriptionStyleModel",
            "_view_count": null,
            "_view_module": "@jupyter-widgets/base",
            "_view_module_version": "1.2.0",
            "_view_name": "StyleView",
            "description_width": ""
          }
        },
        "5da965bf2c4a423ab1cc6ecc85fa6cc6": {
          "model_module": "@jupyter-widgets/controls",
          "model_name": "HBoxModel",
          "model_module_version": "1.5.0",
          "state": {
            "_dom_classes": [],
            "_model_module": "@jupyter-widgets/controls",
            "_model_module_version": "1.5.0",
            "_model_name": "HBoxModel",
            "_view_count": null,
            "_view_module": "@jupyter-widgets/controls",
            "_view_module_version": "1.5.0",
            "_view_name": "HBoxView",
            "box_style": "",
            "children": [
              "IPY_MODEL_94385cfb26464a319f2d6f1e86c88d6f",
              "IPY_MODEL_6a122c1ec38a4e90b53e2cee2977dbcd",
              "IPY_MODEL_25d9ae5d835047a8a79aee14a5f6d75f"
            ],
            "layout": "IPY_MODEL_b8a63d315e924332a857d88241ed71fd"
          }
        },
        "94385cfb26464a319f2d6f1e86c88d6f": {
          "model_module": "@jupyter-widgets/controls",
          "model_name": "HTMLModel",
          "model_module_version": "1.5.0",
          "state": {
            "_dom_classes": [],
            "_model_module": "@jupyter-widgets/controls",
            "_model_module_version": "1.5.0",
            "_model_name": "HTMLModel",
            "_view_count": null,
            "_view_module": "@jupyter-widgets/controls",
            "_view_module_version": "1.5.0",
            "_view_name": "HTMLView",
            "description": "",
            "description_tooltip": null,
            "layout": "IPY_MODEL_c3746436d88640d3801f50a1006a4942",
            "placeholder": "​",
            "style": "IPY_MODEL_284f03bd75ed4f2e8d6f1a2cb536c31e",
            "value": "Downloading: 100%"
          }
        },
        "6a122c1ec38a4e90b53e2cee2977dbcd": {
          "model_module": "@jupyter-widgets/controls",
          "model_name": "FloatProgressModel",
          "model_module_version": "1.5.0",
          "state": {
            "_dom_classes": [],
            "_model_module": "@jupyter-widgets/controls",
            "_model_module_version": "1.5.0",
            "_model_name": "FloatProgressModel",
            "_view_count": null,
            "_view_module": "@jupyter-widgets/controls",
            "_view_module_version": "1.5.0",
            "_view_name": "ProgressView",
            "bar_style": "success",
            "description": "",
            "description_tooltip": null,
            "layout": "IPY_MODEL_6f1ce04dd396488087cbf28e6ef50aa6",
            "max": 272,
            "min": 0,
            "orientation": "horizontal",
            "style": "IPY_MODEL_b735d5c993cd4cc1b5ab99153deb177f",
            "value": 272
          }
        },
        "25d9ae5d835047a8a79aee14a5f6d75f": {
          "model_module": "@jupyter-widgets/controls",
          "model_name": "HTMLModel",
          "model_module_version": "1.5.0",
          "state": {
            "_dom_classes": [],
            "_model_module": "@jupyter-widgets/controls",
            "_model_module_version": "1.5.0",
            "_model_name": "HTMLModel",
            "_view_count": null,
            "_view_module": "@jupyter-widgets/controls",
            "_view_module_version": "1.5.0",
            "_view_name": "HTMLView",
            "description": "",
            "description_tooltip": null,
            "layout": "IPY_MODEL_4700f5fc06a14311991fe3a06caeef2c",
            "placeholder": "​",
            "style": "IPY_MODEL_b8fbb879ec944dd4a9c046a3924400f2",
            "value": " 272/272 [00:00&lt;00:00, 8.75kB/s]"
          }
        },
        "b8a63d315e924332a857d88241ed71fd": {
          "model_module": "@jupyter-widgets/base",
          "model_name": "LayoutModel",
          "model_module_version": "1.2.0",
          "state": {
            "_model_module": "@jupyter-widgets/base",
            "_model_module_version": "1.2.0",
            "_model_name": "LayoutModel",
            "_view_count": null,
            "_view_module": "@jupyter-widgets/base",
            "_view_module_version": "1.2.0",
            "_view_name": "LayoutView",
            "align_content": null,
            "align_items": null,
            "align_self": null,
            "border": null,
            "bottom": null,
            "display": null,
            "flex": null,
            "flex_flow": null,
            "grid_area": null,
            "grid_auto_columns": null,
            "grid_auto_flow": null,
            "grid_auto_rows": null,
            "grid_column": null,
            "grid_gap": null,
            "grid_row": null,
            "grid_template_areas": null,
            "grid_template_columns": null,
            "grid_template_rows": null,
            "height": null,
            "justify_content": null,
            "justify_items": null,
            "left": null,
            "margin": null,
            "max_height": null,
            "max_width": null,
            "min_height": null,
            "min_width": null,
            "object_fit": null,
            "object_position": null,
            "order": null,
            "overflow": null,
            "overflow_x": null,
            "overflow_y": null,
            "padding": null,
            "right": null,
            "top": null,
            "visibility": null,
            "width": null
          }
        },
        "c3746436d88640d3801f50a1006a4942": {
          "model_module": "@jupyter-widgets/base",
          "model_name": "LayoutModel",
          "model_module_version": "1.2.0",
          "state": {
            "_model_module": "@jupyter-widgets/base",
            "_model_module_version": "1.2.0",
            "_model_name": "LayoutModel",
            "_view_count": null,
            "_view_module": "@jupyter-widgets/base",
            "_view_module_version": "1.2.0",
            "_view_name": "LayoutView",
            "align_content": null,
            "align_items": null,
            "align_self": null,
            "border": null,
            "bottom": null,
            "display": null,
            "flex": null,
            "flex_flow": null,
            "grid_area": null,
            "grid_auto_columns": null,
            "grid_auto_flow": null,
            "grid_auto_rows": null,
            "grid_column": null,
            "grid_gap": null,
            "grid_row": null,
            "grid_template_areas": null,
            "grid_template_columns": null,
            "grid_template_rows": null,
            "height": null,
            "justify_content": null,
            "justify_items": null,
            "left": null,
            "margin": null,
            "max_height": null,
            "max_width": null,
            "min_height": null,
            "min_width": null,
            "object_fit": null,
            "object_position": null,
            "order": null,
            "overflow": null,
            "overflow_x": null,
            "overflow_y": null,
            "padding": null,
            "right": null,
            "top": null,
            "visibility": null,
            "width": null
          }
        },
        "284f03bd75ed4f2e8d6f1a2cb536c31e": {
          "model_module": "@jupyter-widgets/controls",
          "model_name": "DescriptionStyleModel",
          "model_module_version": "1.5.0",
          "state": {
            "_model_module": "@jupyter-widgets/controls",
            "_model_module_version": "1.5.0",
            "_model_name": "DescriptionStyleModel",
            "_view_count": null,
            "_view_module": "@jupyter-widgets/base",
            "_view_module_version": "1.2.0",
            "_view_name": "StyleView",
            "description_width": ""
          }
        },
        "6f1ce04dd396488087cbf28e6ef50aa6": {
          "model_module": "@jupyter-widgets/base",
          "model_name": "LayoutModel",
          "model_module_version": "1.2.0",
          "state": {
            "_model_module": "@jupyter-widgets/base",
            "_model_module_version": "1.2.0",
            "_model_name": "LayoutModel",
            "_view_count": null,
            "_view_module": "@jupyter-widgets/base",
            "_view_module_version": "1.2.0",
            "_view_name": "LayoutView",
            "align_content": null,
            "align_items": null,
            "align_self": null,
            "border": null,
            "bottom": null,
            "display": null,
            "flex": null,
            "flex_flow": null,
            "grid_area": null,
            "grid_auto_columns": null,
            "grid_auto_flow": null,
            "grid_auto_rows": null,
            "grid_column": null,
            "grid_gap": null,
            "grid_row": null,
            "grid_template_areas": null,
            "grid_template_columns": null,
            "grid_template_rows": null,
            "height": null,
            "justify_content": null,
            "justify_items": null,
            "left": null,
            "margin": null,
            "max_height": null,
            "max_width": null,
            "min_height": null,
            "min_width": null,
            "object_fit": null,
            "object_position": null,
            "order": null,
            "overflow": null,
            "overflow_x": null,
            "overflow_y": null,
            "padding": null,
            "right": null,
            "top": null,
            "visibility": null,
            "width": null
          }
        },
        "b735d5c993cd4cc1b5ab99153deb177f": {
          "model_module": "@jupyter-widgets/controls",
          "model_name": "ProgressStyleModel",
          "model_module_version": "1.5.0",
          "state": {
            "_model_module": "@jupyter-widgets/controls",
            "_model_module_version": "1.5.0",
            "_model_name": "ProgressStyleModel",
            "_view_count": null,
            "_view_module": "@jupyter-widgets/base",
            "_view_module_version": "1.2.0",
            "_view_name": "StyleView",
            "bar_color": null,
            "description_width": ""
          }
        },
        "4700f5fc06a14311991fe3a06caeef2c": {
          "model_module": "@jupyter-widgets/base",
          "model_name": "LayoutModel",
          "model_module_version": "1.2.0",
          "state": {
            "_model_module": "@jupyter-widgets/base",
            "_model_module_version": "1.2.0",
            "_model_name": "LayoutModel",
            "_view_count": null,
            "_view_module": "@jupyter-widgets/base",
            "_view_module_version": "1.2.0",
            "_view_name": "LayoutView",
            "align_content": null,
            "align_items": null,
            "align_self": null,
            "border": null,
            "bottom": null,
            "display": null,
            "flex": null,
            "flex_flow": null,
            "grid_area": null,
            "grid_auto_columns": null,
            "grid_auto_flow": null,
            "grid_auto_rows": null,
            "grid_column": null,
            "grid_gap": null,
            "grid_row": null,
            "grid_template_areas": null,
            "grid_template_columns": null,
            "grid_template_rows": null,
            "height": null,
            "justify_content": null,
            "justify_items": null,
            "left": null,
            "margin": null,
            "max_height": null,
            "max_width": null,
            "min_height": null,
            "min_width": null,
            "object_fit": null,
            "object_position": null,
            "order": null,
            "overflow": null,
            "overflow_x": null,
            "overflow_y": null,
            "padding": null,
            "right": null,
            "top": null,
            "visibility": null,
            "width": null
          }
        },
        "b8fbb879ec944dd4a9c046a3924400f2": {
          "model_module": "@jupyter-widgets/controls",
          "model_name": "DescriptionStyleModel",
          "model_module_version": "1.5.0",
          "state": {
            "_model_module": "@jupyter-widgets/controls",
            "_model_module_version": "1.5.0",
            "_model_name": "DescriptionStyleModel",
            "_view_count": null,
            "_view_module": "@jupyter-widgets/base",
            "_view_module_version": "1.2.0",
            "_view_name": "StyleView",
            "description_width": ""
          }
        },
        "9ec3f27217cf4e5b8fbe18332526f44c": {
          "model_module": "@jupyter-widgets/controls",
          "model_name": "HBoxModel",
          "model_module_version": "1.5.0",
          "state": {
            "_dom_classes": [],
            "_model_module": "@jupyter-widgets/controls",
            "_model_module_version": "1.5.0",
            "_model_name": "HBoxModel",
            "_view_count": null,
            "_view_module": "@jupyter-widgets/controls",
            "_view_module_version": "1.5.0",
            "_view_name": "HBoxView",
            "box_style": "",
            "children": [
              "IPY_MODEL_920b2e91d638428da70a2e89f147ff52",
              "IPY_MODEL_52b44b29dbb849c88e8c135684a8d8d9",
              "IPY_MODEL_8a17710ba7db4be09b89d5bff2ab0dde"
            ],
            "layout": "IPY_MODEL_7b6d5b51afbb4ae3bb5e6ed82d1588af"
          }
        },
        "920b2e91d638428da70a2e89f147ff52": {
          "model_module": "@jupyter-widgets/controls",
          "model_name": "HTMLModel",
          "model_module_version": "1.5.0",
          "state": {
            "_dom_classes": [],
            "_model_module": "@jupyter-widgets/controls",
            "_model_module_version": "1.5.0",
            "_model_name": "HTMLModel",
            "_view_count": null,
            "_view_module": "@jupyter-widgets/controls",
            "_view_module_version": "1.5.0",
            "_view_name": "HTMLView",
            "description": "",
            "description_tooltip": null,
            "layout": "IPY_MODEL_65ab1a2fe78a48b59ada431abf227dca",
            "placeholder": "​",
            "style": "IPY_MODEL_3df20a6f2b004bf1ba76dcc8af98e3ca",
            "value": "Downloading: 100%"
          }
        },
        "52b44b29dbb849c88e8c135684a8d8d9": {
          "model_module": "@jupyter-widgets/controls",
          "model_name": "FloatProgressModel",
          "model_module_version": "1.5.0",
          "state": {
            "_dom_classes": [],
            "_model_module": "@jupyter-widgets/controls",
            "_model_module_version": "1.5.0",
            "_model_name": "FloatProgressModel",
            "_view_count": null,
            "_view_module": "@jupyter-widgets/controls",
            "_view_module_version": "1.5.0",
            "_view_name": "ProgressView",
            "bar_style": "success",
            "description": "",
            "description_tooltip": null,
            "layout": "IPY_MODEL_0408be9b02374d61889cb4686db9f5ca",
            "max": 3708092,
            "min": 0,
            "orientation": "horizontal",
            "style": "IPY_MODEL_e94946d4835d44cbac9e418786934cd8",
            "value": 3708092
          }
        },
        "8a17710ba7db4be09b89d5bff2ab0dde": {
          "model_module": "@jupyter-widgets/controls",
          "model_name": "HTMLModel",
          "model_module_version": "1.5.0",
          "state": {
            "_dom_classes": [],
            "_model_module": "@jupyter-widgets/controls",
            "_model_module_version": "1.5.0",
            "_model_name": "HTMLModel",
            "_view_count": null,
            "_view_module": "@jupyter-widgets/controls",
            "_view_module_version": "1.5.0",
            "_view_name": "HTMLView",
            "description": "",
            "description_tooltip": null,
            "layout": "IPY_MODEL_3f1c3b17146a4bb19cdb6b85b67aec16",
            "placeholder": "​",
            "style": "IPY_MODEL_b41dcb3475784047a0879a4dd3e226ea",
            "value": " 3.71M/3.71M [00:01&lt;00:00, 2.69MB/s]"
          }
        },
        "7b6d5b51afbb4ae3bb5e6ed82d1588af": {
          "model_module": "@jupyter-widgets/base",
          "model_name": "LayoutModel",
          "model_module_version": "1.2.0",
          "state": {
            "_model_module": "@jupyter-widgets/base",
            "_model_module_version": "1.2.0",
            "_model_name": "LayoutModel",
            "_view_count": null,
            "_view_module": "@jupyter-widgets/base",
            "_view_module_version": "1.2.0",
            "_view_name": "LayoutView",
            "align_content": null,
            "align_items": null,
            "align_self": null,
            "border": null,
            "bottom": null,
            "display": null,
            "flex": null,
            "flex_flow": null,
            "grid_area": null,
            "grid_auto_columns": null,
            "grid_auto_flow": null,
            "grid_auto_rows": null,
            "grid_column": null,
            "grid_gap": null,
            "grid_row": null,
            "grid_template_areas": null,
            "grid_template_columns": null,
            "grid_template_rows": null,
            "height": null,
            "justify_content": null,
            "justify_items": null,
            "left": null,
            "margin": null,
            "max_height": null,
            "max_width": null,
            "min_height": null,
            "min_width": null,
            "object_fit": null,
            "object_position": null,
            "order": null,
            "overflow": null,
            "overflow_x": null,
            "overflow_y": null,
            "padding": null,
            "right": null,
            "top": null,
            "visibility": null,
            "width": null
          }
        },
        "65ab1a2fe78a48b59ada431abf227dca": {
          "model_module": "@jupyter-widgets/base",
          "model_name": "LayoutModel",
          "model_module_version": "1.2.0",
          "state": {
            "_model_module": "@jupyter-widgets/base",
            "_model_module_version": "1.2.0",
            "_model_name": "LayoutModel",
            "_view_count": null,
            "_view_module": "@jupyter-widgets/base",
            "_view_module_version": "1.2.0",
            "_view_name": "LayoutView",
            "align_content": null,
            "align_items": null,
            "align_self": null,
            "border": null,
            "bottom": null,
            "display": null,
            "flex": null,
            "flex_flow": null,
            "grid_area": null,
            "grid_auto_columns": null,
            "grid_auto_flow": null,
            "grid_auto_rows": null,
            "grid_column": null,
            "grid_gap": null,
            "grid_row": null,
            "grid_template_areas": null,
            "grid_template_columns": null,
            "grid_template_rows": null,
            "height": null,
            "justify_content": null,
            "justify_items": null,
            "left": null,
            "margin": null,
            "max_height": null,
            "max_width": null,
            "min_height": null,
            "min_width": null,
            "object_fit": null,
            "object_position": null,
            "order": null,
            "overflow": null,
            "overflow_x": null,
            "overflow_y": null,
            "padding": null,
            "right": null,
            "top": null,
            "visibility": null,
            "width": null
          }
        },
        "3df20a6f2b004bf1ba76dcc8af98e3ca": {
          "model_module": "@jupyter-widgets/controls",
          "model_name": "DescriptionStyleModel",
          "model_module_version": "1.5.0",
          "state": {
            "_model_module": "@jupyter-widgets/controls",
            "_model_module_version": "1.5.0",
            "_model_name": "DescriptionStyleModel",
            "_view_count": null,
            "_view_module": "@jupyter-widgets/base",
            "_view_module_version": "1.2.0",
            "_view_name": "StyleView",
            "description_width": ""
          }
        },
        "0408be9b02374d61889cb4686db9f5ca": {
          "model_module": "@jupyter-widgets/base",
          "model_name": "LayoutModel",
          "model_module_version": "1.2.0",
          "state": {
            "_model_module": "@jupyter-widgets/base",
            "_model_module_version": "1.2.0",
            "_model_name": "LayoutModel",
            "_view_count": null,
            "_view_module": "@jupyter-widgets/base",
            "_view_module_version": "1.2.0",
            "_view_name": "LayoutView",
            "align_content": null,
            "align_items": null,
            "align_self": null,
            "border": null,
            "bottom": null,
            "display": null,
            "flex": null,
            "flex_flow": null,
            "grid_area": null,
            "grid_auto_columns": null,
            "grid_auto_flow": null,
            "grid_auto_rows": null,
            "grid_column": null,
            "grid_gap": null,
            "grid_row": null,
            "grid_template_areas": null,
            "grid_template_columns": null,
            "grid_template_rows": null,
            "height": null,
            "justify_content": null,
            "justify_items": null,
            "left": null,
            "margin": null,
            "max_height": null,
            "max_width": null,
            "min_height": null,
            "min_width": null,
            "object_fit": null,
            "object_position": null,
            "order": null,
            "overflow": null,
            "overflow_x": null,
            "overflow_y": null,
            "padding": null,
            "right": null,
            "top": null,
            "visibility": null,
            "width": null
          }
        },
        "e94946d4835d44cbac9e418786934cd8": {
          "model_module": "@jupyter-widgets/controls",
          "model_name": "ProgressStyleModel",
          "model_module_version": "1.5.0",
          "state": {
            "_model_module": "@jupyter-widgets/controls",
            "_model_module_version": "1.5.0",
            "_model_name": "ProgressStyleModel",
            "_view_count": null,
            "_view_module": "@jupyter-widgets/base",
            "_view_module_version": "1.2.0",
            "_view_name": "StyleView",
            "bar_color": null,
            "description_width": ""
          }
        },
        "3f1c3b17146a4bb19cdb6b85b67aec16": {
          "model_module": "@jupyter-widgets/base",
          "model_name": "LayoutModel",
          "model_module_version": "1.2.0",
          "state": {
            "_model_module": "@jupyter-widgets/base",
            "_model_module_version": "1.2.0",
            "_model_name": "LayoutModel",
            "_view_count": null,
            "_view_module": "@jupyter-widgets/base",
            "_view_module_version": "1.2.0",
            "_view_name": "LayoutView",
            "align_content": null,
            "align_items": null,
            "align_self": null,
            "border": null,
            "bottom": null,
            "display": null,
            "flex": null,
            "flex_flow": null,
            "grid_area": null,
            "grid_auto_columns": null,
            "grid_auto_flow": null,
            "grid_auto_rows": null,
            "grid_column": null,
            "grid_gap": null,
            "grid_row": null,
            "grid_template_areas": null,
            "grid_template_columns": null,
            "grid_template_rows": null,
            "height": null,
            "justify_content": null,
            "justify_items": null,
            "left": null,
            "margin": null,
            "max_height": null,
            "max_width": null,
            "min_height": null,
            "min_width": null,
            "object_fit": null,
            "object_position": null,
            "order": null,
            "overflow": null,
            "overflow_x": null,
            "overflow_y": null,
            "padding": null,
            "right": null,
            "top": null,
            "visibility": null,
            "width": null
          }
        },
        "b41dcb3475784047a0879a4dd3e226ea": {
          "model_module": "@jupyter-widgets/controls",
          "model_name": "DescriptionStyleModel",
          "model_module_version": "1.5.0",
          "state": {
            "_model_module": "@jupyter-widgets/controls",
            "_model_module_version": "1.5.0",
            "_model_name": "DescriptionStyleModel",
            "_view_count": null,
            "_view_module": "@jupyter-widgets/base",
            "_view_module_version": "1.2.0",
            "_view_name": "StyleView",
            "description_width": ""
          }
        },
        "bb2f5b6a73264eb9a575b42a20c8c394": {
          "model_module": "@jupyter-widgets/controls",
          "model_name": "HBoxModel",
          "model_module_version": "1.5.0",
          "state": {
            "_dom_classes": [],
            "_model_module": "@jupyter-widgets/controls",
            "_model_module_version": "1.5.0",
            "_model_name": "HBoxModel",
            "_view_count": null,
            "_view_module": "@jupyter-widgets/controls",
            "_view_module_version": "1.5.0",
            "_view_name": "HBoxView",
            "box_style": "",
            "children": [
              "IPY_MODEL_14524709a8f445b5bc212c35b33c947b",
              "IPY_MODEL_062951c9b9074969875f1c3e19396f6e",
              "IPY_MODEL_308f7900705d41139de2fabf1761acf4"
            ],
            "layout": "IPY_MODEL_8c37c1442c024e48a5795046ad049f52"
          }
        },
        "14524709a8f445b5bc212c35b33c947b": {
          "model_module": "@jupyter-widgets/controls",
          "model_name": "HTMLModel",
          "model_module_version": "1.5.0",
          "state": {
            "_dom_classes": [],
            "_model_module": "@jupyter-widgets/controls",
            "_model_module_version": "1.5.0",
            "_model_name": "HTMLModel",
            "_view_count": null,
            "_view_module": "@jupyter-widgets/controls",
            "_view_module_version": "1.5.0",
            "_view_name": "HTMLView",
            "description": "",
            "description_tooltip": null,
            "layout": "IPY_MODEL_100ef0e4da974c998b848a86d6527388",
            "placeholder": "​",
            "style": "IPY_MODEL_2fd7c3659a254f17a0b28a289831ca6a",
            "value": "Downloading: 100%"
          }
        },
        "062951c9b9074969875f1c3e19396f6e": {
          "model_module": "@jupyter-widgets/controls",
          "model_name": "FloatProgressModel",
          "model_module_version": "1.5.0",
          "state": {
            "_dom_classes": [],
            "_model_module": "@jupyter-widgets/controls",
            "_model_module_version": "1.5.0",
            "_model_name": "FloatProgressModel",
            "_view_count": null,
            "_view_module": "@jupyter-widgets/controls",
            "_view_module_version": "1.5.0",
            "_view_name": "ProgressView",
            "bar_style": "success",
            "description": "",
            "description_tooltip": null,
            "layout": "IPY_MODEL_54a592b1cbfc4dd4bfdcca65b3796831",
            "max": 2423393,
            "min": 0,
            "orientation": "horizontal",
            "style": "IPY_MODEL_a6adff535f5e4f91a32377f30b073329",
            "value": 2423393
          }
        },
        "308f7900705d41139de2fabf1761acf4": {
          "model_module": "@jupyter-widgets/controls",
          "model_name": "HTMLModel",
          "model_module_version": "1.5.0",
          "state": {
            "_dom_classes": [],
            "_model_module": "@jupyter-widgets/controls",
            "_model_module_version": "1.5.0",
            "_model_name": "HTMLModel",
            "_view_count": null,
            "_view_module": "@jupyter-widgets/controls",
            "_view_module_version": "1.5.0",
            "_view_name": "HTMLView",
            "description": "",
            "description_tooltip": null,
            "layout": "IPY_MODEL_82eb42c8f0c94b85a62369e9020ceb0f",
            "placeholder": "​",
            "style": "IPY_MODEL_d9ac91fdab2f4f6d91f23b5f343f48e4",
            "value": " 2.42M/2.42M [00:00&lt;00:00, 27.5MB/s]"
          }
        },
        "8c37c1442c024e48a5795046ad049f52": {
          "model_module": "@jupyter-widgets/base",
          "model_name": "LayoutModel",
          "model_module_version": "1.2.0",
          "state": {
            "_model_module": "@jupyter-widgets/base",
            "_model_module_version": "1.2.0",
            "_model_name": "LayoutModel",
            "_view_count": null,
            "_view_module": "@jupyter-widgets/base",
            "_view_module_version": "1.2.0",
            "_view_name": "LayoutView",
            "align_content": null,
            "align_items": null,
            "align_self": null,
            "border": null,
            "bottom": null,
            "display": null,
            "flex": null,
            "flex_flow": null,
            "grid_area": null,
            "grid_auto_columns": null,
            "grid_auto_flow": null,
            "grid_auto_rows": null,
            "grid_column": null,
            "grid_gap": null,
            "grid_row": null,
            "grid_template_areas": null,
            "grid_template_columns": null,
            "grid_template_rows": null,
            "height": null,
            "justify_content": null,
            "justify_items": null,
            "left": null,
            "margin": null,
            "max_height": null,
            "max_width": null,
            "min_height": null,
            "min_width": null,
            "object_fit": null,
            "object_position": null,
            "order": null,
            "overflow": null,
            "overflow_x": null,
            "overflow_y": null,
            "padding": null,
            "right": null,
            "top": null,
            "visibility": null,
            "width": null
          }
        },
        "100ef0e4da974c998b848a86d6527388": {
          "model_module": "@jupyter-widgets/base",
          "model_name": "LayoutModel",
          "model_module_version": "1.2.0",
          "state": {
            "_model_module": "@jupyter-widgets/base",
            "_model_module_version": "1.2.0",
            "_model_name": "LayoutModel",
            "_view_count": null,
            "_view_module": "@jupyter-widgets/base",
            "_view_module_version": "1.2.0",
            "_view_name": "LayoutView",
            "align_content": null,
            "align_items": null,
            "align_self": null,
            "border": null,
            "bottom": null,
            "display": null,
            "flex": null,
            "flex_flow": null,
            "grid_area": null,
            "grid_auto_columns": null,
            "grid_auto_flow": null,
            "grid_auto_rows": null,
            "grid_column": null,
            "grid_gap": null,
            "grid_row": null,
            "grid_template_areas": null,
            "grid_template_columns": null,
            "grid_template_rows": null,
            "height": null,
            "justify_content": null,
            "justify_items": null,
            "left": null,
            "margin": null,
            "max_height": null,
            "max_width": null,
            "min_height": null,
            "min_width": null,
            "object_fit": null,
            "object_position": null,
            "order": null,
            "overflow": null,
            "overflow_x": null,
            "overflow_y": null,
            "padding": null,
            "right": null,
            "top": null,
            "visibility": null,
            "width": null
          }
        },
        "2fd7c3659a254f17a0b28a289831ca6a": {
          "model_module": "@jupyter-widgets/controls",
          "model_name": "DescriptionStyleModel",
          "model_module_version": "1.5.0",
          "state": {
            "_model_module": "@jupyter-widgets/controls",
            "_model_module_version": "1.5.0",
            "_model_name": "DescriptionStyleModel",
            "_view_count": null,
            "_view_module": "@jupyter-widgets/base",
            "_view_module_version": "1.2.0",
            "_view_name": "StyleView",
            "description_width": ""
          }
        },
        "54a592b1cbfc4dd4bfdcca65b3796831": {
          "model_module": "@jupyter-widgets/base",
          "model_name": "LayoutModel",
          "model_module_version": "1.2.0",
          "state": {
            "_model_module": "@jupyter-widgets/base",
            "_model_module_version": "1.2.0",
            "_model_name": "LayoutModel",
            "_view_count": null,
            "_view_module": "@jupyter-widgets/base",
            "_view_module_version": "1.2.0",
            "_view_name": "LayoutView",
            "align_content": null,
            "align_items": null,
            "align_self": null,
            "border": null,
            "bottom": null,
            "display": null,
            "flex": null,
            "flex_flow": null,
            "grid_area": null,
            "grid_auto_columns": null,
            "grid_auto_flow": null,
            "grid_auto_rows": null,
            "grid_column": null,
            "grid_gap": null,
            "grid_row": null,
            "grid_template_areas": null,
            "grid_template_columns": null,
            "grid_template_rows": null,
            "height": null,
            "justify_content": null,
            "justify_items": null,
            "left": null,
            "margin": null,
            "max_height": null,
            "max_width": null,
            "min_height": null,
            "min_width": null,
            "object_fit": null,
            "object_position": null,
            "order": null,
            "overflow": null,
            "overflow_x": null,
            "overflow_y": null,
            "padding": null,
            "right": null,
            "top": null,
            "visibility": null,
            "width": null
          }
        },
        "a6adff535f5e4f91a32377f30b073329": {
          "model_module": "@jupyter-widgets/controls",
          "model_name": "ProgressStyleModel",
          "model_module_version": "1.5.0",
          "state": {
            "_model_module": "@jupyter-widgets/controls",
            "_model_module_version": "1.5.0",
            "_model_name": "ProgressStyleModel",
            "_view_count": null,
            "_view_module": "@jupyter-widgets/base",
            "_view_module_version": "1.2.0",
            "_view_name": "StyleView",
            "bar_color": null,
            "description_width": ""
          }
        },
        "82eb42c8f0c94b85a62369e9020ceb0f": {
          "model_module": "@jupyter-widgets/base",
          "model_name": "LayoutModel",
          "model_module_version": "1.2.0",
          "state": {
            "_model_module": "@jupyter-widgets/base",
            "_model_module_version": "1.2.0",
            "_model_name": "LayoutModel",
            "_view_count": null,
            "_view_module": "@jupyter-widgets/base",
            "_view_module_version": "1.2.0",
            "_view_name": "LayoutView",
            "align_content": null,
            "align_items": null,
            "align_self": null,
            "border": null,
            "bottom": null,
            "display": null,
            "flex": null,
            "flex_flow": null,
            "grid_area": null,
            "grid_auto_columns": null,
            "grid_auto_flow": null,
            "grid_auto_rows": null,
            "grid_column": null,
            "grid_gap": null,
            "grid_row": null,
            "grid_template_areas": null,
            "grid_template_columns": null,
            "grid_template_rows": null,
            "height": null,
            "justify_content": null,
            "justify_items": null,
            "left": null,
            "margin": null,
            "max_height": null,
            "max_width": null,
            "min_height": null,
            "min_width": null,
            "object_fit": null,
            "object_position": null,
            "order": null,
            "overflow": null,
            "overflow_x": null,
            "overflow_y": null,
            "padding": null,
            "right": null,
            "top": null,
            "visibility": null,
            "width": null
          }
        },
        "d9ac91fdab2f4f6d91f23b5f343f48e4": {
          "model_module": "@jupyter-widgets/controls",
          "model_name": "DescriptionStyleModel",
          "model_module_version": "1.5.0",
          "state": {
            "_model_module": "@jupyter-widgets/controls",
            "_model_module_version": "1.5.0",
            "_model_name": "DescriptionStyleModel",
            "_view_count": null,
            "_view_module": "@jupyter-widgets/base",
            "_view_module_version": "1.2.0",
            "_view_name": "StyleView",
            "description_width": ""
          }
        },
        "20978747226a41e78e5438ed97bf6a9e": {
          "model_module": "@jupyter-widgets/controls",
          "model_name": "HBoxModel",
          "model_module_version": "1.5.0",
          "state": {
            "_dom_classes": [],
            "_model_module": "@jupyter-widgets/controls",
            "_model_module_version": "1.5.0",
            "_model_name": "HBoxModel",
            "_view_count": null,
            "_view_module": "@jupyter-widgets/controls",
            "_view_module_version": "1.5.0",
            "_view_name": "HBoxView",
            "box_style": "",
            "children": [
              "IPY_MODEL_9221895e77234d8ea94ee30df5a866b4",
              "IPY_MODEL_7500561df0784078a9df7eb0488feee8",
              "IPY_MODEL_44fc54ecd90c4f42ad5d6cd5129981e0"
            ],
            "layout": "IPY_MODEL_207b6e2f2ea24ed38eaff0a891a2fd77"
          }
        },
        "9221895e77234d8ea94ee30df5a866b4": {
          "model_module": "@jupyter-widgets/controls",
          "model_name": "HTMLModel",
          "model_module_version": "1.5.0",
          "state": {
            "_dom_classes": [],
            "_model_module": "@jupyter-widgets/controls",
            "_model_module_version": "1.5.0",
            "_model_name": "HTMLModel",
            "_view_count": null,
            "_view_module": "@jupyter-widgets/controls",
            "_view_module_version": "1.5.0",
            "_view_name": "HTMLView",
            "description": "",
            "description_tooltip": null,
            "layout": "IPY_MODEL_3063f084304143559a508331bf2a66df",
            "placeholder": "​",
            "style": "IPY_MODEL_30ce11e766134a38b7c281731485aab9",
            "value": "Downloading: 100%"
          }
        },
        "7500561df0784078a9df7eb0488feee8": {
          "model_module": "@jupyter-widgets/controls",
          "model_name": "FloatProgressModel",
          "model_module_version": "1.5.0",
          "state": {
            "_dom_classes": [],
            "_model_module": "@jupyter-widgets/controls",
            "_model_module_version": "1.5.0",
            "_model_name": "FloatProgressModel",
            "_view_count": null,
            "_view_module": "@jupyter-widgets/controls",
            "_view_module_version": "1.5.0",
            "_view_name": "ProgressView",
            "bar_style": "success",
            "description": "",
            "description_tooltip": null,
            "layout": "IPY_MODEL_b95c96c3f8534022b1733155542df6bb",
            "max": 1140,
            "min": 0,
            "orientation": "horizontal",
            "style": "IPY_MODEL_a4ddb2c6875949fa8d771650f25744c2",
            "value": 1140
          }
        },
        "44fc54ecd90c4f42ad5d6cd5129981e0": {
          "model_module": "@jupyter-widgets/controls",
          "model_name": "HTMLModel",
          "model_module_version": "1.5.0",
          "state": {
            "_dom_classes": [],
            "_model_module": "@jupyter-widgets/controls",
            "_model_module_version": "1.5.0",
            "_model_name": "HTMLModel",
            "_view_count": null,
            "_view_module": "@jupyter-widgets/controls",
            "_view_module_version": "1.5.0",
            "_view_name": "HTMLView",
            "description": "",
            "description_tooltip": null,
            "layout": "IPY_MODEL_59110882e8414a49802991b3ad8adc71",
            "placeholder": "​",
            "style": "IPY_MODEL_eab75964809a4d38b4508e4341b90564",
            "value": " 1.14k/1.14k [00:00&lt;00:00, 39.0kB/s]"
          }
        },
        "207b6e2f2ea24ed38eaff0a891a2fd77": {
          "model_module": "@jupyter-widgets/base",
          "model_name": "LayoutModel",
          "model_module_version": "1.2.0",
          "state": {
            "_model_module": "@jupyter-widgets/base",
            "_model_module_version": "1.2.0",
            "_model_name": "LayoutModel",
            "_view_count": null,
            "_view_module": "@jupyter-widgets/base",
            "_view_module_version": "1.2.0",
            "_view_name": "LayoutView",
            "align_content": null,
            "align_items": null,
            "align_self": null,
            "border": null,
            "bottom": null,
            "display": null,
            "flex": null,
            "flex_flow": null,
            "grid_area": null,
            "grid_auto_columns": null,
            "grid_auto_flow": null,
            "grid_auto_rows": null,
            "grid_column": null,
            "grid_gap": null,
            "grid_row": null,
            "grid_template_areas": null,
            "grid_template_columns": null,
            "grid_template_rows": null,
            "height": null,
            "justify_content": null,
            "justify_items": null,
            "left": null,
            "margin": null,
            "max_height": null,
            "max_width": null,
            "min_height": null,
            "min_width": null,
            "object_fit": null,
            "object_position": null,
            "order": null,
            "overflow": null,
            "overflow_x": null,
            "overflow_y": null,
            "padding": null,
            "right": null,
            "top": null,
            "visibility": null,
            "width": null
          }
        },
        "3063f084304143559a508331bf2a66df": {
          "model_module": "@jupyter-widgets/base",
          "model_name": "LayoutModel",
          "model_module_version": "1.2.0",
          "state": {
            "_model_module": "@jupyter-widgets/base",
            "_model_module_version": "1.2.0",
            "_model_name": "LayoutModel",
            "_view_count": null,
            "_view_module": "@jupyter-widgets/base",
            "_view_module_version": "1.2.0",
            "_view_name": "LayoutView",
            "align_content": null,
            "align_items": null,
            "align_self": null,
            "border": null,
            "bottom": null,
            "display": null,
            "flex": null,
            "flex_flow": null,
            "grid_area": null,
            "grid_auto_columns": null,
            "grid_auto_flow": null,
            "grid_auto_rows": null,
            "grid_column": null,
            "grid_gap": null,
            "grid_row": null,
            "grid_template_areas": null,
            "grid_template_columns": null,
            "grid_template_rows": null,
            "height": null,
            "justify_content": null,
            "justify_items": null,
            "left": null,
            "margin": null,
            "max_height": null,
            "max_width": null,
            "min_height": null,
            "min_width": null,
            "object_fit": null,
            "object_position": null,
            "order": null,
            "overflow": null,
            "overflow_x": null,
            "overflow_y": null,
            "padding": null,
            "right": null,
            "top": null,
            "visibility": null,
            "width": null
          }
        },
        "30ce11e766134a38b7c281731485aab9": {
          "model_module": "@jupyter-widgets/controls",
          "model_name": "DescriptionStyleModel",
          "model_module_version": "1.5.0",
          "state": {
            "_model_module": "@jupyter-widgets/controls",
            "_model_module_version": "1.5.0",
            "_model_name": "DescriptionStyleModel",
            "_view_count": null,
            "_view_module": "@jupyter-widgets/base",
            "_view_module_version": "1.2.0",
            "_view_name": "StyleView",
            "description_width": ""
          }
        },
        "b95c96c3f8534022b1733155542df6bb": {
          "model_module": "@jupyter-widgets/base",
          "model_name": "LayoutModel",
          "model_module_version": "1.2.0",
          "state": {
            "_model_module": "@jupyter-widgets/base",
            "_model_module_version": "1.2.0",
            "_model_name": "LayoutModel",
            "_view_count": null,
            "_view_module": "@jupyter-widgets/base",
            "_view_module_version": "1.2.0",
            "_view_name": "LayoutView",
            "align_content": null,
            "align_items": null,
            "align_self": null,
            "border": null,
            "bottom": null,
            "display": null,
            "flex": null,
            "flex_flow": null,
            "grid_area": null,
            "grid_auto_columns": null,
            "grid_auto_flow": null,
            "grid_auto_rows": null,
            "grid_column": null,
            "grid_gap": null,
            "grid_row": null,
            "grid_template_areas": null,
            "grid_template_columns": null,
            "grid_template_rows": null,
            "height": null,
            "justify_content": null,
            "justify_items": null,
            "left": null,
            "margin": null,
            "max_height": null,
            "max_width": null,
            "min_height": null,
            "min_width": null,
            "object_fit": null,
            "object_position": null,
            "order": null,
            "overflow": null,
            "overflow_x": null,
            "overflow_y": null,
            "padding": null,
            "right": null,
            "top": null,
            "visibility": null,
            "width": null
          }
        },
        "a4ddb2c6875949fa8d771650f25744c2": {
          "model_module": "@jupyter-widgets/controls",
          "model_name": "ProgressStyleModel",
          "model_module_version": "1.5.0",
          "state": {
            "_model_module": "@jupyter-widgets/controls",
            "_model_module_version": "1.5.0",
            "_model_name": "ProgressStyleModel",
            "_view_count": null,
            "_view_module": "@jupyter-widgets/base",
            "_view_module_version": "1.2.0",
            "_view_name": "StyleView",
            "bar_color": null,
            "description_width": ""
          }
        },
        "59110882e8414a49802991b3ad8adc71": {
          "model_module": "@jupyter-widgets/base",
          "model_name": "LayoutModel",
          "model_module_version": "1.2.0",
          "state": {
            "_model_module": "@jupyter-widgets/base",
            "_model_module_version": "1.2.0",
            "_model_name": "LayoutModel",
            "_view_count": null,
            "_view_module": "@jupyter-widgets/base",
            "_view_module_version": "1.2.0",
            "_view_name": "LayoutView",
            "align_content": null,
            "align_items": null,
            "align_self": null,
            "border": null,
            "bottom": null,
            "display": null,
            "flex": null,
            "flex_flow": null,
            "grid_area": null,
            "grid_auto_columns": null,
            "grid_auto_flow": null,
            "grid_auto_rows": null,
            "grid_column": null,
            "grid_gap": null,
            "grid_row": null,
            "grid_template_areas": null,
            "grid_template_columns": null,
            "grid_template_rows": null,
            "height": null,
            "justify_content": null,
            "justify_items": null,
            "left": null,
            "margin": null,
            "max_height": null,
            "max_width": null,
            "min_height": null,
            "min_width": null,
            "object_fit": null,
            "object_position": null,
            "order": null,
            "overflow": null,
            "overflow_x": null,
            "overflow_y": null,
            "padding": null,
            "right": null,
            "top": null,
            "visibility": null,
            "width": null
          }
        },
        "eab75964809a4d38b4508e4341b90564": {
          "model_module": "@jupyter-widgets/controls",
          "model_name": "DescriptionStyleModel",
          "model_module_version": "1.5.0",
          "state": {
            "_model_module": "@jupyter-widgets/controls",
            "_model_module_version": "1.5.0",
            "_model_name": "DescriptionStyleModel",
            "_view_count": null,
            "_view_module": "@jupyter-widgets/base",
            "_view_module_version": "1.2.0",
            "_view_name": "StyleView",
            "description_width": ""
          }
        }
      }
    }
  },
  "nbformat": 4,
  "nbformat_minor": 0
}