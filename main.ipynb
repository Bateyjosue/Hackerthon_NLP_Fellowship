{
  "cells": [
    {
      "cell_type": "markdown",
      "source": [
        "1. Write a program which takes array of urls for job-posting websites in Rwanda\n",
        "   * https://www.jobinrwanda.com/  (Job Adverts)\n",
        "   * https://www.umucyo.gov.rw  ( Tenders)\n",
        "2. Web-scrap the content and put them in a pandas data-frame(i.e: the best structured dataframe wins ofcourse!)\n",
        "3. Use regular expression and key-words to retrieve IT/Software related job/consultancy opportunities(Tenders).\n",
        "4. Use EasyNMT to display the results in 50+ languages using wrapped state of art models\n",
        "   * Practical Example for EasyNMT use:\n",
        "     https://colab.research.google.com/drive/1X47vgSiOphpxS5w_LPtjQgJmiSTNfRNC?usp=sharing\n",
        "5. Hosting of our work example in colab\n",
        "   * https://colab.research.google.com/drive/1kAh_Vt1ipA5-BuoaPX39rCIHFrhpcRpW?usp=sharing"
      ],
      "metadata": {
        "id": "hkosleLFX-bB"
      }
    },
    {
      "cell_type": "markdown",
      "source": [
        "## Import Packages"
      ],
      "metadata": {
        "id": "4ZlgOfl7WjCF"
      }
    },
    {
      "cell_type": "code",
      "execution_count": 2,
      "metadata": {
        "id": "kUZyDEkfVd1f"
      },
      "outputs": [],
      "source": [
        "import requests\n",
        "from bs4 import BeautifulSoup"
      ]
    },
    {
      "cell_type": "markdown",
      "source": [
        "## Class For Scrapping"
      ],
      "metadata": {
        "id": "keBPCVlMWc4T"
      }
    },
    {
      "cell_type": "code",
      "source": [
        "class Web_Scrap:\n",
        "  def __init__(self, link):\n",
        "    self.url = link\n",
        "  \n",
        "  def get_content(self):\n",
        "    content = requests.get(url = self.url).content\n",
        "    content = BeautifulSoup(content, 'lxml')\n",
        "    return content\n",
        "  \n",
        "  def get_content_class(self, class_, tag = None):\n",
        "    content = self.get_content()\n",
        "    content = content.find_all(class_= class_) if tag == None else content.find_all(tag, class_= class_)\n",
        "    return content\n",
        "  \n",
        "  def get_data(self, year, month, day):\n",
        "    response = requests.get('{}{}{:02d}{:02d}'.format(self.url, year, month, day))\n",
        "    return response.json()\n",
        "\n",
        "  def check_snaps(self, data):\n",
        "    if data['archived_snapshots']:\n",
        "      time_stamp = data['timestamp'] \n",
        "      time_stamp_closest = data['archived_snapshots']['closest']['timestamp'][:8]\n",
        "      result = time_stamp == time_stamp_closest\n",
        "    else: \n",
        "      result = False\n",
        "    return result\n",
        "\n",
        "  def get_main_links(self):\n",
        "    links = []\n",
        "    years = [2021, 2022]\n",
        "    for year in years:\n",
        "      for month in range(1, 11):\n",
        "        for day in range(1, 32):\n",
        "          data = self.get_data(year, month, day)\n",
        "          if self.check_snaps(data):\n",
        "            print(data['archived_snapshots']['closest']['url'])\n",
        "            links.append(data['archived_snapshots']['closest']['url'])\n",
        "    return links\n"
      ],
      "metadata": {
        "id": "TKVodOxFWbfr"
      },
      "execution_count": 3,
      "outputs": []
    },
    {
      "cell_type": "code",
      "source": [
        "\n",
        "# scrap = Web_Scrap(f'https://archive.org/wayback/available?url=https://www.jobinrwanda.com/jobs/all/&timestamp=')\n",
        "# links = scrap.get_main_links()\n",
        "\n",
        "# links"
      ],
      "metadata": {
        "id": "NQrU3vnY-IIq"
      },
      "execution_count": null,
      "outputs": []
    },
    {
      "cell_type": "code",
      "source": [
        "len(links)"
      ],
      "metadata": {
        "id": "84pfop1tF412",
        "outputId": "94abbc1b-7b5f-47b0-8a56-9dea8bbfa406",
        "colab": {
          "base_uri": "https://localhost:8080/"
        }
      },
      "execution_count": null,
      "outputs": [
        {
          "output_type": "execute_result",
          "data": {
            "text/plain": [
              "4"
            ]
          },
          "metadata": {},
          "execution_count": 11
        }
      ]
    },
    {
      "cell_type": "markdown",
      "source": [
        "### List Of Languages"
      ],
      "metadata": {
        "id": "Wr5xPJsFwIGi"
      }
    },
    {
      "cell_type": "code",
      "source": [
        "langages = {\n",
        "    'aa': 'Afar',\n",
        "    'ab': 'Abkhazian',\n",
        "    'af': 'Afrikaans',\n",
        "    'ak': 'Akan',\n",
        "    'sq': 'Albanian',\n",
        "    'am': 'Amharic',\n",
        "    'ar': 'Arabic',\n",
        "    'an': 'Aragonese',\n",
        "    'hy': 'Armenian',\n",
        "    'as': 'Assamese',\n",
        "    'av': 'Avaric',\n",
        "    'ae': 'Avestan',\n",
        "    'ay': 'Aymara',\n",
        "    'az': 'Azerbaijani',\n",
        "    'ba': 'Bashkir',\n",
        "    'bm': 'Bambara',\n",
        "    'eu': 'Basque',\n",
        "    'be': 'Belarusian',\n",
        "    'bn': 'Bengali',\n",
        "    'bh': 'Bihari languages',\n",
        "    'bi': 'Bislama',\n",
        "    'bo': 'Tibetan',\n",
        "    'bs': 'Bosnian',\n",
        "    'br': 'Breton',\n",
        "    'bg': 'Bulgarian',\n",
        "    'my': 'Burmese',\n",
        "    'ca': 'Catalan; Valencian',\n",
        "    'cs': 'Czech',\n",
        "    'ch': 'Chamorro',\n",
        "    'ce': 'Chechen',\n",
        "    'zh': 'Chinese',\n",
        "    'cu': 'Church Slavic; Old Slavonic; Church Slavonic; Old Bulgarian; Old Church Slavonic',\n",
        "    'cv': 'Chuvash',\n",
        "    'kw': 'Cornish',\n",
        "    'co': 'Corsican',\n",
        "    'cr': 'Cree',\n",
        "    'cy': 'Welsh',\n",
        "    'cs': 'Czech',\n",
        "    'da': 'Danish',\n",
        "    'de': 'German',\n",
        "    'dv': 'Divehi; Dhivehi; Maldivian',\n",
        "    'nl': 'Dutch; Flemish',\n",
        "    'dz': 'Dzongkha',\n",
        "    'el': 'Greek, Modern (1453-)',\n",
        "    'en': 'English',\n",
        "    'eo': 'Esperanto',\n",
        "    'et': 'Estonian',\n",
        "    'eu': 'Basque',\n",
        "    'ee': 'Ewe',\n",
        "    'fo': 'Faroese',\n",
        "    'fa': 'Persian',\n",
        "    'fj': 'Fijian',\n",
        "    'fi': 'Finnish',\n",
        "    'fr': 'French',\n",
        "    'fy': 'Western Frisian',\n",
        "    'ff': 'Fulah',\n",
        "    'Ga': 'Georgian',\n",
        "    'de': 'German',\n",
        "    'gd': 'Gaelic; Scottish Gaelic',\n",
        "    'ga': 'Irish',\n",
        "    'gl': 'Galician',\n",
        "    'gv': 'Manx',\n",
        "    'el': 'Greek, Modern (1453-)',\n",
        "    'gn': 'Guarani',\n",
        "    'gu': 'Gujarati',\n",
        "    'ht': 'Haitian; Haitian Creole',\n",
        "    'ha': 'Hausa',\n",
        "    'he': 'Hebrew',\n",
        "    'hz': 'Herero',\n",
        "    'hi': 'Hindi',\n",
        "    'ho': 'Hiri Motu',\n",
        "    'hr': 'Croatian',\n",
        "    'hu': 'Hungarian',\n",
        "    'hy': 'Armenian',\n",
        "    'ig': 'Igbo',\n",
        "    'is': 'Icelandic',\n",
        "    'io': 'Ido',\n",
        "    'ii': 'Sichuan Yi; Nuosu',\n",
        "    'iu': 'Inuktitut',\n",
        "    'ie': 'Interlingue; Occidental',\n",
        "    'ia': 'Interlingua (International Auxiliary Language Association)',\n",
        "    'id': 'Indonesian',\n",
        "    'ik': 'Inupiaq',\n",
        "    'is': 'Icelandic',\n",
        "    'it': 'Italian',\n",
        "    'jv': 'Javanese',\n",
        "    'ja': 'Japanese',\n",
        "    'kl': 'Kalaallisut; Greenlandic',\n",
        "    'kn': 'Kannada',\n",
        "    'ks': 'Kashmiri',\n",
        "    'ka': 'Georgian',\n",
        "    'kr': 'Kanuri',\n",
        "    'kk': 'Kazakh',\n",
        "    'km': 'Central Khmer',\n",
        "    'ki': 'Kikuyu; Gikuyu',\n",
        "    'rw': 'Kinyarwanda',\n",
        "    'ky': 'Kirghiz; Kyrgyz',\n",
        "    'kv': 'Komi',\n",
        "    'kg': 'Kongo',\n",
        "    'ko': 'Korean',\n",
        "    'kj': 'Kuanyama; Kwanyama',\n",
        "    'ku': 'Kurdish',\n",
        "    'lo': 'Lao',\n",
        "    'la': 'Latin',\n",
        "    'lv': 'Latvian',\n",
        "    'li': 'Limburgan; Limburger; Limburgish',\n",
        "    'ln': 'Lingala',\n",
        "    'lt': 'Lithuanian',\n",
        "    'lb': 'Luxembourgish; Letzeburgesch',\n",
        "    'lu': 'Luba-Katanga',\n",
        "    'lg': 'Ganda',\n",
        "    'mk': 'Macedonian',\n",
        "    'mh': 'Marshallese',\n",
        "    'ml': 'Malayalam',\n",
        "    'mi': 'Maori',\n",
        "    'mr': 'Marathi',\n",
        "    'ms': 'Malay',\n",
        "    'Mi': 'Micmac',\n",
        "    'mk': 'Macedonian',\n",
        "    'mg': 'Malagasy',\n",
        "    'mt': 'Maltese',\n",
        "    'mn': 'Mongolian',\n",
        "    'mi': 'Maori',\n",
        "    'ms': 'Malay',\n",
        "    'my': 'Burmese',\n",
        "    'na': 'Nauru',\n",
        "    'nv': 'Navajo; Navaho',\n",
        "    'nr': 'Ndebele, South; South Ndebele',\n",
        "    'nd': 'Ndebele, North; North Ndebele',\n",
        "    'ng': 'Ndonga',\n",
        "    'ne': 'Nepali',\n",
        "    'nl': 'Dutch; Flemish',\n",
        "    'nn': 'Norwegian Nynorsk; Nynorsk, Norwegian',\n",
        "    'nb': 'Bokmål, Norwegian; Norwegian Bokmål',\n",
        "    'no': 'Norwegian',\n",
        "    'oc': 'Occitan (post 1500)',\n",
        "    'oj': 'Ojibwa',\n",
        "    'or': 'Oriya',\n",
        "    'om': 'Oromo',\n",
        "    'os': 'Ossetian; Ossetic',\n",
        "    'pa': 'Panjabi; Punjabi',\n",
        "    'fa': 'Persian',\n",
        "    'pi': 'Pali',\n",
        "    'pl': 'Polish',\n",
        "    'pt': 'Portuguese',\n",
        "    'ps': 'Pushto; Pashto',\n",
        "    'qu': 'Quechua',\n",
        "    'rm': 'Romansh',\n",
        "    'ro': 'Romanian; Moldavian; Moldovan',\n",
        "    'ro': 'Romanian; Moldavian; Moldovan',\n",
        "    'rn': 'Rundi',\n",
        "    'ru': 'Russian',\n",
        "    'sg': 'Sango',\n",
        "    'sa': 'Sanskrit',\n",
        "    'si': 'Sinhala; Sinhalese',\n",
        "    'sk': 'Slovak',\n",
        "    'sk': 'Slovak',\n",
        "    'sl': 'Slovenian',\n",
        "    'se': 'Northern Sami',\n",
        "    'sm': 'Samoan',\n",
        "    'sn': 'Shona',\n",
        "    'sd': 'Sindhi',\n",
        "    'so': 'Somali',\n",
        "    'st': 'Sotho, Southern',\n",
        "    'es': 'Spanish; Castilian',\n",
        "    'sq': 'Albanian',\n",
        "    'sc': 'Sardinian',\n",
        "    'sr': 'Serbian',\n",
        "    'ss': 'Swati',\n",
        "    'su': 'Sundanese',\n",
        "    'sw': 'Swahili',\n",
        "    'sv': 'Swedish',\n",
        "    'ty': 'Tahitian',\n",
        "    'ta': 'Tamil',\n",
        "    'tt': 'Tatar',\n",
        "    'te': 'Telugu',\n",
        "    'tg': 'Tajik',\n",
        "    'tl': 'Tagalog',\n",
        "    'th': 'Thai',\n",
        "    'bo': 'Tibetan',\n",
        "    'ti': 'Tigrinya',\n",
        "    'to': 'Tonga (Tonga Islands)',\n",
        "    'tn': 'Tswana',\n",
        "    'ts': 'Tsonga',\n",
        "    'tk': 'Turkmen',\n",
        "    'tr': 'Turkish',\n",
        "    'tw': 'Twi',\n",
        "    'ug': 'Uighur; Uyghur',\n",
        "    'uk': 'Ukrainian',\n",
        "    'ur': 'Urdu',\n",
        "    'uz': 'Uzbek',\n",
        "    've': 'Venda',\n",
        "    'vi': 'Vietnamese',\n",
        "    'vo': 'Volapük',\n",
        "    'cy': 'Welsh',\n",
        "    'wa': 'Walloon',\n",
        "    'wo': 'Wolof',\n",
        "    'xh': 'Xhosa',\n",
        "    'yi': 'Yiddish',\n",
        "    'yo': 'Yoruba',\n",
        "    'za': 'Zhuang; Chuang',\n",
        "    'zh': 'Chinese',\n",
        "    'zu': 'Zulu',\n",
        "}\n"
      ],
      "metadata": {
        "id": "4iT_3ov_wLdN"
      },
      "execution_count": null,
      "outputs": []
    },
    {
      "cell_type": "markdown",
      "source": [
        "# Scrap `job in rwanda` and `umucyo`"
      ],
      "metadata": {
        "id": "ETovZOQAWo7-"
      }
    },
    {
      "cell_type": "markdown",
      "source": [
        "# Challenges #1"
      ],
      "metadata": {
        "id": "wVeG6ty1s3Xk"
      }
    },
    {
      "cell_type": "markdown",
      "source": [
        "\n",
        "\n",
        "1.   Get `Jobs and Consultacies links` for `job in rwanda`\n",
        "\n",
        "\n"
      ],
      "metadata": {
        "id": "cNkA1QKAXEXQ"
      }
    },
    {
      "cell_type": "markdown",
      "source": [
        "##Links of Jobs"
      ],
      "metadata": {
        "id": "22eEA6KKdsCT"
      }
    },
    {
      "cell_type": "code",
      "source": [
        "scrap_jobs =  Web_Scrap('https://www.jobinrwanda.com/jobs/all')"
      ],
      "metadata": {
        "id": "0uBY0KBxd7-y"
      },
      "execution_count": 105,
      "outputs": []
    },
    {
      "cell_type": "code",
      "source": [
        "jobs_content = scrap_jobs.get_content()\n",
        "jobs_links = []\n",
        "links = jobs_content.find_all('h5', class_='card-title' )\n",
        "for li in links:\n",
        "  jobs_links.append('https://www.jobinrwanda.com' + li.parent['href'])\n",
        "\n",
        "jobs_links"
      ],
      "metadata": {
        "id": "kPeYXIYaXcN7",
        "colab": {
          "base_uri": "https://localhost:8080/"
        },
        "outputId": "ed11d44b-895f-4384-acab-edb314c44272"
      },
      "execution_count": 106,
      "outputs": [
        {
          "output_type": "execute_result",
          "data": {
            "text/plain": [
              "['https://www.jobinrwanda.com/job/procurement-manager-7',\n",
              " 'https://www.jobinrwanda.com/job/customer-service-officer-1',\n",
              " 'https://www.jobinrwanda.com/job/operations-manager-6',\n",
              " 'https://www.jobinrwanda.com/job/finance-specialist-fs',\n",
              " 'https://www.jobinrwanda.com/job/account-manager-credit',\n",
              " 'https://www.jobinrwanda.com/job/pastry-chef',\n",
              " 'https://www.jobinrwanda.com/job/assistant-front-office-manager-afom',\n",
              " 'https://www.jobinrwanda.com/job/product-manager-1',\n",
              " 'https://www.jobinrwanda.com/job/aftercare-vehicle-maintenance-manager',\n",
              " 'https://www.jobinrwanda.com/job/finance-officer-9',\n",
              " 'https://www.jobinrwanda.com/job/communications-officer-8',\n",
              " 'https://www.jobinrwanda.com/job/lecturer-communication-and-writing',\n",
              " 'https://www.jobinrwanda.com/job/research-associate-ra-0',\n",
              " 'https://www.jobinrwanda.com/job/office-assistant-0',\n",
              " 'https://www.jobinrwanda.com/job/head-field-officehuye',\n",
              " 'https://www.jobinrwanda.com/job/human-resources-assistant-0',\n",
              " 'https://www.jobinrwanda.com/job/rwanda-impact-specialist',\n",
              " 'https://www.jobinrwanda.com/job/operations-support-manager-africa',\n",
              " 'https://www.jobinrwanda.com/job/accounting-supervisor',\n",
              " 'https://www.jobinrwanda.com/job/accounting-manager-1',\n",
              " 'https://www.jobinrwanda.com/job/business-development-officer',\n",
              " 'https://www.jobinrwanda.com/job/regional-grants-officer-central-africa',\n",
              " 'https://www.jobinrwanda.com/job/medtronic-labs-senior-operations-associate-rwanda-0',\n",
              " 'https://www.jobinrwanda.com/job/global-head-corporate-communications',\n",
              " 'https://www.jobinrwanda.com/index.php/job/public-relations-officer',\n",
              " 'https://www.jobinrwanda.com/job/grants-manager-2',\n",
              " 'https://www.jobinrwanda.com/job/hvac-lead-technician',\n",
              " 'https://www.jobinrwanda.com/job/maintenance-mechanic-appliance-repair-0',\n",
              " 'https://www.jobinrwanda.com/job/camp-administrator',\n",
              " 'https://www.jobinrwanda.com/job/rwanda-program-officer',\n",
              " 'https://www.jobinrwanda.com/job/sales-representative-0',\n",
              " 'https://www.jobinrwanda.com/job/sales-manager-5',\n",
              " 'https://www.jobinrwanda.com/job/aquaculture-technician',\n",
              " 'https://www.jobinrwanda.com/job/health-systems-strengthening-hss-manager',\n",
              " 'https://www.jobinrwanda.com/index.php/job/development-manager',\n",
              " 'https://www.jobinrwanda.com/job/retail-partnerships-lead',\n",
              " 'https://www.jobinrwanda.com/job/project-officer-7',\n",
              " 'https://www.jobinrwanda.com/job/une-assistante-de-direction-0',\n",
              " 'https://www.jobinrwanda.com/job/administration-finance-intern',\n",
              " 'https://www.jobinrwanda.com/job/loan-officers-3',\n",
              " 'https://www.jobinrwanda.com/job/project-manager-14',\n",
              " 'https://www.jobinrwanda.com/job/training-manager-0',\n",
              " 'https://www.jobinrwanda.com/job/business-advisor-lobby-and-advocacy-expert',\n",
              " 'https://www.jobinrwanda.com/job/it-and-mis-director',\n",
              " 'https://www.jobinrwanda.com/job/learning-design-specialist-rwanda',\n",
              " 'https://www.jobinrwanda.com/job/technical-advisor-2',\n",
              " 'https://www.jobinrwanda.com/job/front-desk-officer-0',\n",
              " 'https://www.jobinrwanda.com/job/global-remote-sensing-manager',\n",
              " 'https://www.jobinrwanda.com/job/accountant-officer-0',\n",
              " 'https://www.jobinrwanda.com/job/laborer',\n",
              " 'https://www.jobinrwanda.com/job/migration-health-physician',\n",
              " 'https://www.jobinrwanda.com/index.php/job/migration-health-nurse',\n",
              " 'https://www.jobinrwanda.com/job/global-hr-support-specialist',\n",
              " 'https://www.jobinrwanda.com/job/rwanda-procurement-specialist-0',\n",
              " 'https://www.jobinrwanda.com/job/security-officer',\n",
              " 'https://www.jobinrwanda.com/job/security-supervisor',\n",
              " 'https://www.jobinrwanda.com/job/instructional-technology-assistant',\n",
              " 'https://www.jobinrwanda.com/job/associate-professor-and-head-human-anatomy',\n",
              " 'https://www.jobinrwanda.com/job/rwanda-potato-seed-store-manager',\n",
              " 'https://www.jobinrwanda.com/job/agronomist-technician-g-2c',\n",
              " 'https://www.jobinrwanda.com/job/dental-doctors-dental-surgeon',\n",
              " 'https://www.jobinrwanda.com/job/head-rehabilitation-department',\n",
              " 'https://www.jobinrwanda.com/job/distillery-assistant',\n",
              " 'https://www.jobinrwanda.com/job/assistant-press-department-administration-and-consular-section',\n",
              " 'https://www.jobinrwanda.com/job/rwanda-warehouse-manager',\n",
              " 'https://www.jobinrwanda.com/job/csat-officer-rwanda',\n",
              " 'https://www.jobinrwanda.com/job/spm-officer',\n",
              " 'https://www.jobinrwanda.com/index.php/job/rwanda-communications-associate',\n",
              " 'https://www.jobinrwanda.com/job/strategic-advisor-targeted-skills-development',\n",
              " 'https://www.jobinrwanda.com/job/strategic-advisor-e-commerce',\n",
              " 'https://www.jobinrwanda.com/job/50-sales-representatives-needed-all-city-rwanda-ltd-1',\n",
              " 'https://www.jobinrwanda.com/job/store-keeper-1',\n",
              " 'https://www.jobinrwanda.com/index.php/job/rwanda-market-access-and-srf-mel-associate',\n",
              " 'https://www.jobinrwanda.com/job/rwanda-field-integration-coordinator',\n",
              " 'https://www.jobinrwanda.com/job/rwanda-electrical-hub-operator',\n",
              " 'https://www.jobinrwanda.com/job/learning-and-design-expert',\n",
              " 'https://www.jobinrwanda.com/job/senior-accountant-3',\n",
              " 'https://www.jobinrwanda.com/job/rwanda-tree-lead',\n",
              " 'https://www.jobinrwanda.com/index.php/job/rwanda-potato-seed-venture-lead',\n",
              " 'https://www.jobinrwanda.com/job/it-operations-senior-manager',\n",
              " 'https://www.jobinrwanda.com/job/rwanda-seed-innovation-centre-lead',\n",
              " 'https://www.jobinrwanda.com/job/senior-business-analyst']"
            ]
          },
          "metadata": {},
          "execution_count": 106
        }
      ]
    },
    {
      "cell_type": "markdown",
      "source": [
        "ℹ `jobs_links` Holds the list of all jobs links. you can check the lenght by typing `len(jobs_links)`\n"
      ],
      "metadata": {
        "id": "LedzjgUmgM1J"
      }
    },
    {
      "cell_type": "markdown",
      "source": [
        "## Links of Consultancies"
      ],
      "metadata": {
        "id": "ujQPHPI-dz65"
      }
    },
    {
      "cell_type": "code",
      "source": [
        "scrap_cons =  Web_Scrap('https://www.jobinrwanda.com/jobs/consultancy')\n",
        "jobs_content = scrap_cons.get_content()\n",
        "cons_links = []\n",
        "links = jobs_content.find_all('h5', class_='card-title' )\n",
        "for li in links:\n",
        "  cons_links.append('https://www.jobinrwanda.com' + li.parent['href'])\n",
        "\n",
        "cons_links"
      ],
      "metadata": {
        "id": "SrRYER8md5ZF",
        "colab": {
          "base_uri": "https://localhost:8080/"
        },
        "outputId": "5286963f-f794-492d-ef0c-6460082a8786"
      },
      "execution_count": 107,
      "outputs": [
        {
          "output_type": "execute_result",
          "data": {
            "text/plain": [
              "['https://www.jobinrwanda.com/job/consultant-monitoring-evaluation-0',\n",
              " 'https://www.jobinrwanda.com/job/terms-reference-production-second-generation-country-gender-status-report-rwanda',\n",
              " 'https://www.jobinrwanda.com/job/short-term-national-expert-deliver-training-session-security-health-and-environment-tvet',\n",
              " 'https://www.jobinrwanda.com/job/consultant-services-conduct-impact-assessment-project-expanding-safe-spaces-rwandan-girls-and',\n",
              " 'https://www.jobinrwanda.com/job/tor-recruitment-biostatistician-consultant',\n",
              " 'https://www.jobinrwanda.com/job/global-client-data-analytics-consultant',\n",
              " 'https://www.jobinrwanda.com/job/expression-interest-eoi-consultancy-services-providing-management-skills-advisory-least-15-0',\n",
              " 'https://www.jobinrwanda.com/job/request-consultancy-service-organize-ayute-rwanda-challenge',\n",
              " 'https://www.jobinrwanda.com/job/terms-reference-tor-recruitment-national-short-term-consultant-deliver-trainings-compost-making',\n",
              " 'https://www.jobinrwanda.com/job/consultancy-conduct-needs-assessment-study-capacity-rwanda-organic-agriculture-movementroam',\n",
              " 'https://www.jobinrwanda.com/job/health-committee-consultant',\n",
              " 'https://www.jobinrwanda.com/job/hiring-national-individual-consultant-conducting-study-status-and-challenges-faced-existing',\n",
              " 'https://www.jobinrwanda.com/job/training-expert-provide-training-video-production-and-graphic-design',\n",
              " 'https://www.jobinrwanda.com/job/terms-reference-conducting-market-landscape-and-business-case-modeling-focused-agriculture',\n",
              " 'https://www.jobinrwanda.com/job/terms-reference-documentary-film-production-family-strengthening-and-community-based-support',\n",
              " 'https://www.jobinrwanda.com/job/terms-reference-programme-brief-writing-family-strengthening-and-community-based-support-care',\n",
              " 'https://www.jobinrwanda.com/job/terms-reference-midline-report-writing-family-strengthening-and-community-based-support-care',\n",
              " 'https://www.jobinrwanda.com/job/request-proposals-rfp-consultancy-service-conduct-rapid-market-assessment-small-livestock',\n",
              " 'https://www.jobinrwanda.com/job/consultancy-opportunity-conduct-formative-research-factors-contributing-impairment-children-and',\n",
              " 'https://www.jobinrwanda.com/job/short-term-consultancy-develop-tailored-loan-products-health-sector-rwanda',\n",
              " 'https://www.jobinrwanda.com/job/professional-videographer-and-photographer-consultant',\n",
              " 'https://www.jobinrwanda.com/index.php/job/request-quoteproposal-rfqrfp-pre-qualification-business-development-service-bds-providers',\n",
              " 'https://www.jobinrwanda.com/index.php/job/consultant-conduct-baseline-survey-evaluating-impacts-covid-19-social-economic-status']"
            ]
          },
          "metadata": {},
          "execution_count": 107
        }
      ]
    },
    {
      "cell_type": "markdown",
      "source": [
        "ℹ `cons_links` Holds the list of all Consultacy links. you can check the lenght by typing `len(cons_links)`\n",
        "\n"
      ],
      "metadata": {
        "id": "uSbGDHWQdC8y"
      }
    },
    {
      "cell_type": "markdown",
      "source": [
        "# List of all jobs for Job in rwanda"
      ],
      "metadata": {
        "id": "uz4HzOYllGBv"
      }
    },
    {
      "cell_type": "code",
      "source": [
        "jobs = jobs_links + cons_links"
      ],
      "metadata": {
        "id": "b9b0WYczifu-"
      },
      "execution_count": 203,
      "outputs": []
    },
    {
      "cell_type": "code",
      "source": [
        "len(jobs)"
      ],
      "metadata": {
        "colab": {
          "base_uri": "https://localhost:8080/"
        },
        "id": "61yUEVhdtYbr",
        "outputId": "0ce449bd-607d-4039-9b45-74dbe3cd3fb6"
      },
      "execution_count": 204,
      "outputs": [
        {
          "output_type": "execute_result",
          "data": {
            "text/plain": [
              "105"
            ]
          },
          "metadata": {},
          "execution_count": 204
        }
      ]
    },
    {
      "cell_type": "markdown",
      "source": [
        "\n",
        "\n",
        "2.   Get `tenders` links for `umucyo`\n",
        "\n"
      ],
      "metadata": {
        "id": "uZEDJwAGXZro"
      }
    },
    {
      "cell_type": "code",
      "source": [
        "scrap_tender = Web_Scrap('https://www.umucyo.gov.rw/eb/bav/selectListAdvertisingListForGU.do')\n",
        "tender_table = scrap_tender.get_content().find(class_='article_table mb10')\n",
        "\n",
        "tr = tender_table.find_all('tr')\n",
        "len(tr)"
      ],
      "metadata": {
        "colab": {
          "base_uri": "https://localhost:8080/"
        },
        "id": "yEkVVCi12EZ5",
        "outputId": "8e51d656-dcea-4169-c628-fb8f1c91cbc5"
      },
      "execution_count": 110,
      "outputs": [
        {
          "output_type": "execute_result",
          "data": {
            "text/plain": [
              "11"
            ]
          },
          "metadata": {},
          "execution_count": 110
        }
      ]
    },
    {
      "cell_type": "code",
      "source": [
        "tenders_links = []"
      ],
      "metadata": {
        "id": "GmrVh1WOXxId"
      },
      "execution_count": null,
      "outputs": []
    },
    {
      "cell_type": "markdown",
      "source": [
        "3. combined links for both `job in rwand` and `umucyo`\n"
      ],
      "metadata": {
        "id": "BRLfBAtssRda"
      }
    },
    {
      "cell_type": "code",
      "source": [
        "combined_links = []"
      ],
      "metadata": {
        "id": "wSjzpg3Asheq"
      },
      "execution_count": null,
      "outputs": []
    },
    {
      "cell_type": "markdown",
      "source": [
        "#Challenge #2"
      ],
      "metadata": {
        "id": "Pk1-s8h6tZSI"
      }
    },
    {
      "cell_type": "markdown",
      "source": [
        "1. Get Content per Link by Web scrapping"
      ],
      "metadata": {
        "id": "4rzsqPCxuSu6"
      }
    },
    {
      "cell_type": "code",
      "source": [
        "# Help Funtions\n",
        "def remove_space_list(arr):\n",
        "  joined = []\n",
        "  for el in arr:\n",
        "    if el.strip:\n",
        "      joined.append(el.lstrip())\n",
        "  return joined\n",
        "\n",
        "def clean_data(strs):\n",
        "  import re\n",
        "  text = re.sub('\\W', ' ', strs)\n",
        "\n",
        "  return text"
      ],
      "metadata": {
        "id": "vyd10bdMtFmL"
      },
      "execution_count": 205,
      "outputs": []
    },
    {
      "cell_type": "code",
      "source": [
        "# Trash\n",
        "# sumary = [sam for sam in aside.get_text().split('\\n') if sam.strip()]\n",
        "\n",
        "# main.find('div#block-jobsummaryblock')\n"
      ],
      "metadata": {
        "id": "R18z60vHGBbX"
      },
      "execution_count": null,
      "outputs": []
    },
    {
      "cell_type": "code",
      "source": [
        "import random\n",
        "import pandas as pd\n",
        "\n",
        "frame = pd.DataFrame()\n",
        "dict_summary = {}\n",
        "link = [jobs[0], jobs[100]]\n",
        "for lin in link:\n",
        "\n",
        "  scrap = Web_Scrap(lin)\n",
        "  main = scrap.get_content().body.main\n",
        "\n",
        "  sent  = [sent for sent in main.get_text().split('\\n') if sent.strip()]\n",
        "\n",
        "  aside = scrap.get_content().body\n",
        "  aside = aside.select_one('div#block-jobsummaryblock')\n",
        "\n",
        "\n",
        "  for a in aside.select('ul.list-group.list-group-flush > li > b'):\n",
        "    val = a.next_sibling.strip().split(',')\n",
        "    dict_summary[clean_data(a.get_text().strip())] = ' '.join(remove_space_list(val)) if len(val) <= 2 else ', '.join(remove_space_list(val))\n",
        "    # frame = pd.DataFrame(dict_summary, index= [i for i in range(len(dict_summary) + 1)])\n",
        "# frame\n",
        "  print(dict_summary)"
      ],
      "metadata": {
        "id": "77ZiF0yruhVa",
        "colab": {
          "base_uri": "https://localhost:8080/"
        },
        "outputId": "e404c9bb-cc96-45c2-f77d-10a98093b46e"
      },
      "execution_count": 217,
      "outputs": [
        {
          "output_type": "stream",
          "name": "stdout",
          "text": [
            "{'Location ': ' RW', 'Sector ': 'Other', 'Education level              ': 'Not specified', 'Desired experience ': 'Not specified', 'Contract type            ': 'Contract', 'Deadline ': 'Tuesday 15/11/2022 10:00', 'Number of positions ': '1'}\n",
            "{'Location ': ' RW', 'Sector ': 'Other Public health', 'Education level              ': 'PhD', 'Desired experience ': 'Senior (5+ years of experience)', 'Contract type            ': 'Contract', 'Deadline ': 'Tuesday 15/11/2022 15:00', 'Number of positions ': '1'}\n"
          ]
        }
      ]
    },
    {
      "cell_type": "code",
      "source": [],
      "metadata": {
        "id": "9D-O_8eG9bFr"
      },
      "execution_count": null,
      "outputs": []
    },
    {
      "cell_type": "markdown",
      "source": [
        "1. Save Content in a DataFrame"
      ],
      "metadata": {
        "id": "84gX7XOHuiHK"
      }
    },
    {
      "cell_type": "code",
      "source": [
        "\n",
        "\n",
        "def remove_space_list(arr):\n",
        "  joined = []\n",
        "  for el in arr:\n",
        "    if el.strip:\n",
        "      joined.append(el.lstrip())\n",
        "  return joined\n",
        "\n",
        "def data_frame_job(jobs):\n",
        "  import random\n",
        "\n",
        "  dicts ={}\n",
        "  asides = []\n",
        "  dict_summary = {}\n",
        "\n",
        "  for job in jobs:\n",
        "    scrap = Web_Scrap(job)\n",
        "    main = scrap.get_content().body.main\n",
        "    sent = [sent for sent in main.get_text().split('\\n') if sent.strip()]\n",
        "    aside = scrap.get_content().body\n",
        "    asides.append(aside.select_one('div#block-jobsummaryblock'))\n",
        "    \n",
        "\n",
        "    for aside in asides:\n",
        "      for a in aside.select('ul.list-group.list-group-flush > li > b'):\n",
        "        val = a.next_sibling.strip().split(',')\n",
        "        dict_summary[clean_data(a.get_text().strip())] = ' '.join(remove_space_list(val)) if len(val) <= 2 else ', '.join(remove_space_list(val))\n",
        "        print(dict_summary)\n",
        "    \n",
        "  # return dict_summary\n",
        "\n",
        "    # frame = pd.DataFrame(dict_summary, index= [i for i in range(len(dict_summary))])\n",
        "  # return main\n",
        "\n"
      ],
      "metadata": {
        "id": "4Y4IVHtF7PaB"
      },
      "execution_count": 172,
      "outputs": []
    },
    {
      "cell_type": "code",
      "source": [
        "len(jobs)"
      ],
      "metadata": {
        "id": "q-f_y32g_AKI",
        "outputId": "44470a94-74e9-4fce-ff25-78fe739d9e66",
        "colab": {
          "base_uri": "https://localhost:8080/"
        }
      },
      "execution_count": 176,
      "outputs": [
        {
          "output_type": "execute_result",
          "data": {
            "text/plain": [
              "105"
            ]
          },
          "metadata": {},
          "execution_count": 176
        }
      ]
    },
    {
      "cell_type": "markdown",
      "source": [
        "# Challenge #3"
      ],
      "metadata": {
        "id": "NQDzPNm6utEH"
      }
    },
    {
      "cell_type": "markdown",
      "source": [
        "## Get ***IT/Software*** Opportunities using `Regex`\n",
        "\n",
        "\n"
      ],
      "metadata": {
        "id": "5Kkk_ZUnuw0N"
      }
    },
    {
      "cell_type": "code",
      "source": [],
      "metadata": {
        "id": "ZU-gWBq3vO8c"
      },
      "execution_count": null,
      "outputs": []
    },
    {
      "cell_type": "markdown",
      "source": [
        "# Challenge #4"
      ],
      "metadata": {
        "id": "GTJxdk_wvPg_"
      }
    },
    {
      "cell_type": "markdown",
      "source": [
        "### Display Result In Different Languages"
      ],
      "metadata": {
        "id": "tACZ37r3vS1t"
      }
    },
    {
      "cell_type": "code",
      "source": [],
      "metadata": {
        "id": "ACqWIGADviuM"
      },
      "execution_count": null,
      "outputs": []
    },
    {
      "cell_type": "markdown",
      "source": [
        "# Challenge #5"
      ],
      "metadata": {
        "id": "PhfzgnNPvqKY"
      }
    },
    {
      "cell_type": "markdown",
      "source": [
        "## Host the API for the data in colab"
      ],
      "metadata": {
        "id": "_cElg0CmvsNp"
      }
    },
    {
      "cell_type": "code",
      "source": [],
      "metadata": {
        "id": "sXuWnsn1vz--"
      },
      "execution_count": null,
      "outputs": []
    }
  ],
  "metadata": {
    "language_info": {
      "name": "python"
    },
    "orig_nbformat": 4,
    "colab": {
      "provenance": []
    },
    "kernelspec": {
      "name": "python3",
      "display_name": "Python 3"
    },
    "gpuClass": "standard"
  },
  "nbformat": 4,
  "nbformat_minor": 0
}