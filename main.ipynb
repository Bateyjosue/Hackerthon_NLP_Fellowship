{
  "cells": [
    {
      "cell_type": "markdown",
      "metadata": {
        "id": "view-in-github",
        "colab_type": "text"
      },
      "source": [
        "<a href=\"https://colab.research.google.com/github/Bateyjosue/Hackerthon_NLP_Fellowship/blob/development/main.ipynb\" target=\"_parent\"><img src=\"https://colab.research.google.com/assets/colab-badge.svg\" alt=\"Open In Colab\"/></a>"
      ]
    },
    {
      "cell_type": "markdown",
      "source": [
        "1. Write a program which takes array of urls for job-posting websites in Rwanda\n",
        "   * https://www.jobinrwanda.com/  (Job Adverts)\n",
        "   * https://www.umucyo.gov.rw  ( Tenders)\n",
        "2. Web-scrap the content and put them in a pandas data-frame(i.e: the best structured dataframe wins ofcourse!)\n",
        "3. Use regular expression and key-words to retrieve IT/Software related job/consultancy opportunities(Tenders).\n",
        "4. Use EasyNMT to display the results in 50+ languages using wrapped state of art models\n",
        "   * Practical Example for EasyNMT use:\n",
        "     https://colab.research.google.com/drive/1X47vgSiOphpxS5w_LPtjQgJmiSTNfRNC?usp=sharing\n",
        "5. Hosting of our work example in colab\n",
        "   * https://colab.research.google.com/drive/1kAh_Vt1ipA5-BuoaPX39rCIHFrhpcRpW?usp=sharing"
      ],
      "metadata": {
        "id": "hkosleLFX-bB"
      }
    },
    {
      "cell_type": "markdown",
      "source": [
        "## Import Packages"
      ],
      "metadata": {
        "id": "4ZlgOfl7WjCF"
      }
    },
    {
      "cell_type": "code",
      "execution_count": 30,
      "metadata": {
        "id": "kUZyDEkfVd1f"
      },
      "outputs": [],
      "source": [
        "import requests\n",
        "from bs4 import BeautifulSoup"
      ]
    },
    {
      "cell_type": "markdown",
      "source": [
        "## Class For Scrapping"
      ],
      "metadata": {
        "id": "keBPCVlMWc4T"
      }
    },
    {
      "cell_type": "code",
      "source": [
        "class Web_Scrap:\n",
        "  def __init__(self, link):\n",
        "    self.url = link\n",
        "  \n",
        "  def get_content(self):\n",
        "    content = requests.get(url = self.url).content\n",
        "    content = BeautifulSoup(content, 'lxml')\n",
        "    return content\n",
        "  \n",
        "  def get_content_class(self, class_, tag = None):\n",
        "    content = self.get_content()\n",
        "    content = content.find_all(class_= class_) if tag == None else content.find_all(tag, class_= class_)\n",
        "    return content\n",
        "  \n",
        "  def get_data(self, year, month, day):\n",
        "    response = requests.get('{}{}{:02d}{:02d}'.format(self.url, year, month, day))\n",
        "    return response.json()\n",
        "\n",
        "  def check_snaps(self, data):\n",
        "    if data['archived_snapshots']:\n",
        "      time_stamp = data['timestamp'] \n",
        "      time_stamp_closest = data['archived_snapshots']['closest']['timestamp'][:8]\n",
        "      result = time_stamp == time_stamp_closest\n",
        "    else: \n",
        "      result = False\n",
        "    return result\n",
        "\n",
        "  def get_main_links(self):\n",
        "    links = []\n",
        "    years = [2021, 2022]\n",
        "    for year in years:\n",
        "      for month in range(1, 11):\n",
        "        for day in range(1, 32):\n",
        "          data = self.get_data(year, month, day)\n",
        "          if self.check_snaps(data):\n",
        "            print(data['archived_snapshots']['closest']['url'])\n",
        "            links.append(data['archived_snapshots']['closest']['url'])\n",
        "    return links\n"
      ],
      "metadata": {
        "id": "TKVodOxFWbfr"
      },
      "execution_count": 31,
      "outputs": []
    },
    {
      "cell_type": "code",
      "source": [
        "\n",
        "# scrap = Web_Scrap(f'https://archive.org/wayback/available?url=https://www.jobinrwanda.com/jobs/all/&timestamp=')\n",
        "# links = scrap.get_main_links()\n",
        "\n",
        "# links"
      ],
      "metadata": {
        "id": "NQrU3vnY-IIq"
      },
      "execution_count": 32,
      "outputs": []
    },
    {
      "cell_type": "markdown",
      "source": [
        "### List Of Languages"
      ],
      "metadata": {
        "id": "Wr5xPJsFwIGi"
      }
    },
    {
      "cell_type": "code",
      "source": [
        "langages = {\n",
        "    'aa': 'Afar',\n",
        "    'ab': 'Abkhazian',\n",
        "    'af': 'Afrikaans',\n",
        "    'ak': 'Akan',\n",
        "    'sq': 'Albanian',\n",
        "    'am': 'Amharic',\n",
        "    'ar': 'Arabic',\n",
        "    'an': 'Aragonese',\n",
        "    'hy': 'Armenian',\n",
        "    'as': 'Assamese',\n",
        "    'av': 'Avaric',\n",
        "    'ae': 'Avestan',\n",
        "    'ay': 'Aymara',\n",
        "    'az': 'Azerbaijani',\n",
        "    'ba': 'Bashkir',\n",
        "    'bm': 'Bambara',\n",
        "    'eu': 'Basque',\n",
        "    'be': 'Belarusian',\n",
        "    'bn': 'Bengali',\n",
        "    'bh': 'Bihari languages',\n",
        "    'bi': 'Bislama',\n",
        "    'bo': 'Tibetan',\n",
        "    'bs': 'Bosnian',\n",
        "    'br': 'Breton',\n",
        "    'bg': 'Bulgarian',\n",
        "    'my': 'Burmese',\n",
        "    'ca': 'Catalan; Valencian',\n",
        "    'cs': 'Czech',\n",
        "    'ch': 'Chamorro',\n",
        "    'ce': 'Chechen',\n",
        "    'zh': 'Chinese',\n",
        "    'cu': 'Church Slavic; Old Slavonic; Church Slavonic; Old Bulgarian; Old Church Slavonic',\n",
        "    'cv': 'Chuvash',\n",
        "    'kw': 'Cornish',\n",
        "    'co': 'Corsican',\n",
        "    'cr': 'Cree',\n",
        "    'cy': 'Welsh',\n",
        "    'cs': 'Czech',\n",
        "    'da': 'Danish',\n",
        "    'de': 'German',\n",
        "    'dv': 'Divehi; Dhivehi; Maldivian',\n",
        "    'nl': 'Dutch; Flemish',\n",
        "    'dz': 'Dzongkha',\n",
        "    'el': 'Greek, Modern (1453-)',\n",
        "    'en': 'English',\n",
        "    'eo': 'Esperanto',\n",
        "    'et': 'Estonian',\n",
        "    'eu': 'Basque',\n",
        "    'ee': 'Ewe',\n",
        "    'fo': 'Faroese',\n",
        "    'fa': 'Persian',\n",
        "    'fj': 'Fijian',\n",
        "    'fi': 'Finnish',\n",
        "    'fr': 'French',\n",
        "    'fy': 'Western Frisian',\n",
        "    'ff': 'Fulah',\n",
        "    'Ga': 'Georgian',\n",
        "    'de': 'German',\n",
        "    'gd': 'Gaelic; Scottish Gaelic',\n",
        "    'ga': 'Irish',\n",
        "    'gl': 'Galician',\n",
        "    'gv': 'Manx',\n",
        "    'el': 'Greek, Modern (1453-)',\n",
        "    'gn': 'Guarani',\n",
        "    'gu': 'Gujarati',\n",
        "    'ht': 'Haitian; Haitian Creole',\n",
        "    'ha': 'Hausa',\n",
        "    'he': 'Hebrew',\n",
        "    'hz': 'Herero',\n",
        "    'hi': 'Hindi',\n",
        "    'ho': 'Hiri Motu',\n",
        "    'hr': 'Croatian',\n",
        "    'hu': 'Hungarian',\n",
        "    'hy': 'Armenian',\n",
        "    'ig': 'Igbo',\n",
        "    'is': 'Icelandic',\n",
        "    'io': 'Ido',\n",
        "    'ii': 'Sichuan Yi; Nuosu',\n",
        "    'iu': 'Inuktitut',\n",
        "    'ie': 'Interlingue; Occidental',\n",
        "    'ia': 'Interlingua (International Auxiliary Language Association)',\n",
        "    'id': 'Indonesian',\n",
        "    'ik': 'Inupiaq',\n",
        "    'is': 'Icelandic',\n",
        "    'it': 'Italian',\n",
        "    'jv': 'Javanese',\n",
        "    'ja': 'Japanese',\n",
        "    'kl': 'Kalaallisut; Greenlandic',\n",
        "    'kn': 'Kannada',\n",
        "    'ks': 'Kashmiri',\n",
        "    'ka': 'Georgian',\n",
        "    'kr': 'Kanuri',\n",
        "    'kk': 'Kazakh',\n",
        "    'km': 'Central Khmer',\n",
        "    'ki': 'Kikuyu; Gikuyu',\n",
        "    'rw': 'Kinyarwanda',\n",
        "    'ky': 'Kirghiz; Kyrgyz',\n",
        "    'kv': 'Komi',\n",
        "    'kg': 'Kongo',\n",
        "    'ko': 'Korean',\n",
        "    'kj': 'Kuanyama; Kwanyama',\n",
        "    'ku': 'Kurdish',\n",
        "    'lo': 'Lao',\n",
        "    'la': 'Latin',\n",
        "    'lv': 'Latvian',\n",
        "    'li': 'Limburgan; Limburger; Limburgish',\n",
        "    'ln': 'Lingala',\n",
        "    'lt': 'Lithuanian',\n",
        "    'lb': 'Luxembourgish; Letzeburgesch',\n",
        "    'lu': 'Luba-Katanga',\n",
        "    'lg': 'Ganda',\n",
        "    'mk': 'Macedonian',\n",
        "    'mh': 'Marshallese',\n",
        "    'ml': 'Malayalam',\n",
        "    'mi': 'Maori',\n",
        "    'mr': 'Marathi',\n",
        "    'ms': 'Malay',\n",
        "    'Mi': 'Micmac',\n",
        "    'mk': 'Macedonian',\n",
        "    'mg': 'Malagasy',\n",
        "    'mt': 'Maltese',\n",
        "    'mn': 'Mongolian',\n",
        "    'mi': 'Maori',\n",
        "    'ms': 'Malay',\n",
        "    'my': 'Burmese',\n",
        "    'na': 'Nauru',\n",
        "    'nv': 'Navajo; Navaho',\n",
        "    'nr': 'Ndebele, South; South Ndebele',\n",
        "    'nd': 'Ndebele, North; North Ndebele',\n",
        "    'ng': 'Ndonga',\n",
        "    'ne': 'Nepali',\n",
        "    'nl': 'Dutch; Flemish',\n",
        "    'nn': 'Norwegian Nynorsk; Nynorsk, Norwegian',\n",
        "    'nb': 'Bokmål, Norwegian; Norwegian Bokmål',\n",
        "    'no': 'Norwegian',\n",
        "    'oc': 'Occitan (post 1500)',\n",
        "    'oj': 'Ojibwa',\n",
        "    'or': 'Oriya',\n",
        "    'om': 'Oromo',\n",
        "    'os': 'Ossetian; Ossetic',\n",
        "    'pa': 'Panjabi; Punjabi',\n",
        "    'fa': 'Persian',\n",
        "    'pi': 'Pali',\n",
        "    'pl': 'Polish',\n",
        "    'pt': 'Portuguese',\n",
        "    'ps': 'Pushto; Pashto',\n",
        "    'qu': 'Quechua',\n",
        "    'rm': 'Romansh',\n",
        "    'ro': 'Romanian; Moldavian; Moldovan',\n",
        "    'ro': 'Romanian; Moldavian; Moldovan',\n",
        "    'rn': 'Rundi',\n",
        "    'ru': 'Russian',\n",
        "    'sg': 'Sango',\n",
        "    'sa': 'Sanskrit',\n",
        "    'si': 'Sinhala; Sinhalese',\n",
        "    'sk': 'Slovak',\n",
        "    'sk': 'Slovak',\n",
        "    'sl': 'Slovenian',\n",
        "    'se': 'Northern Sami',\n",
        "    'sm': 'Samoan',\n",
        "    'sn': 'Shona',\n",
        "    'sd': 'Sindhi',\n",
        "    'so': 'Somali',\n",
        "    'st': 'Sotho, Southern',\n",
        "    'es': 'Spanish; Castilian',\n",
        "    'sq': 'Albanian',\n",
        "    'sc': 'Sardinian',\n",
        "    'sr': 'Serbian',\n",
        "    'ss': 'Swati',\n",
        "    'su': 'Sundanese',\n",
        "    'sw': 'Swahili',\n",
        "    'sv': 'Swedish',\n",
        "    'ty': 'Tahitian',\n",
        "    'ta': 'Tamil',\n",
        "    'tt': 'Tatar',\n",
        "    'te': 'Telugu',\n",
        "    'tg': 'Tajik',\n",
        "    'tl': 'Tagalog',\n",
        "    'th': 'Thai',\n",
        "    'bo': 'Tibetan',\n",
        "    'ti': 'Tigrinya',\n",
        "    'to': 'Tonga (Tonga Islands)',\n",
        "    'tn': 'Tswana',\n",
        "    'ts': 'Tsonga',\n",
        "    'tk': 'Turkmen',\n",
        "    'tr': 'Turkish',\n",
        "    'tw': 'Twi',\n",
        "    'ug': 'Uighur; Uyghur',\n",
        "    'uk': 'Ukrainian',\n",
        "    'ur': 'Urdu',\n",
        "    'uz': 'Uzbek',\n",
        "    've': 'Venda',\n",
        "    'vi': 'Vietnamese',\n",
        "    'vo': 'Volapük',\n",
        "    'cy': 'Welsh',\n",
        "    'wa': 'Walloon',\n",
        "    'wo': 'Wolof',\n",
        "    'xh': 'Xhosa',\n",
        "    'yi': 'Yiddish',\n",
        "    'yo': 'Yoruba',\n",
        "    'za': 'Zhuang; Chuang',\n",
        "    'zh': 'Chinese',\n",
        "    'zu': 'Zulu',\n",
        "}\n"
      ],
      "metadata": {
        "id": "4iT_3ov_wLdN"
      },
      "execution_count": 33,
      "outputs": []
    },
    {
      "cell_type": "markdown",
      "source": [
        "# Scrap `job in rwanda` and `umucyo`"
      ],
      "metadata": {
        "id": "ETovZOQAWo7-"
      }
    },
    {
      "cell_type": "markdown",
      "source": [
        "# Challenges #1"
      ],
      "metadata": {
        "id": "wVeG6ty1s3Xk"
      }
    },
    {
      "cell_type": "markdown",
      "source": [
        "\n",
        "\n",
        "1.   Get `Jobs and Consultacies links` for `job in rwanda`\n",
        "\n",
        "\n"
      ],
      "metadata": {
        "id": "cNkA1QKAXEXQ"
      }
    },
    {
      "cell_type": "markdown",
      "source": [
        "##Links of Jobs"
      ],
      "metadata": {
        "id": "22eEA6KKdsCT"
      }
    },
    {
      "cell_type": "code",
      "source": [
        "scrap_jobs =  Web_Scrap('https://www.jobinrwanda.com/')"
      ],
      "metadata": {
        "id": "0uBY0KBxd7-y"
      },
      "execution_count": 34,
      "outputs": []
    },
    {
      "cell_type": "code",
      "source": [
        "jobs_content = scrap_jobs.get_content()\n",
        "jobs_links = []\n",
        "links = jobs_content.find_all('h5', class_='card-title' )\n",
        "for li in links:\n",
        "  jobs_links.append('https://www.jobinrwanda.com' + li.parent['href'])\n"
      ],
      "metadata": {
        "id": "kPeYXIYaXcN7"
      },
      "execution_count": 35,
      "outputs": []
    },
    {
      "cell_type": "markdown",
      "source": [
        "ℹ `jobs_links` Holds the list of all jobs links. you can check the lenght by typing `len(jobs_links)`\n"
      ],
      "metadata": {
        "id": "LedzjgUmgM1J"
      }
    },
    {
      "cell_type": "markdown",
      "source": [
        "## Links of Consultancies"
      ],
      "metadata": {
        "id": "ujQPHPI-dz65"
      }
    },
    {
      "cell_type": "code",
      "source": [
        "scrap_cons =  Web_Scrap('https://www.jobinrwanda.com/jobs/consultancy')\n",
        "jobs_content = scrap_cons.get_content()\n",
        "cons_links = []\n",
        "links = jobs_content.find_all('h5', class_='card-title' )\n",
        "for li in links:\n",
        "  cons_links.append('https://www.jobinrwanda.com' + li.parent['href'])\n"
      ],
      "metadata": {
        "id": "SrRYER8md5ZF"
      },
      "execution_count": 36,
      "outputs": []
    },
    {
      "cell_type": "markdown",
      "source": [
        "ℹ `cons_links` Holds the list of all Consultacy links. you can check the lenght by typing `len(cons_links)`\n",
        "\n"
      ],
      "metadata": {
        "id": "uSbGDHWQdC8y"
      }
    },
    {
      "cell_type": "markdown",
      "source": [
        "# List of all jobs for Job in rwanda"
      ],
      "metadata": {
        "id": "uz4HzOYllGBv"
      }
    },
    {
      "cell_type": "code",
      "source": [
        "jobs = jobs_links + cons_links\n"
      ],
      "metadata": {
        "id": "b9b0WYczifu-"
      },
      "execution_count": 37,
      "outputs": []
    },
    {
      "cell_type": "code",
      "source": [
        "len(jobs_links)"
      ],
      "metadata": {
        "colab": {
          "base_uri": "https://localhost:8080/"
        },
        "id": "61yUEVhdtYbr",
        "outputId": "c80f5dba-0d5f-49f9-f170-c88a75cc19bc"
      },
      "execution_count": 38,
      "outputs": [
        {
          "output_type": "execute_result",
          "data": {
            "text/plain": [
              "170"
            ]
          },
          "metadata": {},
          "execution_count": 38
        }
      ]
    },
    {
      "cell_type": "markdown",
      "source": [
        "\n",
        "\n",
        "2.   Get `tenders` links for `umucyo`\n",
        "\n"
      ],
      "metadata": {
        "id": "uZEDJwAGXZro"
      }
    },
    {
      "cell_type": "code",
      "source": [
        "scrap_tender = Web_Scrap('https://www.umucyo.gov.rw/eb/bav/selectListAdvertisingListForGU.do')\n",
        "tender_table = scrap_tender.get_content().find(class_='article_table mb10')\n",
        "\n",
        "tr = tender_table.find_all('tr')\n",
        "len(tr)"
      ],
      "metadata": {
        "colab": {
          "base_uri": "https://localhost:8080/"
        },
        "id": "yEkVVCi12EZ5",
        "outputId": "b90075bf-845b-4eee-f01f-0746f0f030d7"
      },
      "execution_count": 39,
      "outputs": [
        {
          "output_type": "execute_result",
          "data": {
            "text/plain": [
              "11"
            ]
          },
          "metadata": {},
          "execution_count": 39
        }
      ]
    },
    {
      "cell_type": "code",
      "source": [
        "tenders_links = []"
      ],
      "metadata": {
        "id": "GmrVh1WOXxId"
      },
      "execution_count": 40,
      "outputs": []
    },
    {
      "cell_type": "markdown",
      "source": [
        "3. combined links for both `job in rwand` and `umucyo`\n"
      ],
      "metadata": {
        "id": "BRLfBAtssRda"
      }
    },
    {
      "cell_type": "code",
      "source": [
        "combined_links = []"
      ],
      "metadata": {
        "id": "wSjzpg3Asheq"
      },
      "execution_count": 41,
      "outputs": []
    },
    {
      "cell_type": "markdown",
      "source": [
        "#Challenge #2"
      ],
      "metadata": {
        "id": "Pk1-s8h6tZSI"
      }
    },
    {
      "cell_type": "markdown",
      "source": [
        "1. Get Content per Link by Web scrapping"
      ],
      "metadata": {
        "id": "4rzsqPCxuSu6"
      }
    },
    {
      "cell_type": "code",
      "source": [
        "# Help Funtions\n",
        "def remove_space_list(arr):\n",
        "  joined = []\n",
        "  for el in arr:\n",
        "    if el.strip:\n",
        "      joined.append(el.strip())\n",
        "  return joined\n",
        "\n",
        "def clean_data(strs):\n",
        "  import re\n",
        "  text = re.sub('\\W', ' ', strs)\n",
        "\n",
        "  return text.strip()"
      ],
      "metadata": {
        "id": "vyd10bdMtFmL"
      },
      "execution_count": 42,
      "outputs": []
    },
    {
      "cell_type": "code",
      "source": [
        "# Trash\n",
        "# sumary = [sam for sam in aside.get_text().split('\\n') if sam.strip()]\n",
        "\n",
        "# main.find('div#block-jobsummaryblock')\n",
        "\n",
        "#  print(d)\n",
        "#   frame = pd.DataFrame(d, index = [i for i in range(len(d))])\n",
        "#   # print(dict_summary)\n",
        "\n",
        "# def remove_space_list(arr):\n",
        "#   joined = []\n",
        "#   for el in arr:\n",
        "#     if el.strip:\n",
        "#       joined.append(el.lstrip())\n",
        "#   return joined\n",
        "\n",
        "# def data_frame_job(jobs):\n",
        "#   import random\n",
        "\n",
        "#   dicts ={}\n",
        "#   asides = []\n",
        "#   dict_summary = {}\n",
        "\n",
        "#   for job in jobs:\n",
        "#     scrap = Web_Scrap(job)\n",
        "#     main = scrap.get_content().body.main\n",
        "#     sent = [sent for sent in main.get_text().split('\\n') if sent.strip()]\n",
        "#     aside = scrap.get_content().body\n",
        "#     asides.append(aside.select_one('div#block-jobsummaryblock'))\n",
        "    \n",
        "\n",
        "#     for aside in asides:\n",
        "#       for a in aside.select('ul.list-group.list-group-flush > li > b'):\n",
        "#         val = a.next_sibling.strip().split(',')\n",
        "#         dict_summary[clean_data(a.get_text().strip())] = ' '.join(remove_space_list(val)) if len(val) <= 2 else ', '.join(remove_space_list(val))\n",
        "#         print(dict_summary)\n",
        "    \n",
        "  # return dict_summary\n",
        "\n",
        "    # frame = pd.DataFrame(dict_summary, index= [i for i in range(len(dict_summary))])\n",
        "  # return main\n",
        "\n",
        "\n"
      ],
      "metadata": {
        "id": "R18z60vHGBbX"
      },
      "execution_count": 43,
      "outputs": []
    },
    {
      "cell_type": "markdown",
      "source": [
        "2. Save Content in a DataFrame"
      ],
      "metadata": {
        "id": "84gX7XOHuiHK"
      }
    },
    {
      "cell_type": "code",
      "source": [
        "import random\n",
        "import pandas as pd\n",
        "frames = pd.DataFrame()\n",
        "def data(link):\n",
        "  dict_summary = {}\n",
        "  scrap = Web_Scrap(link)\n",
        "  main = scrap.get_content().body.main\n",
        "  sent  = [sent for sent in main.get_text().split('\\n') if sent.strip()]\n",
        "  aside = scrap.get_content().body\n",
        "  aside = aside.select_one('div#block-jobsummaryblock')\n",
        "  for a in aside.select('ul.list-group.list-group-flush > li > b'):\n",
        "    val = a.next_sibling.strip().split(',')\n",
        "    dict_summary[clean_data(a.get_text().strip())] = ' '.join(remove_space_list(val)) if len(val) <= 2 else ', '.join(remove_space_list(val))\n",
        "  return dict_summary\n",
        "\n",
        "dicts = []\n",
        "for job in jobs_links:\n",
        "  dicts.append(data(job))"
      ],
      "metadata": {
        "id": "77ZiF0yruhVa"
      },
      "execution_count": 44,
      "outputs": []
    },
    {
      "cell_type": "code",
      "source": [
        "col = dicts[0].keys()\n",
        "values = []\n",
        "for d in dicts:\n",
        "\n",
        "  values.append(d.values())\n",
        "index = [i for i, v in enumerate(values)]\n",
        "\n",
        "f = pd.DataFrame([value if value != None else 'Not Specified' for value in values ], index = index, columns=col)\n"
      ],
      "metadata": {
        "id": "_8cgfdWZz3NA"
      },
      "execution_count": 45,
      "outputs": []
    },
    {
      "cell_type": "code",
      "source": [
        "def get_job_info(link):\n",
        "  scrap = Web_Scrap(link)\n",
        "  cont= scrap.get_content().select(\"div.card-body.p-2\")\n",
        "  \n",
        "  return [[clean_data(i) for i in con.get_text().strip().split('\\n') if i.strip()] for con in cont]\n",
        "\n",
        "data = get_job_info('https://www.jobinrwanda.com/')\n",
        "data[0][0]\n",
        "new_col = ['Job Title', 'Company','Published Date','Deadline','Desired experience','Job Category']\n",
        "index = [i for i, v in enumerate(data)]\n",
        "df = pd.DataFrame(data, index=index, columns=new_col)\n",
        "df.pop('Deadline')\n",
        "df.pop('Desired experience')\n",
        "f.dropna(\n",
        "    axis=0,\n",
        "    how='any',\n",
        "    thresh=None,\n",
        "    subset=None,\n",
        "    inplace=True\n",
        ")\n",
        "frame = pd.concat([df, f], axis='columns')\n",
        "frame.dropna(\n",
        "    axis=0,\n",
        "    how='any',\n",
        "    thresh=None,\n",
        "    subset=None,\n",
        "    inplace=True\n",
        ")\n",
        "frame"
      ],
      "metadata": {
        "colab": {
          "base_uri": "https://localhost:8080/",
          "height": 1000
        },
        "id": "jaMiwLZuDqcp",
        "outputId": "43487e55-c466-488c-8194-f2a2afb0d236"
      },
      "execution_count": 46,
      "outputs": [
        {
          "output_type": "execute_result",
          "data": {
            "text/plain": [
              "                                             Job Title  \\\n",
              "0         Hiring a Firm for BRD Maintenance Assessment   \n",
              "1                    Construction du Guichet de Byumba   \n",
              "3                                   Operations Manager   \n",
              "4    Terms of Reference for Production Of the Secon...   \n",
              "5    Call for Application for Professional Training...   \n",
              "..                                                 ...   \n",
              "160                                       Store Keeper   \n",
              "161         Rwanda Market Access and SRF MEL Associate   \n",
              "164  Consultant to Conduct a Baseline Survey for Ev...   \n",
              "166                  Rwanda Potato Seed Venture   Lead   \n",
              "167                       IT Operations Senior Manager   \n",
              "\n",
              "                                               Company  \\\n",
              "0                      Development Bank of Rwanda  BRD   \n",
              "1       Reseau Interdiocesain de Microfinance  RIM Ltd   \n",
              "3                                           GardaWorld   \n",
              "4                                      UN Women Rwanda   \n",
              "5    The leadership of Innovative Isiine Training C...   \n",
              "..                                                 ...   \n",
              "160                                        ExCraft Ltd   \n",
              "161                           One Acre Fund     Kigali   \n",
              "164                                 Tubibe Amahoro  TA   \n",
              "166                           One Acre Fund     Kigali   \n",
              "167                           One Acre Fund     Kigali   \n",
              "\n",
              "              Published Date Job Category   Location  \\\n",
              "0    Published on 10 11 2022  Consultancy         RW   \n",
              "1    Published on 10 11 2022       Tender         RW   \n",
              "3    Published on 03 11 2022          Job         RW   \n",
              "4    Published on 02 11 2022  Consultancy         RW   \n",
              "5    Published on 01 11 2022        Other         RW   \n",
              "..                       ...          ...        ...   \n",
              "160  Published on 14 10 2022          Job         RW   \n",
              "161  Published on 13 10 2022          Job  Kigali RW   \n",
              "164  Published on 03 10 2022  Consultancy         RW   \n",
              "166  Published on 14 09 2022          Job  Kigali RW   \n",
              "167  Published on 07 09 2022          Job  Kigali RW   \n",
              "\n",
              "                                                Sector Education level  \\\n",
              "0                                                Other   Not specified   \n",
              "1                                                Other   Not specified   \n",
              "3          Administration, Business, Management, Other        Bachelor   \n",
              "4                    Economics, Other, Social sciences          Master   \n",
              "5                                                Other   Not specified   \n",
              "..                                                 ...             ...   \n",
              "160                          Marketing and sales Other        Bachelor   \n",
              "161  Agriculture, Business, Demography and data ana...        Bachelor   \n",
              "164                                              Other   Not specified   \n",
              "166  Agriculture, Agronomy, Business, Environmental...          Master   \n",
              "167  Agriculture, Business, Computer and IT, Manage...   Not specified   \n",
              "\n",
              "                           Desired experience Contract type  \\\n",
              "0                               Not specified      Contract   \n",
              "1                               Not specified        Tender   \n",
              "3             Senior (5+ years of experience)     Full-time   \n",
              "4             Senior (5+ years of experience)      Contract   \n",
              "5                               Not specified         Other   \n",
              "..                                        ...           ...   \n",
              "160   Mid career (3 to 5 years of experience)     Full-time   \n",
              "161  Entry level (1 to 3 years of experience)     Full-time   \n",
              "164                             Not specified      Contract   \n",
              "166           Senior (5+ years of experience)     Full-time   \n",
              "167                             Not specified     Full-time   \n",
              "\n",
              "                     Deadline Number of positions  \n",
              "0     Friday 25/11/2022 10:00                   1  \n",
              "1     Monday 21/11/2022 23:59                   1  \n",
              "3     Monday 14/11/2022 23:59                   1  \n",
              "4    Tuesday 15/11/2022 17:00                   1  \n",
              "5     Monday 14/11/2022 23:59                   1  \n",
              "..                        ...                 ...  \n",
              "160   Monday 14/11/2022 23:59                   1  \n",
              "161  Tuesday 10/01/2023 23:59                   1  \n",
              "164  Tuesday 15/11/2022 10:00                   1  \n",
              "166   Monday 28/11/2022 23:59                   1  \n",
              "167  Tuesday 06/12/2022 23:59                   1  \n",
              "\n",
              "[157 rows x 11 columns]"
            ],
            "text/html": [
              "\n",
              "  <div id=\"df-990f718f-c85d-47ca-8da0-51c11f5ec363\">\n",
              "    <div class=\"colab-df-container\">\n",
              "      <div>\n",
              "<style scoped>\n",
              "    .dataframe tbody tr th:only-of-type {\n",
              "        vertical-align: middle;\n",
              "    }\n",
              "\n",
              "    .dataframe tbody tr th {\n",
              "        vertical-align: top;\n",
              "    }\n",
              "\n",
              "    .dataframe thead th {\n",
              "        text-align: right;\n",
              "    }\n",
              "</style>\n",
              "<table border=\"1\" class=\"dataframe\">\n",
              "  <thead>\n",
              "    <tr style=\"text-align: right;\">\n",
              "      <th></th>\n",
              "      <th>Job Title</th>\n",
              "      <th>Company</th>\n",
              "      <th>Published Date</th>\n",
              "      <th>Job Category</th>\n",
              "      <th>Location</th>\n",
              "      <th>Sector</th>\n",
              "      <th>Education level</th>\n",
              "      <th>Desired experience</th>\n",
              "      <th>Contract type</th>\n",
              "      <th>Deadline</th>\n",
              "      <th>Number of positions</th>\n",
              "    </tr>\n",
              "  </thead>\n",
              "  <tbody>\n",
              "    <tr>\n",
              "      <th>0</th>\n",
              "      <td>Hiring a Firm for BRD Maintenance Assessment</td>\n",
              "      <td>Development Bank of Rwanda  BRD</td>\n",
              "      <td>Published on 10 11 2022</td>\n",
              "      <td>Consultancy</td>\n",
              "      <td>RW</td>\n",
              "      <td>Other</td>\n",
              "      <td>Not specified</td>\n",
              "      <td>Not specified</td>\n",
              "      <td>Contract</td>\n",
              "      <td>Friday 25/11/2022 10:00</td>\n",
              "      <td>1</td>\n",
              "    </tr>\n",
              "    <tr>\n",
              "      <th>1</th>\n",
              "      <td>Construction du Guichet de Byumba</td>\n",
              "      <td>Reseau Interdiocesain de Microfinance  RIM Ltd</td>\n",
              "      <td>Published on 10 11 2022</td>\n",
              "      <td>Tender</td>\n",
              "      <td>RW</td>\n",
              "      <td>Other</td>\n",
              "      <td>Not specified</td>\n",
              "      <td>Not specified</td>\n",
              "      <td>Tender</td>\n",
              "      <td>Monday 21/11/2022 23:59</td>\n",
              "      <td>1</td>\n",
              "    </tr>\n",
              "    <tr>\n",
              "      <th>3</th>\n",
              "      <td>Operations Manager</td>\n",
              "      <td>GardaWorld</td>\n",
              "      <td>Published on 03 11 2022</td>\n",
              "      <td>Job</td>\n",
              "      <td>RW</td>\n",
              "      <td>Administration, Business, Management, Other</td>\n",
              "      <td>Bachelor</td>\n",
              "      <td>Senior (5+ years of experience)</td>\n",
              "      <td>Full-time</td>\n",
              "      <td>Monday 14/11/2022 23:59</td>\n",
              "      <td>1</td>\n",
              "    </tr>\n",
              "    <tr>\n",
              "      <th>4</th>\n",
              "      <td>Terms of Reference for Production Of the Secon...</td>\n",
              "      <td>UN Women Rwanda</td>\n",
              "      <td>Published on 02 11 2022</td>\n",
              "      <td>Consultancy</td>\n",
              "      <td>RW</td>\n",
              "      <td>Economics, Other, Social sciences</td>\n",
              "      <td>Master</td>\n",
              "      <td>Senior (5+ years of experience)</td>\n",
              "      <td>Contract</td>\n",
              "      <td>Tuesday 15/11/2022 17:00</td>\n",
              "      <td>1</td>\n",
              "    </tr>\n",
              "    <tr>\n",
              "      <th>5</th>\n",
              "      <td>Call for Application for Professional Training...</td>\n",
              "      <td>The leadership of Innovative Isiine Training C...</td>\n",
              "      <td>Published on 01 11 2022</td>\n",
              "      <td>Other</td>\n",
              "      <td>RW</td>\n",
              "      <td>Other</td>\n",
              "      <td>Not specified</td>\n",
              "      <td>Not specified</td>\n",
              "      <td>Other</td>\n",
              "      <td>Monday 14/11/2022 23:59</td>\n",
              "      <td>1</td>\n",
              "    </tr>\n",
              "    <tr>\n",
              "      <th>...</th>\n",
              "      <td>...</td>\n",
              "      <td>...</td>\n",
              "      <td>...</td>\n",
              "      <td>...</td>\n",
              "      <td>...</td>\n",
              "      <td>...</td>\n",
              "      <td>...</td>\n",
              "      <td>...</td>\n",
              "      <td>...</td>\n",
              "      <td>...</td>\n",
              "      <td>...</td>\n",
              "    </tr>\n",
              "    <tr>\n",
              "      <th>160</th>\n",
              "      <td>Store Keeper</td>\n",
              "      <td>ExCraft Ltd</td>\n",
              "      <td>Published on 14 10 2022</td>\n",
              "      <td>Job</td>\n",
              "      <td>RW</td>\n",
              "      <td>Marketing and sales Other</td>\n",
              "      <td>Bachelor</td>\n",
              "      <td>Mid career (3 to 5 years of experience)</td>\n",
              "      <td>Full-time</td>\n",
              "      <td>Monday 14/11/2022 23:59</td>\n",
              "      <td>1</td>\n",
              "    </tr>\n",
              "    <tr>\n",
              "      <th>161</th>\n",
              "      <td>Rwanda Market Access and SRF MEL Associate</td>\n",
              "      <td>One Acre Fund     Kigali</td>\n",
              "      <td>Published on 13 10 2022</td>\n",
              "      <td>Job</td>\n",
              "      <td>Kigali RW</td>\n",
              "      <td>Agriculture, Business, Demography and data ana...</td>\n",
              "      <td>Bachelor</td>\n",
              "      <td>Entry level (1 to 3 years of experience)</td>\n",
              "      <td>Full-time</td>\n",
              "      <td>Tuesday 10/01/2023 23:59</td>\n",
              "      <td>1</td>\n",
              "    </tr>\n",
              "    <tr>\n",
              "      <th>164</th>\n",
              "      <td>Consultant to Conduct a Baseline Survey for Ev...</td>\n",
              "      <td>Tubibe Amahoro  TA</td>\n",
              "      <td>Published on 03 10 2022</td>\n",
              "      <td>Consultancy</td>\n",
              "      <td>RW</td>\n",
              "      <td>Other</td>\n",
              "      <td>Not specified</td>\n",
              "      <td>Not specified</td>\n",
              "      <td>Contract</td>\n",
              "      <td>Tuesday 15/11/2022 10:00</td>\n",
              "      <td>1</td>\n",
              "    </tr>\n",
              "    <tr>\n",
              "      <th>166</th>\n",
              "      <td>Rwanda Potato Seed Venture   Lead</td>\n",
              "      <td>One Acre Fund     Kigali</td>\n",
              "      <td>Published on 14 09 2022</td>\n",
              "      <td>Job</td>\n",
              "      <td>Kigali RW</td>\n",
              "      <td>Agriculture, Agronomy, Business, Environmental...</td>\n",
              "      <td>Master</td>\n",
              "      <td>Senior (5+ years of experience)</td>\n",
              "      <td>Full-time</td>\n",
              "      <td>Monday 28/11/2022 23:59</td>\n",
              "      <td>1</td>\n",
              "    </tr>\n",
              "    <tr>\n",
              "      <th>167</th>\n",
              "      <td>IT Operations Senior Manager</td>\n",
              "      <td>One Acre Fund     Kigali</td>\n",
              "      <td>Published on 07 09 2022</td>\n",
              "      <td>Job</td>\n",
              "      <td>Kigali RW</td>\n",
              "      <td>Agriculture, Business, Computer and IT, Manage...</td>\n",
              "      <td>Not specified</td>\n",
              "      <td>Not specified</td>\n",
              "      <td>Full-time</td>\n",
              "      <td>Tuesday 06/12/2022 23:59</td>\n",
              "      <td>1</td>\n",
              "    </tr>\n",
              "  </tbody>\n",
              "</table>\n",
              "<p>157 rows × 11 columns</p>\n",
              "</div>\n",
              "      <button class=\"colab-df-convert\" onclick=\"convertToInteractive('df-990f718f-c85d-47ca-8da0-51c11f5ec363')\"\n",
              "              title=\"Convert this dataframe to an interactive table.\"\n",
              "              style=\"display:none;\">\n",
              "        \n",
              "  <svg xmlns=\"http://www.w3.org/2000/svg\" height=\"24px\"viewBox=\"0 0 24 24\"\n",
              "       width=\"24px\">\n",
              "    <path d=\"M0 0h24v24H0V0z\" fill=\"none\"/>\n",
              "    <path d=\"M18.56 5.44l.94 2.06.94-2.06 2.06-.94-2.06-.94-.94-2.06-.94 2.06-2.06.94zm-11 1L8.5 8.5l.94-2.06 2.06-.94-2.06-.94L8.5 2.5l-.94 2.06-2.06.94zm10 10l.94 2.06.94-2.06 2.06-.94-2.06-.94-.94-2.06-.94 2.06-2.06.94z\"/><path d=\"M17.41 7.96l-1.37-1.37c-.4-.4-.92-.59-1.43-.59-.52 0-1.04.2-1.43.59L10.3 9.45l-7.72 7.72c-.78.78-.78 2.05 0 2.83L4 21.41c.39.39.9.59 1.41.59.51 0 1.02-.2 1.41-.59l7.78-7.78 2.81-2.81c.8-.78.8-2.07 0-2.86zM5.41 20L4 18.59l7.72-7.72 1.47 1.35L5.41 20z\"/>\n",
              "  </svg>\n",
              "      </button>\n",
              "      \n",
              "  <style>\n",
              "    .colab-df-container {\n",
              "      display:flex;\n",
              "      flex-wrap:wrap;\n",
              "      gap: 12px;\n",
              "    }\n",
              "\n",
              "    .colab-df-convert {\n",
              "      background-color: #E8F0FE;\n",
              "      border: none;\n",
              "      border-radius: 50%;\n",
              "      cursor: pointer;\n",
              "      display: none;\n",
              "      fill: #1967D2;\n",
              "      height: 32px;\n",
              "      padding: 0 0 0 0;\n",
              "      width: 32px;\n",
              "    }\n",
              "\n",
              "    .colab-df-convert:hover {\n",
              "      background-color: #E2EBFA;\n",
              "      box-shadow: 0px 1px 2px rgba(60, 64, 67, 0.3), 0px 1px 3px 1px rgba(60, 64, 67, 0.15);\n",
              "      fill: #174EA6;\n",
              "    }\n",
              "\n",
              "    [theme=dark] .colab-df-convert {\n",
              "      background-color: #3B4455;\n",
              "      fill: #D2E3FC;\n",
              "    }\n",
              "\n",
              "    [theme=dark] .colab-df-convert:hover {\n",
              "      background-color: #434B5C;\n",
              "      box-shadow: 0px 1px 3px 1px rgba(0, 0, 0, 0.15);\n",
              "      filter: drop-shadow(0px 1px 2px rgba(0, 0, 0, 0.3));\n",
              "      fill: #FFFFFF;\n",
              "    }\n",
              "  </style>\n",
              "\n",
              "      <script>\n",
              "        const buttonEl =\n",
              "          document.querySelector('#df-990f718f-c85d-47ca-8da0-51c11f5ec363 button.colab-df-convert');\n",
              "        buttonEl.style.display =\n",
              "          google.colab.kernel.accessAllowed ? 'block' : 'none';\n",
              "\n",
              "        async function convertToInteractive(key) {\n",
              "          const element = document.querySelector('#df-990f718f-c85d-47ca-8da0-51c11f5ec363');\n",
              "          const dataTable =\n",
              "            await google.colab.kernel.invokeFunction('convertToInteractive',\n",
              "                                                     [key], {});\n",
              "          if (!dataTable) return;\n",
              "\n",
              "          const docLinkHtml = 'Like what you see? Visit the ' +\n",
              "            '<a target=\"_blank\" href=https://colab.research.google.com/notebooks/data_table.ipynb>data table notebook</a>'\n",
              "            + ' to learn more about interactive tables.';\n",
              "          element.innerHTML = '';\n",
              "          dataTable['output_type'] = 'display_data';\n",
              "          await google.colab.output.renderOutput(dataTable, element);\n",
              "          const docLink = document.createElement('div');\n",
              "          docLink.innerHTML = docLinkHtml;\n",
              "          element.appendChild(docLink);\n",
              "        }\n",
              "      </script>\n",
              "    </div>\n",
              "  </div>\n",
              "  "
            ]
          },
          "metadata": {},
          "execution_count": 46
        }
      ]
    },
    {
      "cell_type": "markdown",
      "source": [
        "Save Data to CSV File"
      ],
      "metadata": {
        "id": "gOQoZzybusQk"
      }
    },
    {
      "cell_type": "code",
      "source": [
        "with open('jobs.csv', 'w+') as jobs_data:\n",
        "  frame.to_csv(jobs_data)"
      ],
      "metadata": {
        "id": "ovq6iz70urCX"
      },
      "execution_count": 55,
      "outputs": []
    },
    {
      "cell_type": "markdown",
      "source": [
        "# Challenge #3"
      ],
      "metadata": {
        "id": "NQDzPNm6utEH"
      }
    },
    {
      "cell_type": "markdown",
      "source": [
        "## Get ***IT/Software*** Opportunities using `Regex`\n",
        "\n",
        "\n"
      ],
      "metadata": {
        "id": "5Kkk_ZUnuw0N"
      }
    },
    {
      "cell_type": "code",
      "source": [
        "fr = f.filter(regex=\".*Sector.*\")\n",
        "regex = r'Computer and IT'\n",
        "it_df = frame[frame.Sector.str.match(regex)]\n",
        "\n",
        "it_df"
      ],
      "metadata": {
        "colab": {
          "base_uri": "https://localhost:8080/",
          "height": 416
        },
        "id": "cWI1lJldnuAj",
        "outputId": "e52333db-cacd-4526-a1fa-af9ea01f052c"
      },
      "execution_count": 47,
      "outputs": [
        {
          "output_type": "execute_result",
          "data": {
            "text/plain": [
              "                              Job Title  \\\n",
              "29                      Product Manager   \n",
              "119                 IT and MIS Director   \n",
              "134  Instructional Technology Assistant   \n",
              "\n",
              "                                      Company           Published Date  \\\n",
              "29            Ampersand Rwanda Ltd     Kigali  Published on 10 11 2022   \n",
              "119   CHANCEN International Rwanda     Kigali  Published on 31 10 2022   \n",
              "134  University of Global Health Equity  UGHE  Published on 28 10 2022   \n",
              "\n",
              "    Job Category   Location                                           Sector  \\\n",
              "29           Job  Kigali RW  Computer and IT, Management, Project management   \n",
              "119          Job  Kigali RW       Computer and IT, Other, Project management   \n",
              "134          Job         RW                Computer and IT, Education, Other   \n",
              "\n",
              "    Education level               Desired experience Contract type  \\\n",
              "29         Bachelor  Senior (5+ years of experience)     Full-time   \n",
              "119        Bachelor  Senior (5+ years of experience)     Full-time   \n",
              "134        Bachelor                    Not specified     Full-time   \n",
              "\n",
              "                     Deadline Number of positions  \n",
              "29   Tuesday 10/01/2023 23:59                   1  \n",
              "119   Friday 18/11/2022 23:59                   1  \n",
              "134   Monday 28/11/2022 23:59                   1  "
            ],
            "text/html": [
              "\n",
              "  <div id=\"df-c486aeb6-5cb0-4eaa-a4da-ead538886060\">\n",
              "    <div class=\"colab-df-container\">\n",
              "      <div>\n",
              "<style scoped>\n",
              "    .dataframe tbody tr th:only-of-type {\n",
              "        vertical-align: middle;\n",
              "    }\n",
              "\n",
              "    .dataframe tbody tr th {\n",
              "        vertical-align: top;\n",
              "    }\n",
              "\n",
              "    .dataframe thead th {\n",
              "        text-align: right;\n",
              "    }\n",
              "</style>\n",
              "<table border=\"1\" class=\"dataframe\">\n",
              "  <thead>\n",
              "    <tr style=\"text-align: right;\">\n",
              "      <th></th>\n",
              "      <th>Job Title</th>\n",
              "      <th>Company</th>\n",
              "      <th>Published Date</th>\n",
              "      <th>Job Category</th>\n",
              "      <th>Location</th>\n",
              "      <th>Sector</th>\n",
              "      <th>Education level</th>\n",
              "      <th>Desired experience</th>\n",
              "      <th>Contract type</th>\n",
              "      <th>Deadline</th>\n",
              "      <th>Number of positions</th>\n",
              "    </tr>\n",
              "  </thead>\n",
              "  <tbody>\n",
              "    <tr>\n",
              "      <th>29</th>\n",
              "      <td>Product Manager</td>\n",
              "      <td>Ampersand Rwanda Ltd     Kigali</td>\n",
              "      <td>Published on 10 11 2022</td>\n",
              "      <td>Job</td>\n",
              "      <td>Kigali RW</td>\n",
              "      <td>Computer and IT, Management, Project management</td>\n",
              "      <td>Bachelor</td>\n",
              "      <td>Senior (5+ years of experience)</td>\n",
              "      <td>Full-time</td>\n",
              "      <td>Tuesday 10/01/2023 23:59</td>\n",
              "      <td>1</td>\n",
              "    </tr>\n",
              "    <tr>\n",
              "      <th>119</th>\n",
              "      <td>IT and MIS Director</td>\n",
              "      <td>CHANCEN International Rwanda     Kigali</td>\n",
              "      <td>Published on 31 10 2022</td>\n",
              "      <td>Job</td>\n",
              "      <td>Kigali RW</td>\n",
              "      <td>Computer and IT, Other, Project management</td>\n",
              "      <td>Bachelor</td>\n",
              "      <td>Senior (5+ years of experience)</td>\n",
              "      <td>Full-time</td>\n",
              "      <td>Friday 18/11/2022 23:59</td>\n",
              "      <td>1</td>\n",
              "    </tr>\n",
              "    <tr>\n",
              "      <th>134</th>\n",
              "      <td>Instructional Technology Assistant</td>\n",
              "      <td>University of Global Health Equity  UGHE</td>\n",
              "      <td>Published on 28 10 2022</td>\n",
              "      <td>Job</td>\n",
              "      <td>RW</td>\n",
              "      <td>Computer and IT, Education, Other</td>\n",
              "      <td>Bachelor</td>\n",
              "      <td>Not specified</td>\n",
              "      <td>Full-time</td>\n",
              "      <td>Monday 28/11/2022 23:59</td>\n",
              "      <td>1</td>\n",
              "    </tr>\n",
              "  </tbody>\n",
              "</table>\n",
              "</div>\n",
              "      <button class=\"colab-df-convert\" onclick=\"convertToInteractive('df-c486aeb6-5cb0-4eaa-a4da-ead538886060')\"\n",
              "              title=\"Convert this dataframe to an interactive table.\"\n",
              "              style=\"display:none;\">\n",
              "        \n",
              "  <svg xmlns=\"http://www.w3.org/2000/svg\" height=\"24px\"viewBox=\"0 0 24 24\"\n",
              "       width=\"24px\">\n",
              "    <path d=\"M0 0h24v24H0V0z\" fill=\"none\"/>\n",
              "    <path d=\"M18.56 5.44l.94 2.06.94-2.06 2.06-.94-2.06-.94-.94-2.06-.94 2.06-2.06.94zm-11 1L8.5 8.5l.94-2.06 2.06-.94-2.06-.94L8.5 2.5l-.94 2.06-2.06.94zm10 10l.94 2.06.94-2.06 2.06-.94-2.06-.94-.94-2.06-.94 2.06-2.06.94z\"/><path d=\"M17.41 7.96l-1.37-1.37c-.4-.4-.92-.59-1.43-.59-.52 0-1.04.2-1.43.59L10.3 9.45l-7.72 7.72c-.78.78-.78 2.05 0 2.83L4 21.41c.39.39.9.59 1.41.59.51 0 1.02-.2 1.41-.59l7.78-7.78 2.81-2.81c.8-.78.8-2.07 0-2.86zM5.41 20L4 18.59l7.72-7.72 1.47 1.35L5.41 20z\"/>\n",
              "  </svg>\n",
              "      </button>\n",
              "      \n",
              "  <style>\n",
              "    .colab-df-container {\n",
              "      display:flex;\n",
              "      flex-wrap:wrap;\n",
              "      gap: 12px;\n",
              "    }\n",
              "\n",
              "    .colab-df-convert {\n",
              "      background-color: #E8F0FE;\n",
              "      border: none;\n",
              "      border-radius: 50%;\n",
              "      cursor: pointer;\n",
              "      display: none;\n",
              "      fill: #1967D2;\n",
              "      height: 32px;\n",
              "      padding: 0 0 0 0;\n",
              "      width: 32px;\n",
              "    }\n",
              "\n",
              "    .colab-df-convert:hover {\n",
              "      background-color: #E2EBFA;\n",
              "      box-shadow: 0px 1px 2px rgba(60, 64, 67, 0.3), 0px 1px 3px 1px rgba(60, 64, 67, 0.15);\n",
              "      fill: #174EA6;\n",
              "    }\n",
              "\n",
              "    [theme=dark] .colab-df-convert {\n",
              "      background-color: #3B4455;\n",
              "      fill: #D2E3FC;\n",
              "    }\n",
              "\n",
              "    [theme=dark] .colab-df-convert:hover {\n",
              "      background-color: #434B5C;\n",
              "      box-shadow: 0px 1px 3px 1px rgba(0, 0, 0, 0.15);\n",
              "      filter: drop-shadow(0px 1px 2px rgba(0, 0, 0, 0.3));\n",
              "      fill: #FFFFFF;\n",
              "    }\n",
              "  </style>\n",
              "\n",
              "      <script>\n",
              "        const buttonEl =\n",
              "          document.querySelector('#df-c486aeb6-5cb0-4eaa-a4da-ead538886060 button.colab-df-convert');\n",
              "        buttonEl.style.display =\n",
              "          google.colab.kernel.accessAllowed ? 'block' : 'none';\n",
              "\n",
              "        async function convertToInteractive(key) {\n",
              "          const element = document.querySelector('#df-c486aeb6-5cb0-4eaa-a4da-ead538886060');\n",
              "          const dataTable =\n",
              "            await google.colab.kernel.invokeFunction('convertToInteractive',\n",
              "                                                     [key], {});\n",
              "          if (!dataTable) return;\n",
              "\n",
              "          const docLinkHtml = 'Like what you see? Visit the ' +\n",
              "            '<a target=\"_blank\" href=https://colab.research.google.com/notebooks/data_table.ipynb>data table notebook</a>'\n",
              "            + ' to learn more about interactive tables.';\n",
              "          element.innerHTML = '';\n",
              "          dataTable['output_type'] = 'display_data';\n",
              "          await google.colab.output.renderOutput(dataTable, element);\n",
              "          const docLink = document.createElement('div');\n",
              "          docLink.innerHTML = docLinkHtml;\n",
              "          element.appendChild(docLink);\n",
              "        }\n",
              "      </script>\n",
              "    </div>\n",
              "  </div>\n",
              "  "
            ]
          },
          "metadata": {},
          "execution_count": 47
        }
      ]
    },
    {
      "cell_type": "code",
      "source": [
        "import json\n",
        "\n",
        "result = it_df.to_json(orient='split')\n",
        "result = json.loads(result)\n",
        "result = json.dumps(result, indent=4)\n",
        "# for data in result['data']:\n",
        "#   print(data)\n",
        "\n",
        "print(result)"
      ],
      "metadata": {
        "id": "Wl6AVbm4pxKt"
      },
      "execution_count": null,
      "outputs": []
    },
    {
      "cell_type": "code",
      "source": [
        "!pip install -U easynmt"
      ],
      "metadata": {
        "id": "IgZr3C_-tGSF"
      },
      "execution_count": null,
      "outputs": []
    },
    {
      "cell_type": "code",
      "source": [
        "from easynmt import EasyNMT\n",
        "\n",
        "model = EasyNMT('m2m_100_418M')\n",
        "\n",
        "def translate(txt, lang):\n",
        "  tran = model.translate(txt, target_lang=lang)\n",
        "  return tran\n"
      ],
      "metadata": {
        "id": "ACRvsKmjulL7"
      },
      "execution_count": 50,
      "outputs": []
    },
    {
      "cell_type": "code",
      "source": [
        "# tran = []\n",
        "# le = len(data)\n",
        "# for data in result['data']:\n",
        "#   try:\n",
        "#     tran.append(translate(data, 'fr'))\n",
        "#   except:\n",
        "#     pass\n",
        "\n",
        "# tran"
      ],
      "metadata": {
        "id": "ymph3-q5ylJz"
      },
      "execution_count": 52,
      "outputs": []
    },
    {
      "cell_type": "markdown",
      "source": [
        "# Challenge #4"
      ],
      "metadata": {
        "id": "GTJxdk_wvPg_"
      }
    },
    {
      "cell_type": "markdown",
      "source": [
        "### Display Result In Different Languages"
      ],
      "metadata": {
        "id": "tACZ37r3vS1t"
      }
    },
    {
      "cell_type": "code",
      "source": [],
      "metadata": {
        "id": "ACqWIGADviuM"
      },
      "execution_count": 52,
      "outputs": []
    },
    {
      "cell_type": "markdown",
      "source": [
        "# Challenge #5"
      ],
      "metadata": {
        "id": "PhfzgnNPvqKY"
      }
    },
    {
      "cell_type": "markdown",
      "source": [
        "## Host the API for the data in colab"
      ],
      "metadata": {
        "id": "_cElg0CmvsNp"
      }
    },
    {
      "cell_type": "code",
      "source": [
        "!pip install fastapi pyngrok uvicorn nest-asyncio"
      ],
      "metadata": {
        "id": "sXuWnsn1vz--"
      },
      "execution_count": null,
      "outputs": []
    },
    {
      "cell_type": "code",
      "source": [
        "import os\n",
        "!mkdir fastapi_app/\n",
        "os.chdir('fastapi_app')\n",
        "!mkdir templates/\n",
        "!mkdir static/"
      ],
      "metadata": {
        "id": "POUDRKB3JkyU"
      },
      "execution_count": null,
      "outputs": []
    },
    {
      "cell_type": "code",
      "source": [
        "!ls && pwd"
      ],
      "metadata": {
        "id": "uh2NEriksDwW"
      },
      "execution_count": null,
      "outputs": []
    },
    {
      "cell_type": "code",
      "source": [
        "os.chdir('static')"
      ],
      "metadata": {
        "id": "31qjebU5IA1i"
      },
      "execution_count": null,
      "outputs": []
    },
    {
      "cell_type": "code",
      "source": [
        "os.chdir('../')"
      ],
      "metadata": {
        "id": "s7WX2ATystrN"
      },
      "execution_count": null,
      "outputs": []
    },
    {
      "cell_type": "code",
      "source": [
        "%%writefile static/index.css\n",
        "header {\n",
        "  width: 100%;\n",
        "  height: 70px;\n",
        "  background:#013220;\n",
        "}\n",
        "\n",
        "header h1{\n",
        "  width: 100%;\n",
        "  height: 70px;\n",
        "  background:#ddd;\n",
        "  text-shadow: 5px 10px 5px #fff;\n",
        "}\n",
        "\n",
        "main {\n",
        "  width: 100%;\n",
        "}\n",
        "\n",
        ".data{\n",
        "  display: flex;\n",
        "justify-content: enter;\n",
        "}"
      ],
      "metadata": {
        "id": "LgvffLMoIPDV"
      },
      "execution_count": null,
      "outputs": []
    },
    {
      "cell_type": "code",
      "source": [
        "!ls && pwd"
      ],
      "metadata": {
        "id": "B7aRLRd6iG7P"
      },
      "execution_count": null,
      "outputs": []
    },
    {
      "cell_type": "code",
      "source": [
        "os.chdir('templates')"
      ],
      "metadata": {
        "id": "5aKKnllwrwc0"
      },
      "execution_count": null,
      "outputs": []
    },
    {
      "cell_type": "code",
      "source": [
        "%%writefile templates/index.html\n",
        "<html>\n",
        "  <head>\n",
        "    <title>Hackerthon</title>\n",
        "    <link href=\"{{ url_for('static', path='/index.css') }}\" rel=\"stylesheet\">\n",
        "  </head>\n",
        "  <body>\n",
        "  <header>\n",
        "    <h1> NLP Fellowship</h1>\n",
        "  </header>\n",
        "    <main>\n",
        "      <div class=\"data\">\n",
        "      <form method=\"GET\" action=\"/jobs/translate\">\n",
        "        <select name=\"lang\">\n",
        "          <option value=\"{{langages}}\">{{langages}}</option>\n",
        "        </select>\n",
        "        <input type=\"submit\" name=\"translate\" value=\"Translate\">\n",
        "      </form>\n",
        "        Result: {{ result }}\n",
        "      </div>\n",
        "    </main>\n",
        "  </body>\n",
        "</html"
      ],
      "metadata": {
        "id": "z4mRO8_3Jnen",
        "outputId": "50afb86f-c634-4adc-9509-13baf208a029",
        "colab": {
          "base_uri": "https://localhost:8080/"
        }
      },
      "execution_count": 57,
      "outputs": [
        {
          "output_type": "stream",
          "name": "stdout",
          "text": [
            "Overwriting templates/index.html\n"
          ]
        }
      ]
    },
    {
      "cell_type": "code",
      "source": [
        "os.chdir('../')"
      ],
      "metadata": {
        "id": "TuNl8uQEowJo"
      },
      "execution_count": null,
      "outputs": []
    },
    {
      "cell_type": "code",
      "source": [
        "pwd"
      ],
      "metadata": {
        "id": "Z_A0a7ShkTWG"
      },
      "execution_count": null,
      "outputs": []
    },
    {
      "cell_type": "code",
      "source": [
        "# os.chdir('flask_app')\n",
        "!mkdir static"
      ],
      "metadata": {
        "id": "zgAZeHLRsBRU"
      },
      "execution_count": null,
      "outputs": []
    },
    {
      "cell_type": "code",
      "source": [
        "!ngrok authtoken 2HUVFixTd5hkphod8sVWnN4j3bK_KBUFeSAS4rD2tsHjW5UR"
      ],
      "metadata": {
        "id": "yjB77dbejmdB"
      },
      "execution_count": null,
      "outputs": []
    },
    {
      "cell_type": "code",
      "source": [
        "# !pip install fastapi pyngrok uvicorn nest-asyncio\n",
        "\n",
        "!pip install -U easynmt"
      ],
      "metadata": {
        "id": "vstfpiDQtFsT"
      },
      "execution_count": null,
      "outputs": []
    },
    {
      "cell_type": "markdown",
      "source": [
        "## Site Variable"
      ],
      "metadata": {
        "id": "uVb-vr5XdnRA"
      }
    },
    {
      "cell_type": "code",
      "source": [
        "jobs = [['Produit Manager',\n",
        "  'Ampersand Ruanda, Ltd. à Kigali',\n",
        "  'Publié le 10 11 2022',\n",
        "  'Travail',\n",
        "  'Général RW',\n",
        "  'Informatique et IT, Gestion, Gestion de projet',\n",
        "  'Baccalauréat',\n",
        "  'Senior (5 ans et plus d’expérience)',\n",
        "  'Temps plein',\n",
        "  'Mardi 10/01/2023 23:59',\n",
        "  '1'],\n",
        " ['C’est moi et mon directeur',\n",
        "  'Chancé international Rwanda Kigali',\n",
        "  'Publié le 31 10 2022',\n",
        "  'Travail',\n",
        "  'Général RW',\n",
        "  'Informatique et IT, Autres, Gestion du projet',\n",
        "  'Baccalauréat',\n",
        "  'Senior (5 ans et plus d’expérience)',\n",
        "  'Temps plein',\n",
        "  'vendredi 18/11/2022 23:59',\n",
        "  '1']]\n",
        "\n",
        "langages = {\n",
        "  'aa': 'Afar',\n",
        "  'ab': 'Abkhazian',\n",
        "  'af': 'Afrikaans',\n",
        "  'ak': 'Akan',\n",
        "  'sq': 'Albanian',\n",
        "  'am': 'Amharic',\n",
        "  'ar': 'Arabic',\n",
        "  'an': 'Aragonese',\n",
        "  'hy': 'Armenian',\n",
        "  'as': 'Assamese',\n",
        "  'av': 'Avaric',\n",
        "  'ae': 'Avestan',\n",
        "  'ay': 'Aymara',\n",
        "  'az': 'Azerbaijani',\n",
        "  'ba': 'Bashkir',\n",
        "  'bm': 'Bambara',\n",
        "  'eu': 'Basque',\n",
        "  'be': 'Belarusian',\n",
        "  'bn': 'Bengali',\n",
        "  'bh': 'Bihari languages',\n",
        "  'bi': 'Bislama',\n",
        "  'bo': 'Tibetan',\n",
        "  'bs': 'Bosnian',\n",
        "  'br': 'Breton',\n",
        "  'bg': 'Bulgarian',\n",
        "  'my': 'Burmese',\n",
        "  'ca': 'Catalan; Valencian',\n",
        "  'cs': 'Czech',\n",
        "  'ch': 'Chamorro',\n",
        "  'ce': 'Chechen',\n",
        "  'zh': 'Chinese',\n",
        "  'cu': 'Church Slavic; Old Slavonic; Church Slavonic; Old Bulgarian; Old Church Slavonic',\n",
        "  'cv': 'Chuvash',\n",
        "  'kw': 'Cornish',\n",
        "  'co': 'Corsican',\n",
        "  'cr': 'Cree',\n",
        "  'cy': 'Welsh',\n",
        "  'cs': 'Czech',\n",
        "  'da': 'Danish',\n",
        "  'de': 'German',\n",
        "  'dv': 'Divehi; Dhivehi; Maldivian',\n",
        "  'nl': 'Dutch; Flemish',\n",
        "  'dz': 'Dzongkha',\n",
        "  'el': 'Greek, Modern (1453-)',\n",
        "  'en': 'English',\n",
        "  'eo': 'Esperanto',\n",
        "  'et': 'Estonian',\n",
        "  'eu': 'Basque',\n",
        "  'ee': 'Ewe',\n",
        "  'fo': 'Faroese',\n",
        "  'fa': 'Persian',\n",
        "  'fj': 'Fijian',\n",
        "  'fi': 'Finnish',\n",
        "  'fr': 'French',\n",
        "  'fy': 'Western Frisian',\n",
        "  'ff': 'Fulah',\n",
        "  'Ga': 'Georgian',\n",
        "  'de': 'German',\n",
        "  'gd': 'Gaelic; Scottish Gaelic',\n",
        "  'ga': 'Irish',\n",
        "  'gl': 'Galician',\n",
        "  'gv': 'Manx',\n",
        "  'el': 'Greek, Modern (1453-)',\n",
        "  'gn': 'Guarani',\n",
        "  'gu': 'Gujarati',\n",
        "  'ht': 'Haitian; Haitian Creole',\n",
        "  'ha': 'Hausa',\n",
        "  'he': 'Hebrew',\n",
        "  'hz': 'Herero',\n",
        "  'hi': 'Hindi',\n",
        "  'ho': 'Hiri Motu',\n",
        "  'hr': 'Croatian',\n",
        "  'hu': 'Hungarian',\n",
        "  'hy': 'Armenian',\n",
        "  'ig': 'Igbo',\n",
        "  'is': 'Icelandic',\n",
        "  'io': 'Ido',\n",
        "  'ii': 'Sichuan Yi; Nuosu',\n",
        "  'iu': 'Inuktitut',\n",
        "  'ie': 'Interlingue; Occidental',\n",
        "  'ia': 'Interlingua (International Auxiliary Language Association)',\n",
        "  'id': 'Indonesian',\n",
        "  'ik': 'Inupiaq',\n",
        "  'is': 'Icelandic',\n",
        "  'it': 'Italian',\n",
        "  'jv': 'Javanese',\n",
        "  'ja': 'Japanese',\n",
        "  'kl': 'Kalaallisut; Greenlandic',\n",
        "  'kn': 'Kannada',\n",
        "  'ks': 'Kashmiri',\n",
        "  'ka': 'Georgian',\n",
        "  'kr': 'Kanuri',\n",
        "  'kk': 'Kazakh',\n",
        "  'km': 'Central Khmer',\n",
        "  'ki': 'Kikuyu; Gikuyu',\n",
        "  'rw': 'Kinyarwanda',\n",
        "  'ky': 'Kirghiz; Kyrgyz',\n",
        "  'kv': 'Komi',\n",
        "  'kg': 'Kongo',\n",
        "  'ko': 'Korean',\n",
        "  'kj': 'Kuanyama; Kwanyama',\n",
        "  'ku': 'Kurdish',\n",
        "  'lo': 'Lao',\n",
        "  'la': 'Latin',\n",
        "  'lv': 'Latvian',\n",
        "  'li': 'Limburgan; Limburger; Limburgish',\n",
        "  'ln': 'Lingala',\n",
        "  'lt': 'Lithuanian',\n",
        "  'lb': 'Luxembourgish; Letzeburgesch',\n",
        "  'lu': 'Luba-Katanga',\n",
        "  'lg': 'Ganda',\n",
        "  'mk': 'Macedonian',\n",
        "  'mh': 'Marshallese',\n",
        "  'ml': 'Malayalam',\n",
        "  'mi': 'Maori',\n",
        "  'mr': 'Marathi',\n",
        "  'ms': 'Malay',\n",
        "  'Mi': 'Micmac',\n",
        "  'mk': 'Macedonian',\n",
        "  'mg': 'Malagasy',\n",
        "  'mt': 'Maltese',\n",
        "  'mn': 'Mongolian',\n",
        "  'mi': 'Maori',\n",
        "  'ms': 'Malay',\n",
        "  'my': 'Burmese',\n",
        "  'na': 'Nauru',\n",
        "  'nv': 'Navajo; Navaho',\n",
        "  'nr': 'Ndebele, South; South Ndebele',\n",
        "  'nd': 'Ndebele, North; North Ndebele',\n",
        "  'ng': 'Ndonga',\n",
        "  'ne': 'Nepali',\n",
        "  'nl': 'Dutch; Flemish',\n",
        "  'nn': 'Norwegian Nynorsk; Nynorsk, Norwegian',\n",
        "  'nb': 'Bokmål, Norwegian; Norwegian Bokmål',\n",
        "  'no': 'Norwegian',\n",
        "  'oc': 'Occitan (post 1500)',\n",
        "  'oj': 'Ojibwa',\n",
        "  'or': 'Oriya',\n",
        "  'om': 'Oromo',\n",
        "  'os': 'Ossetian; Ossetic',\n",
        "  'pa': 'Panjabi; Punjabi',\n",
        "  'fa': 'Persian',\n",
        "  'pi': 'Pali',\n",
        "  'pl': 'Polish',\n",
        "  'pt': 'Portuguese',\n",
        "  'ps': 'Pushto; Pashto',\n",
        "  'qu': 'Quechua',\n",
        "  'rm': 'Romansh',\n",
        "  'ro': 'Romanian; Moldavian; Moldovan',\n",
        "  'ro': 'Romanian; Moldavian; Moldovan',\n",
        "  'rn': 'Rundi',\n",
        "  'ru': 'Russian',\n",
        "  'sg': 'Sango',\n",
        "  'sa': 'Sanskrit',\n",
        "  'si': 'Sinhala; Sinhalese',\n",
        "  'sk': 'Slovak',\n",
        "  'sk': 'Slovak',\n",
        "  'sl': 'Slovenian',\n",
        "  'se': 'Northern Sami',\n",
        "  'sm': 'Samoan',\n",
        "  'sn': 'Shona',\n",
        "  'sd': 'Sindhi',\n",
        "  'so': 'Somali',\n",
        "  'st': 'Sotho, Southern',\n",
        "  'es': 'Spanish; Castilian',\n",
        "  'sq': 'Albanian',\n",
        "  'sc': 'Sardinian',\n",
        "  'sr': 'Serbian',\n",
        "  'ss': 'Swati',\n",
        "  'su': 'Sundanese',\n",
        "  'sw': 'Swahili',\n",
        "  'sv': 'Swedish',\n",
        "  'ty': 'Tahitian',\n",
        "  'ta': 'Tamil',\n",
        "  'tt': 'Tatar',\n",
        "  'te': 'Telugu',\n",
        "  'tg': 'Tajik',\n",
        "  'tl': 'Tagalog',\n",
        "  'th': 'Thai',\n",
        "  'bo': 'Tibetan',\n",
        "  'ti': 'Tigrinya',\n",
        "  'to': 'Tonga (Tonga Islands)',\n",
        "  'tn': 'Tswana',\n",
        "  'ts': 'Tsonga',\n",
        "  'tk': 'Turkmen',\n",
        "  'tr': 'Turkish',\n",
        "  'tw': 'Twi',\n",
        "  'ug': 'Uighur; Uyghur',\n",
        "  'uk': 'Ukrainian',\n",
        "  'ur': 'Urdu',\n",
        "  'uz': 'Uzbek',\n",
        "  've': 'Venda',\n",
        "  'vi': 'Vietnamese',\n",
        "  'vo': 'Volapük',\n",
        "  'cy': 'Welsh',\n",
        "  'wa': 'Walloon',\n",
        "  'wo': 'Wolof',\n",
        "  'xh': 'Xhosa',\n",
        "  'yi': 'Yiddish',\n",
        "  'yo': 'Yoruba',\n",
        "  'za': 'Zhuang; Chuang',\n",
        "  'zh': 'Chinese',\n",
        "  'zu': 'Zulu',\n",
        "}"
      ],
      "metadata": {
        "id": "XoUlg5kIdmQ4"
      },
      "execution_count": null,
      "outputs": []
    },
    {
      "cell_type": "markdown",
      "source": [
        "## FASTAPI APP"
      ],
      "metadata": {
        "id": "hp9CDfKMdtOi"
      }
    },
    {
      "cell_type": "code",
      "source": [
        "from fastapi import FastAPI, Request\n",
        "from fastapi.encoders import jsonable_encoder\n",
        "from fastapi.responses import HTMLResponse\n",
        "from datetime import datetime\n",
        "# from easynmt import EasyNMT\n",
        "\n",
        "from fastapi.templating import Jinja2Templates\n",
        "from fastapi.staticfiles import StaticFiles\n",
        "\n",
        "import random\n",
        "from easynmt import EasyNMT\n",
        "\n",
        "# model = EasyNMT('opus-mt') #starting the model Instance\n",
        "\n",
        "jobs_dicts = {}\n",
        "jobs_dicts[random.randint(1,1000)] = [jsonable_encoder(job) for job in jobs]\n",
        "\n",
        "app = FastAPI(title='MY FASTAPI') #Starting the FastAPI instance\n",
        "\n",
        "\n",
        "app.mount(\"/static\", StaticFiles(directory=\"static\"), name=\"static\")\n",
        "templates = Jinja2Templates(directory=\"templates\")\n",
        "\n",
        "\n",
        "model = EasyNMT('m2m_100_418M')\n",
        "\n",
        "def translate_text(txt, lang):\n",
        "  tran = model.translate(txt, target_lang=lang)\n",
        "  return tran\n",
        "\n",
        "\n",
        "@app.get('/')#ROUTE\n",
        "def index(request: Request):\n",
        "    return templates.TemplateResponse(\"index.html\", context = {\"request\": request,\"result\": result, 'langages': langages.keys()} )\n",
        "    # return 'Im Josh Batey'\n",
        "\n",
        "@app.get('/jobs')\n",
        "def jobs():\n",
        "  return jobs_dicts\n",
        "\n",
        "@app.get('jobs/translate')\n",
        "def translate(lang:str = 'fr'):\n",
        "  tran = []\n",
        "  for data in result['data']:\n",
        "    try:\n",
        "      tran.append(translate(data, lang))\n",
        "    except:\n",
        "      pass\n",
        "  tran\n",
        "  return tran\n",
        "\n",
        "# @app.get('/today')#Route with GET METHOD\n",
        "# def today():\n",
        "#     return str(datetime.now())\n",
        "\n",
        "# @app.get('/data')\n",
        "# def show_data(category: str = None):\n",
        "#   if category:\n",
        "#     return df[df['category'] >= category].to_dict('r') #filter\n",
        "#   else:\n",
        "#     return df.to_dict('r')\n",
        "\n",
        "\n",
        "# @app.get('/translation')\n",
        "# def translate(text : str = ''):\n",
        "#   response = model.translate([text], target_lang='fr')\n",
        "#   return response[0]\n",
        "\n",
        "# @app.get('/translation-form', response_class=HTMLResponse)\n",
        "# def form():\n",
        "#   content =  f\"\"\"<html>\n",
        "#   <form action='/translation' method='GET'>\n",
        "#    <input type='text' name='text' placeholder='Please Input your Sentence'>\n",
        "#    <input type='submit' value='submit'>\n",
        "#   </form>\n",
        "#   </html>\n",
        "#   \"\"\"\n",
        "  # return content"
      ],
      "metadata": {
        "id": "m_MXUFLPtZe9"
      },
      "execution_count": 54,
      "outputs": []
    },
    {
      "cell_type": "code",
      "source": [
        "!pip install jinja2 python-multipart"
      ],
      "metadata": {
        "id": "m0yrY0KEEW5Y"
      },
      "execution_count": null,
      "outputs": []
    },
    {
      "cell_type": "code",
      "source": [
        "import nest_asyncio\n",
        "from pyngrok import ngrok\n",
        "import uvicorn\n",
        "\n",
        "ngrok_tunnel = ngrok.connect(4994)\n",
        "print(\"started...\")\n",
        "print(\"url ===>:\", ngrok_tunnel.public_url)\n",
        "print(\"Public url: {}?target_lang=en&text=Hallo%20Welt\".format(ngrok_tunnel.public_url))\n",
        "\n",
        "nest_asyncio.apply()\n",
        "uvicorn.run(app, port=4994)"
      ],
      "metadata": {
        "id": "i8DZiec9tZYr",
        "outputId": "cc8d304f-d096-4136-df15-327aa9b3d51e",
        "colab": {
          "base_uri": "https://localhost:8080/"
        }
      },
      "execution_count": null,
      "outputs": [
        {
          "output_type": "stream",
          "name": "stdout",
          "text": [
            "started...\n",
            "url ===>: http://b6e7-35-237-53-223.ngrok.io\n",
            "Public url: http://b6e7-35-237-53-223.ngrok.io?target_lang=en&text=Hallo%20Welt\n"
          ]
        },
        {
          "output_type": "stream",
          "name": "stderr",
          "text": [
            "INFO:     Started server process [74]\n",
            "INFO:     Waiting for application startup.\n",
            "INFO:     Application startup complete.\n",
            "INFO:     Uvicorn running on http://127.0.0.1:4994 (Press CTRL+C to quit)\n"
          ]
        },
        {
          "output_type": "stream",
          "name": "stdout",
          "text": [
            "INFO:     105.178.35.79:0 - \"GET / HTTP/1.1\" 200 OK\n",
            "INFO:     105.178.35.79:0 - \"GET /index.css HTTP/1.1\" 200 OK\n",
            "INFO:     105.178.35.79:0 - \"GET /favicon.ico HTTP/1.1\" 404 Not Found\n"
          ]
        }
      ]
    },
    {
      "cell_type": "code",
      "source": [
        "!pkill ngrok"
      ],
      "metadata": {
        "id": "FmdBqGdbvNzJ"
      },
      "execution_count": null,
      "outputs": []
    },
    {
      "cell_type": "code",
      "source": [
        "# %%writefile main.py\n",
        "# from flask import Flask, render_template, request\n",
        "# from pyngrok import ngrok\n",
        "# import threading\n",
        "# from flask_ngrok import run_with_ngrok\n",
        "\n",
        "# app = Flask(__name__)\n",
        "# # run_with_ngrok(app)\n",
        "\n",
        "# # ngrok.set_auth_token('2HQWojclpuVOSumARNOyU4Y7evV_5e3x6nt1PJneVeaMZrZhR')\n",
        "\n",
        "# # port = 4994\n",
        "# # url = ngrok.connect(4040).public_url\n",
        "# # print(f'Public URL ===> {url}')\n",
        "\n",
        "# @app.route('/')\n",
        "# def home():\n",
        "#   return render_template('index.html')\n",
        "\n",
        "# @app.route('/jobs', methods=[\"GET\", \"POST\"])\n",
        "# def jobs():\n",
        "#   if request.method == 'POST':\n",
        "#     pass\n",
        "#   elif request.method == 'GET':\n",
        "#     pass\n",
        "\n",
        "# # if __name__ == \"__main__\":\n",
        "# #   app.run()\n"
      ],
      "metadata": {
        "id": "A1BSvY3aVolO"
      },
      "execution_count": null,
      "outputs": []
    },
    {
      "cell_type": "code",
      "source": [
        "# !python main.py"
      ],
      "metadata": {
        "id": "KD5xAWXeZRoc"
      },
      "execution_count": null,
      "outputs": []
    },
    {
      "cell_type": "code",
      "source": [
        "# # %%writefile main.py\n",
        "# import nest_asyncio\n",
        "# from pyngrok import ngrok\n",
        "# import gunicorn\n",
        "\n",
        "# port = 4994\n",
        "# # ngrok.set_auth_token('2HUR69dWeNZrvyo6KPAszuM65iF_3HesoE5NifvTKJDd6LV21')\n",
        "\n",
        "# ngrok_tunnel = ngrok.connect(port)\n",
        "# print('RESTAPI STARTED...')\n",
        "# print(f\"Public url ===> {ngrok_tunnel.public_url}\")\n",
        "\n",
        "# nest_asyncio.apply()\n",
        "# app.run(app, port = port)"
      ],
      "metadata": {
        "id": "-FAXsgxEZUQb"
      },
      "execution_count": null,
      "outputs": []
    },
    {
      "cell_type": "code",
      "source": [
        "# !python main.py"
      ],
      "metadata": {
        "id": "6rsOjteGpIuC"
      },
      "execution_count": null,
      "outputs": []
    },
    {
      "cell_type": "code",
      "source": [],
      "metadata": {
        "id": "wMLGaGa1m_9J"
      },
      "execution_count": null,
      "outputs": []
    }
  ],
  "metadata": {
    "language_info": {
      "name": "python"
    },
    "orig_nbformat": 4,
    "colab": {
      "provenance": [],
      "include_colab_link": true
    },
    "kernelspec": {
      "name": "python3",
      "display_name": "Python 3"
    },
    "gpuClass": "standard",
    "accelerator": "GPU"
  },
  "nbformat": 4,
  "nbformat_minor": 0
}