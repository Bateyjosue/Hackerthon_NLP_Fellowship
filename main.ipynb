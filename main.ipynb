{
  "cells": [
    {
      "cell_type": "markdown",
      "source": [
        "1. Write a program which takes array of urls for job-posting websites in Rwanda\n",
        "   * https://www.jobinrwanda.com/  (Job Adverts)\n",
        "   * https://www.umucyo.gov.rw  ( Tenders)\n",
        "2. Web-scrap the content and put them in a pandas data-frame(i.e: the best structured dataframe wins ofcourse!)\n",
        "3. Use regular expression and key-words to retrieve IT/Software related job/consultancy opportunities(Tenders).\n",
        "4. Use EasyNMT to display the results in 50+ languages using wrapped state of art models\n",
        "   * Practical Example for EasyNMT use:\n",
        "     https://colab.research.google.com/drive/1X47vgSiOphpxS5w_LPtjQgJmiSTNfRNC?usp=sharing\n",
        "5. Hosting of our work example in colab\n",
        "   * https://colab.research.google.com/drive/1kAh_Vt1ipA5-BuoaPX39rCIHFrhpcRpW?usp=sharing"
      ],
      "metadata": {
        "id": "hkosleLFX-bB"
      }
    },
    {
      "cell_type": "markdown",
      "source": [
        "## Import Packages"
      ],
      "metadata": {
        "id": "4ZlgOfl7WjCF"
      }
    },
    {
      "cell_type": "code",
      "execution_count": 2,
      "metadata": {
        "id": "kUZyDEkfVd1f"
      },
      "outputs": [],
      "source": [
        "import requests\n",
        "from bs4 import BeautifulSoup"
      ]
    },
    {
      "cell_type": "markdown",
      "source": [
        "## Class For Scrapping"
      ],
      "metadata": {
        "id": "keBPCVlMWc4T"
      }
    },
    {
      "cell_type": "code",
      "source": [
        "class Web_Scrap:\n",
        "  def __init__(self, link):\n",
        "    self.url = link\n",
        "  \n",
        "  def get_content(self):\n",
        "    content = requests.get(url = self.url).content\n",
        "    content = BeautifulSoup(content, 'lxml')\n",
        "    return content\n",
        "  \n",
        "  def get_content_class(self, class_, tag = None):\n",
        "    content = self.get_content()\n",
        "    content = content.find_all(class_= class_) if tag == None else content.find_all(tag, class_= class_)\n",
        "    return content\n",
        "  \n",
        "  def get_data(self, month, day):\n",
        "    response = requests.get('{}{:02d}{:02d}'.format(self.url, month, day))\n",
        "    return response.json()\n",
        "\n",
        "  def check_snaps(self, data):\n",
        "    if data['archived_snapshots']:\n",
        "      time_stamp = data['timestamp'] \n",
        "      time_stamp_closest = data['archived_snapshots']['closest']['timestamp'][:8]\n",
        "      result = time_stamp == time_stamp_closest\n",
        "    else: \n",
        "      result = False\n",
        "    return result\n",
        "\n",
        "  def get_main_links(self):\n",
        "    links = []\n",
        "    for month in range(1, 11):\n",
        "      for day in range(1, 32):\n",
        "        data = self.get_data(month, day)\n",
        "        if self.check_snaps(data):\n",
        "          print(data['archived_snapshots']['closest']['url'])\n",
        "          links.append(data['archived_snapshots']['closest']['url'])\n",
        "    return links\n"
      ],
      "metadata": {
        "id": "TKVodOxFWbfr"
      },
      "execution_count": 8,
      "outputs": []
    },
    {
      "cell_type": "code",
      "source": [
        "scrap = Web_Scrap('https://archive.org/wayback/available?url=https://www.jobinrwanda.com/jobs/all/&timestamp=2021')\n",
        "data = scrap.get_data(11,8)\n",
        "data"
      ],
      "metadata": {
        "id": "NQrU3vnY-IIq"
      },
      "execution_count": null,
      "outputs": []
    },
    {
      "cell_type": "code",
      "source": [
        "links = scrap.get_main_links()\n",
        "\n",
        "links"
      ],
      "metadata": {
        "colab": {
          "base_uri": "https://localhost:8080/"
        },
        "id": "59AeYtNAAPSy",
        "outputId": "3551b51e-2dc0-4d23-fef2-da3d8e2886c6"
      },
      "execution_count": 10,
      "outputs": [
        {
          "output_type": "stream",
          "name": "stdout",
          "text": [
            "http://web.archive.org/web/20210120155102/https://www.jobinrwanda.com/jobs/all\n",
            "http://web.archive.org/web/20210414191950/https://www.jobinrwanda.com/jobs/all\n",
            "http://web.archive.org/web/20210803163104/https://www.jobinrwanda.com/jobs/all\n",
            "http://web.archive.org/web/20211022214749/https://www.jobinrwanda.com/jobs/all\n"
          ]
        },
        {
          "output_type": "execute_result",
          "data": {
            "text/plain": [
              "['http://web.archive.org/web/20210120155102/https://www.jobinrwanda.com/jobs/all',\n",
              " 'http://web.archive.org/web/20210414191950/https://www.jobinrwanda.com/jobs/all',\n",
              " 'http://web.archive.org/web/20210803163104/https://www.jobinrwanda.com/jobs/all',\n",
              " 'http://web.archive.org/web/20211022214749/https://www.jobinrwanda.com/jobs/all']"
            ]
          },
          "metadata": {},
          "execution_count": 10
        }
      ]
    },
    {
      "cell_type": "markdown",
      "source": [
        "### List Of Languages"
      ],
      "metadata": {
        "id": "Wr5xPJsFwIGi"
      }
    },
    {
      "cell_type": "code",
      "source": [
        "langages = {\n",
        "    'aa': 'Afar',\n",
        "    'ab': 'Abkhazian',\n",
        "    'af': 'Afrikaans',\n",
        "    'ak': 'Akan',\n",
        "    'sq': 'Albanian',\n",
        "    'am': 'Amharic',\n",
        "    'ar': 'Arabic',\n",
        "    'an': 'Aragonese',\n",
        "    'hy': 'Armenian',\n",
        "    'as': 'Assamese',\n",
        "    'av': 'Avaric',\n",
        "    'ae': 'Avestan',\n",
        "    'ay': 'Aymara',\n",
        "    'az': 'Azerbaijani',\n",
        "    'ba': 'Bashkir',\n",
        "    'bm': 'Bambara',\n",
        "    'eu': 'Basque',\n",
        "    'be': 'Belarusian',\n",
        "    'bn': 'Bengali',\n",
        "    'bh': 'Bihari languages',\n",
        "    'bi': 'Bislama',\n",
        "    'bo': 'Tibetan',\n",
        "    'bs': 'Bosnian',\n",
        "    'br': 'Breton',\n",
        "    'bg': 'Bulgarian',\n",
        "    'my': 'Burmese',\n",
        "    'ca': 'Catalan; Valencian',\n",
        "    'cs': 'Czech',\n",
        "    'ch': 'Chamorro',\n",
        "    'ce': 'Chechen',\n",
        "    'zh': 'Chinese',\n",
        "    'cu': 'Church Slavic; Old Slavonic; Church Slavonic; Old Bulgarian; Old Church Slavonic',\n",
        "    'cv': 'Chuvash',\n",
        "    'kw': 'Cornish',\n",
        "    'co': 'Corsican',\n",
        "    'cr': 'Cree',\n",
        "    'cy': 'Welsh',\n",
        "    'cs': 'Czech',\n",
        "    'da': 'Danish',\n",
        "    'de': 'German',\n",
        "    'dv': 'Divehi; Dhivehi; Maldivian',\n",
        "    'nl': 'Dutch; Flemish',\n",
        "    'dz': 'Dzongkha',\n",
        "    'el': 'Greek, Modern (1453-)',\n",
        "    'en': 'English',\n",
        "    'eo': 'Esperanto',\n",
        "    'et': 'Estonian',\n",
        "    'eu': 'Basque',\n",
        "    'ee': 'Ewe',\n",
        "    'fo': 'Faroese',\n",
        "    'fa': 'Persian',\n",
        "    'fj': 'Fijian',\n",
        "    'fi': 'Finnish',\n",
        "    'fr': 'French',\n",
        "    'fy': 'Western Frisian',\n",
        "    'ff': 'Fulah',\n",
        "    'Ga': 'Georgian',\n",
        "    'de': 'German',\n",
        "    'gd': 'Gaelic; Scottish Gaelic',\n",
        "    'ga': 'Irish',\n",
        "    'gl': 'Galician',\n",
        "    'gv': 'Manx',\n",
        "    'el': 'Greek, Modern (1453-)',\n",
        "    'gn': 'Guarani',\n",
        "    'gu': 'Gujarati',\n",
        "    'ht': 'Haitian; Haitian Creole',\n",
        "    'ha': 'Hausa',\n",
        "    'he': 'Hebrew',\n",
        "    'hz': 'Herero',\n",
        "    'hi': 'Hindi',\n",
        "    'ho': 'Hiri Motu',\n",
        "    'hr': 'Croatian',\n",
        "    'hu': 'Hungarian',\n",
        "    'hy': 'Armenian',\n",
        "    'ig': 'Igbo',\n",
        "    'is': 'Icelandic',\n",
        "    'io': 'Ido',\n",
        "    'ii': 'Sichuan Yi; Nuosu',\n",
        "    'iu': 'Inuktitut',\n",
        "    'ie': 'Interlingue; Occidental',\n",
        "    'ia': 'Interlingua (International Auxiliary Language Association)',\n",
        "    'id': 'Indonesian',\n",
        "    'ik': 'Inupiaq',\n",
        "    'is': 'Icelandic',\n",
        "    'it': 'Italian',\n",
        "    'jv': 'Javanese',\n",
        "    'ja': 'Japanese',\n",
        "    'kl': 'Kalaallisut; Greenlandic',\n",
        "    'kn': 'Kannada',\n",
        "    'ks': 'Kashmiri',\n",
        "    'ka': 'Georgian',\n",
        "    'kr': 'Kanuri',\n",
        "    'kk': 'Kazakh',\n",
        "    'km': 'Central Khmer',\n",
        "    'ki': 'Kikuyu; Gikuyu',\n",
        "    'rw': 'Kinyarwanda',\n",
        "    'ky': 'Kirghiz; Kyrgyz',\n",
        "    'kv': 'Komi',\n",
        "    'kg': 'Kongo',\n",
        "    'ko': 'Korean',\n",
        "    'kj': 'Kuanyama; Kwanyama',\n",
        "    'ku': 'Kurdish',\n",
        "    'lo': 'Lao',\n",
        "    'la': 'Latin',\n",
        "    'lv': 'Latvian',\n",
        "    'li': 'Limburgan; Limburger; Limburgish',\n",
        "    'ln': 'Lingala',\n",
        "    'lt': 'Lithuanian',\n",
        "    'lb': 'Luxembourgish; Letzeburgesch',\n",
        "    'lu': 'Luba-Katanga',\n",
        "    'lg': 'Ganda',\n",
        "    'mk': 'Macedonian',\n",
        "    'mh': 'Marshallese',\n",
        "    'ml': 'Malayalam',\n",
        "    'mi': 'Maori',\n",
        "    'mr': 'Marathi',\n",
        "    'ms': 'Malay',\n",
        "    'Mi': 'Micmac',\n",
        "    'mk': 'Macedonian',\n",
        "    'mg': 'Malagasy',\n",
        "    'mt': 'Maltese',\n",
        "    'mn': 'Mongolian',\n",
        "    'mi': 'Maori',\n",
        "    'ms': 'Malay',\n",
        "    'my': 'Burmese',\n",
        "    'na': 'Nauru',\n",
        "    'nv': 'Navajo; Navaho',\n",
        "    'nr': 'Ndebele, South; South Ndebele',\n",
        "    'nd': 'Ndebele, North; North Ndebele',\n",
        "    'ng': 'Ndonga',\n",
        "    'ne': 'Nepali',\n",
        "    'nl': 'Dutch; Flemish',\n",
        "    'nn': 'Norwegian Nynorsk; Nynorsk, Norwegian',\n",
        "    'nb': 'Bokmål, Norwegian; Norwegian Bokmål',\n",
        "    'no': 'Norwegian',\n",
        "    'oc': 'Occitan (post 1500)',\n",
        "    'oj': 'Ojibwa',\n",
        "    'or': 'Oriya',\n",
        "    'om': 'Oromo',\n",
        "    'os': 'Ossetian; Ossetic',\n",
        "    'pa': 'Panjabi; Punjabi',\n",
        "    'fa': 'Persian',\n",
        "    'pi': 'Pali',\n",
        "    'pl': 'Polish',\n",
        "    'pt': 'Portuguese',\n",
        "    'ps': 'Pushto; Pashto',\n",
        "    'qu': 'Quechua',\n",
        "    'rm': 'Romansh',\n",
        "    'ro': 'Romanian; Moldavian; Moldovan',\n",
        "    'ro': 'Romanian; Moldavian; Moldovan',\n",
        "    'rn': 'Rundi',\n",
        "    'ru': 'Russian',\n",
        "    'sg': 'Sango',\n",
        "    'sa': 'Sanskrit',\n",
        "    'si': 'Sinhala; Sinhalese',\n",
        "    'sk': 'Slovak',\n",
        "    'sk': 'Slovak',\n",
        "    'sl': 'Slovenian',\n",
        "    'se': 'Northern Sami',\n",
        "    'sm': 'Samoan',\n",
        "    'sn': 'Shona',\n",
        "    'sd': 'Sindhi',\n",
        "    'so': 'Somali',\n",
        "    'st': 'Sotho, Southern',\n",
        "    'es': 'Spanish; Castilian',\n",
        "    'sq': 'Albanian',\n",
        "    'sc': 'Sardinian',\n",
        "    'sr': 'Serbian',\n",
        "    'ss': 'Swati',\n",
        "    'su': 'Sundanese',\n",
        "    'sw': 'Swahili',\n",
        "    'sv': 'Swedish',\n",
        "    'ty': 'Tahitian',\n",
        "    'ta': 'Tamil',\n",
        "    'tt': 'Tatar',\n",
        "    'te': 'Telugu',\n",
        "    'tg': 'Tajik',\n",
        "    'tl': 'Tagalog',\n",
        "    'th': 'Thai',\n",
        "    'bo': 'Tibetan',\n",
        "    'ti': 'Tigrinya',\n",
        "    'to': 'Tonga (Tonga Islands)',\n",
        "    'tn': 'Tswana',\n",
        "    'ts': 'Tsonga',\n",
        "    'tk': 'Turkmen',\n",
        "    'tr': 'Turkish',\n",
        "    'tw': 'Twi',\n",
        "    'ug': 'Uighur; Uyghur',\n",
        "    'uk': 'Ukrainian',\n",
        "    'ur': 'Urdu',\n",
        "    'uz': 'Uzbek',\n",
        "    've': 'Venda',\n",
        "    'vi': 'Vietnamese',\n",
        "    'vo': 'Volapük',\n",
        "    'cy': 'Welsh',\n",
        "    'wa': 'Walloon',\n",
        "    'wo': 'Wolof',\n",
        "    'xh': 'Xhosa',\n",
        "    'yi': 'Yiddish',\n",
        "    'yo': 'Yoruba',\n",
        "    'za': 'Zhuang; Chuang',\n",
        "    'zh': 'Chinese',\n",
        "    'zu': 'Zulu',\n",
        "}\n"
      ],
      "metadata": {
        "id": "4iT_3ov_wLdN"
      },
      "execution_count": null,
      "outputs": []
    },
    {
      "cell_type": "markdown",
      "source": [
        "# Scrap `job in rwanda` and `umucyo`"
      ],
      "metadata": {
        "id": "ETovZOQAWo7-"
      }
    },
    {
      "cell_type": "markdown",
      "source": [
        "# Challenges #1"
      ],
      "metadata": {
        "id": "wVeG6ty1s3Xk"
      }
    },
    {
      "cell_type": "markdown",
      "source": [
        "\n",
        "\n",
        "1.   Get `Jobs and Consultacies links` for `job in rwanda`\n",
        "\n",
        "\n"
      ],
      "metadata": {
        "id": "cNkA1QKAXEXQ"
      }
    },
    {
      "cell_type": "code",
      "source": [
        "jobs_links = []"
      ],
      "metadata": {
        "id": "Eo-DCWeFXV5r"
      },
      "execution_count": null,
      "outputs": []
    },
    {
      "cell_type": "markdown",
      "source": [
        "\n",
        "\n",
        "2.   Get `tenders` links for `umucyo`\n",
        "\n"
      ],
      "metadata": {
        "id": "uZEDJwAGXZro"
      }
    },
    {
      "cell_type": "code",
      "source": [
        "tenders_links = []"
      ],
      "metadata": {
        "id": "GmrVh1WOXxId"
      },
      "execution_count": null,
      "outputs": []
    },
    {
      "cell_type": "markdown",
      "source": [
        "3. combined links for both `job in rwand` and `umucyo`\n"
      ],
      "metadata": {
        "id": "BRLfBAtssRda"
      }
    },
    {
      "cell_type": "code",
      "source": [
        "combined_links = []"
      ],
      "metadata": {
        "id": "wSjzpg3Asheq"
      },
      "execution_count": null,
      "outputs": []
    },
    {
      "cell_type": "markdown",
      "source": [
        "#Challenge #2"
      ],
      "metadata": {
        "id": "Pk1-s8h6tZSI"
      }
    },
    {
      "cell_type": "markdown",
      "source": [
        "1. Get Content per Link by Web scrapping"
      ],
      "metadata": {
        "id": "4rzsqPCxuSu6"
      }
    },
    {
      "cell_type": "code",
      "source": [],
      "metadata": {
        "id": "77ZiF0yruhVa"
      },
      "execution_count": null,
      "outputs": []
    },
    {
      "cell_type": "markdown",
      "source": [
        "1. Save Content in a DataFrame"
      ],
      "metadata": {
        "id": "84gX7XOHuiHK"
      }
    },
    {
      "cell_type": "code",
      "source": [],
      "metadata": {
        "id": "4x5VUe5QuqYE"
      },
      "execution_count": null,
      "outputs": []
    },
    {
      "cell_type": "markdown",
      "source": [
        "# Challenge #3"
      ],
      "metadata": {
        "id": "NQDzPNm6utEH"
      }
    },
    {
      "cell_type": "markdown",
      "source": [
        "## Get ***IT/Software*** Opportunities using `Regex`\n",
        "\n",
        "\n"
      ],
      "metadata": {
        "id": "5Kkk_ZUnuw0N"
      }
    },
    {
      "cell_type": "code",
      "source": [],
      "metadata": {
        "id": "ZU-gWBq3vO8c"
      },
      "execution_count": null,
      "outputs": []
    },
    {
      "cell_type": "markdown",
      "source": [
        "# Challenge #4"
      ],
      "metadata": {
        "id": "GTJxdk_wvPg_"
      }
    },
    {
      "cell_type": "markdown",
      "source": [
        "### Display Result In Different Languages"
      ],
      "metadata": {
        "id": "tACZ37r3vS1t"
      }
    },
    {
      "cell_type": "code",
      "source": [],
      "metadata": {
        "id": "ACqWIGADviuM"
      },
      "execution_count": null,
      "outputs": []
    },
    {
      "cell_type": "markdown",
      "source": [
        "# Challenge #5"
      ],
      "metadata": {
        "id": "PhfzgnNPvqKY"
      }
    },
    {
      "cell_type": "markdown",
      "source": [
        "## Host the API for the data in colab"
      ],
      "metadata": {
        "id": "_cElg0CmvsNp"
      }
    },
    {
      "cell_type": "code",
      "source": [],
      "metadata": {
        "id": "sXuWnsn1vz--"
      },
      "execution_count": null,
      "outputs": []
    }
  ],
  "metadata": {
    "language_info": {
      "name": "python"
    },
    "orig_nbformat": 4,
    "colab": {
      "provenance": []
    },
    "kernelspec": {
      "name": "python3",
      "display_name": "Python 3"
    },
    "gpuClass": "standard"
  },
  "nbformat": 4,
  "nbformat_minor": 0
}