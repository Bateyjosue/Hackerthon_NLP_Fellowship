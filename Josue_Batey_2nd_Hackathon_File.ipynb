{
  "cells": [
    {
      "cell_type": "markdown",
      "metadata": {
        "id": "view-in-github",
        "colab_type": "text"
      },
      "source": [
        "<a href=\"https://colab.research.google.com/github/Bateyjosue/Hackerthon_NLP_Fellowship/blob/main/Josue_Batey_2nd_Hackathon_File.ipynb\" target=\"_parent\"><img src=\"https://colab.research.google.com/assets/colab-badge.svg\" alt=\"Open In Colab\"/></a>"
      ]
    },
    {
      "cell_type": "code",
      "execution_count": null,
      "metadata": {
        "id": "foNpyzVh1OsZ"
      },
      "outputs": [],
      "source": [
        "import os\n",
        "!mkdir fastapi_app/\n",
        "os.chdir('fastapi_app')\n",
        "!mkdir templates/\n",
        "!mkdir static/"
      ]
    },
    {
      "cell_type": "code",
      "execution_count": null,
      "metadata": {
        "colab": {
          "base_uri": "https://localhost:8080/"
        },
        "id": "GF-u55ew3DD_",
        "outputId": "dde44f82-a5f6-4833-a5fd-c0acd26b0bfb"
      },
      "outputs": [
        {
          "name": "stdout",
          "output_type": "stream",
          "text": [
            "Looking in indexes: https://pypi.org/simple, https://us-python.pkg.dev/colab-wheels/public/simple/\n",
            "Collecting fastapi\n",
            "  Downloading fastapi-0.88.0-py3-none-any.whl (55 kB)\n",
            "\u001b[K     |████████████████████████████████| 55 kB 2.0 MB/s \n",
            "\u001b[?25hCollecting pyngrok\n",
            "  Downloading pyngrok-5.2.1.tar.gz (761 kB)\n",
            "\u001b[K     |████████████████████████████████| 761 kB 3.8 MB/s \n",
            "\u001b[?25hCollecting uvicorn\n",
            "  Downloading uvicorn-0.20.0-py3-none-any.whl (56 kB)\n",
            "\u001b[K     |████████████████████████████████| 56 kB 4.1 MB/s \n",
            "\u001b[?25hCollecting nest-asyncio\n",
            "  Downloading nest_asyncio-1.5.6-py3-none-any.whl (5.2 kB)\n",
            "Collecting starlette==0.22.0\n",
            "  Downloading starlette-0.22.0-py3-none-any.whl (64 kB)\n",
            "\u001b[K     |████████████████████████████████| 64 kB 2.1 MB/s \n",
            "\u001b[?25hRequirement already satisfied: pydantic!=1.7,!=1.7.1,!=1.7.2,!=1.7.3,!=1.8,!=1.8.1,<2.0.0,>=1.6.2 in /usr/local/lib/python3.8/dist-packages (from fastapi) (1.10.2)\n",
            "Collecting anyio<5,>=3.4.0\n",
            "  Downloading anyio-3.6.2-py3-none-any.whl (80 kB)\n",
            "\u001b[K     |████████████████████████████████| 80 kB 7.9 MB/s \n",
            "\u001b[?25hRequirement already satisfied: typing-extensions>=3.10.0 in /usr/local/lib/python3.8/dist-packages (from starlette==0.22.0->fastapi) (4.4.0)\n",
            "Requirement already satisfied: idna>=2.8 in /usr/local/lib/python3.8/dist-packages (from anyio<5,>=3.4.0->starlette==0.22.0->fastapi) (2.10)\n",
            "Collecting sniffio>=1.1\n",
            "  Downloading sniffio-1.3.0-py3-none-any.whl (10 kB)\n",
            "Requirement already satisfied: PyYAML in /usr/local/lib/python3.8/dist-packages (from pyngrok) (6.0)\n",
            "Requirement already satisfied: click>=7.0 in /usr/local/lib/python3.8/dist-packages (from uvicorn) (7.1.2)\n",
            "Collecting h11>=0.8\n",
            "  Downloading h11-0.14.0-py3-none-any.whl (58 kB)\n",
            "\u001b[K     |████████████████████████████████| 58 kB 4.8 MB/s \n",
            "\u001b[?25hBuilding wheels for collected packages: pyngrok\n",
            "  Building wheel for pyngrok (setup.py) ... \u001b[?25l\u001b[?25hdone\n",
            "  Created wheel for pyngrok: filename=pyngrok-5.2.1-py3-none-any.whl size=19792 sha256=af2776ce0633a99cb1a14013c048188a6bf239f4e4f4f4cdefed5847e6f369d3\n",
            "  Stored in directory: /root/.cache/pip/wheels/5d/f2/70/526da675d32f17577ec47ac4c663084efe39d47c826b6c3bb1\n",
            "Successfully built pyngrok\n",
            "Installing collected packages: sniffio, anyio, starlette, h11, uvicorn, pyngrok, nest-asyncio, fastapi\n",
            "Successfully installed anyio-3.6.2 fastapi-0.88.0 h11-0.14.0 nest-asyncio-1.5.6 pyngrok-5.2.1 sniffio-1.3.0 starlette-0.22.0 uvicorn-0.20.0\n"
          ]
        }
      ],
      "source": [
        "!pip install fastapi pyngrok uvicorn nest-asyncio"
      ]
    },
    {
      "cell_type": "code",
      "execution_count": null,
      "metadata": {
        "id": "GE-Wfnmy3OB4"
      },
      "outputs": [],
      "source": [
        "%%writefile static/index.css\n",
        "@import url(//fonts.googleapis.com/css?family=Lato:300:400);\n",
        "\n",
        "body {\n",
        "  margin:0;\n",
        "}\n",
        "\n",
        "h1 {\n",
        "  font-family: 'Lato', sans-serif;\n",
        "  font-weight:300;\n",
        "  letter-spacing: 2px;\n",
        "  font-size:48px;\n",
        "}\n",
        "p {\n",
        "  font-family: 'Lato', sans-serif;\n",
        "  letter-spacing: 1px;\n",
        "  font-size:14px;\n",
        "  color: #333333;\n",
        "}\n",
        "\n",
        ".header {\n",
        "  position:relative;\n",
        "  text-align:center;\n",
        "  background: linear-gradient(60deg, rgba(84,58,183,1) 0%, rgba(0,172,193,1) 100%);\n",
        "  color:white;\n",
        "}\n",
        ".logo {\n",
        "  width:50px;\n",
        "  fill:white;\n",
        "  padding-right:15px;\n",
        "  display:inline-block;\n",
        "  vertical-align: middle;\n",
        "}\n",
        "\n",
        ".inner-header {\n",
        "  height:65vh;\n",
        "  width:100%;\n",
        "  margin: 0;\n",
        "  padding: 0;\n",
        "}\n",
        "\n",
        ".flex { /*Flexbox for containers*/\n",
        "  display: flex;\n",
        "  justify-content: center;\n",
        "  align-items: center;\n",
        "  text-align: center;\n",
        "}\n",
        "\n",
        ".waves {\n",
        "  position:relative;\n",
        "  width: 100%;\n",
        "  height:15vh;\n",
        "  margin-bottom:-7px; /*Fix for safari gap*/\n",
        "  min-height:100px;\n",
        "  max-height:150px;\n",
        "}\n",
        "\n",
        ".content {\n",
        "  position:relative;\n",
        "  height:20vh;\n",
        "  text-align:center;\n",
        "  background-color: white;\n",
        "}\n",
        "\n",
        "/* Animation */\n",
        "\n",
        ".parallax > use {\n",
        "  animation: move-forever 25s cubic-bezier(.55,.5,.45,.5)     infinite;\n",
        "}\n",
        ".parallax > use:nth-child(1) {\n",
        "  animation-delay: -2s;\n",
        "  animation-duration: 7s;\n",
        "}\n",
        ".parallax > use:nth-child(2) {\n",
        "  animation-delay: -3s;\n",
        "  animation-duration: 10s;\n",
        "}\n",
        ".parallax > use:nth-child(3) {\n",
        "  animation-delay: -4s;\n",
        "  animation-duration: 13s;\n",
        "}\n",
        ".parallax > use:nth-child(4) {\n",
        "  animation-delay: -5s;\n",
        "  animation-duration: 20s;\n",
        "}\n",
        "@keyframes move-forever {\n",
        "  0% {\n",
        "   transform: translate3d(-90px,0,0);\n",
        "  }\n",
        "  100% { \n",
        "    transform: translate3d(85px,0,0);\n",
        "  }\n",
        "}\n",
        "\n",
        ".btn-chat {\n",
        "  position: fixed;\n",
        "  right: 2rem;\n",
        "  bottom: 2rem;\n",
        "  padding: .2rem;\n",
        "  color: red;\n",
        "  z-index: 1;\n",
        "\n",
        "  display: flex;\n",
        "  justify-content: center;\n",
        "  align-items: center;\n",
        "  flex-direction: column;\n",
        "  border: none;\n",
        "  border-radius: 50%;\n",
        "  width: 140px;\n",
        "  height: 140px;\n",
        "}\n",
        "\n",
        ".btn-chat span:nth-child(1) {\n",
        "  font-size: 2.5rem;\n",
        "  color: #219ebc;\n",
        "  margin-bottom: 1rem;\n",
        "  font-weight: bold;\n",
        "  \n",
        "}\n",
        "\n",
        ".btn-chat span:nth-child(2) {\n",
        "  color: #74B72E;\n",
        "  font-weight: bold;\n",
        "}\n",
        "\n",
        ".chat-container {\n",
        "  width: 25%;\n",
        "  height: fit-content;\n",
        "  max-height: 90vh;\n",
        "  background: #ccc;\n",
        "  position: fixed;\n",
        "  right: 1rem;\n",
        "  bottom: 1rem;\n",
        "  border: 1px solid #ccc;\n",
        "  z-index:1;\n",
        "  border-radius: 1rem 1rem 0rem 0rem;\n",
        "  overflow: auto;\n",
        "/*   display: none; */\n",
        "}\n",
        "\n",
        "\n",
        ".chat-container__header {\n",
        "  display: flex;\n",
        "  align-items:center;\n",
        "  justify-content: space-between;\n",
        "  background: #219ebc;\n",
        "  color: white;\n",
        "  padding: .4rem 2rem;\n",
        "  \n",
        "}\n",
        "\n",
        ".chat-container__content {\n",
        "  padding: 1rem .3rem;\n",
        "  display: flex;\n",
        "  flex-direction: column;\n",
        "  gap:.5rem;\n",
        "  color: #ddd;\n",
        "  font-weight: bold;\n",
        "  overflow:auto;\n",
        "}\n",
        "\n",
        ".message-content {\n",
        "  display: flex;\n",
        "  gap: .2rem;\n",
        "  align-items: center;\n",
        "}\n",
        "\n",
        ".message-content span.material-symbols-outlined {\n",
        "/*   background: #219ebc; \n",
        "  border-radius: 2rem;\n",
        "  padding: .5rem;\n",
        "  color: white; */\n",
        "}\n",
        "\n",
        ".chat-container__content div.bot {\n",
        "  background: #74B72E;\n",
        "  padding: .5rem;\n",
        "  width: fit-content;\n",
        "  border-radius: 2rem 2rem 2rem .2rem;\n",
        "  align-self: flex-start;\n",
        "  \n",
        "}\n",
        "\n",
        ".chat-container__content div.user {\n",
        "  background: #219ebc;\n",
        "  padding: .5rem;\n",
        "  width: fit-content;\n",
        "  border-radius: 2rem 2rem .1rem 2rem;\n",
        "  align-self: flex-end;\n",
        "  \n",
        "}\n",
        "\n",
        ".message-content span.material-symbols-outlined {\n",
        "  background: #219ebc; \n",
        "  border-radius: 2rem;\n",
        "  padding: .5rem;\n",
        "  color: white;\n",
        "}\n",
        "\n",
        "\n",
        "\n",
        "div.user {\n",
        "  background: #219ebc;\n",
        "  padding: .5rem;\n",
        "  width: fit-content;\n",
        "  border-radius: 2rem 2rem .1rem 2rem;\n",
        "  align-self: flex-end;\n",
        "}\n",
        "\n",
        ".message-content-user > span.material-symbols-outlined {\n",
        "  background: #74B72E;  \n",
        "}\n",
        "\n",
        ".chat-container__footer {\n",
        "/*   padding: .4rem 1rem; */\n",
        "   display: flex;\n",
        "  align-items:center;\n",
        "  justify-content: space-between;\n",
        "  background: #219ebc;\n",
        "  color: white;\n",
        "\n",
        "}\n",
        "\n",
        ".chat-container__footer form{\n",
        "  width: 100%;\n",
        "  display: flex;\n",
        "  gap:.2rem;\n",
        "  flex-direction: row;\n",
        "  align-items: center;\n",
        "  padding:.5rem .8rem;\n",
        "}\n",
        "\n",
        ".chat-container__footer form div:nth-child(1){\n",
        "  flex:1.2;\n",
        "}\n",
        ".chat-container__footer form div:nth-child(2){\n",
        "  flex:5;\n",
        "}\n",
        ".chat-container__footer form div:nth-child(3){\n",
        "  flex:0;\n",
        "}\n",
        ".chat-container__footer input[type='text'] {\n",
        "  border: none;\n",
        "  height: 2em;\n",
        "  border-radius:0rem .3rem .3rem 0rem;\n",
        "  padding:.3rem .5rem;\n",
        "  width: 100%;\n",
        "}\n",
        "\n",
        ".chat-container__footer input[type='submit'] {\n",
        "/*   background: #219ebc;  */\n",
        "  border: none;\n",
        "  height: 2em;\n",
        "  background: transparent;\n",
        "  color: white;\n",
        "  font-weight: bold;\n",
        "  text-decoration: underline;\n",
        "  margin-left: 1rem;\n",
        "}\n",
        "\n",
        ".field-select select {\n",
        "  border: none;\n",
        "  padding: .68rem .5rem;\n",
        "  border-radius: 5rem .2rem .2rem 5rem;\n",
        "  outline:.2rem solid transparent;\n",
        "  color: gray;\n",
        "  font-size: .8rem;\n",
        "  font-weight: bold;\n",
        "  width: 100%;\n",
        "}\n",
        "\n",
        ".close {\n",
        "  \n",
        "}\n",
        "\n",
        ".show {\n",
        "  visibility: visible;\n",
        "}\n",
        "\n",
        "#close {\n",
        "  cursor: pointer;\n",
        "}\n",
        "\n",
        "\n",
        "/*Shrinking for mobile*/\n",
        "@media (max-width: 768px) {\n",
        "  .waves {\n",
        "    height:40px;\n",
        "    min-height:40px;\n",
        "  }\n",
        "  .content {\n",
        "    height:30vh;\n",
        "  }\n",
        "  h1 {\n",
        "    font-size:24px;\n",
        "  }\n",
        "}\n",
        "\n",
        ".inner-header {\n",
        "  display: flex;\n",
        "  justify-content: center;\n",
        "  align-items: center;\n",
        "/*   height: 100vh; */\n",
        "  font-size: clamp(2rem, 2.8vw, 5rem);\n",
        "/*   font-family: Raleway; */\n",
        "  font-weight: 900;\n",
        "  font-family: 'Rubik Vinyl', cursive;\n",
        "}\n",
        "\n",
        ".typewriter {\n",
        "\twidth: 21.5ch;\n",
        "\twhite-space: nowrap;\n",
        "\toverflow: hidden;\n",
        "\tborder-right: 4px solid #212121;\n",
        "\tanimation: cursor 1s step-start infinite, \n",
        "    text 5s steps(18) alternate infinite;\n",
        "}\n",
        "\n",
        "@keyframes cursor {\n",
        "\t0%, 100% { \n",
        "    border-color: #212121; \n",
        "  }\n",
        "}\n",
        "\n",
        "@keyframes text {\n",
        "\t0% { \n",
        "    width: 0; \n",
        "  }\n",
        "  50% {\n",
        "    width: 10ch; \n",
        "    \n",
        "    \n",
        "  }\n",
        "\t100% { \n",
        "    width: 21.5ch; \n",
        "  }\n",
        "}"
      ]
    },
    {
      "cell_type": "code",
      "execution_count": null,
      "metadata": {
        "colab": {
          "base_uri": "https://localhost:8080/"
        },
        "id": "Wrc5tMil3dGr",
        "outputId": "aa4f6aa3-9270-4cc2-c1e2-ce45213b25ef"
      },
      "outputs": [
        {
          "name": "stdout",
          "output_type": "stream",
          "text": [
            "Overwriting templates/index.html\n"
          ]
        }
      ],
      "source": [
        "%%writefile templates/index.html\n",
        "\n",
        "<html>\n",
        "  <head>\n",
        "    <title>Hackerthon</title>\n",
        "    <link href=\"{{ url_for('static', path='/index.css') }}\" rel=\"stylesheet\">\n",
        "    <link href=\"{{ url_for('static', path='/index.js') }}\" rel=\"javascript\">\n",
        "\n",
        "    <link rel=\"stylesheet\" href=\"https://fonts.googleapis.com/css2?family=Material+Symbols+Outlined:opsz,wght,FILL,GRAD@20..48,100..700,0..1,-50..200\" />\n",
        "    \n",
        "    <link rel=\"stylesheet\" href=\"https://fonts.googleapis.com/css?family=Raleway:400,400i,700\">\n",
        "    \n",
        "    <link rel=\"preconnect\" href=\"https://fonts.googleapis.com\">\n",
        "<link rel=\"preconnect\" href=\"https://fonts.gstatic.com\" crossorigin>\n",
        "<link href=\"https://fonts.googleapis.com/css2?family=Rubik+Vinyl&display=swap\" rel=\"stylesheet\">\n",
        "\n",
        "  </head>\n",
        "  <body>\n",
        "  <!--Hey! This is the original versionof Simple CSS Waves-->\n",
        "\n",
        "<div class=\"header\">\n",
        "\n",
        "<!--Content before waves-->\n",
        "<div class=\"inner-header flex\">\n",
        "<!--Just the logo.. Don't mind this-->\n",
        "<svg version=\"1.1\" class=\"logo\" baseProfile=\"tiny\" id=\"Layer_1\" xmlns=\"http://www.w3.org/2000/svg\"\n",
        "xmlns:xlink=\"http://www.w3.org/1999/xlink\" x=\"0px\" y=\"0px\" viewBox=\"0 0 500 500\" xml:space=\"preserve\">\n",
        "<path fill=\"#FFFFFF\" stroke=\"#000000\" stroke-width=\"10\" stroke-miterlimit=\"10\" d=\"M57,283\" />\n",
        "<g><path fill=\"#fff\"\n",
        "d=\"M250.4,0.8C112.7,0.8,1,112.4,1,250.2c0,137.7,111.7,249.4,249.4,249.4c137.7,0,249.4-111.7,249.4-249.4\n",
        "C499.8,112.4,388.1,0.8,250.4,0.8z M383.8,326.3c-62,0-101.4-14.1-117.6-46.3c-17.1-34.1-2.3-75.4,13.2-104.1\n",
        "c-22.4,3-38.4,9.2-47.8,18.3c-11.2,10.9-13.6,26.7-16.3,45c-3.1,20.8-6.6,44.4-25.3,62.4c-19.8,19.1-51.6,26.9-100.2,24.6l1.8-39.7\t\tc35.9,1.6,59.7-2.9,70.8-13.6c8.9-8.6,11.1-22.9,13.5-39.6c6.3-42,14.8-99.4,141.4-99.4h41L333,166c-12.6,16-45.4,68.2-31.2,96.2\tc9.2,18.3,41.5,25.6,91.2,24.2l1.1,39.8C390.5,326.2,387.1,326.3,383.8,326.3z\" />\n",
        "</g>\n",
        "</svg>\n",
        "<h1 class=\"typewriter\">Hackathon NLP Felloship</h1>\n",
        "</div>\n",
        "\n",
        "<!--Waves Container-->\n",
        "<div>\n",
        "<svg class=\"waves\" xmlns=\"http://www.w3.org/2000/svg\" xmlns:xlink=\"http://www.w3.org/1999/xlink\"\n",
        "viewBox=\"0 24 150 28\" preserveAspectRatio=\"none\" shape-rendering=\"auto\">\n",
        "<defs>\n",
        "<path id=\"gentle-wave\" d=\"M-160 44c30 0 58-18 88-18s 58 18 88 18 58-18 88-18 58 18 88 18 v44h-352z\" />\n",
        "</defs>\n",
        "<g class=\"parallax\">\n",
        "<use xlink:href=\"#gentle-wave\" x=\"48\" y=\"0\" fill=\"rgba(255,255,255,0.7\" />\n",
        "<use xlink:href=\"#gentle-wave\" x=\"48\" y=\"3\" fill=\"rgba(255,255,255,0.5)\" />\n",
        "<use xlink:href=\"#gentle-wave\" x=\"48\" y=\"5\" fill=\"rgba(255,255,255,0.3)\" />\n",
        "<use xlink:href=\"#gentle-wave\" x=\"48\" y=\"7\" fill=\"#fff\" />\n",
        "</g>\n",
        "</svg>\n",
        "</div>\n",
        "<!--Waves end-->\n",
        "\n",
        "</div>\n",
        "<!--Header ends-->\n",
        "<!-- Chatbot design Starts-->\n",
        "<button class=\"btn-chat\">\n",
        "  \n",
        "  <span class=\"material-symbols-outlined\">\n",
        "    contact_support\n",
        "  </span>\n",
        "  <span>Chatbot rura</span>\n",
        "</button>\n",
        "<div class=\"chat-container\">\n",
        "  <div class=\"chat-container__header\">\n",
        "    <span class=\"material-symbols-outlined\" id=\"close\">close</span>\n",
        "    <h3>Chatbot rura</h3>\n",
        "    <span class=\"material-symbols-outlined\">smart_toy</span>\n",
        "  </div>\n",
        " \n",
        "    <div class=\"chat-container__content\">\n",
        "      {% for wel in welcome %}\n",
        "        <div class=\"msg bot\" id=\"bot\">\n",
        "           <div class=\"message-content\">\n",
        "              <span class=\"material-symbols-outlined\">smart_toy</span>\n",
        "              <div class=\"msg bot\" id=\"bot\">\n",
        "                <span>{{wel}}</span>\n",
        "              </div>\n",
        "            </div>\n",
        "        </div>\n",
        "      {% endfor %}\n",
        "\n",
        "      {% for message in dic.items() %}\n",
        "        {% if message[0][:-1] == 'bot'%}\n",
        "           <div class=\"msg bot\" id=\"bot\">\n",
        "           <div class=\"message-content\">\n",
        "              <span class=\"material-symbols-outlined\">smart_toy</span>\n",
        "              <div class=\"msg bot\" id=\"bot\">\n",
        "                <span>{{message[1]}}</span>\n",
        "              </div>\n",
        "            </div>\n",
        "        </div>\n",
        "        {% else%}\n",
        "           <div class=\"message-content user message-content-user\">\n",
        "          <div class=\"msg user\" id=\"{{ loop.index }}\">\n",
        "          <span>{{message[1]}}</span>\n",
        "          </div>\n",
        "          <span class=\"material-symbols-outlined\">\n",
        "            person\n",
        "          </span>\n",
        "        </div>\n",
        "        {% endif %}\n",
        "      {% endfor %}\n",
        "    </div>\n",
        "  <div class=\"chat-container__footer\">\n",
        "    <form method=\"get\" action=\"/chat\">\n",
        "      <div class=\"field-select\">\n",
        "        <select name=\"lang\">\n",
        "          <option value=\"fr\" disable>lang</option>\n",
        "          <option value=\"fr\">French</option>\n",
        "          <option value=\"en\">English</option>\n",
        "          <option value=\"rw\">Kinyarwanda</option>\n",
        "          <option value=\"sw\">Swahili</option>\n",
        "        </select>\n",
        "      </div>\n",
        "      <div class=\"input-field\">\n",
        "        <input type=\"text\" name=\"message\" id=\"message\" placeholder=\"Place your Message here\">\n",
        "      </div>\n",
        "      <div class=\"submit-field\">\n",
        "        <input type=\"submit\" value=\"Send\" id=\"submit\">\n",
        "      </div>\n",
        "    </form>\n",
        "  </div>\n",
        "</div>\n",
        "<!--Chatbot design end-->\n",
        "<!--Content starts-->\n",
        "<div class=\"content flex\">\n",
        "  <p>&copy;By.Josue BATEY | All right reserved </p>\n",
        "</div>\n",
        "<!--Content ends-->\n",
        "<script>\n",
        "  btnChat = document.querySelector('.btn-chat');\n",
        "  chatContainer = document.querySelector('.chat-container')\n",
        "  close = document.querySelector('#close')\n",
        "  submit = document.querySelector('#submit')\n",
        "\n",
        "  btnChat.addEventListener('click', ()=>{\n",
        "      chatContainer.style.display = 'block'\n",
        "  });\n",
        "\n",
        "  close.addEventListener('click', ()=>{\n",
        "    chatContainer.style.display = \"none\"\n",
        "  })\n",
        "\n",
        "  submit.addEventListener('click', (e)=>{\n",
        "    return false\n",
        "  })\n",
        "\n",
        "  chatContainerContent = document.querySelector('.chat-container__content');\n",
        "\n",
        "  console.log(chatContainerContent.childElementCount)\n",
        "\n",
        "  window.addEventListener('load', ()=> {\n",
        "  [...chatContainerContent.children]\n",
        "    .sort((a,b)=>a.id.value>b.id.value?1:-1)\n",
        "    .forEach(node=>list.appendChild(node));\n",
        "  });\n",
        "\n",
        "</script>\n",
        " </body>\n",
        "</html"
      ]
    },
    {
      "cell_type": "markdown",
      "metadata": {
        "id": "cV8d69wHTNAc"
      },
      "source": [
        "CHATBOX Model"
      ]
    },
    {
      "cell_type": "code",
      "execution_count": null,
      "metadata": {
        "colab": {
          "base_uri": "https://localhost:8080/"
        },
        "id": "pSCGImckTLTH",
        "outputId": "9d617cf9-57b4-48fd-8fcd-f67d3482407c"
      },
      "outputs": [
        {
          "name": "stdout",
          "output_type": "stream",
          "text": [
            "Link: index.php?id=46 Described as: RURA Mission, Vision and Values\n"
          ]
        }
      ],
      "source": [
        "import requests\n",
        "from bs4 import BeautifulSoup\n",
        "import pandas as pd\n",
        "import re \n",
        "\n",
        "\n",
        "content = requests.get('https://rura.rw/index.php').content\n",
        "page = BeautifulSoup(content, 'html.parser')\n",
        "\n",
        "links = page.find_all('a')\n",
        "del links[0]\n",
        "\n",
        "index = -30\n",
        "link = links[index]['href'] #Get the link\n",
        "title = links[index].text #Save the description\n",
        "print('Link:', link, 'Described as:', title)\n",
        "\n",
        "list_of_links = [] #list()\n",
        "list_of_titles = []\n",
        "\n",
        "for item in links: #loop over the list of links\n",
        "  if str(item['href'])[0:9] == 'index.php':\n",
        "    lin = 'https://rura.rw/' + item['href']\n",
        "  else:\n",
        "    lin = item['href']\n",
        "\n",
        "  list_of_links.append(lin)\n",
        "  if len(item.text) > 0:\n",
        "    list_of_titles.append(item.text)\n",
        "  else:\n",
        "    list_of_titles.append(None)\n",
        "\n",
        "df = pd.DataFrame()\n",
        "df['title'] = list_of_titles\n",
        "df['link'] = list_of_links\n",
        "df['description'] = None\n",
        "\n",
        "#Drop all the row with empty title columns\n",
        "df = df.dropna(subset=['title'])\n",
        "#Check whehter the link is full formated link\n",
        "is_full_link = df.link.str.startswith('http')\n",
        "\n",
        "#Check whether the link is pdf documents\n",
        "is_pdf = df.link.str.contains('.pdf')\n",
        "\n",
        "df['is_full_link'] = is_full_link #Create a new col\n",
        "df['is_pdf'] = is_pdf #create a new col\n",
        "\n",
        "df = df[df['is_full_link'] == True ] #Drop all the links\n",
        "df =  df[df['is_pdf'] == False ]\n",
        "\n",
        "\n",
        "def preprocessing(titles : list):\n",
        "  cleaned_titles = []\n",
        "  for title in titles:\n",
        "    title = title.lower()\n",
        "    url_pattern = re.compile(r'https?://\\S+|www\\.\\S+')\n",
        "    html_pattern = re.compile('<.*?>')\n",
        "    title = url_pattern.sub(r'', title)\n",
        "    title = html_pattern.sub(r'', title)\n",
        "    title = re.sub(r\"[^\\w\\d'\\s]+\", ' ', title)\n",
        "    cleaned_titles.append(title)\n",
        "  return cleaned_titles\n",
        "\n",
        "\n",
        "df['title'] = preprocessing(df['title'])\n",
        "\n",
        "question = \"\"\"Guide me to {}?\n",
        "Where do you get {}?\n",
        "What is the link to the {}?\n",
        "How do you get {}?\n",
        "Who is in Charge of {}?\"\"\"\n",
        "\n",
        "answers = \"\"\"Here is the link {}.\n",
        "You can use this link {} for more information.\"\"\""
      ]
    },
    {
      "cell_type": "code",
      "execution_count": null,
      "metadata": {
        "id": "1JlxmpJN7wV1"
      },
      "outputs": [],
      "source": [
        "intents = []\n",
        "\n",
        "for index in range(len(df)):\n",
        "  intent = {}\n",
        "  tag = df.iloc[index]['title']\n",
        "  intent['tag'] = tag\n",
        "  intent['patterns'] = list()\n",
        "  intent['responses'] = [f'You can use this link {df.iloc[index].link} for more information']\n",
        "  for i in range(len(question.split('\\n'))):\n",
        "    intent['patterns'].append(question.split('\\n')[i].format(intent['tag']))\n",
        "\n",
        "  intents.append(intent)\n",
        "  \n",
        "file = {'intents': intents}"
      ]
    },
    {
      "cell_type": "code",
      "execution_count": null,
      "metadata": {
        "colab": {
          "base_uri": "https://localhost:8080/"
        },
        "id": "7WF2kBfCMOrc",
        "outputId": "d4d00ea0-b027-4ad9-e5c9-839ceedefdc3"
      },
      "outputs": [
        {
          "name": "stderr",
          "output_type": "stream",
          "text": [
            "[nltk_data] Downloading package punkt to /root/nltk_data...\n",
            "[nltk_data]   Unzipping tokenizers/punkt.zip.\n"
          ]
        },
        {
          "data": {
            "text/plain": [
              "True"
            ]
          },
          "execution_count": 11,
          "metadata": {},
          "output_type": "execute_result"
        }
      ],
      "source": [
        "import nltk \n",
        "nltk.download('punkt')"
      ]
    },
    {
      "cell_type": "code",
      "execution_count": null,
      "metadata": {
        "id": "MTa8gI-yM5QM"
      },
      "outputs": [],
      "source": [
        "# %%writefile model.py\n",
        "\n",
        "# import torch\n",
        "# import torch.nn as nn\n",
        "\n",
        "\n",
        "# class NeuralNet(nn.Module):\n",
        "#     def __init__(self, input_size, hidden_size, num_classes):\n",
        "#         super(NeuralNet, self).__init__()\n",
        "#         self.l1 = nn.Linear(input_size, hidden_size) \n",
        "#         self.l2 = nn.Linear(hidden_size, hidden_size) \n",
        "#         self.l3 = nn.Linear(hidden_size, num_classes)\n",
        "#         self.relu = nn.ReLU()\n",
        "    \n",
        "#     def forward(self, x):\n",
        "#         out = self.l1(x)\n",
        "#         out = self.relu(out)\n",
        "#         out = self.l2(out)\n",
        "#         out = self.relu(out)\n",
        "#         out = self.l3(out)\n",
        "#         # no activation and no softmax at the end\n",
        "#         return out"
      ]
    },
    {
      "cell_type": "code",
      "execution_count": null,
      "metadata": {
        "id": "GC4RCaQvOdog"
      },
      "outputs": [],
      "source": [
        "# %%writefile nltk_utils.py\n",
        "\n",
        "# import numpy as np\n",
        "# import nltk\n",
        "# # nltk.download('punkt')\n",
        "# from nltk.stem.porter import PorterStemmer\n",
        "# stemmer = PorterStemmer()\n",
        "\n",
        "# def tokenize(sentence):\n",
        "#     \"\"\"\n",
        "#     split sentence into array of words/tokens\n",
        "#     a token can be a word or punctuation character, or number\n",
        "#     \"\"\"\n",
        "#     return nltk.word_tokenize(sentence)\n",
        "\n",
        "\n",
        "# def stem(word):\n",
        "#     \"\"\"\n",
        "#     stemming = find the root form of the word\n",
        "#     examples:\n",
        "#     words = [\"organize\", \"organizes\", \"organizing\"]\n",
        "#     words = [stem(w) for w in words]\n",
        "#     -> [\"organ\", \"organ\", \"organ\"]\n",
        "#     \"\"\"\n",
        "#     return stemmer.stem(word.lower())\n",
        "\n",
        "\n",
        "# def bag_of_words(tokenized_sentence, words):\n",
        "#     \"\"\"\n",
        "#     return bag of words array:\n",
        "#     1 for each known word that exists in the sentence, 0 otherwise\n",
        "#     example:\n",
        "#     sentence = [\"hello\", \"how\", \"are\", \"you\"]\n",
        "#     words = [\"hi\", \"hello\", \"I\", \"you\", \"bye\", \"thank\", \"cool\"]\n",
        "#     bog   = [  0 ,    1 ,    0 ,   1 ,    0 ,    0 ,      0]\n",
        "#     \"\"\"\n",
        "#     # stem each word\n",
        "#     sentence_words = [stem(word) for word in tokenized_sentence]\n",
        "#     # initialize bag with 0 for each word\n",
        "#     bag = np.zeros(len(words), dtype=np.float32)\n",
        "#     for idx, w in enumerate(words):\n",
        "#         if w in sentence_words: \n",
        "#             bag[idx] = 1\n",
        "\n",
        "#     return "
      ]
    },
    {
      "cell_type": "code",
      "execution_count": null,
      "metadata": {
        "id": "FB6xqdrlQH8A"
      },
      "outputs": [],
      "source": [
        "!git clone https://github.com/agent87/pytorch-chatbot.git\n"
      ]
    },
    {
      "cell_type": "code",
      "execution_count": null,
      "metadata": {
        "id": "XE16MAzPRQy_"
      },
      "outputs": [],
      "source": [
        "import json\n",
        "\n",
        "with open('pytorch-chatbot/intents.json', 'w+') as intent_file:\n",
        "  intent_file.seek(0)\n",
        "  intent_file.truncate()\n",
        "  json.dump(file, intent_file)"
      ]
    },
    {
      "cell_type": "code",
      "execution_count": null,
      "metadata": {
        "id": "77sllKiwRUXd"
      },
      "outputs": [],
      "source": [
        "%cd pytorch-chatbot/\n",
        "!ls"
      ]
    },
    {
      "cell_type": "code",
      "execution_count": null,
      "metadata": {
        "id": "bBxLokVSQH3B"
      },
      "outputs": [],
      "source": [
        "import nltk \n",
        "nltk.download('punkt')\n",
        "\n",
        "!python train.py\n",
        "# !python chat.py"
      ]
    },
    {
      "cell_type": "code",
      "execution_count": null,
      "metadata": {
        "colab": {
          "base_uri": "https://localhost:8080/",
          "height": 36
        },
        "id": "PLaD06bJTPnJ",
        "outputId": "8abaa93f-4ac5-4423-cd09-9d83e8dffc68"
      },
      "outputs": [
        {
          "data": {
            "application/vnd.google.colaboratory.intrinsic+json": {
              "type": "string"
            },
            "text/plain": [
              "'/content/fastapi_app/pytorch-chatbot'"
            ]
          },
          "execution_count": 18,
          "metadata": {},
          "output_type": "execute_result"
        }
      ],
      "source": [
        "pwd"
      ]
    },
    {
      "cell_type": "code",
      "execution_count": null,
      "metadata": {
        "id": "J6ucotpwLoxm"
      },
      "outputs": [],
      "source": [
        "import random\n",
        "import json\n",
        "\n",
        "import torch\n",
        "\n",
        "from model import NeuralNet\n",
        "from nltk_utils import bag_of_words, tokenize\n",
        "\n",
        "device = torch.device('cuda' if torch.cuda.is_available() else 'cpu')\n",
        "\n",
        "with open('intents.json', 'r') as json_data:\n",
        "    intents = json.load(json_data)\n",
        "\n",
        "FILE = \"data.pth\"\n",
        "data = torch.load(FILE)\n",
        "\n",
        "input_size = data[\"input_size\"]\n",
        "hidden_size = data[\"hidden_size\"]\n",
        "output_size = data[\"output_size\"]\n",
        "all_words = data['all_words']\n",
        "tags = data['tags']\n",
        "model_state = data[\"model_state\"]\n",
        "\n",
        "model = NeuralNet(input_size, hidden_size, output_size).to(device)\n",
        "model.load_state_dict(model_state)\n",
        "model.eval()\n",
        "\n",
        "bot_name = \"Patrice\"\n",
        "\n",
        "def query(question : str):\n",
        "  # sentence = \"do you use credit cards?\"\n",
        "  sentence = question\n",
        "\n",
        "  sentence = tokenize(sentence)\n",
        "  X = bag_of_words(sentence, all_words)\n",
        "  X = X.reshape(1, X.shape[0])\n",
        "  X = torch.from_numpy(X).to(device)\n",
        "\n",
        "  output = model(X)\n",
        "  _, predicted = torch.max(output, dim=1)\n",
        "\n",
        "  tag = tags[predicted.item()]\n",
        "\n",
        "  probs = torch.softmax(output, dim=1)\n",
        "  prob = probs[0][predicted.item()]\n",
        "  if prob.item() > 0.75:\n",
        "      for intent in intents['intents']:\n",
        "          if tag == intent[\"tag\"]:\n",
        "              return f\"{random.choice(intent['responses'])}\"\n",
        "  else:\n",
        "      return f\" I do not understand...\""
      ]
    },
    {
      "cell_type": "code",
      "execution_count": null,
      "metadata": {
        "colab": {
          "base_uri": "https://localhost:8080/",
          "height": 36
        },
        "id": "zkvs9m88MBd-",
        "outputId": "1288a700-fcbd-4187-9222-f088bc6af822"
      },
      "outputs": [
        {
          "data": {
            "application/vnd.google.colaboratory.intrinsic+json": {
              "type": "string"
            },
            "text/plain": [
              "'You can use this link https://rura.rw/index.php?id=103 for more information'"
            ]
          },
          "execution_count": 38,
          "metadata": {},
          "output_type": "execute_result"
        }
      ],
      "source": [
        "response = query('faqs')\n",
        "response\n"
      ]
    },
    {
      "cell_type": "code",
      "execution_count": null,
      "metadata": {
        "id": "lK3y8Z4IUYkh"
      },
      "outputs": [],
      "source": [
        "file"
      ]
    },
    {
      "cell_type": "code",
      "execution_count": null,
      "metadata": {
        "colab": {
          "base_uri": "https://localhost:8080/"
        },
        "id": "wAelefnqZZ0f",
        "outputId": "043d7aee-1cd8-44a6-e0da-80aff4b49100"
      },
      "outputs": [
        {
          "name": "stdout",
          "output_type": "stream",
          "text": [
            "Looking in indexes: https://pypi.org/simple, https://us-python.pkg.dev/colab-wheels/public/simple/\n",
            "Collecting langdetect\n",
            "  Downloading langdetect-1.0.9.tar.gz (981 kB)\n",
            "\u001b[K     |████████████████████████████████| 981 kB 5.1 MB/s \n",
            "\u001b[?25hRequirement already satisfied: six in /usr/local/lib/python3.8/dist-packages (from langdetect) (1.15.0)\n",
            "Building wheels for collected packages: langdetect\n",
            "  Building wheel for langdetect (setup.py) ... \u001b[?25l\u001b[?25hdone\n",
            "  Created wheel for langdetect: filename=langdetect-1.0.9-py3-none-any.whl size=993242 sha256=2f4c853dfa71e570ddb4ea44172ffb281dbe9503bccd8ee9883d39aee8729f9c\n",
            "  Stored in directory: /root/.cache/pip/wheels/13/c7/b0/79f66658626032e78fc1a83103690ef6797d551cb22e56e734\n",
            "Successfully built langdetect\n",
            "Installing collected packages: langdetect\n",
            "Successfully installed langdetect-1.0.9\n"
          ]
        }
      ],
      "source": [
        "pip install langdetect\n"
      ]
    },
    {
      "cell_type": "code",
      "execution_count": null,
      "metadata": {
        "colab": {
          "base_uri": "https://localhost:8080/"
        },
        "id": "opwcoq_dY4ZW",
        "outputId": "e5d7958c-775a-4257-e499-5669a7609930"
      },
      "outputs": [
        {
          "data": {
            "text/plain": [
              "('Je recherche des informations sur Belize', 'en')"
            ]
          },
          "execution_count": 23,
          "metadata": {},
          "output_type": "execute_result"
        }
      ],
      "source": [
        "from langdetect import detect\n",
        "\n",
        "import requests\n",
        "import json\n",
        "\n",
        "\n",
        "class translator:\n",
        "    api_url = \"https://translate.googleapis.com/translate_a/single\"\n",
        "    client = \"?client=gtx&dt=t\"\n",
        "    dt = \"&dt=t\"\n",
        "\n",
        "    #fROM English to Kinyarwanda\n",
        "    def translate(text : str , target_lang : str, source_lang : str):\n",
        "        sl = f\"&sl={source_lang}\"\n",
        "        tl = f\"&tl={target_lang}\"\n",
        "        r = requests.get(translator.api_url+ translator.client + translator.dt + sl + tl + \"&q=\" + text)\n",
        "        return json.loads(r.text)[0][0][0]\n",
        "\n",
        "def process_question(text : str):\n",
        "\n",
        "  source_lang = detect(text)\n",
        "  resp = translator.translate(text=text, target_lang='en', source_lang=source_lang)\n",
        "  return resp, source_lang\n",
        "\n",
        "def process_answer(text : str, source_lang):\n",
        "  resp = translator.translate(text=text, target_lang=source_lang, source_lang='en')\n",
        "  return resp\n",
        "\n",
        "process_question('Je recherche des informations sur Belize')"
      ]
    },
    {
      "cell_type": "code",
      "execution_count": null,
      "metadata": {
        "colab": {
          "base_uri": "https://localhost:8080/"
        },
        "id": "dCpwDf52qA7c",
        "outputId": "4e4fa8b0-e3bf-4e33-8b46-b729f39ed1ae"
      },
      "outputs": [
        {
          "name": "stdout",
          "output_type": "stream",
          "text": [
            "en\n"
          ]
        }
      ],
      "source": [
        "\n",
        "from langdetect import detect\n",
        "print(detect('Je recherche des informations sur Belize'))"
      ]
    },
    {
      "cell_type": "code",
      "execution_count": null,
      "metadata": {
        "colab": {
          "base_uri": "https://localhost:8080/",
          "height": 36
        },
        "id": "EAFQdGJUZ4oh",
        "outputId": "67dd126c-04df-4a49-9ebb-fe46a92c3f73"
      },
      "outputs": [
        {
          "data": {
            "application/vnd.google.colaboratory.intrinsic+json": {
              "type": "string"
            },
            "text/plain": [
              "'Je recherche des informations sur Belize'"
            ]
          },
          "execution_count": 25,
          "metadata": {},
          "output_type": "execute_result"
        }
      ],
      "source": [
        "resp = translator.translate(text='Je recherche des informations sur Belize', target_lang='fr', source_lang='rw')\n",
        "resp"
      ]
    },
    {
      "cell_type": "code",
      "execution_count": null,
      "metadata": {
        "id": "yxa5BcFTbRKu"
      },
      "outputs": [],
      "source": [
        "# import nltk\n",
        "# from nltk.corpus import stopwords\n",
        "# nltk.download('popular')\n",
        "\n",
        "# # Sample text in Kinyarwanda\n",
        "# text = \"Mfite ibice by'umwuga n'imyaka itandatu n'imwe\"\n",
        "\n",
        "# # Tokenize the text\n",
        "# words = {}\n",
        "# tokens = nltk.word_tokenize(text)\n",
        "\n",
        "# # Remove stop words\n",
        "# filtered_tokens = [token for token in tokens if token not in stopwords.words('frec')]\n",
        "\n",
        "# # Check if the remaining tokens contain any Kinyarwanda words\n",
        "# if any(word in filtered_tokens for word in ['umwuga', 'myaka', 'itandatu', 'imwe']):\n",
        "#     print(\"The text is in Kinyarwanda.\")\n",
        "# else:\n",
        "#     print(\"The text is not in Kinyarwanda.\")"
      ]
    },
    {
      "cell_type": "code",
      "execution_count": null,
      "metadata": {
        "colab": {
          "base_uri": "https://localhost:8080/"
        },
        "id": "UakzBtsaZIaa",
        "outputId": "d3e187bb-72e6-46f9-9ef1-659e411dee74"
      },
      "outputs": [
        {
          "name": "stdout",
          "output_type": "stream",
          "text": [
            "/content/fastapi_app\n",
            "model.py  nltk_utils.py  pytorch-chatbot  static  templates\n"
          ]
        }
      ],
      "source": [
        "%cd /content/fastapi_app\n",
        "\n",
        "!ls"
      ]
    },
    {
      "cell_type": "code",
      "execution_count": null,
      "metadata": {
        "id": "iWzOwqL566RB"
      },
      "outputs": [],
      "source": [
        "from fastapi import FastAPI, Request, Form\n",
        "from fastapi.encoders import jsonable_encoder\n",
        "from fastapi.responses import HTMLResponse\n",
        "from fastapi.templating import Jinja2Templates\n",
        "from fastapi.staticfiles import StaticFiles\n",
        "\n",
        "app = FastAPI(title='chatbot')\n",
        "\n",
        "app.mount(\"/static\", StaticFiles(directory=\"static\"), name=\"static\")\n",
        "templates = Jinja2Templates(directory=\"templates\")\n",
        "\n",
        "user_message = []\n",
        "bot_message = []\n",
        "welcome = [\n",
        "  'Hi! I\\'m your Assistant.',\n",
        "  'How Can I Help you?',\n",
        "  'Please Select the language!!!'\n",
        "]\n",
        "current_lang = ''\n",
        "\n",
        "dic = {}\n",
        "\n",
        "\n",
        "def translate(text, lang):\n",
        "  resp = translator.translate(text=text, target_lang=lang, source_lang='en')\n",
        "  return resp\n",
        "  \n",
        "\n",
        "@app.get('/')#ROUTE\n",
        "def index(request: Request):\n",
        "  return templates.TemplateResponse(\"index.html\", context = {\n",
        "      \"request\": request,\n",
        "      'welcome': welcome,\n",
        "      'dic': dic\n",
        "      })\n",
        "\n",
        "@app.get('/chat')\n",
        "def chat(request: Request, message:str, lang:str):\n",
        "  # Detect the language\n",
        "  # Get the related information\n",
        "  # Traslate it if possible\n",
        "  # then send it to the user\n",
        "\n",
        "  current_lang = lang\n",
        "\n",
        "  user_message.append(message)\n",
        "  if message and current_lang:\n",
        "    welcomes = [translate(txt, current_lang) for txt in welcome]\n",
        "    response = query(translate(message, 'en'))\n",
        "    message = translate(response, current_lang)\n",
        "    bot_message.append(message)\n",
        "\n",
        "    for index, i in enumerate(user_message):\n",
        "      dic[f'user{index}'] = i\n",
        "    for index, i in enumerate(bot_message):\n",
        "      dic[f'bot{index}'] = i\n",
        "\n",
        "  \n",
        "    return templates.TemplateResponse(\"index.html\", context ={\n",
        "        \"request\":request,\n",
        "        'welcome': welcomes[0:-1],\n",
        "        'dic': dic\n",
        "        })\n",
        "  else:\n",
        "    templates.TemplateResponse(\"index.html\", context ={\n",
        "      \"request\":request,\n",
        "      'welcome': welcome,\n",
        "      \"message\":user_message,\n",
        "      'bot': bot_message,\n",
        "      'dic': dic\n",
        "      })\n",
        "\n"
      ]
    },
    {
      "cell_type": "code",
      "execution_count": null,
      "metadata": {
        "id": "5xBElTZZ7oJA"
      },
      "outputs": [],
      "source": [
        "!pip install jinja2 python-multipart"
      ]
    },
    {
      "cell_type": "code",
      "execution_count": null,
      "metadata": {
        "colab": {
          "base_uri": "https://localhost:8080/"
        },
        "id": "ZQowJKdE7qSc",
        "outputId": "f6f9e2dc-b065-48b4-dd4e-b275c07a5a37"
      },
      "outputs": [
        {
          "name": "stdout",
          "output_type": "stream",
          "text": [
            "Authtoken saved to configuration file: /root/.ngrok2/ngrok.yml\n"
          ]
        }
      ],
      "source": [
        "!ngrok authtoken 2IwccG0L7CCgA8BFSmFVp6P6t6L_7ijv5yhduJRDo8VXzqytS"
      ]
    },
    {
      "cell_type": "code",
      "execution_count": null,
      "metadata": {
        "colab": {
          "base_uri": "https://localhost:8080/"
        },
        "id": "OMDRM1zE9RVq",
        "outputId": "2f028b11-3f35-4884-b496-f5f87cb20167"
      },
      "outputs": [
        {
          "data": {
            "text/plain": [
              "3"
            ]
          },
          "execution_count": 31,
          "metadata": {},
          "output_type": "execute_result"
        }
      ],
      "source": [
        "len([1, 3,4])"
      ]
    },
    {
      "cell_type": "code",
      "execution_count": null,
      "metadata": {
        "colab": {
          "background_save": true,
          "base_uri": "https://localhost:8080/"
        },
        "id": "8FYywqsS7txX",
        "outputId": "8d34ed56-a2a9-4263-9712-1ab870394e42"
      },
      "outputs": [
        {
          "name": "stdout",
          "output_type": "stream",
          "text": [
            "started...\n",
            "url ===>: http://823d-34-74-222-35.ngrok.io\n"
          ]
        },
        {
          "name": "stderr",
          "output_type": "stream",
          "text": [
            "INFO:     Started server process [70]\n",
            "INFO:     Waiting for application startup.\n",
            "INFO:     Application startup complete.\n",
            "INFO:     Uvicorn running on http://127.0.0.1:4004 (Press CTRL+C to quit)\n"
          ]
        },
        {
          "name": "stdout",
          "output_type": "stream",
          "text": [
            "INFO:     2c0f:eb68:23c:e400:6d4e:cb3b:c405:5273:0 - \"GET / HTTP/1.1\" 200 OK\n",
            "INFO:     2c0f:eb68:23c:e400:6d4e:cb3b:c405:5273:0 - \"GET /index.css HTTP/1.1\" 200 OK\n",
            "INFO:     2c0f:eb68:23c:e400:6d4e:cb3b:c405:5273:0 - \"GET /favicon.ico HTTP/1.1\" 404 Not Found\n"
          ]
        }
      ],
      "source": [
        "import nest_asyncio\n",
        "from pyngrok import ngrok\n",
        "import uvicorn\n",
        "\n",
        "ngrok_tunnel = ngrok.connect(4004)\n",
        "print(\"started...\")\n",
        "print(\"url ===>:\", ngrok_tunnel.public_url)\n",
        "url = ngrok_tunnel.public_url\n",
        "\n",
        "nest_asyncio.apply()\n",
        "uvicorn.run(app, port=4004)"
      ]
    },
    {
      "cell_type": "code",
      "execution_count": null,
      "metadata": {
        "id": "ZbedUstH7yEw"
      },
      "outputs": [],
      "source": [
        "# !pkill ngrok"
      ]
    },
    {
      "cell_type": "code",
      "execution_count": null,
      "metadata": {
        "id": "ITAOjtTC8xZb"
      },
      "outputs": [],
      "source": []
    }
  ],
  "metadata": {
    "accelerator": "GPU",
    "colab": {
      "provenance": [],
      "include_colab_link": true
    },
    "gpuClass": "standard",
    "kernelspec": {
      "display_name": "Python 3",
      "name": "python3"
    },
    "language_info": {
      "name": "python"
    }
  },
  "nbformat": 4,
  "nbformat_minor": 0
}